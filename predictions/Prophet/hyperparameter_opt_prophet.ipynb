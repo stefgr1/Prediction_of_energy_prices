{
 "cells": [
  {
   "cell_type": "markdown",
   "metadata": {},
   "source": [
    "# Hyperparameter optimization \n"
   ]
  },
  {
   "cell_type": "code",
   "execution_count": null,
   "metadata": {},
   "outputs": [],
   "source": [
    "# Install needed packages\n",
    "import pandas as pd\n",
    "from prophet import Prophet\n",
    "from prophet.plot import plot_plotly, plot_components_plotly, plot_cross_validation_metric\n",
    "import plotly.graph_objects as go\n",
    "import utils\n",
    "import numpy as np\n",
    "import matplotlib.pyplot as plt\n",
    "import itertools\n",
    "from prophet.diagnostics import cross_validation, performance_metrics"
   ]
  },
  {
   "cell_type": "code",
   "execution_count": 1,
   "metadata": {},
   "outputs": [],
   "source": [
    "# Import the data and prepare for further processing\n",
    "def load_and_prepare_data(file_path):\n",
    "    \"\"\"\n",
    "    Load energy prices data from a CSV file, ensure chronological order, and convert 'Date' to datetime.\n",
    "    \"\"\"\n",
    "    df = pd.read_csv(file_path, parse_dates=['date'])\n",
    "    df['date'] = pd.to_datetime(df['date'])\n",
    "    df.sort_values('date', inplace=True)\n",
    "    df.set_index('date', inplace=True)\n",
    "    df = pd.DataFrame(df)\n",
    "    return df"
   ]
  },
  {
   "cell_type": "code",
   "execution_count": null,
   "metadata": {},
   "outputs": [],
   "source": [
    "# Import the data\n",
    "df = load_and_prepare_data('../../data/Final_data/final_data.csv')\n",
    "\n",
    "# Reset the index\n",
    "df = df.reset_index()\n",
    "\n",
    "#rename date and Day_ahead_price columns to ds and y\n",
    "df = df.rename(columns={'date': 'ds', 'Day_ahead_price': 'y'})"
   ]
  },
  {
   "cell_type": "code",
   "execution_count": null,
   "metadata": {},
   "outputs": [],
   "source": [
    "def train_test_split_sequential(data, test_size=0.2):\n",
    "    \"\"\"\n",
    "    Split the sequence data into training and testing datasets sequentially.\n",
    "    \n",
    "    Parameters:\n",
    "    - data: List of tuples where each tuple contains (sequence, label).\n",
    "    - test_size: Fraction of the dataset to be used as test data.\n",
    "\n",
    "    Returns:\n",
    "    - train_data: Training data containing sequences and labels.\n",
    "    - test_data: Testing data containing sequences and labels.\n",
    "    \"\"\"\n",
    "    split_idx = int(len(data) * (1 - test_size))  # Calculate split index\n",
    "    train_data = data[:split_idx]\n",
    "    test_data = data[split_idx:]\n",
    "    return train_data, test_data\n",
    "\n",
    "train_df, test_df= train_test_split_sequential(df, test_size=0.2)"
   ]
  },
  {
   "cell_type": "code",
   "execution_count": null,
   "metadata": {},
   "outputs": [],
   "source": [
    "# Define the hyperparameter grid\n",
    "param_grid = {  \n",
    "    'changepoint_prior_scale': [0.001, 0.01, 0.1, 0.5],\n",
    "    'seasonality_prior_scale': [0.01, 0.1, 1.0, 5, 10.0],\n",
    "    \"holidays_prior_scale\": [0.01, 0.1, 1.0, 5, 10.0],\n",
    "    'seasonality_mode': ['additive', 'multiplicative'],\n",
    "}\n",
    "\n",
    "# Generate all combinations of parameters\n",
    "all_params = [dict(zip(param_grid.keys(), v)) for v in itertools.product(*param_grid.values())]\n",
    "rmses = []  # Store the RMSEs for each params here\n",
    "\n",
    "# Use cross validation to evaluate all parameters\n",
    "for params in all_params:\n",
    "    m = Prophet(**params).fit(df)  # Fit model with given params\n",
    "    df_cv = cross_validation(m, initial='730 days', period='180 days', horizon = '365 days', parallel=\"processes\")\n",
    "    df_p = performance_metrics(df_cv, rolling_window=0.1)\n",
    "    rmses.append(df_p['rmse'].values[0])\n",
    "\n",
    "# Find the best parameters\n",
    "tuning_results = pd.DataFrame(all_params)\n",
    "tuning_results['rmse'] = rmses\n",
    "print(tuning_results)\n",
    "\n"
   ]
  },
  {
   "cell_type": "code",
   "execution_count": null,
   "metadata": {},
   "outputs": [],
   "source": [
    "fig = plot_cross_validation_metric(df_cv, metric='rmse')\n",
    "fig"
   ]
  },
  {
   "cell_type": "code",
   "execution_count": null,
   "metadata": {},
   "outputs": [],
   "source": [
    "# Python\n",
    "best_params = all_params[np.argmin(rmses)]\n",
    "print(best_params)\n"
   ]
  }
 ],
 "metadata": {
  "kernelspec": {
   "display_name": "Python 3",
   "language": "python",
   "name": "python3"
  },
  "language_info": {
   "codemirror_mode": {
    "name": "ipython",
    "version": 3
   },
   "file_extension": ".py",
   "mimetype": "text/x-python",
   "name": "python",
   "nbconvert_exporter": "python",
   "pygments_lexer": "ipython3",
   "version": "3.10.13"
  }
 },
 "nbformat": 4,
 "nbformat_minor": 2
}
