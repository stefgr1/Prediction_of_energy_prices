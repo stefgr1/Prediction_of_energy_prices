{
 "cells": [
  {
   "cell_type": "markdown",
   "metadata": {},
   "source": [
    "## Applying the facebook prophet model to the validation data "
   ]
  },
  {
   "cell_type": "code",
   "execution_count": 17,
   "metadata": {},
   "outputs": [],
   "source": [
    "# Load the saved model and make predictions on the test data    \n",
    "import numpy as np\n",
    "import pandas as pd\n",
    "import matplotlib.pyplot as plt\n",
    "import seaborn as sns\n",
    "from sklearn import metrics\n",
    "from prophet import Prophet\n",
    "from prophet.plot import plot_plotly, plot_components_plotly\n",
    "from prophet.serialize import model_to_json, model_from_json\n",
    "from prophet.utilities import regressor_coefficients\n",
    "from sklearn.metrics import mean_squared_error, mean_absolute_error\n"
   ]
  },
  {
   "cell_type": "code",
   "execution_count": 18,
   "metadata": {},
   "outputs": [],
   "source": [
    "# Load the data\n",
    "with open('prophet_model.json', 'r') as fin:\n",
    "   model = model_from_json(fin.read())  # Load model"
   ]
  },
  {
   "cell_type": "markdown",
   "metadata": {},
   "source": [
    "## Load the validation data"
   ]
  },
  {
   "cell_type": "code",
   "execution_count": 19,
   "metadata": {},
   "outputs": [],
   "source": [
    "def load_and_prepare_data(file_path):\n",
    "    df = pd.read_csv(file_path, parse_dates=['Date'])\n",
    "    df.sort_values('Date', inplace=True)\n",
    "    df.rename(columns={'Date': 'ds', 'Day_ahead_price (€/MWh)': 'y'}, inplace=True)\n",
    "    df.ffill(inplace=True)\n",
    "    df.set_index('ds', inplace=True)\n",
    "    return df"
   ]
  },
  {
   "cell_type": "code",
   "execution_count": 20,
   "metadata": {},
   "outputs": [
    {
     "name": "stderr",
     "output_type": "stream",
     "text": [
      "/var/folders/8w/b_0gc01d70g6h4k62sb7ytyw0000gn/T/ipykernel_7360/3798097606.py:5: FutureWarning:\n",
      "\n",
      "DataFrame.fillna with 'method' is deprecated and will raise in a future version. Use obj.ffill() or obj.bfill() instead.\n",
      "\n"
     ]
    }
   ],
   "source": [
    "# Import the data\n",
    "valid_data = load_and_prepare_data('./../../data/Application_data/Final_application_data/final_application_data.csv')\n",
    "valid_data\n",
    "\n",
    "# Delete the last ten row of the data\n",
    "valid_data = valid_data[:-10]\n"
   ]
  },
  {
   "cell_type": "code",
   "execution_count": 21,
   "metadata": {},
   "outputs": [
    {
     "data": {
      "text/plain": [
       "y                                  0\n",
       "Solar_radiation (W/m2)             0\n",
       "Wind_speed (m/s)                   0\n",
       "Temperature (°C)                   0\n",
       "Biomass (GWh)                      0\n",
       "Hard_coal (GWh)                    0\n",
       "Hydro (GWh)                        0\n",
       "Lignite (GWh)                      0\n",
       "Natural_gas (GWh)                  0\n",
       "Other (GWh)                        0\n",
       "Pumped_storage_generation (GWh)    0\n",
       "Solar_energy (GWh)                 0\n",
       "Wind_offshore (GWh)                0\n",
       "Wind_onshore (GWh)                 0\n",
       "Net_total_export_import (GWh)      0\n",
       "BEV_vehicles                       0\n",
       "Oil_price (EUR)                    0\n",
       "TTF_gas_price (€/MWh)              0\n",
       "Nuclear_energy (GWh)               0\n",
       "dtype: int64"
      ]
     },
     "execution_count": 21,
     "metadata": {},
     "output_type": "execute_result"
    }
   ],
   "source": [
    "# Search for NAs in the data frame\n",
    "valid_data.isnull().sum()"
   ]
  },
  {
   "cell_type": "code",
   "execution_count": 22,
   "metadata": {},
   "outputs": [
    {
     "data": {
      "text/html": [
       "<div>\n",
       "<style scoped>\n",
       "    .dataframe tbody tr th:only-of-type {\n",
       "        vertical-align: middle;\n",
       "    }\n",
       "\n",
       "    .dataframe tbody tr th {\n",
       "        vertical-align: top;\n",
       "    }\n",
       "\n",
       "    .dataframe thead th {\n",
       "        text-align: right;\n",
       "    }\n",
       "</style>\n",
       "<table border=\"1\" class=\"dataframe\">\n",
       "  <thead>\n",
       "    <tr style=\"text-align: right;\">\n",
       "      <th></th>\n",
       "      <th>y</th>\n",
       "      <th>Solar_radiation (W/m2)</th>\n",
       "      <th>Wind_speed (m/s)</th>\n",
       "      <th>Temperature (°C)</th>\n",
       "      <th>Biomass (GWh)</th>\n",
       "      <th>Hard_coal (GWh)</th>\n",
       "      <th>Hydro (GWh)</th>\n",
       "      <th>Lignite (GWh)</th>\n",
       "      <th>Natural_gas (GWh)</th>\n",
       "      <th>Other (GWh)</th>\n",
       "      <th>Pumped_storage_generation (GWh)</th>\n",
       "      <th>Solar_energy (GWh)</th>\n",
       "      <th>Wind_offshore (GWh)</th>\n",
       "      <th>Wind_onshore (GWh)</th>\n",
       "      <th>Net_total_export_import (GWh)</th>\n",
       "      <th>BEV_vehicles</th>\n",
       "      <th>Oil_price (EUR)</th>\n",
       "      <th>TTF_gas_price (€/MWh)</th>\n",
       "      <th>Nuclear_energy (GWh)</th>\n",
       "    </tr>\n",
       "    <tr>\n",
       "      <th>ds</th>\n",
       "      <th></th>\n",
       "      <th></th>\n",
       "      <th></th>\n",
       "      <th></th>\n",
       "      <th></th>\n",
       "      <th></th>\n",
       "      <th></th>\n",
       "      <th></th>\n",
       "      <th></th>\n",
       "      <th></th>\n",
       "      <th></th>\n",
       "      <th></th>\n",
       "      <th></th>\n",
       "      <th></th>\n",
       "      <th></th>\n",
       "      <th></th>\n",
       "      <th></th>\n",
       "      <th></th>\n",
       "      <th></th>\n",
       "    </tr>\n",
       "  </thead>\n",
       "  <tbody>\n",
       "    <tr>\n",
       "      <th>2024-03-01</th>\n",
       "      <td>70.93</td>\n",
       "      <td>65.50</td>\n",
       "      <td>3.14</td>\n",
       "      <td>5.81</td>\n",
       "      <td>124.839</td>\n",
       "      <td>68.840</td>\n",
       "      <td>55.295</td>\n",
       "      <td>252.736</td>\n",
       "      <td>256.269</td>\n",
       "      <td>61.390</td>\n",
       "      <td>15.691</td>\n",
       "      <td>99.970</td>\n",
       "      <td>109.303</td>\n",
       "      <td>258.820</td>\n",
       "      <td>-168.740</td>\n",
       "      <td>1012</td>\n",
       "      <td>77.45</td>\n",
       "      <td>25.5000</td>\n",
       "      <td>0</td>\n",
       "    </tr>\n",
       "    <tr>\n",
       "      <th>2024-03-02</th>\n",
       "      <td>63.99</td>\n",
       "      <td>101.71</td>\n",
       "      <td>3.25</td>\n",
       "      <td>7.75</td>\n",
       "      <td>124.742</td>\n",
       "      <td>48.551</td>\n",
       "      <td>53.621</td>\n",
       "      <td>192.488</td>\n",
       "      <td>222.065</td>\n",
       "      <td>55.669</td>\n",
       "      <td>12.299</td>\n",
       "      <td>178.801</td>\n",
       "      <td>98.946</td>\n",
       "      <td>264.598</td>\n",
       "      <td>-20.455</td>\n",
       "      <td>1012</td>\n",
       "      <td>77.22</td>\n",
       "      <td>26.3250</td>\n",
       "      <td>0</td>\n",
       "    </tr>\n",
       "    <tr>\n",
       "      <th>2024-03-03</th>\n",
       "      <td>61.08</td>\n",
       "      <td>111.42</td>\n",
       "      <td>3.31</td>\n",
       "      <td>8.15</td>\n",
       "      <td>124.469</td>\n",
       "      <td>56.956</td>\n",
       "      <td>50.715</td>\n",
       "      <td>206.578</td>\n",
       "      <td>209.388</td>\n",
       "      <td>52.162</td>\n",
       "      <td>8.209</td>\n",
       "      <td>202.653</td>\n",
       "      <td>101.406</td>\n",
       "      <td>235.637</td>\n",
       "      <td>43.071</td>\n",
       "      <td>1012</td>\n",
       "      <td>76.99</td>\n",
       "      <td>26.7375</td>\n",
       "      <td>0</td>\n",
       "    </tr>\n",
       "    <tr>\n",
       "      <th>2024-03-04</th>\n",
       "      <td>75.59</td>\n",
       "      <td>81.88</td>\n",
       "      <td>2.79</td>\n",
       "      <td>6.42</td>\n",
       "      <td>124.460</td>\n",
       "      <td>110.860</td>\n",
       "      <td>53.916</td>\n",
       "      <td>373.782</td>\n",
       "      <td>277.610</td>\n",
       "      <td>56.478</td>\n",
       "      <td>20.788</td>\n",
       "      <td>101.805</td>\n",
       "      <td>49.602</td>\n",
       "      <td>126.337</td>\n",
       "      <td>-149.007</td>\n",
       "      <td>1013</td>\n",
       "      <td>76.76</td>\n",
       "      <td>27.1500</td>\n",
       "      <td>0</td>\n",
       "    </tr>\n",
       "    <tr>\n",
       "      <th>2024-03-05</th>\n",
       "      <td>74.98</td>\n",
       "      <td>52.29</td>\n",
       "      <td>3.10</td>\n",
       "      <td>5.66</td>\n",
       "      <td>125.129</td>\n",
       "      <td>134.758</td>\n",
       "      <td>53.633</td>\n",
       "      <td>399.568</td>\n",
       "      <td>307.345</td>\n",
       "      <td>60.802</td>\n",
       "      <td>11.454</td>\n",
       "      <td>72.640</td>\n",
       "      <td>121.064</td>\n",
       "      <td>179.406</td>\n",
       "      <td>-74.175</td>\n",
       "      <td>1012</td>\n",
       "      <td>76.05</td>\n",
       "      <td>27.3700</td>\n",
       "      <td>0</td>\n",
       "    </tr>\n",
       "    <tr>\n",
       "      <th>...</th>\n",
       "      <td>...</td>\n",
       "      <td>...</td>\n",
       "      <td>...</td>\n",
       "      <td>...</td>\n",
       "      <td>...</td>\n",
       "      <td>...</td>\n",
       "      <td>...</td>\n",
       "      <td>...</td>\n",
       "      <td>...</td>\n",
       "      <td>...</td>\n",
       "      <td>...</td>\n",
       "      <td>...</td>\n",
       "      <td>...</td>\n",
       "      <td>...</td>\n",
       "      <td>...</td>\n",
       "      <td>...</td>\n",
       "      <td>...</td>\n",
       "      <td>...</td>\n",
       "      <td>...</td>\n",
       "    </tr>\n",
       "    <tr>\n",
       "      <th>2024-07-14</th>\n",
       "      <td>24.11</td>\n",
       "      <td>262.62</td>\n",
       "      <td>2.84</td>\n",
       "      <td>17.84</td>\n",
       "      <td>108.523</td>\n",
       "      <td>13.148</td>\n",
       "      <td>72.425</td>\n",
       "      <td>109.751</td>\n",
       "      <td>152.700</td>\n",
       "      <td>52.337</td>\n",
       "      <td>16.552</td>\n",
       "      <td>373.534</td>\n",
       "      <td>103.933</td>\n",
       "      <td>130.989</td>\n",
       "      <td>-61.474</td>\n",
       "      <td>992</td>\n",
       "      <td>78.71</td>\n",
       "      <td>31.1300</td>\n",
       "      <td>0</td>\n",
       "    </tr>\n",
       "    <tr>\n",
       "      <th>2024-07-15</th>\n",
       "      <td>77.45</td>\n",
       "      <td>304.71</td>\n",
       "      <td>2.58</td>\n",
       "      <td>20.75</td>\n",
       "      <td>104.809</td>\n",
       "      <td>22.465</td>\n",
       "      <td>85.336</td>\n",
       "      <td>170.017</td>\n",
       "      <td>199.304</td>\n",
       "      <td>51.962</td>\n",
       "      <td>28.313</td>\n",
       "      <td>427.314</td>\n",
       "      <td>56.057</td>\n",
       "      <td>105.741</td>\n",
       "      <td>-135.508</td>\n",
       "      <td>993</td>\n",
       "      <td>78.66</td>\n",
       "      <td>31.0400</td>\n",
       "      <td>0</td>\n",
       "    </tr>\n",
       "    <tr>\n",
       "      <th>2024-07-16</th>\n",
       "      <td>51.14</td>\n",
       "      <td>198.54</td>\n",
       "      <td>3.88</td>\n",
       "      <td>19.53</td>\n",
       "      <td>103.756</td>\n",
       "      <td>26.754</td>\n",
       "      <td>82.035</td>\n",
       "      <td>169.305</td>\n",
       "      <td>173.874</td>\n",
       "      <td>50.752</td>\n",
       "      <td>17.974</td>\n",
       "      <td>305.022</td>\n",
       "      <td>72.066</td>\n",
       "      <td>314.640</td>\n",
       "      <td>-112.108</td>\n",
       "      <td>993</td>\n",
       "      <td>77.62</td>\n",
       "      <td>32.5300</td>\n",
       "      <td>0</td>\n",
       "    </tr>\n",
       "    <tr>\n",
       "      <th>2024-07-17</th>\n",
       "      <td>76.79</td>\n",
       "      <td>209.54</td>\n",
       "      <td>3.37</td>\n",
       "      <td>18.23</td>\n",
       "      <td>106.761</td>\n",
       "      <td>23.216</td>\n",
       "      <td>78.904</td>\n",
       "      <td>179.681</td>\n",
       "      <td>185.801</td>\n",
       "      <td>53.000</td>\n",
       "      <td>21.230</td>\n",
       "      <td>294.246</td>\n",
       "      <td>71.815</td>\n",
       "      <td>257.865</td>\n",
       "      <td>-157.414</td>\n",
       "      <td>993</td>\n",
       "      <td>78.87</td>\n",
       "      <td>31.5200</td>\n",
       "      <td>0</td>\n",
       "    </tr>\n",
       "    <tr>\n",
       "      <th>2024-07-18</th>\n",
       "      <td>90.75</td>\n",
       "      <td>284.50</td>\n",
       "      <td>2.13</td>\n",
       "      <td>19.65</td>\n",
       "      <td>109.532</td>\n",
       "      <td>51.601</td>\n",
       "      <td>82.546</td>\n",
       "      <td>222.480</td>\n",
       "      <td>224.374</td>\n",
       "      <td>52.726</td>\n",
       "      <td>24.179</td>\n",
       "      <td>411.243</td>\n",
       "      <td>15.699</td>\n",
       "      <td>35.372</td>\n",
       "      <td>-203.976</td>\n",
       "      <td>993</td>\n",
       "      <td>78.90</td>\n",
       "      <td>32.1700</td>\n",
       "      <td>0</td>\n",
       "    </tr>\n",
       "  </tbody>\n",
       "</table>\n",
       "<p>140 rows × 19 columns</p>\n",
       "</div>"
      ],
      "text/plain": [
       "                y  Solar_radiation (W/m2)  Wind_speed (m/s)  Temperature (°C)  \\\n",
       "ds                                                                              \n",
       "2024-03-01  70.93                   65.50              3.14              5.81   \n",
       "2024-03-02  63.99                  101.71              3.25              7.75   \n",
       "2024-03-03  61.08                  111.42              3.31              8.15   \n",
       "2024-03-04  75.59                   81.88              2.79              6.42   \n",
       "2024-03-05  74.98                   52.29              3.10              5.66   \n",
       "...           ...                     ...               ...               ...   \n",
       "2024-07-14  24.11                  262.62              2.84             17.84   \n",
       "2024-07-15  77.45                  304.71              2.58             20.75   \n",
       "2024-07-16  51.14                  198.54              3.88             19.53   \n",
       "2024-07-17  76.79                  209.54              3.37             18.23   \n",
       "2024-07-18  90.75                  284.50              2.13             19.65   \n",
       "\n",
       "            Biomass (GWh)  Hard_coal (GWh)  Hydro (GWh)  Lignite (GWh)  \\\n",
       "ds                                                                       \n",
       "2024-03-01        124.839           68.840       55.295        252.736   \n",
       "2024-03-02        124.742           48.551       53.621        192.488   \n",
       "2024-03-03        124.469           56.956       50.715        206.578   \n",
       "2024-03-04        124.460          110.860       53.916        373.782   \n",
       "2024-03-05        125.129          134.758       53.633        399.568   \n",
       "...                   ...              ...          ...            ...   \n",
       "2024-07-14        108.523           13.148       72.425        109.751   \n",
       "2024-07-15        104.809           22.465       85.336        170.017   \n",
       "2024-07-16        103.756           26.754       82.035        169.305   \n",
       "2024-07-17        106.761           23.216       78.904        179.681   \n",
       "2024-07-18        109.532           51.601       82.546        222.480   \n",
       "\n",
       "            Natural_gas (GWh)  Other (GWh)  Pumped_storage_generation (GWh)  \\\n",
       "ds                                                                            \n",
       "2024-03-01            256.269       61.390                           15.691   \n",
       "2024-03-02            222.065       55.669                           12.299   \n",
       "2024-03-03            209.388       52.162                            8.209   \n",
       "2024-03-04            277.610       56.478                           20.788   \n",
       "2024-03-05            307.345       60.802                           11.454   \n",
       "...                       ...          ...                              ...   \n",
       "2024-07-14            152.700       52.337                           16.552   \n",
       "2024-07-15            199.304       51.962                           28.313   \n",
       "2024-07-16            173.874       50.752                           17.974   \n",
       "2024-07-17            185.801       53.000                           21.230   \n",
       "2024-07-18            224.374       52.726                           24.179   \n",
       "\n",
       "            Solar_energy (GWh)  Wind_offshore (GWh)  Wind_onshore (GWh)  \\\n",
       "ds                                                                        \n",
       "2024-03-01              99.970              109.303             258.820   \n",
       "2024-03-02             178.801               98.946             264.598   \n",
       "2024-03-03             202.653              101.406             235.637   \n",
       "2024-03-04             101.805               49.602             126.337   \n",
       "2024-03-05              72.640              121.064             179.406   \n",
       "...                        ...                  ...                 ...   \n",
       "2024-07-14             373.534              103.933             130.989   \n",
       "2024-07-15             427.314               56.057             105.741   \n",
       "2024-07-16             305.022               72.066             314.640   \n",
       "2024-07-17             294.246               71.815             257.865   \n",
       "2024-07-18             411.243               15.699              35.372   \n",
       "\n",
       "            Net_total_export_import (GWh)  BEV_vehicles  Oil_price (EUR)  \\\n",
       "ds                                                                         \n",
       "2024-03-01                       -168.740          1012            77.45   \n",
       "2024-03-02                        -20.455          1012            77.22   \n",
       "2024-03-03                         43.071          1012            76.99   \n",
       "2024-03-04                       -149.007          1013            76.76   \n",
       "2024-03-05                        -74.175          1012            76.05   \n",
       "...                                   ...           ...              ...   \n",
       "2024-07-14                        -61.474           992            78.71   \n",
       "2024-07-15                       -135.508           993            78.66   \n",
       "2024-07-16                       -112.108           993            77.62   \n",
       "2024-07-17                       -157.414           993            78.87   \n",
       "2024-07-18                       -203.976           993            78.90   \n",
       "\n",
       "            TTF_gas_price (€/MWh)  Nuclear_energy (GWh)  \n",
       "ds                                                       \n",
       "2024-03-01                25.5000                     0  \n",
       "2024-03-02                26.3250                     0  \n",
       "2024-03-03                26.7375                     0  \n",
       "2024-03-04                27.1500                     0  \n",
       "2024-03-05                27.3700                     0  \n",
       "...                           ...                   ...  \n",
       "2024-07-14                31.1300                     0  \n",
       "2024-07-15                31.0400                     0  \n",
       "2024-07-16                32.5300                     0  \n",
       "2024-07-17                31.5200                     0  \n",
       "2024-07-18                32.1700                     0  \n",
       "\n",
       "[140 rows x 19 columns]"
      ]
     },
     "execution_count": 22,
     "metadata": {},
     "output_type": "execute_result"
    }
   ],
   "source": [
    "# Create a future dataframe covering the validation period\n",
    "future_dates = valid_data.reset_index().copy()\n",
    "future_dates = future_dates[future_dates['ds'] >= model.history['ds'].max()]\n",
    "future_dates = future_dates.set_index('ds')\n",
    "future_dates"
   ]
  },
  {
   "cell_type": "code",
   "execution_count": 23,
   "metadata": {},
   "outputs": [],
   "source": [
    "# Predict the future\n",
    "forecast = model.predict(future_dates.reset_index())\n",
    "\n",
    "# Filter forecast to only include dates in the validation period\n",
    "forecast_filtered = forecast[forecast['ds'].isin(valid_data.index)]"
   ]
  },
  {
   "cell_type": "code",
   "execution_count": 24,
   "metadata": {},
   "outputs": [
    {
     "data": {
      "text/html": [
       "<div>\n",
       "<style scoped>\n",
       "    .dataframe tbody tr th:only-of-type {\n",
       "        vertical-align: middle;\n",
       "    }\n",
       "\n",
       "    .dataframe tbody tr th {\n",
       "        vertical-align: top;\n",
       "    }\n",
       "\n",
       "    .dataframe thead th {\n",
       "        text-align: right;\n",
       "    }\n",
       "</style>\n",
       "<table border=\"1\" class=\"dataframe\">\n",
       "  <thead>\n",
       "    <tr style=\"text-align: right;\">\n",
       "      <th></th>\n",
       "      <th>ds</th>\n",
       "      <th>trend</th>\n",
       "      <th>yhat_lower</th>\n",
       "      <th>yhat_upper</th>\n",
       "      <th>trend_lower</th>\n",
       "      <th>trend_upper</th>\n",
       "      <th>Ascension Day</th>\n",
       "      <th>Ascension Day_lower</th>\n",
       "      <th>Ascension Day_upper</th>\n",
       "      <th>BEV_vehicles</th>\n",
       "      <th>...</th>\n",
       "      <th>multiplicative_terms</th>\n",
       "      <th>multiplicative_terms_lower</th>\n",
       "      <th>multiplicative_terms_upper</th>\n",
       "      <th>weekly</th>\n",
       "      <th>weekly_lower</th>\n",
       "      <th>weekly_upper</th>\n",
       "      <th>yearly</th>\n",
       "      <th>yearly_lower</th>\n",
       "      <th>yearly_upper</th>\n",
       "      <th>yhat</th>\n",
       "    </tr>\n",
       "  </thead>\n",
       "  <tbody>\n",
       "    <tr>\n",
       "      <th>0</th>\n",
       "      <td>2024-03-01</td>\n",
       "      <td>89.763944</td>\n",
       "      <td>82.432513</td>\n",
       "      <td>97.264789</td>\n",
       "      <td>89.763944</td>\n",
       "      <td>89.763944</td>\n",
       "      <td>0.0</td>\n",
       "      <td>0.0</td>\n",
       "      <td>0.0</td>\n",
       "      <td>-0.042727</td>\n",
       "      <td>...</td>\n",
       "      <td>0.005908</td>\n",
       "      <td>0.005908</td>\n",
       "      <td>0.005908</td>\n",
       "      <td>1.736441</td>\n",
       "      <td>1.736441</td>\n",
       "      <td>1.736441</td>\n",
       "      <td>-2.106076</td>\n",
       "      <td>-2.106076</td>\n",
       "      <td>-2.106076</td>\n",
       "      <td>90.151362</td>\n",
       "    </tr>\n",
       "    <tr>\n",
       "      <th>1</th>\n",
       "      <td>2024-03-02</td>\n",
       "      <td>89.791692</td>\n",
       "      <td>66.850323</td>\n",
       "      <td>81.754505</td>\n",
       "      <td>89.791692</td>\n",
       "      <td>89.791692</td>\n",
       "      <td>0.0</td>\n",
       "      <td>0.0</td>\n",
       "      <td>0.0</td>\n",
       "      <td>-0.042727</td>\n",
       "      <td>...</td>\n",
       "      <td>-0.113884</td>\n",
       "      <td>-0.113884</td>\n",
       "      <td>-0.113884</td>\n",
       "      <td>-2.527389</td>\n",
       "      <td>-2.527389</td>\n",
       "      <td>-2.527389</td>\n",
       "      <td>-2.119554</td>\n",
       "      <td>-2.119554</td>\n",
       "      <td>-2.119554</td>\n",
       "      <td>74.641035</td>\n",
       "    </tr>\n",
       "    <tr>\n",
       "      <th>2</th>\n",
       "      <td>2024-03-03</td>\n",
       "      <td>89.819441</td>\n",
       "      <td>60.264147</td>\n",
       "      <td>75.123538</td>\n",
       "      <td>89.819441</td>\n",
       "      <td>89.819441</td>\n",
       "      <td>0.0</td>\n",
       "      <td>0.0</td>\n",
       "      <td>0.0</td>\n",
       "      <td>-0.042727</td>\n",
       "      <td>...</td>\n",
       "      <td>-0.133129</td>\n",
       "      <td>-0.133129</td>\n",
       "      <td>-0.133129</td>\n",
       "      <td>-7.488977</td>\n",
       "      <td>-7.488977</td>\n",
       "      <td>-7.488977</td>\n",
       "      <td>-2.093197</td>\n",
       "      <td>-2.093197</td>\n",
       "      <td>-2.093197</td>\n",
       "      <td>67.680391</td>\n",
       "    </tr>\n",
       "    <tr>\n",
       "      <th>3</th>\n",
       "      <td>2024-03-04</td>\n",
       "      <td>89.847189</td>\n",
       "      <td>95.915408</td>\n",
       "      <td>110.127094</td>\n",
       "      <td>89.847189</td>\n",
       "      <td>89.847189</td>\n",
       "      <td>0.0</td>\n",
       "      <td>0.0</td>\n",
       "      <td>0.0</td>\n",
       "      <td>-0.042777</td>\n",
       "      <td>...</td>\n",
       "      <td>0.162973</td>\n",
       "      <td>0.162973</td>\n",
       "      <td>0.162973</td>\n",
       "      <td>1.395656</td>\n",
       "      <td>1.395656</td>\n",
       "      <td>1.395656</td>\n",
       "      <td>-2.031157</td>\n",
       "      <td>-2.031157</td>\n",
       "      <td>-2.031157</td>\n",
       "      <td>103.159305</td>\n",
       "    </tr>\n",
       "    <tr>\n",
       "      <th>4</th>\n",
       "      <td>2024-03-05</td>\n",
       "      <td>89.874938</td>\n",
       "      <td>94.903803</td>\n",
       "      <td>109.795884</td>\n",
       "      <td>89.874938</td>\n",
       "      <td>89.874938</td>\n",
       "      <td>0.0</td>\n",
       "      <td>0.0</td>\n",
       "      <td>0.0</td>\n",
       "      <td>-0.042727</td>\n",
       "      <td>...</td>\n",
       "      <td>0.151179</td>\n",
       "      <td>0.151179</td>\n",
       "      <td>0.151179</td>\n",
       "      <td>2.096164</td>\n",
       "      <td>2.096164</td>\n",
       "      <td>2.096164</td>\n",
       "      <td>-1.943521</td>\n",
       "      <td>-1.943521</td>\n",
       "      <td>-1.943521</td>\n",
       "      <td>102.946382</td>\n",
       "    </tr>\n",
       "    <tr>\n",
       "      <th>...</th>\n",
       "      <td>...</td>\n",
       "      <td>...</td>\n",
       "      <td>...</td>\n",
       "      <td>...</td>\n",
       "      <td>...</td>\n",
       "      <td>...</td>\n",
       "      <td>...</td>\n",
       "      <td>...</td>\n",
       "      <td>...</td>\n",
       "      <td>...</td>\n",
       "      <td>...</td>\n",
       "      <td>...</td>\n",
       "      <td>...</td>\n",
       "      <td>...</td>\n",
       "      <td>...</td>\n",
       "      <td>...</td>\n",
       "      <td>...</td>\n",
       "      <td>...</td>\n",
       "      <td>...</td>\n",
       "      <td>...</td>\n",
       "      <td>...</td>\n",
       "    </tr>\n",
       "    <tr>\n",
       "      <th>135</th>\n",
       "      <td>2024-07-14</td>\n",
       "      <td>93.510003</td>\n",
       "      <td>71.291815</td>\n",
       "      <td>86.428215</td>\n",
       "      <td>92.904219</td>\n",
       "      <td>94.180786</td>\n",
       "      <td>0.0</td>\n",
       "      <td>0.0</td>\n",
       "      <td>0.0</td>\n",
       "      <td>-0.041717</td>\n",
       "      <td>...</td>\n",
       "      <td>-0.107894</td>\n",
       "      <td>-0.107894</td>\n",
       "      <td>-0.107894</td>\n",
       "      <td>-7.488977</td>\n",
       "      <td>-7.488977</td>\n",
       "      <td>-7.488977</td>\n",
       "      <td>2.896555</td>\n",
       "      <td>2.896555</td>\n",
       "      <td>2.896555</td>\n",
       "      <td>78.780431</td>\n",
       "    </tr>\n",
       "    <tr>\n",
       "      <th>136</th>\n",
       "      <td>2024-07-15</td>\n",
       "      <td>93.537752</td>\n",
       "      <td>85.432926</td>\n",
       "      <td>99.882936</td>\n",
       "      <td>92.924160</td>\n",
       "      <td>94.216875</td>\n",
       "      <td>0.0</td>\n",
       "      <td>0.0</td>\n",
       "      <td>0.0</td>\n",
       "      <td>-0.041767</td>\n",
       "      <td>...</td>\n",
       "      <td>-0.057247</td>\n",
       "      <td>-0.057247</td>\n",
       "      <td>-0.057247</td>\n",
       "      <td>1.395656</td>\n",
       "      <td>1.395656</td>\n",
       "      <td>1.395656</td>\n",
       "      <td>2.991016</td>\n",
       "      <td>2.991016</td>\n",
       "      <td>2.991016</td>\n",
       "      <td>92.782407</td>\n",
       "    </tr>\n",
       "    <tr>\n",
       "      <th>137</th>\n",
       "      <td>2024-07-16</td>\n",
       "      <td>93.565500</td>\n",
       "      <td>80.891656</td>\n",
       "      <td>95.815385</td>\n",
       "      <td>92.945674</td>\n",
       "      <td>94.260504</td>\n",
       "      <td>0.0</td>\n",
       "      <td>0.0</td>\n",
       "      <td>0.0</td>\n",
       "      <td>-0.041767</td>\n",
       "      <td>...</td>\n",
       "      <td>-0.118686</td>\n",
       "      <td>-0.118686</td>\n",
       "      <td>-0.118686</td>\n",
       "      <td>2.096164</td>\n",
       "      <td>2.096164</td>\n",
       "      <td>2.096164</td>\n",
       "      <td>3.152027</td>\n",
       "      <td>3.152027</td>\n",
       "      <td>3.152027</td>\n",
       "      <td>88.141302</td>\n",
       "    </tr>\n",
       "    <tr>\n",
       "      <th>138</th>\n",
       "      <td>2024-07-17</td>\n",
       "      <td>93.593249</td>\n",
       "      <td>87.046705</td>\n",
       "      <td>101.490997</td>\n",
       "      <td>92.966254</td>\n",
       "      <td>94.297156</td>\n",
       "      <td>0.0</td>\n",
       "      <td>0.0</td>\n",
       "      <td>0.0</td>\n",
       "      <td>-0.041767</td>\n",
       "      <td>...</td>\n",
       "      <td>-0.061967</td>\n",
       "      <td>-0.061967</td>\n",
       "      <td>-0.061967</td>\n",
       "      <td>2.434467</td>\n",
       "      <td>2.434467</td>\n",
       "      <td>2.434467</td>\n",
       "      <td>3.346681</td>\n",
       "      <td>3.346681</td>\n",
       "      <td>3.346681</td>\n",
       "      <td>94.115924</td>\n",
       "    </tr>\n",
       "    <tr>\n",
       "      <th>139</th>\n",
       "      <td>2024-07-18</td>\n",
       "      <td>93.620998</td>\n",
       "      <td>99.518413</td>\n",
       "      <td>114.912318</td>\n",
       "      <td>92.987885</td>\n",
       "      <td>94.332589</td>\n",
       "      <td>0.0</td>\n",
       "      <td>0.0</td>\n",
       "      <td>0.0</td>\n",
       "      <td>-0.041767</td>\n",
       "      <td>...</td>\n",
       "      <td>0.075984</td>\n",
       "      <td>0.075984</td>\n",
       "      <td>0.075984</td>\n",
       "      <td>2.353638</td>\n",
       "      <td>2.353638</td>\n",
       "      <td>2.353638</td>\n",
       "      <td>3.535285</td>\n",
       "      <td>3.535285</td>\n",
       "      <td>3.535285</td>\n",
       "      <td>107.173474</td>\n",
       "    </tr>\n",
       "  </tbody>\n",
       "</table>\n",
       "<p>140 rows × 112 columns</p>\n",
       "</div>"
      ],
      "text/plain": [
       "            ds      trend  yhat_lower  yhat_upper  trend_lower  trend_upper  \\\n",
       "0   2024-03-01  89.763944   82.432513   97.264789    89.763944    89.763944   \n",
       "1   2024-03-02  89.791692   66.850323   81.754505    89.791692    89.791692   \n",
       "2   2024-03-03  89.819441   60.264147   75.123538    89.819441    89.819441   \n",
       "3   2024-03-04  89.847189   95.915408  110.127094    89.847189    89.847189   \n",
       "4   2024-03-05  89.874938   94.903803  109.795884    89.874938    89.874938   \n",
       "..         ...        ...         ...         ...          ...          ...   \n",
       "135 2024-07-14  93.510003   71.291815   86.428215    92.904219    94.180786   \n",
       "136 2024-07-15  93.537752   85.432926   99.882936    92.924160    94.216875   \n",
       "137 2024-07-16  93.565500   80.891656   95.815385    92.945674    94.260504   \n",
       "138 2024-07-17  93.593249   87.046705  101.490997    92.966254    94.297156   \n",
       "139 2024-07-18  93.620998   99.518413  114.912318    92.987885    94.332589   \n",
       "\n",
       "     Ascension Day  Ascension Day_lower  Ascension Day_upper  BEV_vehicles  \\\n",
       "0              0.0                  0.0                  0.0     -0.042727   \n",
       "1              0.0                  0.0                  0.0     -0.042727   \n",
       "2              0.0                  0.0                  0.0     -0.042727   \n",
       "3              0.0                  0.0                  0.0     -0.042777   \n",
       "4              0.0                  0.0                  0.0     -0.042727   \n",
       "..             ...                  ...                  ...           ...   \n",
       "135            0.0                  0.0                  0.0     -0.041717   \n",
       "136            0.0                  0.0                  0.0     -0.041767   \n",
       "137            0.0                  0.0                  0.0     -0.041767   \n",
       "138            0.0                  0.0                  0.0     -0.041767   \n",
       "139            0.0                  0.0                  0.0     -0.041767   \n",
       "\n",
       "     ...  multiplicative_terms  multiplicative_terms_lower  \\\n",
       "0    ...              0.005908                    0.005908   \n",
       "1    ...             -0.113884                   -0.113884   \n",
       "2    ...             -0.133129                   -0.133129   \n",
       "3    ...              0.162973                    0.162973   \n",
       "4    ...              0.151179                    0.151179   \n",
       "..   ...                   ...                         ...   \n",
       "135  ...             -0.107894                   -0.107894   \n",
       "136  ...             -0.057247                   -0.057247   \n",
       "137  ...             -0.118686                   -0.118686   \n",
       "138  ...             -0.061967                   -0.061967   \n",
       "139  ...              0.075984                    0.075984   \n",
       "\n",
       "     multiplicative_terms_upper    weekly  weekly_lower  weekly_upper  \\\n",
       "0                      0.005908  1.736441      1.736441      1.736441   \n",
       "1                     -0.113884 -2.527389     -2.527389     -2.527389   \n",
       "2                     -0.133129 -7.488977     -7.488977     -7.488977   \n",
       "3                      0.162973  1.395656      1.395656      1.395656   \n",
       "4                      0.151179  2.096164      2.096164      2.096164   \n",
       "..                          ...       ...           ...           ...   \n",
       "135                   -0.107894 -7.488977     -7.488977     -7.488977   \n",
       "136                   -0.057247  1.395656      1.395656      1.395656   \n",
       "137                   -0.118686  2.096164      2.096164      2.096164   \n",
       "138                   -0.061967  2.434467      2.434467      2.434467   \n",
       "139                    0.075984  2.353638      2.353638      2.353638   \n",
       "\n",
       "       yearly  yearly_lower  yearly_upper        yhat  \n",
       "0   -2.106076     -2.106076     -2.106076   90.151362  \n",
       "1   -2.119554     -2.119554     -2.119554   74.641035  \n",
       "2   -2.093197     -2.093197     -2.093197   67.680391  \n",
       "3   -2.031157     -2.031157     -2.031157  103.159305  \n",
       "4   -1.943521     -1.943521     -1.943521  102.946382  \n",
       "..        ...           ...           ...         ...  \n",
       "135  2.896555      2.896555      2.896555   78.780431  \n",
       "136  2.991016      2.991016      2.991016   92.782407  \n",
       "137  3.152027      3.152027      3.152027   88.141302  \n",
       "138  3.346681      3.346681      3.346681   94.115924  \n",
       "139  3.535285      3.535285      3.535285  107.173474  \n",
       "\n",
       "[140 rows x 112 columns]"
      ]
     },
     "execution_count": 24,
     "metadata": {},
     "output_type": "execute_result"
    }
   ],
   "source": [
    "forecast"
   ]
  },
  {
   "cell_type": "code",
   "execution_count": 25,
   "metadata": {},
   "outputs": [
    {
     "name": "stdout",
     "output_type": "stream",
     "text": [
      "MSE: 578.87, MAE: 19.19, RMSE: 24.06, MAPE: nan%\n"
     ]
    },
    {
     "name": "stderr",
     "output_type": "stream",
     "text": [
      "/var/folders/8w/b_0gc01d70g6h4k62sb7ytyw0000gn/T/ipykernel_7360/3371856489.py:6: RuntimeWarning:\n",
      "\n",
      "'<' not supported between instances of 'Timestamp' and 'int', sort order is undefined for incomparable objects.\n",
      "\n"
     ]
    }
   ],
   "source": [
    "# Calculate error metrics\n",
    "if len(valid_data) == len(forecast):\n",
    "    mse = mean_squared_error(valid_data['y'], forecast['yhat'])\n",
    "    mae = mean_absolute_error(valid_data['y'], forecast['yhat'])\n",
    "    rmse = np.sqrt(mse)\n",
    "    mape = np.mean(np.abs((forecast['yhat'] - valid_data['y']) / valid_data['y'])) * 100\n",
    "    \n",
    "    print(f\"MSE: {mse:.2f}, MAE: {mae:.2f}, RMSE: {rmse:.2f}, MAPE: {mape:.2f}%\")\n",
    "else:\n",
    "    raise ValueError(\"The lengths of valid_data and forecast_filtered do not match after filtering.\")"
   ]
  },
  {
   "cell_type": "code",
   "execution_count": 26,
   "metadata": {},
   "outputs": [],
   "source": [
    "forecast_filtered['yhat'] = pd.to_numeric(forecast_filtered['yhat'], errors='coerce')\n",
    "valid_data['y'] = pd.to_numeric(valid_data['y'], errors='coerce')\n"
   ]
  },
  {
   "cell_type": "code",
   "execution_count": 27,
   "metadata": {},
   "outputs": [
    {
     "name": "stdout",
     "output_type": "stream",
     "text": [
      "MSE: 578.87, MAE: 19.19, RMSE: 24.06, MAPE: nan%\n"
     ]
    },
    {
     "name": "stderr",
     "output_type": "stream",
     "text": [
      "/var/folders/8w/b_0gc01d70g6h4k62sb7ytyw0000gn/T/ipykernel_7360/1390469392.py:16: RuntimeWarning:\n",
      "\n",
      "'<' not supported between instances of 'Timestamp' and 'int', sort order is undefined for incomparable objects.\n",
      "\n"
     ]
    }
   ],
   "source": [
    "# Ensure columns are numeric\n",
    "forecast_filtered['yhat'] = pd.to_numeric(forecast_filtered['yhat'], errors='coerce')\n",
    "valid_data['y'] = pd.to_numeric(valid_data['y'], errors='coerce')\n",
    "\n",
    "# Handle zero values in 'y'\n",
    "valid_data.loc[valid_data['y'] == 0, 'y'] = np.nan\n",
    "\n",
    "# Drop NaNs before MAPE calculation\n",
    "valid_data.dropna(subset=['y'], inplace=True)\n",
    "\n",
    "# Calculate error metrics\n",
    "if len(valid_data) == len(forecast_filtered):\n",
    "    mse = mean_squared_error(valid_data['y'], forecast_filtered['yhat'])\n",
    "    mae = mean_absolute_error(valid_data['y'], forecast_filtered['yhat'])\n",
    "    rmse = np.sqrt(mse)\n",
    "    mape = np.mean(np.abs((forecast_filtered['yhat'] - valid_data['y']) / valid_data['y'])) * 100\n",
    "    \n",
    "    print(f\"MSE: {mse:.2f}, MAE: {mae:.2f}, RMSE: {rmse:.2f}, MAPE: {mape:.2f}%\")\n",
    "else:\n",
    "    raise ValueError(\"The lengths of valid_data and forecast_filtered do not match after filtering.\")\n"
   ]
  },
  {
   "cell_type": "code",
   "execution_count": 28,
   "metadata": {},
   "outputs": [
    {
     "data": {
      "text/plain": [
       "0       90.151362\n",
       "1       74.641035\n",
       "2       67.680391\n",
       "3      103.159305\n",
       "4      102.946382\n",
       "          ...    \n",
       "135     78.780431\n",
       "136     92.782407\n",
       "137     88.141302\n",
       "138     94.115924\n",
       "139    107.173474\n",
       "Name: yhat, Length: 140, dtype: float64"
      ]
     },
     "execution_count": 28,
     "metadata": {},
     "output_type": "execute_result"
    }
   ],
   "source": [
    "forecast['yhat']"
   ]
  },
  {
   "cell_type": "code",
   "execution_count": 29,
   "metadata": {},
   "outputs": [
    {
     "data": {
      "text/plain": [
       "ds\n",
       "2024-03-01    70.93\n",
       "2024-03-02    63.99\n",
       "2024-03-03    61.08\n",
       "2024-03-04    75.59\n",
       "2024-03-05    74.98\n",
       "              ...  \n",
       "2024-07-14    24.11\n",
       "2024-07-15    77.45\n",
       "2024-07-16    51.14\n",
       "2024-07-17    76.79\n",
       "2024-07-18    90.75\n",
       "Name: y, Length: 140, dtype: float64"
      ]
     },
     "execution_count": 29,
     "metadata": {},
     "output_type": "execute_result"
    }
   ],
   "source": [
    "valid_data['y']"
   ]
  },
  {
   "cell_type": "code",
   "execution_count": 30,
   "metadata": {},
   "outputs": [
    {
     "data": {
      "application/vnd.plotly.v1+json": {
       "config": {
        "plotlyServerURL": "https://plot.ly"
       },
       "data": [
        {
         "line": {
          "color": "blue"
         },
         "mode": "lines",
         "name": "Forecast",
         "type": "scatter",
         "x": [
          "2024-03-01T00:00:00",
          "2024-03-02T00:00:00",
          "2024-03-03T00:00:00",
          "2024-03-04T00:00:00",
          "2024-03-05T00:00:00",
          "2024-03-06T00:00:00",
          "2024-03-07T00:00:00",
          "2024-03-08T00:00:00",
          "2024-03-09T00:00:00",
          "2024-03-10T00:00:00",
          "2024-03-11T00:00:00",
          "2024-03-12T00:00:00",
          "2024-03-13T00:00:00",
          "2024-03-14T00:00:00",
          "2024-03-15T00:00:00",
          "2024-03-16T00:00:00",
          "2024-03-17T00:00:00",
          "2024-03-18T00:00:00",
          "2024-03-19T00:00:00",
          "2024-03-20T00:00:00",
          "2024-03-21T00:00:00",
          "2024-03-22T00:00:00",
          "2024-03-23T00:00:00",
          "2024-03-24T00:00:00",
          "2024-03-25T00:00:00",
          "2024-03-26T00:00:00",
          "2024-03-27T00:00:00",
          "2024-03-28T00:00:00",
          "2024-03-29T00:00:00",
          "2024-03-30T00:00:00",
          "2024-03-31T00:00:00",
          "2024-04-01T00:00:00",
          "2024-04-02T00:00:00",
          "2024-04-03T00:00:00",
          "2024-04-04T00:00:00",
          "2024-04-05T00:00:00",
          "2024-04-06T00:00:00",
          "2024-04-07T00:00:00",
          "2024-04-08T00:00:00",
          "2024-04-09T00:00:00",
          "2024-04-10T00:00:00",
          "2024-04-11T00:00:00",
          "2024-04-12T00:00:00",
          "2024-04-13T00:00:00",
          "2024-04-14T00:00:00",
          "2024-04-15T00:00:00",
          "2024-04-16T00:00:00",
          "2024-04-17T00:00:00",
          "2024-04-18T00:00:00",
          "2024-04-19T00:00:00",
          "2024-04-20T00:00:00",
          "2024-04-21T00:00:00",
          "2024-04-22T00:00:00",
          "2024-04-23T00:00:00",
          "2024-04-24T00:00:00",
          "2024-04-25T00:00:00",
          "2024-04-26T00:00:00",
          "2024-04-27T00:00:00",
          "2024-04-28T00:00:00",
          "2024-04-29T00:00:00",
          "2024-04-30T00:00:00",
          "2024-05-01T00:00:00",
          "2024-05-02T00:00:00",
          "2024-05-03T00:00:00",
          "2024-05-04T00:00:00",
          "2024-05-05T00:00:00",
          "2024-05-06T00:00:00",
          "2024-05-07T00:00:00",
          "2024-05-08T00:00:00",
          "2024-05-09T00:00:00",
          "2024-05-10T00:00:00",
          "2024-05-11T00:00:00",
          "2024-05-12T00:00:00",
          "2024-05-13T00:00:00",
          "2024-05-14T00:00:00",
          "2024-05-15T00:00:00",
          "2024-05-16T00:00:00",
          "2024-05-17T00:00:00",
          "2024-05-18T00:00:00",
          "2024-05-19T00:00:00",
          "2024-05-20T00:00:00",
          "2024-05-21T00:00:00",
          "2024-05-22T00:00:00",
          "2024-05-23T00:00:00",
          "2024-05-24T00:00:00",
          "2024-05-25T00:00:00",
          "2024-05-26T00:00:00",
          "2024-05-27T00:00:00",
          "2024-05-28T00:00:00",
          "2024-05-29T00:00:00",
          "2024-05-30T00:00:00",
          "2024-05-31T00:00:00",
          "2024-06-01T00:00:00",
          "2024-06-02T00:00:00",
          "2024-06-03T00:00:00",
          "2024-06-04T00:00:00",
          "2024-06-05T00:00:00",
          "2024-06-06T00:00:00",
          "2024-06-07T00:00:00",
          "2024-06-08T00:00:00",
          "2024-06-09T00:00:00",
          "2024-06-10T00:00:00",
          "2024-06-11T00:00:00",
          "2024-06-12T00:00:00",
          "2024-06-13T00:00:00",
          "2024-06-14T00:00:00",
          "2024-06-15T00:00:00",
          "2024-06-16T00:00:00",
          "2024-06-17T00:00:00",
          "2024-06-18T00:00:00",
          "2024-06-19T00:00:00",
          "2024-06-20T00:00:00",
          "2024-06-21T00:00:00",
          "2024-06-22T00:00:00",
          "2024-06-23T00:00:00",
          "2024-06-24T00:00:00",
          "2024-06-25T00:00:00",
          "2024-06-26T00:00:00",
          "2024-06-27T00:00:00",
          "2024-06-28T00:00:00",
          "2024-06-29T00:00:00",
          "2024-06-30T00:00:00",
          "2024-07-01T00:00:00",
          "2024-07-02T00:00:00",
          "2024-07-03T00:00:00",
          "2024-07-04T00:00:00",
          "2024-07-05T00:00:00",
          "2024-07-06T00:00:00",
          "2024-07-07T00:00:00",
          "2024-07-08T00:00:00",
          "2024-07-09T00:00:00",
          "2024-07-10T00:00:00",
          "2024-07-11T00:00:00",
          "2024-07-12T00:00:00",
          "2024-07-13T00:00:00",
          "2024-07-14T00:00:00",
          "2024-07-15T00:00:00",
          "2024-07-16T00:00:00",
          "2024-07-17T00:00:00",
          "2024-07-18T00:00:00"
         ],
         "xaxis": "x",
         "y": [
          90.15136235850682,
          74.64103532023209,
          67.68039083898606,
          103.15930477654071,
          102.94638187378935,
          105.99172839920001,
          89.40956934789529,
          62.15852082645565,
          54.08227271829526,
          48.11966983295484,
          78.19073083196618,
          102.64098048839392,
          95.6107227655802,
          85.89666967736154,
          69.9248435938755,
          61.304433874368954,
          80.70046127810421,
          100.37058395624541,
          100.37872880368182,
          104.43652480456451,
          88.45675833002885,
          80.648679936597,
          61.94478372261253,
          41.5868601069393,
          84.38816943456831,
          77.51023104921158,
          91.12289583158196,
          69.26322755573183,
          68.11845269828274,
          82.62986013666233,
          78.68104967865756,
          60.88502716236318,
          48.462344394461155,
          84.54560142795455,
          64.33528950442218,
          62.86469453638749,
          63.72278728680819,
          63.426502995413784,
          94.22277717329095,
          72.85829568494479,
          84.20453556281882,
          85.09260682734458,
          85.41007763107169,
          72.21270198609342,
          60.10227762808226,
          80.50102357719484,
          76.50827847683021,
          107.68859778488287,
          104.25181944977498,
          70.22177587306199,
          77.02473498750228,
          75.97980161496272,
          99.34182687438245,
          99.48101819008653,
          94.68174723921547,
          100.09773492453819,
          93.91862018806738,
          76.11152877414347,
          56.96925248906016,
          87.7693586075535,
          83.56142471287872,
          51.22839858915817,
          67.55033115547019,
          86.56922672542287,
          94.59220803586125,
          73.2669948281103,
          105.70944791593946,
          105.20292435439558,
          100.69716409799952,
          83.60815581695516,
          87.90633040906938,
          77.41991185879792,
          59.246289882323694,
          70.40118513573377,
          60.59592674071265,
          69.61261076830161,
          73.97357732194969,
          77.83033283203395,
          85.67299505528793,
          83.49388764680135,
          81.58335334662738,
          84.82274601352003,
          95.40888520634405,
          104.54778204113218,
          108.9259416587404,
          97.39143582121632,
          85.55891792931591,
          106.27895555975334,
          98.56543181568604,
          93.12488110775747,
          107.29211634108837,
          104.39592718461446,
          88.54238572015622,
          77.58886840288024,
          108.99389607217083,
          102.37057490072348,
          85.61961899069601,
          90.32341094061064,
          92.50353852003273,
          74.53700453764668,
          71.4486458543529,
          89.15937573840212,
          75.98943236193834,
          88.4963341931196,
          98.77849355819916,
          93.38296082346021,
          67.3974388551195,
          71.13260708745446,
          99.16472205696144,
          104.20188742783472,
          103.62857761743044,
          106.47000263410828,
          107.55387195421784,
          76.57871543574473,
          87.3848155181339,
          97.34422435111364,
          88.97064973412877,
          95.73039415641513,
          104.3357323248561,
          85.901849935652,
          91.2997316712383,
          84.21012648575409,
          102.46071963336782,
          100.77059015593971,
          105.86403818338482,
          79.05440555252612,
          79.86954878718575,
          68.75961833005759,
          77.18940265233906,
          100.15759883186598,
          86.8952712667159,
          101.18166777733998,
          105.49240994402437,
          97.48167999768623,
          79.82107472276144,
          78.78043060375354,
          92.78240689762107,
          88.1413015399378,
          94.11592382870299,
          107.1734740085091
         ],
         "yaxis": "y"
        },
        {
         "line": {
          "color": "gray",
          "dash": "dot"
         },
         "mode": "lines",
         "name": "Lower Confidence",
         "type": "scatter",
         "x": [
          "2024-03-01T00:00:00",
          "2024-03-02T00:00:00",
          "2024-03-03T00:00:00",
          "2024-03-04T00:00:00",
          "2024-03-05T00:00:00",
          "2024-03-06T00:00:00",
          "2024-03-07T00:00:00",
          "2024-03-08T00:00:00",
          "2024-03-09T00:00:00",
          "2024-03-10T00:00:00",
          "2024-03-11T00:00:00",
          "2024-03-12T00:00:00",
          "2024-03-13T00:00:00",
          "2024-03-14T00:00:00",
          "2024-03-15T00:00:00",
          "2024-03-16T00:00:00",
          "2024-03-17T00:00:00",
          "2024-03-18T00:00:00",
          "2024-03-19T00:00:00",
          "2024-03-20T00:00:00",
          "2024-03-21T00:00:00",
          "2024-03-22T00:00:00",
          "2024-03-23T00:00:00",
          "2024-03-24T00:00:00",
          "2024-03-25T00:00:00",
          "2024-03-26T00:00:00",
          "2024-03-27T00:00:00",
          "2024-03-28T00:00:00",
          "2024-03-29T00:00:00",
          "2024-03-30T00:00:00",
          "2024-03-31T00:00:00",
          "2024-04-01T00:00:00",
          "2024-04-02T00:00:00",
          "2024-04-03T00:00:00",
          "2024-04-04T00:00:00",
          "2024-04-05T00:00:00",
          "2024-04-06T00:00:00",
          "2024-04-07T00:00:00",
          "2024-04-08T00:00:00",
          "2024-04-09T00:00:00",
          "2024-04-10T00:00:00",
          "2024-04-11T00:00:00",
          "2024-04-12T00:00:00",
          "2024-04-13T00:00:00",
          "2024-04-14T00:00:00",
          "2024-04-15T00:00:00",
          "2024-04-16T00:00:00",
          "2024-04-17T00:00:00",
          "2024-04-18T00:00:00",
          "2024-04-19T00:00:00",
          "2024-04-20T00:00:00",
          "2024-04-21T00:00:00",
          "2024-04-22T00:00:00",
          "2024-04-23T00:00:00",
          "2024-04-24T00:00:00",
          "2024-04-25T00:00:00",
          "2024-04-26T00:00:00",
          "2024-04-27T00:00:00",
          "2024-04-28T00:00:00",
          "2024-04-29T00:00:00",
          "2024-04-30T00:00:00",
          "2024-05-01T00:00:00",
          "2024-05-02T00:00:00",
          "2024-05-03T00:00:00",
          "2024-05-04T00:00:00",
          "2024-05-05T00:00:00",
          "2024-05-06T00:00:00",
          "2024-05-07T00:00:00",
          "2024-05-08T00:00:00",
          "2024-05-09T00:00:00",
          "2024-05-10T00:00:00",
          "2024-05-11T00:00:00",
          "2024-05-12T00:00:00",
          "2024-05-13T00:00:00",
          "2024-05-14T00:00:00",
          "2024-05-15T00:00:00",
          "2024-05-16T00:00:00",
          "2024-05-17T00:00:00",
          "2024-05-18T00:00:00",
          "2024-05-19T00:00:00",
          "2024-05-20T00:00:00",
          "2024-05-21T00:00:00",
          "2024-05-22T00:00:00",
          "2024-05-23T00:00:00",
          "2024-05-24T00:00:00",
          "2024-05-25T00:00:00",
          "2024-05-26T00:00:00",
          "2024-05-27T00:00:00",
          "2024-05-28T00:00:00",
          "2024-05-29T00:00:00",
          "2024-05-30T00:00:00",
          "2024-05-31T00:00:00",
          "2024-06-01T00:00:00",
          "2024-06-02T00:00:00",
          "2024-06-03T00:00:00",
          "2024-06-04T00:00:00",
          "2024-06-05T00:00:00",
          "2024-06-06T00:00:00",
          "2024-06-07T00:00:00",
          "2024-06-08T00:00:00",
          "2024-06-09T00:00:00",
          "2024-06-10T00:00:00",
          "2024-06-11T00:00:00",
          "2024-06-12T00:00:00",
          "2024-06-13T00:00:00",
          "2024-06-14T00:00:00",
          "2024-06-15T00:00:00",
          "2024-06-16T00:00:00",
          "2024-06-17T00:00:00",
          "2024-06-18T00:00:00",
          "2024-06-19T00:00:00",
          "2024-06-20T00:00:00",
          "2024-06-21T00:00:00",
          "2024-06-22T00:00:00",
          "2024-06-23T00:00:00",
          "2024-06-24T00:00:00",
          "2024-06-25T00:00:00",
          "2024-06-26T00:00:00",
          "2024-06-27T00:00:00",
          "2024-06-28T00:00:00",
          "2024-06-29T00:00:00",
          "2024-06-30T00:00:00",
          "2024-07-01T00:00:00",
          "2024-07-02T00:00:00",
          "2024-07-03T00:00:00",
          "2024-07-04T00:00:00",
          "2024-07-05T00:00:00",
          "2024-07-06T00:00:00",
          "2024-07-07T00:00:00",
          "2024-07-08T00:00:00",
          "2024-07-09T00:00:00",
          "2024-07-10T00:00:00",
          "2024-07-11T00:00:00",
          "2024-07-12T00:00:00",
          "2024-07-13T00:00:00",
          "2024-07-14T00:00:00",
          "2024-07-15T00:00:00",
          "2024-07-16T00:00:00",
          "2024-07-17T00:00:00",
          "2024-07-18T00:00:00"
         ],
         "xaxis": "x",
         "y": [
          82.43251333177173,
          66.85032345018172,
          60.26414657721319,
          95.91540807224354,
          94.9038026114841,
          98.76996950108379,
          81.78763585540358,
          55.11194427126086,
          46.74434410815227,
          40.90120132658408,
          70.74616817310863,
          95.30709416022177,
          88.27228901413989,
          78.9543907443664,
          63.11286286668958,
          53.88524206531741,
          72.86158369358265,
          92.68398299276852,
          92.89499524171356,
          97.0218711842397,
          81.24030459883937,
          72.83114690550879,
          55.07561908145765,
          34.015547873463824,
          77.35945033649558,
          70.41973087828836,
          84.12719174701733,
          61.66997479753907,
          61.10251533478215,
          75.42978516577173,
          71.49998066329181,
          53.78602603648919,
          41.79935357686557,
          76.95346036784704,
          56.77686906001394,
          55.69533996489153,
          56.103010618039974,
          55.427422782292034,
          86.564637234399,
          65.81913026271371,
          76.57128270781914,
          77.6431726515503,
          78.68319900348644,
          65.15433273623887,
          52.88713372862747,
          73.05855332246556,
          69.00456418427676,
          100.8264639434214,
          96.93111633037734,
          63.16466448711767,
          69.61169610680898,
          69.06638840768905,
          91.7456522820298,
          92.49736692355046,
          87.89107401807362,
          93.05997731821437,
          86.15795178444526,
          68.29303563258658,
          50.49379638250202,
          80.52347114904565,
          75.97151955430992,
          43.789262460574555,
          59.97070168550486,
          79.5199733100823,
          87.45770046819919,
          66.1961512636026,
          99.0340439268792,
          98.21215900458493,
          93.43531120561248,
          75.89849778830596,
          80.26304845163723,
          70.01450060985754,
          52.34207978877558,
          63.69755798423158,
          53.50359429926018,
          62.00047483960952,
          66.34795664197041,
          70.40449721730023,
          78.60812261102525,
          75.95708293495713,
          74.32406279588376,
          77.75225577031273,
          88.34923468134706,
          97.36928525216838,
          101.23225036327642,
          90.28764076908874,
          78.01664314167421,
          98.86160908636438,
          91.14436541306576,
          85.59609274618215,
          100.59432785791917,
          96.7966346206499,
          81.49967990648487,
          70.74120524269102,
          101.6856405111903,
          95.1179447755427,
          78.32154607587036,
          83.33308486367288,
          84.98395962033558,
          67.02444027464807,
          64.45860759071303,
          82.31971642600955,
          68.91240882429489,
          80.77296495041581,
          91.82137544952826,
          86.30774038811849,
          59.79650631450116,
          63.96031418881363,
          91.73229482683999,
          97.47810751359498,
          96.38930504065341,
          98.61161071271366,
          100.51551845472301,
          69.20349510849776,
          80.26612797262301,
          89.63836350365666,
          81.52518608543471,
          88.57424388843371,
          96.78640559069598,
          78.69190943013136,
          83.80072973863854,
          77.0256111734331,
          94.65135801885329,
          93.00583719183362,
          98.67543540740672,
          71.52057315475665,
          72.50264680516094,
          61.516240307579416,
          69.31491948654684,
          92.49017627456348,
          79.18717968678585,
          93.85329728183687,
          98.01319330755268,
          89.69813436110257,
          72.19128103031947,
          71.29181461296868,
          85.43292635867243,
          80.89165610937884,
          87.04670520305238,
          99.51841320974746
         ],
         "yaxis": "y"
        },
        {
         "fill": "tonexty",
         "line": {
          "color": "gray",
          "dash": "dot"
         },
         "mode": "lines",
         "name": "Upper Confidence",
         "type": "scatter",
         "x": [
          "2024-03-01T00:00:00",
          "2024-03-02T00:00:00",
          "2024-03-03T00:00:00",
          "2024-03-04T00:00:00",
          "2024-03-05T00:00:00",
          "2024-03-06T00:00:00",
          "2024-03-07T00:00:00",
          "2024-03-08T00:00:00",
          "2024-03-09T00:00:00",
          "2024-03-10T00:00:00",
          "2024-03-11T00:00:00",
          "2024-03-12T00:00:00",
          "2024-03-13T00:00:00",
          "2024-03-14T00:00:00",
          "2024-03-15T00:00:00",
          "2024-03-16T00:00:00",
          "2024-03-17T00:00:00",
          "2024-03-18T00:00:00",
          "2024-03-19T00:00:00",
          "2024-03-20T00:00:00",
          "2024-03-21T00:00:00",
          "2024-03-22T00:00:00",
          "2024-03-23T00:00:00",
          "2024-03-24T00:00:00",
          "2024-03-25T00:00:00",
          "2024-03-26T00:00:00",
          "2024-03-27T00:00:00",
          "2024-03-28T00:00:00",
          "2024-03-29T00:00:00",
          "2024-03-30T00:00:00",
          "2024-03-31T00:00:00",
          "2024-04-01T00:00:00",
          "2024-04-02T00:00:00",
          "2024-04-03T00:00:00",
          "2024-04-04T00:00:00",
          "2024-04-05T00:00:00",
          "2024-04-06T00:00:00",
          "2024-04-07T00:00:00",
          "2024-04-08T00:00:00",
          "2024-04-09T00:00:00",
          "2024-04-10T00:00:00",
          "2024-04-11T00:00:00",
          "2024-04-12T00:00:00",
          "2024-04-13T00:00:00",
          "2024-04-14T00:00:00",
          "2024-04-15T00:00:00",
          "2024-04-16T00:00:00",
          "2024-04-17T00:00:00",
          "2024-04-18T00:00:00",
          "2024-04-19T00:00:00",
          "2024-04-20T00:00:00",
          "2024-04-21T00:00:00",
          "2024-04-22T00:00:00",
          "2024-04-23T00:00:00",
          "2024-04-24T00:00:00",
          "2024-04-25T00:00:00",
          "2024-04-26T00:00:00",
          "2024-04-27T00:00:00",
          "2024-04-28T00:00:00",
          "2024-04-29T00:00:00",
          "2024-04-30T00:00:00",
          "2024-05-01T00:00:00",
          "2024-05-02T00:00:00",
          "2024-05-03T00:00:00",
          "2024-05-04T00:00:00",
          "2024-05-05T00:00:00",
          "2024-05-06T00:00:00",
          "2024-05-07T00:00:00",
          "2024-05-08T00:00:00",
          "2024-05-09T00:00:00",
          "2024-05-10T00:00:00",
          "2024-05-11T00:00:00",
          "2024-05-12T00:00:00",
          "2024-05-13T00:00:00",
          "2024-05-14T00:00:00",
          "2024-05-15T00:00:00",
          "2024-05-16T00:00:00",
          "2024-05-17T00:00:00",
          "2024-05-18T00:00:00",
          "2024-05-19T00:00:00",
          "2024-05-20T00:00:00",
          "2024-05-21T00:00:00",
          "2024-05-22T00:00:00",
          "2024-05-23T00:00:00",
          "2024-05-24T00:00:00",
          "2024-05-25T00:00:00",
          "2024-05-26T00:00:00",
          "2024-05-27T00:00:00",
          "2024-05-28T00:00:00",
          "2024-05-29T00:00:00",
          "2024-05-30T00:00:00",
          "2024-05-31T00:00:00",
          "2024-06-01T00:00:00",
          "2024-06-02T00:00:00",
          "2024-06-03T00:00:00",
          "2024-06-04T00:00:00",
          "2024-06-05T00:00:00",
          "2024-06-06T00:00:00",
          "2024-06-07T00:00:00",
          "2024-06-08T00:00:00",
          "2024-06-09T00:00:00",
          "2024-06-10T00:00:00",
          "2024-06-11T00:00:00",
          "2024-06-12T00:00:00",
          "2024-06-13T00:00:00",
          "2024-06-14T00:00:00",
          "2024-06-15T00:00:00",
          "2024-06-16T00:00:00",
          "2024-06-17T00:00:00",
          "2024-06-18T00:00:00",
          "2024-06-19T00:00:00",
          "2024-06-20T00:00:00",
          "2024-06-21T00:00:00",
          "2024-06-22T00:00:00",
          "2024-06-23T00:00:00",
          "2024-06-24T00:00:00",
          "2024-06-25T00:00:00",
          "2024-06-26T00:00:00",
          "2024-06-27T00:00:00",
          "2024-06-28T00:00:00",
          "2024-06-29T00:00:00",
          "2024-06-30T00:00:00",
          "2024-07-01T00:00:00",
          "2024-07-02T00:00:00",
          "2024-07-03T00:00:00",
          "2024-07-04T00:00:00",
          "2024-07-05T00:00:00",
          "2024-07-06T00:00:00",
          "2024-07-07T00:00:00",
          "2024-07-08T00:00:00",
          "2024-07-09T00:00:00",
          "2024-07-10T00:00:00",
          "2024-07-11T00:00:00",
          "2024-07-12T00:00:00",
          "2024-07-13T00:00:00",
          "2024-07-14T00:00:00",
          "2024-07-15T00:00:00",
          "2024-07-16T00:00:00",
          "2024-07-17T00:00:00",
          "2024-07-18T00:00:00"
         ],
         "xaxis": "x",
         "y": [
          97.26478870301472,
          81.75450486694173,
          75.12353840618844,
          110.12709447625664,
          109.79588439519067,
          113.09000445999038,
          96.88139285546565,
          69.64190516578662,
          61.31027348407138,
          55.341720009781234,
          85.79298319850788,
          109.86563346890553,
          102.87444574550825,
          93.13777573730358,
          77.28580536621419,
          68.34828395715938,
          88.00371554530852,
          107.74850987783238,
          107.76360040435075,
          111.44398716087636,
          95.56521443241003,
          87.52596850057681,
          69.6129934921575,
          48.5418406154515,
          92.07349480498357,
          84.81463316385455,
          98.46522631409724,
          76.45994124644216,
          75.27228212048504,
          90.06435345274117,
          86.28794641746173,
          68.8518045452832,
          55.9405330643431,
          91.78473058892394,
          71.79712062267077,
          70.15571929200168,
          70.42550992898889,
          70.6810389158434,
          101.4642980998389,
          80.12568815091939,
          91.80057133111504,
          92.35798348432063,
          92.63894180464467,
          79.69307302182068,
          67.38824206179653,
          87.7220175377429,
          83.90219270594923,
          114.86889028579823,
          111.73448388952116,
          77.15218421841162,
          84.38896956219692,
          83.36035724550261,
          106.78046953955352,
          106.4748605596256,
          101.99001456342693,
          107.84397000348575,
          101.5998986893531,
          83.18172843078891,
          64.60862349447153,
          94.78803019364479,
          90.86766213017064,
          58.425930722189,
          74.98425123216826,
          93.62003155851835,
          101.99817827556235,
          80.21541805784067,
          113.37624817054075,
          113.01504470475433,
          107.84781138688044,
          91.08664633585366,
          95.24033939202505,
          84.73474261005381,
          66.67652641439868,
          77.49439897836847,
          67.73591837773782,
          77.39369784764811,
          80.86999033144176,
          85.65512466635437,
          92.98239842639254,
          91.00065358821452,
          88.9828149064511,
          92.10102738941868,
          102.61231566305531,
          112.4312014527365,
          116.3392019216462,
          105.13266889866915,
          92.94419644768085,
          113.98659183817284,
          105.75036694445237,
          100.56909730444931,
          115.02387223102053,
          111.8250774480646,
          95.66745083950495,
          84.67530782121105,
          116.09983140801084,
          109.34664673035088,
          93.2568120240327,
          97.3626867972713,
          99.26114797545884,
          80.80996353631036,
          79.44366242879727,
          96.55778024233327,
          82.99112815093619,
          95.40086288107567,
          106.6805672842383,
          100.47364996876028,
          74.83625643753486,
          78.74299766386767,
          107.11977542589507,
          111.30729028531279,
          110.71131443656904,
          114.22433762702512,
          114.92530646535539,
          83.52690799520082,
          94.69987005857908,
          104.66878703727261,
          95.99014107220744,
          102.63332020735226,
          111.66975123958942,
          93.27397512970263,
          99.05189435566675,
          91.49738195652036,
          109.62045548010366,
          107.86388898509104,
          113.43728042850118,
          85.90342013756705,
          87.59699890966684,
          76.05528097145512,
          84.29760848600334,
          107.61275951541553,
          93.77924689025502,
          108.44202893143044,
          112.76826791898814,
          104.44496969096923,
          87.10163825751854,
          86.4282149179244,
          99.88293627483931,
          95.81538457050452,
          101.49099727550998,
          114.91231790032369
         ],
         "yaxis": "y"
        },
        {
         "marker": {
          "color": "black",
          "size": 3
         },
         "mode": "markers",
         "name": "Actual",
         "type": "scatter",
         "x": [
          "2024-03-01T00:00:00",
          "2024-03-02T00:00:00",
          "2024-03-03T00:00:00",
          "2024-03-04T00:00:00",
          "2024-03-05T00:00:00",
          "2024-03-06T00:00:00",
          "2024-03-07T00:00:00",
          "2024-03-08T00:00:00",
          "2024-03-09T00:00:00",
          "2024-03-10T00:00:00",
          "2024-03-11T00:00:00",
          "2024-03-12T00:00:00",
          "2024-03-13T00:00:00",
          "2024-03-14T00:00:00",
          "2024-03-15T00:00:00",
          "2024-03-16T00:00:00",
          "2024-03-17T00:00:00",
          "2024-03-18T00:00:00",
          "2024-03-19T00:00:00",
          "2024-03-20T00:00:00",
          "2024-03-21T00:00:00",
          "2024-03-22T00:00:00",
          "2024-03-23T00:00:00",
          "2024-03-24T00:00:00",
          "2024-03-25T00:00:00",
          "2024-03-26T00:00:00",
          "2024-03-27T00:00:00",
          "2024-03-28T00:00:00",
          "2024-03-29T00:00:00",
          "2024-03-30T00:00:00",
          "2024-03-31T00:00:00",
          "2024-04-01T00:00:00",
          "2024-04-02T00:00:00",
          "2024-04-03T00:00:00",
          "2024-04-04T00:00:00",
          "2024-04-05T00:00:00",
          "2024-04-06T00:00:00",
          "2024-04-07T00:00:00",
          "2024-04-08T00:00:00",
          "2024-04-09T00:00:00",
          "2024-04-10T00:00:00",
          "2024-04-11T00:00:00",
          "2024-04-12T00:00:00",
          "2024-04-13T00:00:00",
          "2024-04-14T00:00:00",
          "2024-04-15T00:00:00",
          "2024-04-16T00:00:00",
          "2024-04-17T00:00:00",
          "2024-04-18T00:00:00",
          "2024-04-19T00:00:00",
          "2024-04-20T00:00:00",
          "2024-04-21T00:00:00",
          "2024-04-22T00:00:00",
          "2024-04-23T00:00:00",
          "2024-04-24T00:00:00",
          "2024-04-25T00:00:00",
          "2024-04-26T00:00:00",
          "2024-04-27T00:00:00",
          "2024-04-28T00:00:00",
          "2024-04-29T00:00:00",
          "2024-04-30T00:00:00",
          "2024-05-01T00:00:00",
          "2024-05-02T00:00:00",
          "2024-05-03T00:00:00",
          "2024-05-04T00:00:00",
          "2024-05-05T00:00:00",
          "2024-05-06T00:00:00",
          "2024-05-07T00:00:00",
          "2024-05-08T00:00:00",
          "2024-05-09T00:00:00",
          "2024-05-10T00:00:00",
          "2024-05-11T00:00:00",
          "2024-05-12T00:00:00",
          "2024-05-13T00:00:00",
          "2024-05-14T00:00:00",
          "2024-05-15T00:00:00",
          "2024-05-16T00:00:00",
          "2024-05-17T00:00:00",
          "2024-05-18T00:00:00",
          "2024-05-19T00:00:00",
          "2024-05-20T00:00:00",
          "2024-05-21T00:00:00",
          "2024-05-22T00:00:00",
          "2024-05-23T00:00:00",
          "2024-05-24T00:00:00",
          "2024-05-25T00:00:00",
          "2024-05-26T00:00:00",
          "2024-05-27T00:00:00",
          "2024-05-28T00:00:00",
          "2024-05-29T00:00:00",
          "2024-05-30T00:00:00",
          "2024-05-31T00:00:00",
          "2024-06-01T00:00:00",
          "2024-06-02T00:00:00",
          "2024-06-03T00:00:00",
          "2024-06-04T00:00:00",
          "2024-06-05T00:00:00",
          "2024-06-06T00:00:00",
          "2024-06-07T00:00:00",
          "2024-06-08T00:00:00",
          "2024-06-09T00:00:00",
          "2024-06-10T00:00:00",
          "2024-06-11T00:00:00",
          "2024-06-12T00:00:00",
          "2024-06-13T00:00:00",
          "2024-06-14T00:00:00",
          "2024-06-15T00:00:00",
          "2024-06-16T00:00:00",
          "2024-06-17T00:00:00",
          "2024-06-18T00:00:00",
          "2024-06-19T00:00:00",
          "2024-06-20T00:00:00",
          "2024-06-21T00:00:00",
          "2024-06-22T00:00:00",
          "2024-06-23T00:00:00",
          "2024-06-24T00:00:00",
          "2024-06-25T00:00:00",
          "2024-06-26T00:00:00",
          "2024-06-27T00:00:00",
          "2024-06-28T00:00:00",
          "2024-06-29T00:00:00",
          "2024-06-30T00:00:00",
          "2024-07-01T00:00:00",
          "2024-07-02T00:00:00",
          "2024-07-03T00:00:00",
          "2024-07-04T00:00:00",
          "2024-07-05T00:00:00",
          "2024-07-06T00:00:00",
          "2024-07-07T00:00:00",
          "2024-07-08T00:00:00",
          "2024-07-09T00:00:00",
          "2024-07-10T00:00:00",
          "2024-07-11T00:00:00",
          "2024-07-12T00:00:00",
          "2024-07-13T00:00:00",
          "2024-07-14T00:00:00",
          "2024-07-15T00:00:00",
          "2024-07-16T00:00:00",
          "2024-07-17T00:00:00",
          "2024-07-18T00:00:00"
         ],
         "xaxis": "x",
         "y": [
          70.93,
          63.99,
          61.08,
          75.59,
          74.98,
          82.93,
          76.12,
          61.83,
          45.28,
          34.01,
          72.52,
          86.25,
          72.43,
          66.44,
          55.72,
          51.23,
          61.78,
          81.58,
          81.74,
          91.35,
          80.56,
          69.43,
          35.68,
          27.14,
          85.28,
          65.25,
          77.16,
          48.91,
          39.79,
          53.52,
          54.1,
          32.15,
          39.05,
          85.73,
          65.16,
          45.18,
          26.53,
          26.2,
          85.13,
          53.04,
          74.54,
          59.12,
          59.36,
          9.32,
          23.5,
          63.48,
          63.16,
          102.49,
          94.1,
          57.99,
          59.66,
          55.34,
          99.28,
          97.12,
          94.46,
          90.23,
          87.5,
          58.97,
          13.85,
          81.52,
          68.61,
          0.37,
          40.4,
          80.21,
          75.01,
          53.62,
          93.11,
          93.2,
          92.28,
          61.92,
          76.57,
          50.69,
          -1.02,
          48.05,
          26.47,
          44.43,
          50.97,
          68.95,
          57.83,
          52.25,
          64.32,
          78.92,
          86.73,
          95.52,
          101.75,
          73.05,
          55.75,
          108.33,
          88.31,
          81.96,
          96.63,
          89.24,
          54.34,
          28.07,
          118.14,
          102.81,
          85.16,
          86.95,
          82.78,
          43.86,
          27.58,
          91.46,
          64.01,
          91.94,
          93.21,
          76.19,
          4.88,
          25.91,
          96.16,
          96.37,
          83.19,
          94.93,
          95.42,
          53.03,
          51.24,
          91.05,
          90.66,
          103,
          92.18,
          64.22,
          66.86,
          45.75,
          91.15,
          84.51,
          86.9,
          25.41,
          41.5,
          0.69,
          28.25,
          90.22,
          73.88,
          81.76,
          91.85,
          86.91,
          30.81,
          24.11,
          77.45,
          51.14,
          76.79,
          90.75
         ],
         "yaxis": "y"
        }
       ],
       "layout": {
        "legend": {
         "bordercolor": "Black",
         "borderwidth": 1,
         "x": 0.01,
         "y": 0.99
        },
        "template": {
         "data": {
          "bar": [
           {
            "error_x": {
             "color": "#2a3f5f"
            },
            "error_y": {
             "color": "#2a3f5f"
            },
            "marker": {
             "line": {
              "color": "#E5ECF6",
              "width": 0.5
             },
             "pattern": {
              "fillmode": "overlay",
              "size": 10,
              "solidity": 0.2
             }
            },
            "type": "bar"
           }
          ],
          "barpolar": [
           {
            "marker": {
             "line": {
              "color": "#E5ECF6",
              "width": 0.5
             },
             "pattern": {
              "fillmode": "overlay",
              "size": 10,
              "solidity": 0.2
             }
            },
            "type": "barpolar"
           }
          ],
          "carpet": [
           {
            "aaxis": {
             "endlinecolor": "#2a3f5f",
             "gridcolor": "white",
             "linecolor": "white",
             "minorgridcolor": "white",
             "startlinecolor": "#2a3f5f"
            },
            "baxis": {
             "endlinecolor": "#2a3f5f",
             "gridcolor": "white",
             "linecolor": "white",
             "minorgridcolor": "white",
             "startlinecolor": "#2a3f5f"
            },
            "type": "carpet"
           }
          ],
          "choropleth": [
           {
            "colorbar": {
             "outlinewidth": 0,
             "ticks": ""
            },
            "type": "choropleth"
           }
          ],
          "contour": [
           {
            "colorbar": {
             "outlinewidth": 0,
             "ticks": ""
            },
            "colorscale": [
             [
              0,
              "#0d0887"
             ],
             [
              0.1111111111111111,
              "#46039f"
             ],
             [
              0.2222222222222222,
              "#7201a8"
             ],
             [
              0.3333333333333333,
              "#9c179e"
             ],
             [
              0.4444444444444444,
              "#bd3786"
             ],
             [
              0.5555555555555556,
              "#d8576b"
             ],
             [
              0.6666666666666666,
              "#ed7953"
             ],
             [
              0.7777777777777778,
              "#fb9f3a"
             ],
             [
              0.8888888888888888,
              "#fdca26"
             ],
             [
              1,
              "#f0f921"
             ]
            ],
            "type": "contour"
           }
          ],
          "contourcarpet": [
           {
            "colorbar": {
             "outlinewidth": 0,
             "ticks": ""
            },
            "type": "contourcarpet"
           }
          ],
          "heatmap": [
           {
            "colorbar": {
             "outlinewidth": 0,
             "ticks": ""
            },
            "colorscale": [
             [
              0,
              "#0d0887"
             ],
             [
              0.1111111111111111,
              "#46039f"
             ],
             [
              0.2222222222222222,
              "#7201a8"
             ],
             [
              0.3333333333333333,
              "#9c179e"
             ],
             [
              0.4444444444444444,
              "#bd3786"
             ],
             [
              0.5555555555555556,
              "#d8576b"
             ],
             [
              0.6666666666666666,
              "#ed7953"
             ],
             [
              0.7777777777777778,
              "#fb9f3a"
             ],
             [
              0.8888888888888888,
              "#fdca26"
             ],
             [
              1,
              "#f0f921"
             ]
            ],
            "type": "heatmap"
           }
          ],
          "heatmapgl": [
           {
            "colorbar": {
             "outlinewidth": 0,
             "ticks": ""
            },
            "colorscale": [
             [
              0,
              "#0d0887"
             ],
             [
              0.1111111111111111,
              "#46039f"
             ],
             [
              0.2222222222222222,
              "#7201a8"
             ],
             [
              0.3333333333333333,
              "#9c179e"
             ],
             [
              0.4444444444444444,
              "#bd3786"
             ],
             [
              0.5555555555555556,
              "#d8576b"
             ],
             [
              0.6666666666666666,
              "#ed7953"
             ],
             [
              0.7777777777777778,
              "#fb9f3a"
             ],
             [
              0.8888888888888888,
              "#fdca26"
             ],
             [
              1,
              "#f0f921"
             ]
            ],
            "type": "heatmapgl"
           }
          ],
          "histogram": [
           {
            "marker": {
             "pattern": {
              "fillmode": "overlay",
              "size": 10,
              "solidity": 0.2
             }
            },
            "type": "histogram"
           }
          ],
          "histogram2d": [
           {
            "colorbar": {
             "outlinewidth": 0,
             "ticks": ""
            },
            "colorscale": [
             [
              0,
              "#0d0887"
             ],
             [
              0.1111111111111111,
              "#46039f"
             ],
             [
              0.2222222222222222,
              "#7201a8"
             ],
             [
              0.3333333333333333,
              "#9c179e"
             ],
             [
              0.4444444444444444,
              "#bd3786"
             ],
             [
              0.5555555555555556,
              "#d8576b"
             ],
             [
              0.6666666666666666,
              "#ed7953"
             ],
             [
              0.7777777777777778,
              "#fb9f3a"
             ],
             [
              0.8888888888888888,
              "#fdca26"
             ],
             [
              1,
              "#f0f921"
             ]
            ],
            "type": "histogram2d"
           }
          ],
          "histogram2dcontour": [
           {
            "colorbar": {
             "outlinewidth": 0,
             "ticks": ""
            },
            "colorscale": [
             [
              0,
              "#0d0887"
             ],
             [
              0.1111111111111111,
              "#46039f"
             ],
             [
              0.2222222222222222,
              "#7201a8"
             ],
             [
              0.3333333333333333,
              "#9c179e"
             ],
             [
              0.4444444444444444,
              "#bd3786"
             ],
             [
              0.5555555555555556,
              "#d8576b"
             ],
             [
              0.6666666666666666,
              "#ed7953"
             ],
             [
              0.7777777777777778,
              "#fb9f3a"
             ],
             [
              0.8888888888888888,
              "#fdca26"
             ],
             [
              1,
              "#f0f921"
             ]
            ],
            "type": "histogram2dcontour"
           }
          ],
          "mesh3d": [
           {
            "colorbar": {
             "outlinewidth": 0,
             "ticks": ""
            },
            "type": "mesh3d"
           }
          ],
          "parcoords": [
           {
            "line": {
             "colorbar": {
              "outlinewidth": 0,
              "ticks": ""
             }
            },
            "type": "parcoords"
           }
          ],
          "pie": [
           {
            "automargin": true,
            "type": "pie"
           }
          ],
          "scatter": [
           {
            "fillpattern": {
             "fillmode": "overlay",
             "size": 10,
             "solidity": 0.2
            },
            "type": "scatter"
           }
          ],
          "scatter3d": [
           {
            "line": {
             "colorbar": {
              "outlinewidth": 0,
              "ticks": ""
             }
            },
            "marker": {
             "colorbar": {
              "outlinewidth": 0,
              "ticks": ""
             }
            },
            "type": "scatter3d"
           }
          ],
          "scattercarpet": [
           {
            "marker": {
             "colorbar": {
              "outlinewidth": 0,
              "ticks": ""
             }
            },
            "type": "scattercarpet"
           }
          ],
          "scattergeo": [
           {
            "marker": {
             "colorbar": {
              "outlinewidth": 0,
              "ticks": ""
             }
            },
            "type": "scattergeo"
           }
          ],
          "scattergl": [
           {
            "marker": {
             "colorbar": {
              "outlinewidth": 0,
              "ticks": ""
             }
            },
            "type": "scattergl"
           }
          ],
          "scattermapbox": [
           {
            "marker": {
             "colorbar": {
              "outlinewidth": 0,
              "ticks": ""
             }
            },
            "type": "scattermapbox"
           }
          ],
          "scatterpolar": [
           {
            "marker": {
             "colorbar": {
              "outlinewidth": 0,
              "ticks": ""
             }
            },
            "type": "scatterpolar"
           }
          ],
          "scatterpolargl": [
           {
            "marker": {
             "colorbar": {
              "outlinewidth": 0,
              "ticks": ""
             }
            },
            "type": "scatterpolargl"
           }
          ],
          "scatterternary": [
           {
            "marker": {
             "colorbar": {
              "outlinewidth": 0,
              "ticks": ""
             }
            },
            "type": "scatterternary"
           }
          ],
          "surface": [
           {
            "colorbar": {
             "outlinewidth": 0,
             "ticks": ""
            },
            "colorscale": [
             [
              0,
              "#0d0887"
             ],
             [
              0.1111111111111111,
              "#46039f"
             ],
             [
              0.2222222222222222,
              "#7201a8"
             ],
             [
              0.3333333333333333,
              "#9c179e"
             ],
             [
              0.4444444444444444,
              "#bd3786"
             ],
             [
              0.5555555555555556,
              "#d8576b"
             ],
             [
              0.6666666666666666,
              "#ed7953"
             ],
             [
              0.7777777777777778,
              "#fb9f3a"
             ],
             [
              0.8888888888888888,
              "#fdca26"
             ],
             [
              1,
              "#f0f921"
             ]
            ],
            "type": "surface"
           }
          ],
          "table": [
           {
            "cells": {
             "fill": {
              "color": "#EBF0F8"
             },
             "line": {
              "color": "white"
             }
            },
            "header": {
             "fill": {
              "color": "#C8D4E3"
             },
             "line": {
              "color": "white"
             }
            },
            "type": "table"
           }
          ]
         },
         "layout": {
          "annotationdefaults": {
           "arrowcolor": "#2a3f5f",
           "arrowhead": 0,
           "arrowwidth": 1
          },
          "autotypenumbers": "strict",
          "coloraxis": {
           "colorbar": {
            "outlinewidth": 0,
            "ticks": ""
           }
          },
          "colorscale": {
           "diverging": [
            [
             0,
             "#8e0152"
            ],
            [
             0.1,
             "#c51b7d"
            ],
            [
             0.2,
             "#de77ae"
            ],
            [
             0.3,
             "#f1b6da"
            ],
            [
             0.4,
             "#fde0ef"
            ],
            [
             0.5,
             "#f7f7f7"
            ],
            [
             0.6,
             "#e6f5d0"
            ],
            [
             0.7,
             "#b8e186"
            ],
            [
             0.8,
             "#7fbc41"
            ],
            [
             0.9,
             "#4d9221"
            ],
            [
             1,
             "#276419"
            ]
           ],
           "sequential": [
            [
             0,
             "#0d0887"
            ],
            [
             0.1111111111111111,
             "#46039f"
            ],
            [
             0.2222222222222222,
             "#7201a8"
            ],
            [
             0.3333333333333333,
             "#9c179e"
            ],
            [
             0.4444444444444444,
             "#bd3786"
            ],
            [
             0.5555555555555556,
             "#d8576b"
            ],
            [
             0.6666666666666666,
             "#ed7953"
            ],
            [
             0.7777777777777778,
             "#fb9f3a"
            ],
            [
             0.8888888888888888,
             "#fdca26"
            ],
            [
             1,
             "#f0f921"
            ]
           ],
           "sequentialminus": [
            [
             0,
             "#0d0887"
            ],
            [
             0.1111111111111111,
             "#46039f"
            ],
            [
             0.2222222222222222,
             "#7201a8"
            ],
            [
             0.3333333333333333,
             "#9c179e"
            ],
            [
             0.4444444444444444,
             "#bd3786"
            ],
            [
             0.5555555555555556,
             "#d8576b"
            ],
            [
             0.6666666666666666,
             "#ed7953"
            ],
            [
             0.7777777777777778,
             "#fb9f3a"
            ],
            [
             0.8888888888888888,
             "#fdca26"
            ],
            [
             1,
             "#f0f921"
            ]
           ]
          },
          "colorway": [
           "#636efa",
           "#EF553B",
           "#00cc96",
           "#ab63fa",
           "#FFA15A",
           "#19d3f3",
           "#FF6692",
           "#B6E880",
           "#FF97FF",
           "#FECB52"
          ],
          "font": {
           "color": "#2a3f5f"
          },
          "geo": {
           "bgcolor": "white",
           "lakecolor": "white",
           "landcolor": "#E5ECF6",
           "showlakes": true,
           "showland": true,
           "subunitcolor": "white"
          },
          "hoverlabel": {
           "align": "left"
          },
          "hovermode": "closest",
          "mapbox": {
           "style": "light"
          },
          "paper_bgcolor": "white",
          "plot_bgcolor": "#E5ECF6",
          "polar": {
           "angularaxis": {
            "gridcolor": "white",
            "linecolor": "white",
            "ticks": ""
           },
           "bgcolor": "#E5ECF6",
           "radialaxis": {
            "gridcolor": "white",
            "linecolor": "white",
            "ticks": ""
           }
          },
          "scene": {
           "xaxis": {
            "backgroundcolor": "#E5ECF6",
            "gridcolor": "white",
            "gridwidth": 2,
            "linecolor": "white",
            "showbackground": true,
            "ticks": "",
            "zerolinecolor": "white"
           },
           "yaxis": {
            "backgroundcolor": "#E5ECF6",
            "gridcolor": "white",
            "gridwidth": 2,
            "linecolor": "white",
            "showbackground": true,
            "ticks": "",
            "zerolinecolor": "white"
           },
           "zaxis": {
            "backgroundcolor": "#E5ECF6",
            "gridcolor": "white",
            "gridwidth": 2,
            "linecolor": "white",
            "showbackground": true,
            "ticks": "",
            "zerolinecolor": "white"
           }
          },
          "shapedefaults": {
           "line": {
            "color": "#2a3f5f"
           }
          },
          "ternary": {
           "aaxis": {
            "gridcolor": "white",
            "linecolor": "white",
            "ticks": ""
           },
           "baxis": {
            "gridcolor": "white",
            "linecolor": "white",
            "ticks": ""
           },
           "bgcolor": "#E5ECF6",
           "caxis": {
            "gridcolor": "white",
            "linecolor": "white",
            "ticks": ""
           }
          },
          "title": {
           "x": 0.05
          },
          "xaxis": {
           "automargin": true,
           "gridcolor": "white",
           "linecolor": "white",
           "ticks": "",
           "title": {
            "standoff": 15
           },
           "zerolinecolor": "white",
           "zerolinewidth": 2
          },
          "yaxis": {
           "automargin": true,
           "gridcolor": "white",
           "linecolor": "white",
           "ticks": "",
           "title": {
            "standoff": 15
           },
           "zerolinecolor": "white",
           "zerolinewidth": 2
          }
         }
        },
        "title": {
         "text": "Forecast vs Actuals for Validation Period"
        },
        "xaxis": {
         "anchor": "y",
         "domain": [
          0,
          0.94
         ],
         "title": {
          "text": "Date"
         }
        },
        "yaxis": {
         "anchor": "x",
         "domain": [
          0,
          1
         ],
         "title": {
          "text": "Day-Ahead Energy Price (EUR/MWh)"
         }
        },
        "yaxis2": {
         "anchor": "x",
         "overlaying": "y",
         "side": "right"
        }
       }
      }
     },
     "metadata": {},
     "output_type": "display_data"
    }
   ],
   "source": [
    "import plotly.graph_objs as go\n",
    "from plotly.subplots import make_subplots\n",
    "\n",
    "# Define the validation period start and end dates\n",
    "valid_data.reset_index(inplace=True)\n",
    "validation_start = valid_data['ds'].min()\n",
    "validation_end = valid_data['ds'].max()\n",
    "\n",
    "# Filter forecast to validation period\n",
    "validation_forecast = forecast[(forecast['ds'] >= validation_start) & (forecast['ds'] <= validation_end)]\n",
    "\n",
    "# Filter historical data to validation period\n",
    "validation_actuals = valid_data[(valid_data['ds'] >= validation_start) & (valid_data['ds'] <= validation_end)]\n",
    "\n",
    "# Create a figure with subplots\n",
    "fig = make_subplots(specs=[[{\"secondary_y\": True}]])\n",
    "\n",
    "# Add traces for forecast and actual data\n",
    "fig.add_trace(\n",
    "    go.Scatter(x=validation_forecast['ds'], y=validation_forecast['yhat'], name='Forecast', mode='lines', line=dict(color='blue')),\n",
    "    secondary_y=False,\n",
    ")\n",
    "\n",
    "fig.add_trace(\n",
    "    go.Scatter(x=validation_forecast['ds'], y=validation_forecast['yhat_lower'], name='Lower Confidence', mode='lines', line=dict(color='gray', dash='dot')),\n",
    "    secondary_y=False,\n",
    ")\n",
    "\n",
    "fig.add_trace(\n",
    "    go.Scatter(x=validation_forecast['ds'], y=validation_forecast['yhat_upper'], name='Upper Confidence', mode='lines', line=dict(color='gray', dash='dot'), fill='tonexty'),\n",
    "    secondary_y=False,\n",
    ")\n",
    "\n",
    "fig.add_trace(\n",
    "    go.Scatter(x=validation_actuals['ds'], y=validation_actuals['y'], name='Actual', mode='markers', marker=dict(color='black', size=3)),\n",
    "    secondary_y=False,\n",
    ")\n",
    "\n",
    "# Set graph title and axis labels\n",
    "fig.update_layout(\n",
    "    title='Forecast vs Actuals for Validation Period',\n",
    "    xaxis_title='Date',\n",
    "    yaxis_title='Day-Ahead Energy Price (EUR/MWh)',\n",
    "    legend=dict(x=0.01, y=0.99, bordercolor=\"Black\", borderwidth=1)\n",
    ")\n",
    "\n",
    "# Show plot\n",
    "fig.show()\n"
   ]
  },
  {
   "cell_type": "code",
   "execution_count": null,
   "metadata": {},
   "outputs": [],
   "source": []
  }
 ],
 "metadata": {
  "kernelspec": {
   "display_name": "Python 3",
   "language": "python",
   "name": "python3"
  },
  "language_info": {
   "codemirror_mode": {
    "name": "ipython",
    "version": 3
   },
   "file_extension": ".py",
   "mimetype": "text/x-python",
   "name": "python",
   "nbconvert_exporter": "python",
   "pygments_lexer": "ipython3",
   "version": "3.10.13"
  }
 },
 "nbformat": 4,
 "nbformat_minor": 2
}
