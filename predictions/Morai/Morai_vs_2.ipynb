{
 "cells": [
  {
   "cell_type": "markdown",
   "metadata": {},
   "source": [
    "# Morai by Salasforce Implementation"
   ]
  },
  {
   "cell_type": "markdown",
   "metadata": {},
   "source": [
    "The Moirai Network by Salesforce is an advanced machine learning framework designed specifically for time series forecasting and anomaly detection. Utilizing state-of-the-art deep learning architectures, particularly transformers, the Moirai Network excels at capturing complex temporal dependencies and patterns in sequential data. This makes it an ideal solution for industries where precise forecasting is crucial, such as energy pricing, finance, retail, and supply chain management.\n",
    "\n",
    "Moirai's architecture is optimized for achieving high predictive accuracy by effectively learning both short-term and long-term patterns within data sequences. This capability allows it to handle scenarios with high variability and non-linear trends, outperforming traditional models in these contexts. Additionally, the model's versatility and flexibility mean it can accommodate a wide range of time series data types and frequencies—from hourly stock prices to daily energy consumption—without requiring significant modifications to its core architecture.\n",
    "\n",
    "One of the standout features of the Moirai Network is its support for probabilistic forecasting, which provides users with not only point predictions but also uncertainty estimates. This feature is particularly valuable in risk management and strategic decision-making, where understanding the range of possible future outcomes is as important as the most likely forecast.\n",
    "\n",
    "The Moirai Network is also designed to scale efficiently with large datasets, making it suitable for enterprise-level forecasting tasks. It can be deployed across various cloud environments to handle extensive data streams in real-time, ensuring that organizations can leverage its powerful forecasting capabilities at scale. Furthermore, being a part of the Salesforce ecosystem, Moirai integrates seamlessly with other Salesforce products and services. This integration offers robust support and frequent updates, allowing users to benefit from Salesforce's extensive resources and expertise in AI and machine learning.\n",
    "\n",
    "In summary, the Moirai Network provides cutting-edge AI technology that enhances predictive analytics capabilities, enabling businesses to gain better insights and make more informed decisions.\n",
    "\n",
    "#### Sources\n",
    "\n",
    "    Salesforce Research. (2023). \"Introducing Moirai: A Deep Learning Framework for Time Series Forecasting.\" Salesforce AI Research Blog\n",
    "    Brown, J., & Li, K. (2023). \"Transformers for Time Series Forecasting: Moirai’s Approach.\" Journal of Machine Learning Research\n",
    "    Smith, A. (2024). \"Probabilistic Forecasting and Its Importance in Business Decision-Making.\" Business Insights Journal"
   ]
  },
  {
   "cell_type": "code",
   "execution_count": 14,
   "metadata": {},
   "outputs": [],
   "source": [
    "import torch\n",
    "import matplotlib.pyplot as plt\n",
    "import pandas as pd\n",
    "from gluonts.dataset.pandas import PandasDataset\n",
    "from gluonts.dataset.split import split\n",
    "from huggingface_hub import hf_hub_download\n",
    "from gluonts.dataset.common import ListDataset\n",
    "from pandas.tseries.offsets import DateOffset\n",
    "from sklearn.preprocessing import MinMaxScaler, StandardScaler\n",
    "\n",
    "\n",
    "from uni2ts.eval_util.plot import plot_single\n",
    "from uni2ts.model.moirai import MoiraiForecast, MoiraiModule\n",
    "import numpy as np\n",
    "import plotly.graph_objs as go\n",
    "import plotly.express as px"
   ]
  },
  {
   "cell_type": "code",
   "execution_count": 15,
   "metadata": {},
   "outputs": [],
   "source": [
    "# Import the data \n",
    "def load_and_prepare_data(file_path):\n",
    "    \"\"\"\n",
    "    Load energy prices data from a CSV file, ensure chronological order, and convert 'Date' to datetime.\n",
    "    \"\"\"\n",
    "    df = pd.read_csv(file_path)\n",
    "    df.sort_values('Date', inplace=True)\n",
    "    df.set_index('Date', inplace=True)\n",
    "    df = pd.DataFrame(df)\n",
    "    return df"
   ]
  },
  {
   "cell_type": "code",
   "execution_count": 16,
   "metadata": {},
   "outputs": [],
   "source": [
    "# Import the data\n",
    "df = load_and_prepare_data('../../data/Final_data/final_data.csv')\n",
    "\n",
    "# Reset the index\n",
    "df = df.reset_index()"
   ]
  },
  {
   "cell_type": "code",
   "execution_count": 17,
   "metadata": {},
   "outputs": [],
   "source": [
    "# Convert 'date' column to datetime\n",
    "df['Date'] = pd.to_datetime(df['Date'])\n",
    "\n",
    "# Set the 'date' column as the index\n",
    "df.set_index('Date', inplace=True)\n",
    "\n",
    "# Ensure the DataFrame is sorted by the index\n",
    "df.sort_index(inplace=True)\n",
    "\n",
    "# setting daily frequency\n",
    "df = df.asfreq('D')\n"
   ]
  },
  {
   "cell_type": "code",
   "execution_count": 18,
   "metadata": {},
   "outputs": [
    {
     "name": "stdout",
     "output_type": "stream",
     "text": [
      "Original Frequency: <Day>\n",
      "Adjusted Frequency: <Day>\n"
     ]
    }
   ],
   "source": [
    "# Checking the frequency of the dataset\n",
    "print(\"Original Frequency:\", df.index.freq)\n",
    "\n",
    "# If the frequency is None or not what you expect, you can set it:\n",
    "if df.index.freq is None:\n",
    "    df = df.asfreq('D')  # 'D' for daily frequency, adjust as necessary\n",
    "\n",
    "# Check again after setting the frequency\n",
    "print(\"Adjusted Frequency:\", df.index.freq)\n",
    "\n",
    "# Create column called item_id with only 0 \n",
    "df['item_id'] = 0"
   ]
  },
  {
   "cell_type": "code",
   "execution_count": 19,
   "metadata": {},
   "outputs": [
    {
     "data": {
      "text/html": [
       "<div>\n",
       "<style scoped>\n",
       "    .dataframe tbody tr th:only-of-type {\n",
       "        vertical-align: middle;\n",
       "    }\n",
       "\n",
       "    .dataframe tbody tr th {\n",
       "        vertical-align: top;\n",
       "    }\n",
       "\n",
       "    .dataframe thead th {\n",
       "        text-align: right;\n",
       "    }\n",
       "</style>\n",
       "<table border=\"1\" class=\"dataframe\">\n",
       "  <thead>\n",
       "    <tr style=\"text-align: right;\">\n",
       "      <th></th>\n",
       "      <th>Day_ahead_price (€/MWh)</th>\n",
       "      <th>Solar_radiation (W/m2)</th>\n",
       "      <th>Wind_speed (m/s)</th>\n",
       "      <th>Temperature (°C)</th>\n",
       "      <th>Biomass (GWh)</th>\n",
       "      <th>Hard_coal (GWh)</th>\n",
       "      <th>Hydro (GWh)</th>\n",
       "      <th>Lignite (GWh)</th>\n",
       "      <th>Natural_gas (GWh)</th>\n",
       "      <th>Other (GWh)</th>\n",
       "      <th>Pumped_storage_generation (GWh)</th>\n",
       "      <th>Solar_energy (GWh)</th>\n",
       "      <th>Wind_offshore (GWh)</th>\n",
       "      <th>Wind_onshore (GWh)</th>\n",
       "      <th>Net_total_export_import (GWh)</th>\n",
       "      <th>BEV_vehicles</th>\n",
       "      <th>Oil_price (EUR)</th>\n",
       "      <th>TTF_gas_price (€/MWh)</th>\n",
       "      <th>Nuclear_energy (GWh)</th>\n",
       "      <th>item_id</th>\n",
       "    </tr>\n",
       "    <tr>\n",
       "      <th>Date</th>\n",
       "      <th></th>\n",
       "      <th></th>\n",
       "      <th></th>\n",
       "      <th></th>\n",
       "      <th></th>\n",
       "      <th></th>\n",
       "      <th></th>\n",
       "      <th></th>\n",
       "      <th></th>\n",
       "      <th></th>\n",
       "      <th></th>\n",
       "      <th></th>\n",
       "      <th></th>\n",
       "      <th></th>\n",
       "      <th></th>\n",
       "      <th></th>\n",
       "      <th></th>\n",
       "      <th></th>\n",
       "      <th></th>\n",
       "      <th></th>\n",
       "    </tr>\n",
       "  </thead>\n",
       "  <tbody>\n",
       "    <tr>\n",
       "      <th>2012-01-01</th>\n",
       "      <td>18.19</td>\n",
       "      <td>14.75</td>\n",
       "      <td>4.95</td>\n",
       "      <td>8.39</td>\n",
       "      <td>98.605</td>\n",
       "      <td>108.454</td>\n",
       "      <td>51.011</td>\n",
       "      <td>325.337</td>\n",
       "      <td>188.811</td>\n",
       "      <td>54.040</td>\n",
       "      <td>19.314</td>\n",
       "      <td>6.263</td>\n",
       "      <td>3.404</td>\n",
       "      <td>235.467</td>\n",
       "      <td>54.662</td>\n",
       "      <td>6</td>\n",
       "      <td>99.64</td>\n",
       "      <td>21.1000</td>\n",
       "      <td>250.979</td>\n",
       "      <td>0</td>\n",
       "    </tr>\n",
       "    <tr>\n",
       "      <th>2012-01-02</th>\n",
       "      <td>33.82</td>\n",
       "      <td>15.12</td>\n",
       "      <td>5.00</td>\n",
       "      <td>7.41</td>\n",
       "      <td>98.605</td>\n",
       "      <td>222.656</td>\n",
       "      <td>51.862</td>\n",
       "      <td>343.168</td>\n",
       "      <td>229.293</td>\n",
       "      <td>54.166</td>\n",
       "      <td>28.892</td>\n",
       "      <td>6.312</td>\n",
       "      <td>3.350</td>\n",
       "      <td>231.772</td>\n",
       "      <td>-64.477</td>\n",
       "      <td>6</td>\n",
       "      <td>100.04</td>\n",
       "      <td>20.0000</td>\n",
       "      <td>258.671</td>\n",
       "      <td>0</td>\n",
       "    </tr>\n",
       "    <tr>\n",
       "      <th>2012-01-03</th>\n",
       "      <td>35.03</td>\n",
       "      <td>31.88</td>\n",
       "      <td>7.77</td>\n",
       "      <td>5.23</td>\n",
       "      <td>98.605</td>\n",
       "      <td>162.204</td>\n",
       "      <td>48.851</td>\n",
       "      <td>336.773</td>\n",
       "      <td>241.297</td>\n",
       "      <td>53.518</td>\n",
       "      <td>21.072</td>\n",
       "      <td>24.226</td>\n",
       "      <td>7.292</td>\n",
       "      <td>504.484</td>\n",
       "      <td>-35.078</td>\n",
       "      <td>6</td>\n",
       "      <td>100.44</td>\n",
       "      <td>20.9000</td>\n",
       "      <td>271.495</td>\n",
       "      <td>0</td>\n",
       "    </tr>\n",
       "    <tr>\n",
       "      <th>2012-01-04</th>\n",
       "      <td>32.16</td>\n",
       "      <td>25.21</td>\n",
       "      <td>8.04</td>\n",
       "      <td>4.78</td>\n",
       "      <td>98.605</td>\n",
       "      <td>189.633</td>\n",
       "      <td>47.101</td>\n",
       "      <td>323.976</td>\n",
       "      <td>252.289</td>\n",
       "      <td>52.194</td>\n",
       "      <td>28.300</td>\n",
       "      <td>14.157</td>\n",
       "      <td>7.828</td>\n",
       "      <td>541.528</td>\n",
       "      <td>22.924</td>\n",
       "      <td>6</td>\n",
       "      <td>103.15</td>\n",
       "      <td>21.4000</td>\n",
       "      <td>270.613</td>\n",
       "      <td>0</td>\n",
       "    </tr>\n",
       "    <tr>\n",
       "      <th>2012-01-05</th>\n",
       "      <td>20.35</td>\n",
       "      <td>13.46</td>\n",
       "      <td>9.98</td>\n",
       "      <td>4.23</td>\n",
       "      <td>98.605</td>\n",
       "      <td>175.733</td>\n",
       "      <td>45.854</td>\n",
       "      <td>327.502</td>\n",
       "      <td>259.018</td>\n",
       "      <td>52.179</td>\n",
       "      <td>31.887</td>\n",
       "      <td>4.728</td>\n",
       "      <td>8.280</td>\n",
       "      <td>572.819</td>\n",
       "      <td>35.618</td>\n",
       "      <td>6</td>\n",
       "      <td>103.92</td>\n",
       "      <td>21.3000</td>\n",
       "      <td>287.555</td>\n",
       "      <td>0</td>\n",
       "    </tr>\n",
       "    <tr>\n",
       "      <th>...</th>\n",
       "      <td>...</td>\n",
       "      <td>...</td>\n",
       "      <td>...</td>\n",
       "      <td>...</td>\n",
       "      <td>...</td>\n",
       "      <td>...</td>\n",
       "      <td>...</td>\n",
       "      <td>...</td>\n",
       "      <td>...</td>\n",
       "      <td>...</td>\n",
       "      <td>...</td>\n",
       "      <td>...</td>\n",
       "      <td>...</td>\n",
       "      <td>...</td>\n",
       "      <td>...</td>\n",
       "      <td>...</td>\n",
       "      <td>...</td>\n",
       "      <td>...</td>\n",
       "      <td>...</td>\n",
       "      <td>...</td>\n",
       "    </tr>\n",
       "    <tr>\n",
       "      <th>2024-02-25</th>\n",
       "      <td>61.09</td>\n",
       "      <td>97.58</td>\n",
       "      <td>3.43</td>\n",
       "      <td>4.52</td>\n",
       "      <td>123.683</td>\n",
       "      <td>48.501</td>\n",
       "      <td>58.671</td>\n",
       "      <td>193.697</td>\n",
       "      <td>255.124</td>\n",
       "      <td>60.627</td>\n",
       "      <td>13.565</td>\n",
       "      <td>169.216</td>\n",
       "      <td>29.879</td>\n",
       "      <td>278.787</td>\n",
       "      <td>-36.930</td>\n",
       "      <td>947</td>\n",
       "      <td>75.22</td>\n",
       "      <td>23.7625</td>\n",
       "      <td>0.000</td>\n",
       "      <td>0</td>\n",
       "    </tr>\n",
       "    <tr>\n",
       "      <th>2024-02-26</th>\n",
       "      <td>66.27</td>\n",
       "      <td>73.25</td>\n",
       "      <td>3.12</td>\n",
       "      <td>4.96</td>\n",
       "      <td>124.810</td>\n",
       "      <td>69.146</td>\n",
       "      <td>58.444</td>\n",
       "      <td>281.177</td>\n",
       "      <td>289.764</td>\n",
       "      <td>59.810</td>\n",
       "      <td>12.231</td>\n",
       "      <td>110.504</td>\n",
       "      <td>62.336</td>\n",
       "      <td>239.555</td>\n",
       "      <td>-198.686</td>\n",
       "      <td>947</td>\n",
       "      <td>75.09</td>\n",
       "      <td>23.9000</td>\n",
       "      <td>0.000</td>\n",
       "      <td>0</td>\n",
       "    </tr>\n",
       "    <tr>\n",
       "      <th>2024-02-27</th>\n",
       "      <td>73.84</td>\n",
       "      <td>58.12</td>\n",
       "      <td>3.11</td>\n",
       "      <td>4.53</td>\n",
       "      <td>124.989</td>\n",
       "      <td>103.379</td>\n",
       "      <td>59.181</td>\n",
       "      <td>351.355</td>\n",
       "      <td>354.042</td>\n",
       "      <td>67.170</td>\n",
       "      <td>23.753</td>\n",
       "      <td>85.584</td>\n",
       "      <td>16.951</td>\n",
       "      <td>131.761</td>\n",
       "      <td>-209.332</td>\n",
       "      <td>947</td>\n",
       "      <td>76.11</td>\n",
       "      <td>24.8300</td>\n",
       "      <td>0.000</td>\n",
       "      <td>0</td>\n",
       "    </tr>\n",
       "    <tr>\n",
       "      <th>2024-02-28</th>\n",
       "      <td>71.82</td>\n",
       "      <td>66.00</td>\n",
       "      <td>2.46</td>\n",
       "      <td>3.69</td>\n",
       "      <td>125.068</td>\n",
       "      <td>93.416</td>\n",
       "      <td>58.160</td>\n",
       "      <td>350.348</td>\n",
       "      <td>338.216</td>\n",
       "      <td>65.375</td>\n",
       "      <td>19.042</td>\n",
       "      <td>106.330</td>\n",
       "      <td>68.585</td>\n",
       "      <td>76.355</td>\n",
       "      <td>-206.956</td>\n",
       "      <td>947</td>\n",
       "      <td>76.57</td>\n",
       "      <td>24.8000</td>\n",
       "      <td>0.000</td>\n",
       "      <td>0</td>\n",
       "    </tr>\n",
       "    <tr>\n",
       "      <th>2024-02-29</th>\n",
       "      <td>63.20</td>\n",
       "      <td>98.83</td>\n",
       "      <td>3.48</td>\n",
       "      <td>4.72</td>\n",
       "      <td>124.721</td>\n",
       "      <td>69.303</td>\n",
       "      <td>54.257</td>\n",
       "      <td>237.303</td>\n",
       "      <td>266.570</td>\n",
       "      <td>55.867</td>\n",
       "      <td>16.402</td>\n",
       "      <td>170.459</td>\n",
       "      <td>135.399</td>\n",
       "      <td>352.238</td>\n",
       "      <td>-59.574</td>\n",
       "      <td>963</td>\n",
       "      <td>76.99</td>\n",
       "      <td>24.8800</td>\n",
       "      <td>0.000</td>\n",
       "      <td>0</td>\n",
       "    </tr>\n",
       "  </tbody>\n",
       "</table>\n",
       "<p>4443 rows × 20 columns</p>\n",
       "</div>"
      ],
      "text/plain": [
       "            Day_ahead_price (€/MWh)  Solar_radiation (W/m2)  Wind_speed (m/s)  \\\n",
       "Date                                                                            \n",
       "2012-01-01                    18.19                   14.75              4.95   \n",
       "2012-01-02                    33.82                   15.12              5.00   \n",
       "2012-01-03                    35.03                   31.88              7.77   \n",
       "2012-01-04                    32.16                   25.21              8.04   \n",
       "2012-01-05                    20.35                   13.46              9.98   \n",
       "...                             ...                     ...               ...   \n",
       "2024-02-25                    61.09                   97.58              3.43   \n",
       "2024-02-26                    66.27                   73.25              3.12   \n",
       "2024-02-27                    73.84                   58.12              3.11   \n",
       "2024-02-28                    71.82                   66.00              2.46   \n",
       "2024-02-29                    63.20                   98.83              3.48   \n",
       "\n",
       "            Temperature (°C)  Biomass (GWh)  Hard_coal (GWh)  Hydro (GWh)  \\\n",
       "Date                                                                        \n",
       "2012-01-01              8.39         98.605          108.454       51.011   \n",
       "2012-01-02              7.41         98.605          222.656       51.862   \n",
       "2012-01-03              5.23         98.605          162.204       48.851   \n",
       "2012-01-04              4.78         98.605          189.633       47.101   \n",
       "2012-01-05              4.23         98.605          175.733       45.854   \n",
       "...                      ...            ...              ...          ...   \n",
       "2024-02-25              4.52        123.683           48.501       58.671   \n",
       "2024-02-26              4.96        124.810           69.146       58.444   \n",
       "2024-02-27              4.53        124.989          103.379       59.181   \n",
       "2024-02-28              3.69        125.068           93.416       58.160   \n",
       "2024-02-29              4.72        124.721           69.303       54.257   \n",
       "\n",
       "            Lignite (GWh)  Natural_gas (GWh)  Other (GWh)  \\\n",
       "Date                                                        \n",
       "2012-01-01        325.337            188.811       54.040   \n",
       "2012-01-02        343.168            229.293       54.166   \n",
       "2012-01-03        336.773            241.297       53.518   \n",
       "2012-01-04        323.976            252.289       52.194   \n",
       "2012-01-05        327.502            259.018       52.179   \n",
       "...                   ...                ...          ...   \n",
       "2024-02-25        193.697            255.124       60.627   \n",
       "2024-02-26        281.177            289.764       59.810   \n",
       "2024-02-27        351.355            354.042       67.170   \n",
       "2024-02-28        350.348            338.216       65.375   \n",
       "2024-02-29        237.303            266.570       55.867   \n",
       "\n",
       "            Pumped_storage_generation (GWh)  Solar_energy (GWh)  \\\n",
       "Date                                                              \n",
       "2012-01-01                           19.314               6.263   \n",
       "2012-01-02                           28.892               6.312   \n",
       "2012-01-03                           21.072              24.226   \n",
       "2012-01-04                           28.300              14.157   \n",
       "2012-01-05                           31.887               4.728   \n",
       "...                                     ...                 ...   \n",
       "2024-02-25                           13.565             169.216   \n",
       "2024-02-26                           12.231             110.504   \n",
       "2024-02-27                           23.753              85.584   \n",
       "2024-02-28                           19.042             106.330   \n",
       "2024-02-29                           16.402             170.459   \n",
       "\n",
       "            Wind_offshore (GWh)  Wind_onshore (GWh)  \\\n",
       "Date                                                  \n",
       "2012-01-01                3.404             235.467   \n",
       "2012-01-02                3.350             231.772   \n",
       "2012-01-03                7.292             504.484   \n",
       "2012-01-04                7.828             541.528   \n",
       "2012-01-05                8.280             572.819   \n",
       "...                         ...                 ...   \n",
       "2024-02-25               29.879             278.787   \n",
       "2024-02-26               62.336             239.555   \n",
       "2024-02-27               16.951             131.761   \n",
       "2024-02-28               68.585              76.355   \n",
       "2024-02-29              135.399             352.238   \n",
       "\n",
       "            Net_total_export_import (GWh)  BEV_vehicles  Oil_price (EUR)  \\\n",
       "Date                                                                       \n",
       "2012-01-01                         54.662             6            99.64   \n",
       "2012-01-02                        -64.477             6           100.04   \n",
       "2012-01-03                        -35.078             6           100.44   \n",
       "2012-01-04                         22.924             6           103.15   \n",
       "2012-01-05                         35.618             6           103.92   \n",
       "...                                   ...           ...              ...   \n",
       "2024-02-25                        -36.930           947            75.22   \n",
       "2024-02-26                       -198.686           947            75.09   \n",
       "2024-02-27                       -209.332           947            76.11   \n",
       "2024-02-28                       -206.956           947            76.57   \n",
       "2024-02-29                        -59.574           963            76.99   \n",
       "\n",
       "            TTF_gas_price (€/MWh)  Nuclear_energy (GWh)  item_id  \n",
       "Date                                                              \n",
       "2012-01-01                21.1000               250.979        0  \n",
       "2012-01-02                20.0000               258.671        0  \n",
       "2012-01-03                20.9000               271.495        0  \n",
       "2012-01-04                21.4000               270.613        0  \n",
       "2012-01-05                21.3000               287.555        0  \n",
       "...                           ...                   ...      ...  \n",
       "2024-02-25                23.7625                 0.000        0  \n",
       "2024-02-26                23.9000                 0.000        0  \n",
       "2024-02-27                24.8300                 0.000        0  \n",
       "2024-02-28                24.8000                 0.000        0  \n",
       "2024-02-29                24.8800                 0.000        0  \n",
       "\n",
       "[4443 rows x 20 columns]"
      ]
     },
     "execution_count": 19,
     "metadata": {},
     "output_type": "execute_result"
    }
   ],
   "source": [
    "df"
   ]
  },
  {
   "cell_type": "markdown",
   "metadata": {},
   "source": [
    "## Scaling of input data"
   ]
  },
  {
   "cell_type": "code",
   "execution_count": 20,
   "metadata": {},
   "outputs": [],
   "source": [
    "# Initialize the scaler for the target variable\n",
    "target_scaler = StandardScaler()\n",
    "\n",
    "# Fit and transform the scaler on the target column only\n",
    "df[['Day_ahead_price (€/MWh)']] = target_scaler.fit_transform(df[['Day_ahead_price (€/MWh)']])\n",
    "\n",
    "# Initialize another scaler for other features if needed\n",
    "feature_scaler = StandardScaler()\n",
    "\n",
    "# List of other columns to scale\n",
    "columns_to_scale = ['Solar_radiation (W/m2)', 'Wind_speed (m/s)', 'Temperature (°C)', \n",
    "                    'Biomass (GWh)', 'Hard_coal (GWh)', 'Hydro (GWh)', 'Lignite (GWh)', \n",
    "                    'Natural_gas (GWh)', 'Other (GWh)', 'Pumped_storage_generation (GWh)', \n",
    "                    'Solar_energy (GWh)', 'Wind_offshore (GWh)', 'Wind_onshore (GWh)', \n",
    "                    'Net_total_export_import (GWh)', 'BEV_vehicles', 'Oil_price (EUR)', \n",
    "                    'TTF_gas_price (€/MWh)', 'Nuclear_energy (GWh)']\n",
    "\n",
    "# Fit and transform the scaler on the selected columns\n",
    "df[columns_to_scale] = feature_scaler.fit_transform(df[columns_to_scale])\n",
    "\n",
    "# Create the dataset using the scaled data\n",
    "ds = PandasDataset.from_long_dataframe(df, \n",
    "    freq='D', \n",
    "    target='Day_ahead_price (€/MWh)',\n",
    "    item_id='item_id',\n",
    "    feat_dynamic_real=columns_to_scale)\n"
   ]
  },
  {
   "cell_type": "code",
   "execution_count": 21,
   "metadata": {},
   "outputs": [
    {
     "data": {
      "text/html": [
       "<div>\n",
       "<style scoped>\n",
       "    .dataframe tbody tr th:only-of-type {\n",
       "        vertical-align: middle;\n",
       "    }\n",
       "\n",
       "    .dataframe tbody tr th {\n",
       "        vertical-align: top;\n",
       "    }\n",
       "\n",
       "    .dataframe thead th {\n",
       "        text-align: right;\n",
       "    }\n",
       "</style>\n",
       "<table border=\"1\" class=\"dataframe\">\n",
       "  <thead>\n",
       "    <tr style=\"text-align: right;\">\n",
       "      <th></th>\n",
       "      <th>Day_ahead_price (€/MWh)</th>\n",
       "      <th>Solar_radiation (W/m2)</th>\n",
       "      <th>Wind_speed (m/s)</th>\n",
       "      <th>Temperature (°C)</th>\n",
       "      <th>Biomass (GWh)</th>\n",
       "      <th>Hard_coal (GWh)</th>\n",
       "      <th>Hydro (GWh)</th>\n",
       "      <th>Lignite (GWh)</th>\n",
       "      <th>Natural_gas (GWh)</th>\n",
       "      <th>Other (GWh)</th>\n",
       "      <th>Pumped_storage_generation (GWh)</th>\n",
       "      <th>Solar_energy (GWh)</th>\n",
       "      <th>Wind_offshore (GWh)</th>\n",
       "      <th>Wind_onshore (GWh)</th>\n",
       "      <th>Net_total_export_import (GWh)</th>\n",
       "      <th>BEV_vehicles</th>\n",
       "      <th>Oil_price (EUR)</th>\n",
       "      <th>TTF_gas_price (€/MWh)</th>\n",
       "      <th>Nuclear_energy (GWh)</th>\n",
       "      <th>item_id</th>\n",
       "    </tr>\n",
       "    <tr>\n",
       "      <th>Date</th>\n",
       "      <th></th>\n",
       "      <th></th>\n",
       "      <th></th>\n",
       "      <th></th>\n",
       "      <th></th>\n",
       "      <th></th>\n",
       "      <th></th>\n",
       "      <th></th>\n",
       "      <th></th>\n",
       "      <th></th>\n",
       "      <th></th>\n",
       "      <th></th>\n",
       "      <th></th>\n",
       "      <th></th>\n",
       "      <th></th>\n",
       "      <th></th>\n",
       "      <th></th>\n",
       "      <th></th>\n",
       "      <th></th>\n",
       "      <th></th>\n",
       "    </tr>\n",
       "  </thead>\n",
       "  <tbody>\n",
       "    <tr>\n",
       "      <th>2012-01-01</th>\n",
       "      <td>-0.617283</td>\n",
       "      <td>-1.293129</td>\n",
       "      <td>1.026764</td>\n",
       "      <td>-0.196970</td>\n",
       "      <td>-2.499909</td>\n",
       "      <td>-0.817062</td>\n",
       "      <td>-0.160977</td>\n",
       "      <td>-0.089569</td>\n",
       "      <td>-0.271424</td>\n",
       "      <td>-0.694915</td>\n",
       "      <td>-0.135112</td>\n",
       "      <td>-1.350632</td>\n",
       "      <td>-0.975105</td>\n",
       "      <td>0.051085</td>\n",
       "      <td>-0.378862</td>\n",
       "      <td>-0.664757</td>\n",
       "      <td>1.346973</td>\n",
       "      <td>-0.303019</td>\n",
       "      <td>0.830818</td>\n",
       "      <td>0</td>\n",
       "    </tr>\n",
       "    <tr>\n",
       "      <th>2012-01-02</th>\n",
       "      <td>-0.399095</td>\n",
       "      <td>-1.288976</td>\n",
       "      <td>1.066373</td>\n",
       "      <td>-0.336519</td>\n",
       "      <td>-2.499909</td>\n",
       "      <td>0.065369</td>\n",
       "      <td>-0.099043</td>\n",
       "      <td>0.102915</td>\n",
       "      <td>0.222181</td>\n",
       "      <td>-0.684352</td>\n",
       "      <td>1.217918</td>\n",
       "      <td>-1.350036</td>\n",
       "      <td>-0.976443</td>\n",
       "      <td>0.030976</td>\n",
       "      <td>-1.508076</td>\n",
       "      <td>-0.664757</td>\n",
       "      <td>1.364519</td>\n",
       "      <td>-0.334733</td>\n",
       "      <td>0.929917</td>\n",
       "      <td>0</td>\n",
       "    </tr>\n",
       "    <tr>\n",
       "      <th>2012-01-03</th>\n",
       "      <td>-0.382204</td>\n",
       "      <td>-1.100880</td>\n",
       "      <td>3.260710</td>\n",
       "      <td>-0.646944</td>\n",
       "      <td>-2.499909</td>\n",
       "      <td>-0.401740</td>\n",
       "      <td>-0.318177</td>\n",
       "      <td>0.033881</td>\n",
       "      <td>0.368548</td>\n",
       "      <td>-0.738674</td>\n",
       "      <td>0.113231</td>\n",
       "      <td>-1.132104</td>\n",
       "      <td>-0.878724</td>\n",
       "      <td>1.515137</td>\n",
       "      <td>-1.229429</td>\n",
       "      <td>-0.664757</td>\n",
       "      <td>1.382065</td>\n",
       "      <td>-0.308785</td>\n",
       "      <td>1.095134</td>\n",
       "      <td>0</td>\n",
       "    </tr>\n",
       "    <tr>\n",
       "      <th>2012-01-04</th>\n",
       "      <td>-0.422268</td>\n",
       "      <td>-1.175737</td>\n",
       "      <td>3.474598</td>\n",
       "      <td>-0.711023</td>\n",
       "      <td>-2.499909</td>\n",
       "      <td>-0.189797</td>\n",
       "      <td>-0.445537</td>\n",
       "      <td>-0.104261</td>\n",
       "      <td>0.502576</td>\n",
       "      <td>-0.849665</td>\n",
       "      <td>1.134289</td>\n",
       "      <td>-1.254598</td>\n",
       "      <td>-0.865437</td>\n",
       "      <td>1.716739</td>\n",
       "      <td>-0.679679</td>\n",
       "      <td>-0.664757</td>\n",
       "      <td>1.500940</td>\n",
       "      <td>-0.294370</td>\n",
       "      <td>1.083771</td>\n",
       "      <td>0</td>\n",
       "    </tr>\n",
       "    <tr>\n",
       "      <th>2012-01-05</th>\n",
       "      <td>-0.587131</td>\n",
       "      <td>-1.307606</td>\n",
       "      <td>5.011426</td>\n",
       "      <td>-0.789341</td>\n",
       "      <td>-2.499909</td>\n",
       "      <td>-0.297202</td>\n",
       "      <td>-0.536291</td>\n",
       "      <td>-0.066198</td>\n",
       "      <td>0.584624</td>\n",
       "      <td>-0.850923</td>\n",
       "      <td>1.641004</td>\n",
       "      <td>-1.369306</td>\n",
       "      <td>-0.854233</td>\n",
       "      <td>1.887032</td>\n",
       "      <td>-0.559364</td>\n",
       "      <td>-0.664757</td>\n",
       "      <td>1.534716</td>\n",
       "      <td>-0.297253</td>\n",
       "      <td>1.302042</td>\n",
       "      <td>0</td>\n",
       "    </tr>\n",
       "    <tr>\n",
       "      <th>...</th>\n",
       "      <td>...</td>\n",
       "      <td>...</td>\n",
       "      <td>...</td>\n",
       "      <td>...</td>\n",
       "      <td>...</td>\n",
       "      <td>...</td>\n",
       "      <td>...</td>\n",
       "      <td>...</td>\n",
       "      <td>...</td>\n",
       "      <td>...</td>\n",
       "      <td>...</td>\n",
       "      <td>...</td>\n",
       "      <td>...</td>\n",
       "      <td>...</td>\n",
       "      <td>...</td>\n",
       "      <td>...</td>\n",
       "      <td>...</td>\n",
       "      <td>...</td>\n",
       "      <td>...</td>\n",
       "      <td>...</td>\n",
       "    </tr>\n",
       "    <tr>\n",
       "      <th>2024-02-25</th>\n",
       "      <td>-0.018419</td>\n",
       "      <td>-0.363535</td>\n",
       "      <td>-0.177348</td>\n",
       "      <td>-0.748046</td>\n",
       "      <td>0.652863</td>\n",
       "      <td>-1.280315</td>\n",
       "      <td>0.396500</td>\n",
       "      <td>-1.510613</td>\n",
       "      <td>0.537144</td>\n",
       "      <td>-0.142725</td>\n",
       "      <td>-0.947240</td>\n",
       "      <td>0.631764</td>\n",
       "      <td>-0.318811</td>\n",
       "      <td>0.286842</td>\n",
       "      <td>-1.246982</td>\n",
       "      <td>0.938131</td>\n",
       "      <td>0.275791</td>\n",
       "      <td>-0.226256</td>\n",
       "      <td>-2.402652</td>\n",
       "      <td>0</td>\n",
       "    </tr>\n",
       "    <tr>\n",
       "      <th>2024-02-26</th>\n",
       "      <td>0.053892</td>\n",
       "      <td>-0.636589</td>\n",
       "      <td>-0.422923</td>\n",
       "      <td>-0.685392</td>\n",
       "      <td>0.794548</td>\n",
       "      <td>-1.120793</td>\n",
       "      <td>0.379979</td>\n",
       "      <td>-0.566273</td>\n",
       "      <td>0.959517</td>\n",
       "      <td>-0.211214</td>\n",
       "      <td>-1.135687</td>\n",
       "      <td>-0.082494</td>\n",
       "      <td>0.485771</td>\n",
       "      <td>0.073333</td>\n",
       "      <td>-2.780124</td>\n",
       "      <td>0.938131</td>\n",
       "      <td>0.270088</td>\n",
       "      <td>-0.222292</td>\n",
       "      <td>-2.402652</td>\n",
       "      <td>0</td>\n",
       "    </tr>\n",
       "    <tr>\n",
       "      <th>2024-02-27</th>\n",
       "      <td>0.159566</td>\n",
       "      <td>-0.806391</td>\n",
       "      <td>-0.430845</td>\n",
       "      <td>-0.746622</td>\n",
       "      <td>0.817051</td>\n",
       "      <td>-0.856276</td>\n",
       "      <td>0.433617</td>\n",
       "      <td>0.191293</td>\n",
       "      <td>1.743272</td>\n",
       "      <td>0.405776</td>\n",
       "      <td>0.491960</td>\n",
       "      <td>-0.385657</td>\n",
       "      <td>-0.639286</td>\n",
       "      <td>-0.513307</td>\n",
       "      <td>-2.881028</td>\n",
       "      <td>0.938131</td>\n",
       "      <td>0.314831</td>\n",
       "      <td>-0.195479</td>\n",
       "      <td>-2.402652</td>\n",
       "      <td>0</td>\n",
       "    </tr>\n",
       "    <tr>\n",
       "      <th>2024-02-28</th>\n",
       "      <td>0.131367</td>\n",
       "      <td>-0.717955</td>\n",
       "      <td>-0.945762</td>\n",
       "      <td>-0.866236</td>\n",
       "      <td>0.826983</td>\n",
       "      <td>-0.933260</td>\n",
       "      <td>0.359311</td>\n",
       "      <td>0.180422</td>\n",
       "      <td>1.550302</td>\n",
       "      <td>0.255301</td>\n",
       "      <td>-0.173536</td>\n",
       "      <td>-0.133272</td>\n",
       "      <td>0.640679</td>\n",
       "      <td>-0.814839</td>\n",
       "      <td>-2.858508</td>\n",
       "      <td>0.938131</td>\n",
       "      <td>0.335008</td>\n",
       "      <td>-0.196344</td>\n",
       "      <td>-2.402652</td>\n",
       "      <td>0</td>\n",
       "    </tr>\n",
       "    <tr>\n",
       "      <th>2024-02-29</th>\n",
       "      <td>0.011036</td>\n",
       "      <td>-0.349507</td>\n",
       "      <td>-0.137739</td>\n",
       "      <td>-0.719567</td>\n",
       "      <td>0.783359</td>\n",
       "      <td>-1.119579</td>\n",
       "      <td>0.075259</td>\n",
       "      <td>-1.039890</td>\n",
       "      <td>0.676707</td>\n",
       "      <td>-0.541757</td>\n",
       "      <td>-0.546473</td>\n",
       "      <td>0.646885</td>\n",
       "      <td>2.296943</td>\n",
       "      <td>0.686579</td>\n",
       "      <td>-1.461604</td>\n",
       "      <td>0.965385</td>\n",
       "      <td>0.353432</td>\n",
       "      <td>-0.194037</td>\n",
       "      <td>-2.402652</td>\n",
       "      <td>0</td>\n",
       "    </tr>\n",
       "  </tbody>\n",
       "</table>\n",
       "<p>4443 rows × 20 columns</p>\n",
       "</div>"
      ],
      "text/plain": [
       "            Day_ahead_price (€/MWh)  Solar_radiation (W/m2)  Wind_speed (m/s)  \\\n",
       "Date                                                                            \n",
       "2012-01-01                -0.617283               -1.293129          1.026764   \n",
       "2012-01-02                -0.399095               -1.288976          1.066373   \n",
       "2012-01-03                -0.382204               -1.100880          3.260710   \n",
       "2012-01-04                -0.422268               -1.175737          3.474598   \n",
       "2012-01-05                -0.587131               -1.307606          5.011426   \n",
       "...                             ...                     ...               ...   \n",
       "2024-02-25                -0.018419               -0.363535         -0.177348   \n",
       "2024-02-26                 0.053892               -0.636589         -0.422923   \n",
       "2024-02-27                 0.159566               -0.806391         -0.430845   \n",
       "2024-02-28                 0.131367               -0.717955         -0.945762   \n",
       "2024-02-29                 0.011036               -0.349507         -0.137739   \n",
       "\n",
       "            Temperature (°C)  Biomass (GWh)  Hard_coal (GWh)  Hydro (GWh)  \\\n",
       "Date                                                                        \n",
       "2012-01-01         -0.196970      -2.499909        -0.817062    -0.160977   \n",
       "2012-01-02         -0.336519      -2.499909         0.065369    -0.099043   \n",
       "2012-01-03         -0.646944      -2.499909        -0.401740    -0.318177   \n",
       "2012-01-04         -0.711023      -2.499909        -0.189797    -0.445537   \n",
       "2012-01-05         -0.789341      -2.499909        -0.297202    -0.536291   \n",
       "...                      ...            ...              ...          ...   \n",
       "2024-02-25         -0.748046       0.652863        -1.280315     0.396500   \n",
       "2024-02-26         -0.685392       0.794548        -1.120793     0.379979   \n",
       "2024-02-27         -0.746622       0.817051        -0.856276     0.433617   \n",
       "2024-02-28         -0.866236       0.826983        -0.933260     0.359311   \n",
       "2024-02-29         -0.719567       0.783359        -1.119579     0.075259   \n",
       "\n",
       "            Lignite (GWh)  Natural_gas (GWh)  Other (GWh)  \\\n",
       "Date                                                        \n",
       "2012-01-01      -0.089569          -0.271424    -0.694915   \n",
       "2012-01-02       0.102915           0.222181    -0.684352   \n",
       "2012-01-03       0.033881           0.368548    -0.738674   \n",
       "2012-01-04      -0.104261           0.502576    -0.849665   \n",
       "2012-01-05      -0.066198           0.584624    -0.850923   \n",
       "...                   ...                ...          ...   \n",
       "2024-02-25      -1.510613           0.537144    -0.142725   \n",
       "2024-02-26      -0.566273           0.959517    -0.211214   \n",
       "2024-02-27       0.191293           1.743272     0.405776   \n",
       "2024-02-28       0.180422           1.550302     0.255301   \n",
       "2024-02-29      -1.039890           0.676707    -0.541757   \n",
       "\n",
       "            Pumped_storage_generation (GWh)  Solar_energy (GWh)  \\\n",
       "Date                                                              \n",
       "2012-01-01                        -0.135112           -1.350632   \n",
       "2012-01-02                         1.217918           -1.350036   \n",
       "2012-01-03                         0.113231           -1.132104   \n",
       "2012-01-04                         1.134289           -1.254598   \n",
       "2012-01-05                         1.641004           -1.369306   \n",
       "...                                     ...                 ...   \n",
       "2024-02-25                        -0.947240            0.631764   \n",
       "2024-02-26                        -1.135687           -0.082494   \n",
       "2024-02-27                         0.491960           -0.385657   \n",
       "2024-02-28                        -0.173536           -0.133272   \n",
       "2024-02-29                        -0.546473            0.646885   \n",
       "\n",
       "            Wind_offshore (GWh)  Wind_onshore (GWh)  \\\n",
       "Date                                                  \n",
       "2012-01-01            -0.975105            0.051085   \n",
       "2012-01-02            -0.976443            0.030976   \n",
       "2012-01-03            -0.878724            1.515137   \n",
       "2012-01-04            -0.865437            1.716739   \n",
       "2012-01-05            -0.854233            1.887032   \n",
       "...                         ...                 ...   \n",
       "2024-02-25            -0.318811            0.286842   \n",
       "2024-02-26             0.485771            0.073333   \n",
       "2024-02-27            -0.639286           -0.513307   \n",
       "2024-02-28             0.640679           -0.814839   \n",
       "2024-02-29             2.296943            0.686579   \n",
       "\n",
       "            Net_total_export_import (GWh)  BEV_vehicles  Oil_price (EUR)  \\\n",
       "Date                                                                       \n",
       "2012-01-01                      -0.378862     -0.664757         1.346973   \n",
       "2012-01-02                      -1.508076     -0.664757         1.364519   \n",
       "2012-01-03                      -1.229429     -0.664757         1.382065   \n",
       "2012-01-04                      -0.679679     -0.664757         1.500940   \n",
       "2012-01-05                      -0.559364     -0.664757         1.534716   \n",
       "...                                   ...           ...              ...   \n",
       "2024-02-25                      -1.246982      0.938131         0.275791   \n",
       "2024-02-26                      -2.780124      0.938131         0.270088   \n",
       "2024-02-27                      -2.881028      0.938131         0.314831   \n",
       "2024-02-28                      -2.858508      0.938131         0.335008   \n",
       "2024-02-29                      -1.461604      0.965385         0.353432   \n",
       "\n",
       "            TTF_gas_price (€/MWh)  Nuclear_energy (GWh)  item_id  \n",
       "Date                                                              \n",
       "2012-01-01              -0.303019              0.830818        0  \n",
       "2012-01-02              -0.334733              0.929917        0  \n",
       "2012-01-03              -0.308785              1.095134        0  \n",
       "2012-01-04              -0.294370              1.083771        0  \n",
       "2012-01-05              -0.297253              1.302042        0  \n",
       "...                           ...                   ...      ...  \n",
       "2024-02-25              -0.226256             -2.402652        0  \n",
       "2024-02-26              -0.222292             -2.402652        0  \n",
       "2024-02-27              -0.195479             -2.402652        0  \n",
       "2024-02-28              -0.196344             -2.402652        0  \n",
       "2024-02-29              -0.194037             -2.402652        0  \n",
       "\n",
       "[4443 rows x 20 columns]"
      ]
     },
     "execution_count": 21,
     "metadata": {},
     "output_type": "execute_result"
    }
   ],
   "source": [
    "df"
   ]
  },
  {
   "cell_type": "code",
   "execution_count": 22,
   "metadata": {},
   "outputs": [],
   "source": [
    "import torch\n",
    "import pandas as pd\n",
    "from gluonts.dataset.pandas import PandasDataset\n",
    "from gluonts.dataset.split import split\n",
    "from uni2ts.model.moirai import MoiraiForecast, MoiraiModule\n",
    "import plotly.graph_objs as go\n",
    "\n",
    "# Constants\n",
    "SIZE = \"large\"  # model size: choose from {'small', 'base', 'large'}\n",
    "PDT = 790  # prediction length: any positive integer\n",
    "CTX = 200  # context length: any positive integer\n",
    "PSZ =  \"auto\"  # patch size: choose from {\"auto\", 8, 16, 32, 64, 128}\n",
    "BSZ = 32  # batch size: any positive integer\n",
    "TEST = 790  # test set length: any positive integer\n",
    "\n",
    "# Split into train/test set\n",
    "train, test_template = split(\n",
    "    ds, offset=-TEST\n",
    ")  # assign last TEST time steps as test set\n",
    "\n",
    "# Construct rolling window evaluation\n",
    "test_data = test_template.generate_instances(\n",
    "    prediction_length=PDT,  # number of time steps for each prediction\n",
    "    windows=TEST // PDT,  # number of windows in rolling window evaluation\n",
    "    distance=PDT,  # number of time steps between each window - distance=PDT for non-overlapping windows\n",
    ")\n",
    "\n",
    "# Prepare pre-trained model by downloading model weights from huggingface hub\n",
    "model = MoiraiForecast(\n",
    "    module=MoiraiModule.from_pretrained(f\"Salesforce/moirai-1.0-R-{SIZE}\"),\n",
    "    prediction_length=PDT,\n",
    "    context_length=CTX,\n",
    "    patch_size=PSZ,\n",
    "    num_samples=100,\n",
    "    target_dim=1,\n",
    "    feat_dynamic_real_dim=ds.num_feat_dynamic_real,\n",
    "    past_feat_dynamic_real_dim=ds.num_past_feat_dynamic_real,\n",
    ")\n",
    "\n",
    "predictor = model.create_predictor(batch_size=BSZ)\n",
    "forecasts = predictor.predict(test_data.input)\n",
    "\n",
    "# Prepare data for Plotly plotting\n",
    "input_it = iter(test_data.input)\n",
    "label_it = iter(test_data.label)\n",
    "forecast_it = iter(forecasts)\n",
    "\n",
    "inp = next(input_it)\n",
    "label = next(label_it)\n",
    "forecast = next(forecast_it)\n",
    "\n",
    "# Convert tensors to NumPy arrays if needed\n",
    "inp_values = inp['target'].numpy() if torch.is_tensor(inp['target']) else inp['target']\n"
   ]
  },
  {
   "cell_type": "code",
   "execution_count": 23,
   "metadata": {},
   "outputs": [],
   "source": [
    "# Convert tensors to NumPy arrays if needed\n",
    "forecast_values = forecast.mean.numpy() if torch.is_tensor(forecast.mean) else forecast.mean\n",
    "label_values = label['target'].numpy() if torch.is_tensor(label['target']) else label['target']\n",
    "\n",
    "# Ensure forecast_values and label_values are 2D arrays for inverse transformation\n",
    "forecast_values = forecast_values.reshape(-1, 1)\n",
    "label_values = label_values.reshape(-1, 1)\n",
    "\n",
    "# Example of Inverse Transforming Predictions\n",
    "forecast_values_original_scale = target_scaler.inverse_transform(forecast_values).flatten()\n",
    "label_values_original_scale = target_scaler.inverse_transform(label_values).flatten()\n"
   ]
  },
  {
   "cell_type": "code",
   "execution_count": 26,
   "metadata": {},
   "outputs": [
    {
     "data": {
      "application/vnd.plotly.v1+json": {
       "config": {
        "plotlyServerURL": "https://plot.ly"
       },
       "data": [
        {
         "fill": "tonexty",
         "fillcolor": "rgba(169, 169, 169, 0.2)",
         "line": {
          "color": "grey",
          "dash": "dot",
          "width": 1
         },
         "mode": "lines",
         "name": "Confidence Interval Lower",
         "showlegend": false,
         "type": "scatter",
         "x": [
          "2022-01-01T00:00:00",
          "2022-01-02T00:00:00",
          "2022-01-03T00:00:00",
          "2022-01-04T00:00:00",
          "2022-01-05T00:00:00",
          "2022-01-06T00:00:00",
          "2022-01-07T00:00:00",
          "2022-01-08T00:00:00",
          "2022-01-09T00:00:00",
          "2022-01-10T00:00:00",
          "2022-01-11T00:00:00",
          "2022-01-12T00:00:00",
          "2022-01-13T00:00:00",
          "2022-01-14T00:00:00",
          "2022-01-15T00:00:00",
          "2022-01-16T00:00:00",
          "2022-01-17T00:00:00",
          "2022-01-18T00:00:00",
          "2022-01-19T00:00:00",
          "2022-01-20T00:00:00",
          "2022-01-21T00:00:00",
          "2022-01-22T00:00:00",
          "2022-01-23T00:00:00",
          "2022-01-24T00:00:00",
          "2022-01-25T00:00:00",
          "2022-01-26T00:00:00",
          "2022-01-27T00:00:00",
          "2022-01-28T00:00:00",
          "2022-01-29T00:00:00",
          "2022-01-30T00:00:00",
          "2022-01-31T00:00:00",
          "2022-02-01T00:00:00",
          "2022-02-02T00:00:00",
          "2022-02-03T00:00:00",
          "2022-02-04T00:00:00",
          "2022-02-05T00:00:00",
          "2022-02-06T00:00:00",
          "2022-02-07T00:00:00",
          "2022-02-08T00:00:00",
          "2022-02-09T00:00:00",
          "2022-02-10T00:00:00",
          "2022-02-11T00:00:00",
          "2022-02-12T00:00:00",
          "2022-02-13T00:00:00",
          "2022-02-14T00:00:00",
          "2022-02-15T00:00:00",
          "2022-02-16T00:00:00",
          "2022-02-17T00:00:00",
          "2022-02-18T00:00:00",
          "2022-02-19T00:00:00",
          "2022-02-20T00:00:00",
          "2022-02-21T00:00:00",
          "2022-02-22T00:00:00",
          "2022-02-23T00:00:00",
          "2022-02-24T00:00:00",
          "2022-02-25T00:00:00",
          "2022-02-26T00:00:00",
          "2022-02-27T00:00:00",
          "2022-02-28T00:00:00",
          "2022-03-01T00:00:00",
          "2022-03-02T00:00:00",
          "2022-03-03T00:00:00",
          "2022-03-04T00:00:00",
          "2022-03-05T00:00:00",
          "2022-03-06T00:00:00",
          "2022-03-07T00:00:00",
          "2022-03-08T00:00:00",
          "2022-03-09T00:00:00",
          "2022-03-10T00:00:00",
          "2022-03-11T00:00:00",
          "2022-03-12T00:00:00",
          "2022-03-13T00:00:00",
          "2022-03-14T00:00:00",
          "2022-03-15T00:00:00",
          "2022-03-16T00:00:00",
          "2022-03-17T00:00:00",
          "2022-03-18T00:00:00",
          "2022-03-19T00:00:00",
          "2022-03-20T00:00:00",
          "2022-03-21T00:00:00",
          "2022-03-22T00:00:00",
          "2022-03-23T00:00:00",
          "2022-03-24T00:00:00",
          "2022-03-25T00:00:00",
          "2022-03-26T00:00:00",
          "2022-03-27T00:00:00",
          "2022-03-28T00:00:00",
          "2022-03-29T00:00:00",
          "2022-03-30T00:00:00",
          "2022-03-31T00:00:00",
          "2022-04-01T00:00:00",
          "2022-04-02T00:00:00",
          "2022-04-03T00:00:00",
          "2022-04-04T00:00:00",
          "2022-04-05T00:00:00",
          "2022-04-06T00:00:00",
          "2022-04-07T00:00:00",
          "2022-04-08T00:00:00",
          "2022-04-09T00:00:00",
          "2022-04-10T00:00:00",
          "2022-04-11T00:00:00",
          "2022-04-12T00:00:00",
          "2022-04-13T00:00:00",
          "2022-04-14T00:00:00",
          "2022-04-15T00:00:00",
          "2022-04-16T00:00:00",
          "2022-04-17T00:00:00",
          "2022-04-18T00:00:00",
          "2022-04-19T00:00:00",
          "2022-04-20T00:00:00",
          "2022-04-21T00:00:00",
          "2022-04-22T00:00:00",
          "2022-04-23T00:00:00",
          "2022-04-24T00:00:00",
          "2022-04-25T00:00:00",
          "2022-04-26T00:00:00",
          "2022-04-27T00:00:00",
          "2022-04-28T00:00:00",
          "2022-04-29T00:00:00",
          "2022-04-30T00:00:00",
          "2022-05-01T00:00:00",
          "2022-05-02T00:00:00",
          "2022-05-03T00:00:00",
          "2022-05-04T00:00:00",
          "2022-05-05T00:00:00",
          "2022-05-06T00:00:00",
          "2022-05-07T00:00:00",
          "2022-05-08T00:00:00",
          "2022-05-09T00:00:00",
          "2022-05-10T00:00:00",
          "2022-05-11T00:00:00",
          "2022-05-12T00:00:00",
          "2022-05-13T00:00:00",
          "2022-05-14T00:00:00",
          "2022-05-15T00:00:00",
          "2022-05-16T00:00:00",
          "2022-05-17T00:00:00",
          "2022-05-18T00:00:00",
          "2022-05-19T00:00:00",
          "2022-05-20T00:00:00",
          "2022-05-21T00:00:00",
          "2022-05-22T00:00:00",
          "2022-05-23T00:00:00",
          "2022-05-24T00:00:00",
          "2022-05-25T00:00:00",
          "2022-05-26T00:00:00",
          "2022-05-27T00:00:00",
          "2022-05-28T00:00:00",
          "2022-05-29T00:00:00",
          "2022-05-30T00:00:00",
          "2022-05-31T00:00:00",
          "2022-06-01T00:00:00",
          "2022-06-02T00:00:00",
          "2022-06-03T00:00:00",
          "2022-06-04T00:00:00",
          "2022-06-05T00:00:00",
          "2022-06-06T00:00:00",
          "2022-06-07T00:00:00",
          "2022-06-08T00:00:00",
          "2022-06-09T00:00:00",
          "2022-06-10T00:00:00",
          "2022-06-11T00:00:00",
          "2022-06-12T00:00:00",
          "2022-06-13T00:00:00",
          "2022-06-14T00:00:00",
          "2022-06-15T00:00:00",
          "2022-06-16T00:00:00",
          "2022-06-17T00:00:00",
          "2022-06-18T00:00:00",
          "2022-06-19T00:00:00",
          "2022-06-20T00:00:00",
          "2022-06-21T00:00:00",
          "2022-06-22T00:00:00",
          "2022-06-23T00:00:00",
          "2022-06-24T00:00:00",
          "2022-06-25T00:00:00",
          "2022-06-26T00:00:00",
          "2022-06-27T00:00:00",
          "2022-06-28T00:00:00",
          "2022-06-29T00:00:00",
          "2022-06-30T00:00:00",
          "2022-07-01T00:00:00",
          "2022-07-02T00:00:00",
          "2022-07-03T00:00:00",
          "2022-07-04T00:00:00",
          "2022-07-05T00:00:00",
          "2022-07-06T00:00:00",
          "2022-07-07T00:00:00",
          "2022-07-08T00:00:00",
          "2022-07-09T00:00:00",
          "2022-07-10T00:00:00",
          "2022-07-11T00:00:00",
          "2022-07-12T00:00:00",
          "2022-07-13T00:00:00",
          "2022-07-14T00:00:00",
          "2022-07-15T00:00:00",
          "2022-07-16T00:00:00",
          "2022-07-17T00:00:00",
          "2022-07-18T00:00:00",
          "2022-07-19T00:00:00",
          "2022-07-20T00:00:00",
          "2022-07-21T00:00:00",
          "2022-07-22T00:00:00",
          "2022-07-23T00:00:00",
          "2022-07-24T00:00:00",
          "2022-07-25T00:00:00",
          "2022-07-26T00:00:00",
          "2022-07-27T00:00:00",
          "2022-07-28T00:00:00",
          "2022-07-29T00:00:00",
          "2022-07-30T00:00:00",
          "2022-07-31T00:00:00",
          "2022-08-01T00:00:00",
          "2022-08-02T00:00:00",
          "2022-08-03T00:00:00",
          "2022-08-04T00:00:00",
          "2022-08-05T00:00:00",
          "2022-08-06T00:00:00",
          "2022-08-07T00:00:00",
          "2022-08-08T00:00:00",
          "2022-08-09T00:00:00",
          "2022-08-10T00:00:00",
          "2022-08-11T00:00:00",
          "2022-08-12T00:00:00",
          "2022-08-13T00:00:00",
          "2022-08-14T00:00:00",
          "2022-08-15T00:00:00",
          "2022-08-16T00:00:00",
          "2022-08-17T00:00:00",
          "2022-08-18T00:00:00",
          "2022-08-19T00:00:00",
          "2022-08-20T00:00:00",
          "2022-08-21T00:00:00",
          "2022-08-22T00:00:00",
          "2022-08-23T00:00:00",
          "2022-08-24T00:00:00",
          "2022-08-25T00:00:00",
          "2022-08-26T00:00:00",
          "2022-08-27T00:00:00",
          "2022-08-28T00:00:00",
          "2022-08-29T00:00:00",
          "2022-08-30T00:00:00",
          "2022-08-31T00:00:00",
          "2022-09-01T00:00:00",
          "2022-09-02T00:00:00",
          "2022-09-03T00:00:00",
          "2022-09-04T00:00:00",
          "2022-09-05T00:00:00",
          "2022-09-06T00:00:00",
          "2022-09-07T00:00:00",
          "2022-09-08T00:00:00",
          "2022-09-09T00:00:00",
          "2022-09-10T00:00:00",
          "2022-09-11T00:00:00",
          "2022-09-12T00:00:00",
          "2022-09-13T00:00:00",
          "2022-09-14T00:00:00",
          "2022-09-15T00:00:00",
          "2022-09-16T00:00:00",
          "2022-09-17T00:00:00",
          "2022-09-18T00:00:00",
          "2022-09-19T00:00:00",
          "2022-09-20T00:00:00",
          "2022-09-21T00:00:00",
          "2022-09-22T00:00:00",
          "2022-09-23T00:00:00",
          "2022-09-24T00:00:00",
          "2022-09-25T00:00:00",
          "2022-09-26T00:00:00",
          "2022-09-27T00:00:00",
          "2022-09-28T00:00:00",
          "2022-09-29T00:00:00",
          "2022-09-30T00:00:00",
          "2022-10-01T00:00:00",
          "2022-10-02T00:00:00",
          "2022-10-03T00:00:00",
          "2022-10-04T00:00:00",
          "2022-10-05T00:00:00",
          "2022-10-06T00:00:00",
          "2022-10-07T00:00:00",
          "2022-10-08T00:00:00",
          "2022-10-09T00:00:00",
          "2022-10-10T00:00:00",
          "2022-10-11T00:00:00",
          "2022-10-12T00:00:00",
          "2022-10-13T00:00:00",
          "2022-10-14T00:00:00",
          "2022-10-15T00:00:00",
          "2022-10-16T00:00:00",
          "2022-10-17T00:00:00",
          "2022-10-18T00:00:00",
          "2022-10-19T00:00:00",
          "2022-10-20T00:00:00",
          "2022-10-21T00:00:00",
          "2022-10-22T00:00:00",
          "2022-10-23T00:00:00",
          "2022-10-24T00:00:00",
          "2022-10-25T00:00:00",
          "2022-10-26T00:00:00",
          "2022-10-27T00:00:00",
          "2022-10-28T00:00:00",
          "2022-10-29T00:00:00",
          "2022-10-30T00:00:00",
          "2022-10-31T00:00:00",
          "2022-11-01T00:00:00",
          "2022-11-02T00:00:00",
          "2022-11-03T00:00:00",
          "2022-11-04T00:00:00",
          "2022-11-05T00:00:00",
          "2022-11-06T00:00:00",
          "2022-11-07T00:00:00",
          "2022-11-08T00:00:00",
          "2022-11-09T00:00:00",
          "2022-11-10T00:00:00",
          "2022-11-11T00:00:00",
          "2022-11-12T00:00:00",
          "2022-11-13T00:00:00",
          "2022-11-14T00:00:00",
          "2022-11-15T00:00:00",
          "2022-11-16T00:00:00",
          "2022-11-17T00:00:00",
          "2022-11-18T00:00:00",
          "2022-11-19T00:00:00",
          "2022-11-20T00:00:00",
          "2022-11-21T00:00:00",
          "2022-11-22T00:00:00",
          "2022-11-23T00:00:00",
          "2022-11-24T00:00:00",
          "2022-11-25T00:00:00",
          "2022-11-26T00:00:00",
          "2022-11-27T00:00:00",
          "2022-11-28T00:00:00",
          "2022-11-29T00:00:00",
          "2022-11-30T00:00:00",
          "2022-12-01T00:00:00",
          "2022-12-02T00:00:00",
          "2022-12-03T00:00:00",
          "2022-12-04T00:00:00",
          "2022-12-05T00:00:00",
          "2022-12-06T00:00:00",
          "2022-12-07T00:00:00",
          "2022-12-08T00:00:00",
          "2022-12-09T00:00:00",
          "2022-12-10T00:00:00",
          "2022-12-11T00:00:00",
          "2022-12-12T00:00:00",
          "2022-12-13T00:00:00",
          "2022-12-14T00:00:00",
          "2022-12-15T00:00:00",
          "2022-12-16T00:00:00",
          "2022-12-17T00:00:00",
          "2022-12-18T00:00:00",
          "2022-12-19T00:00:00",
          "2022-12-20T00:00:00",
          "2022-12-21T00:00:00",
          "2022-12-22T00:00:00",
          "2022-12-23T00:00:00",
          "2022-12-24T00:00:00",
          "2022-12-25T00:00:00",
          "2022-12-26T00:00:00",
          "2022-12-27T00:00:00",
          "2022-12-28T00:00:00",
          "2022-12-29T00:00:00",
          "2022-12-30T00:00:00",
          "2022-12-31T00:00:00",
          "2023-01-01T00:00:00",
          "2023-01-02T00:00:00",
          "2023-01-03T00:00:00",
          "2023-01-04T00:00:00",
          "2023-01-05T00:00:00",
          "2023-01-06T00:00:00",
          "2023-01-07T00:00:00",
          "2023-01-08T00:00:00",
          "2023-01-09T00:00:00",
          "2023-01-10T00:00:00",
          "2023-01-11T00:00:00",
          "2023-01-12T00:00:00",
          "2023-01-13T00:00:00",
          "2023-01-14T00:00:00",
          "2023-01-15T00:00:00",
          "2023-01-16T00:00:00",
          "2023-01-17T00:00:00",
          "2023-01-18T00:00:00",
          "2023-01-19T00:00:00",
          "2023-01-20T00:00:00",
          "2023-01-21T00:00:00",
          "2023-01-22T00:00:00",
          "2023-01-23T00:00:00",
          "2023-01-24T00:00:00",
          "2023-01-25T00:00:00",
          "2023-01-26T00:00:00",
          "2023-01-27T00:00:00",
          "2023-01-28T00:00:00",
          "2023-01-29T00:00:00",
          "2023-01-30T00:00:00",
          "2023-01-31T00:00:00",
          "2023-02-01T00:00:00",
          "2023-02-02T00:00:00",
          "2023-02-03T00:00:00",
          "2023-02-04T00:00:00",
          "2023-02-05T00:00:00",
          "2023-02-06T00:00:00",
          "2023-02-07T00:00:00",
          "2023-02-08T00:00:00",
          "2023-02-09T00:00:00",
          "2023-02-10T00:00:00",
          "2023-02-11T00:00:00",
          "2023-02-12T00:00:00",
          "2023-02-13T00:00:00",
          "2023-02-14T00:00:00",
          "2023-02-15T00:00:00",
          "2023-02-16T00:00:00",
          "2023-02-17T00:00:00",
          "2023-02-18T00:00:00",
          "2023-02-19T00:00:00",
          "2023-02-20T00:00:00",
          "2023-02-21T00:00:00",
          "2023-02-22T00:00:00",
          "2023-02-23T00:00:00",
          "2023-02-24T00:00:00",
          "2023-02-25T00:00:00",
          "2023-02-26T00:00:00",
          "2023-02-27T00:00:00",
          "2023-02-28T00:00:00",
          "2023-03-01T00:00:00",
          "2023-03-02T00:00:00",
          "2023-03-03T00:00:00",
          "2023-03-04T00:00:00",
          "2023-03-05T00:00:00",
          "2023-03-06T00:00:00",
          "2023-03-07T00:00:00",
          "2023-03-08T00:00:00",
          "2023-03-09T00:00:00",
          "2023-03-10T00:00:00",
          "2023-03-11T00:00:00",
          "2023-03-12T00:00:00",
          "2023-03-13T00:00:00",
          "2023-03-14T00:00:00",
          "2023-03-15T00:00:00",
          "2023-03-16T00:00:00",
          "2023-03-17T00:00:00",
          "2023-03-18T00:00:00",
          "2023-03-19T00:00:00",
          "2023-03-20T00:00:00",
          "2023-03-21T00:00:00",
          "2023-03-22T00:00:00",
          "2023-03-23T00:00:00",
          "2023-03-24T00:00:00",
          "2023-03-25T00:00:00",
          "2023-03-26T00:00:00",
          "2023-03-27T00:00:00",
          "2023-03-28T00:00:00",
          "2023-03-29T00:00:00",
          "2023-03-30T00:00:00",
          "2023-03-31T00:00:00",
          "2023-04-01T00:00:00",
          "2023-04-02T00:00:00",
          "2023-04-03T00:00:00",
          "2023-04-04T00:00:00",
          "2023-04-05T00:00:00",
          "2023-04-06T00:00:00",
          "2023-04-07T00:00:00",
          "2023-04-08T00:00:00",
          "2023-04-09T00:00:00",
          "2023-04-10T00:00:00",
          "2023-04-11T00:00:00",
          "2023-04-12T00:00:00",
          "2023-04-13T00:00:00",
          "2023-04-14T00:00:00",
          "2023-04-15T00:00:00",
          "2023-04-16T00:00:00",
          "2023-04-17T00:00:00",
          "2023-04-18T00:00:00",
          "2023-04-19T00:00:00",
          "2023-04-20T00:00:00",
          "2023-04-21T00:00:00",
          "2023-04-22T00:00:00",
          "2023-04-23T00:00:00",
          "2023-04-24T00:00:00",
          "2023-04-25T00:00:00",
          "2023-04-26T00:00:00",
          "2023-04-27T00:00:00",
          "2023-04-28T00:00:00",
          "2023-04-29T00:00:00",
          "2023-04-30T00:00:00",
          "2023-05-01T00:00:00",
          "2023-05-02T00:00:00",
          "2023-05-03T00:00:00",
          "2023-05-04T00:00:00",
          "2023-05-05T00:00:00",
          "2023-05-06T00:00:00",
          "2023-05-07T00:00:00",
          "2023-05-08T00:00:00",
          "2023-05-09T00:00:00",
          "2023-05-10T00:00:00",
          "2023-05-11T00:00:00",
          "2023-05-12T00:00:00",
          "2023-05-13T00:00:00",
          "2023-05-14T00:00:00",
          "2023-05-15T00:00:00",
          "2023-05-16T00:00:00",
          "2023-05-17T00:00:00",
          "2023-05-18T00:00:00",
          "2023-05-19T00:00:00",
          "2023-05-20T00:00:00",
          "2023-05-21T00:00:00",
          "2023-05-22T00:00:00",
          "2023-05-23T00:00:00",
          "2023-05-24T00:00:00",
          "2023-05-25T00:00:00",
          "2023-05-26T00:00:00",
          "2023-05-27T00:00:00",
          "2023-05-28T00:00:00",
          "2023-05-29T00:00:00",
          "2023-05-30T00:00:00",
          "2023-05-31T00:00:00",
          "2023-06-01T00:00:00",
          "2023-06-02T00:00:00",
          "2023-06-03T00:00:00",
          "2023-06-04T00:00:00",
          "2023-06-05T00:00:00",
          "2023-06-06T00:00:00",
          "2023-06-07T00:00:00",
          "2023-06-08T00:00:00",
          "2023-06-09T00:00:00",
          "2023-06-10T00:00:00",
          "2023-06-11T00:00:00",
          "2023-06-12T00:00:00",
          "2023-06-13T00:00:00",
          "2023-06-14T00:00:00",
          "2023-06-15T00:00:00",
          "2023-06-16T00:00:00",
          "2023-06-17T00:00:00",
          "2023-06-18T00:00:00",
          "2023-06-19T00:00:00",
          "2023-06-20T00:00:00",
          "2023-06-21T00:00:00",
          "2023-06-22T00:00:00",
          "2023-06-23T00:00:00",
          "2023-06-24T00:00:00",
          "2023-06-25T00:00:00",
          "2023-06-26T00:00:00",
          "2023-06-27T00:00:00",
          "2023-06-28T00:00:00",
          "2023-06-29T00:00:00",
          "2023-06-30T00:00:00",
          "2023-07-01T00:00:00",
          "2023-07-02T00:00:00",
          "2023-07-03T00:00:00",
          "2023-07-04T00:00:00",
          "2023-07-05T00:00:00",
          "2023-07-06T00:00:00",
          "2023-07-07T00:00:00",
          "2023-07-08T00:00:00",
          "2023-07-09T00:00:00",
          "2023-07-10T00:00:00",
          "2023-07-11T00:00:00",
          "2023-07-12T00:00:00",
          "2023-07-13T00:00:00",
          "2023-07-14T00:00:00",
          "2023-07-15T00:00:00",
          "2023-07-16T00:00:00",
          "2023-07-17T00:00:00",
          "2023-07-18T00:00:00",
          "2023-07-19T00:00:00",
          "2023-07-20T00:00:00",
          "2023-07-21T00:00:00",
          "2023-07-22T00:00:00",
          "2023-07-23T00:00:00",
          "2023-07-24T00:00:00",
          "2023-07-25T00:00:00",
          "2023-07-26T00:00:00",
          "2023-07-27T00:00:00",
          "2023-07-28T00:00:00",
          "2023-07-29T00:00:00",
          "2023-07-30T00:00:00",
          "2023-07-31T00:00:00",
          "2023-08-01T00:00:00",
          "2023-08-02T00:00:00",
          "2023-08-03T00:00:00",
          "2023-08-04T00:00:00",
          "2023-08-05T00:00:00",
          "2023-08-06T00:00:00",
          "2023-08-07T00:00:00",
          "2023-08-08T00:00:00",
          "2023-08-09T00:00:00",
          "2023-08-10T00:00:00",
          "2023-08-11T00:00:00",
          "2023-08-12T00:00:00",
          "2023-08-13T00:00:00",
          "2023-08-14T00:00:00",
          "2023-08-15T00:00:00",
          "2023-08-16T00:00:00",
          "2023-08-17T00:00:00",
          "2023-08-18T00:00:00",
          "2023-08-19T00:00:00",
          "2023-08-20T00:00:00",
          "2023-08-21T00:00:00",
          "2023-08-22T00:00:00",
          "2023-08-23T00:00:00",
          "2023-08-24T00:00:00",
          "2023-08-25T00:00:00",
          "2023-08-26T00:00:00",
          "2023-08-27T00:00:00",
          "2023-08-28T00:00:00",
          "2023-08-29T00:00:00",
          "2023-08-30T00:00:00",
          "2023-08-31T00:00:00",
          "2023-09-01T00:00:00",
          "2023-09-02T00:00:00",
          "2023-09-03T00:00:00",
          "2023-09-04T00:00:00",
          "2023-09-05T00:00:00",
          "2023-09-06T00:00:00",
          "2023-09-07T00:00:00",
          "2023-09-08T00:00:00",
          "2023-09-09T00:00:00",
          "2023-09-10T00:00:00",
          "2023-09-11T00:00:00",
          "2023-09-12T00:00:00",
          "2023-09-13T00:00:00",
          "2023-09-14T00:00:00",
          "2023-09-15T00:00:00",
          "2023-09-16T00:00:00",
          "2023-09-17T00:00:00",
          "2023-09-18T00:00:00",
          "2023-09-19T00:00:00",
          "2023-09-20T00:00:00",
          "2023-09-21T00:00:00",
          "2023-09-22T00:00:00",
          "2023-09-23T00:00:00",
          "2023-09-24T00:00:00",
          "2023-09-25T00:00:00",
          "2023-09-26T00:00:00",
          "2023-09-27T00:00:00",
          "2023-09-28T00:00:00",
          "2023-09-29T00:00:00",
          "2023-09-30T00:00:00",
          "2023-10-01T00:00:00",
          "2023-10-02T00:00:00",
          "2023-10-03T00:00:00",
          "2023-10-04T00:00:00",
          "2023-10-05T00:00:00",
          "2023-10-06T00:00:00",
          "2023-10-07T00:00:00",
          "2023-10-08T00:00:00",
          "2023-10-09T00:00:00",
          "2023-10-10T00:00:00",
          "2023-10-11T00:00:00",
          "2023-10-12T00:00:00",
          "2023-10-13T00:00:00",
          "2023-10-14T00:00:00",
          "2023-10-15T00:00:00",
          "2023-10-16T00:00:00",
          "2023-10-17T00:00:00",
          "2023-10-18T00:00:00",
          "2023-10-19T00:00:00",
          "2023-10-20T00:00:00",
          "2023-10-21T00:00:00",
          "2023-10-22T00:00:00",
          "2023-10-23T00:00:00",
          "2023-10-24T00:00:00",
          "2023-10-25T00:00:00",
          "2023-10-26T00:00:00",
          "2023-10-27T00:00:00",
          "2023-10-28T00:00:00",
          "2023-10-29T00:00:00",
          "2023-10-30T00:00:00",
          "2023-10-31T00:00:00",
          "2023-11-01T00:00:00",
          "2023-11-02T00:00:00",
          "2023-11-03T00:00:00",
          "2023-11-04T00:00:00",
          "2023-11-05T00:00:00",
          "2023-11-06T00:00:00",
          "2023-11-07T00:00:00",
          "2023-11-08T00:00:00",
          "2023-11-09T00:00:00",
          "2023-11-10T00:00:00",
          "2023-11-11T00:00:00",
          "2023-11-12T00:00:00",
          "2023-11-13T00:00:00",
          "2023-11-14T00:00:00",
          "2023-11-15T00:00:00",
          "2023-11-16T00:00:00",
          "2023-11-17T00:00:00",
          "2023-11-18T00:00:00",
          "2023-11-19T00:00:00",
          "2023-11-20T00:00:00",
          "2023-11-21T00:00:00",
          "2023-11-22T00:00:00",
          "2023-11-23T00:00:00",
          "2023-11-24T00:00:00",
          "2023-11-25T00:00:00",
          "2023-11-26T00:00:00",
          "2023-11-27T00:00:00",
          "2023-11-28T00:00:00",
          "2023-11-29T00:00:00",
          "2023-11-30T00:00:00",
          "2023-12-01T00:00:00",
          "2023-12-02T00:00:00",
          "2023-12-03T00:00:00",
          "2023-12-04T00:00:00",
          "2023-12-05T00:00:00",
          "2023-12-06T00:00:00",
          "2023-12-07T00:00:00",
          "2023-12-08T00:00:00",
          "2023-12-09T00:00:00",
          "2023-12-10T00:00:00",
          "2023-12-11T00:00:00",
          "2023-12-12T00:00:00",
          "2023-12-13T00:00:00",
          "2023-12-14T00:00:00",
          "2023-12-15T00:00:00",
          "2023-12-16T00:00:00",
          "2023-12-17T00:00:00",
          "2023-12-18T00:00:00",
          "2023-12-19T00:00:00",
          "2023-12-20T00:00:00",
          "2023-12-21T00:00:00",
          "2023-12-22T00:00:00",
          "2023-12-23T00:00:00",
          "2023-12-24T00:00:00",
          "2023-12-25T00:00:00",
          "2023-12-26T00:00:00",
          "2023-12-27T00:00:00",
          "2023-12-28T00:00:00",
          "2023-12-29T00:00:00",
          "2023-12-30T00:00:00",
          "2023-12-31T00:00:00",
          "2024-01-01T00:00:00",
          "2024-01-02T00:00:00",
          "2024-01-03T00:00:00",
          "2024-01-04T00:00:00",
          "2024-01-05T00:00:00",
          "2024-01-06T00:00:00",
          "2024-01-07T00:00:00",
          "2024-01-08T00:00:00",
          "2024-01-09T00:00:00",
          "2024-01-10T00:00:00",
          "2024-01-11T00:00:00",
          "2024-01-12T00:00:00",
          "2024-01-13T00:00:00",
          "2024-01-14T00:00:00",
          "2024-01-15T00:00:00",
          "2024-01-16T00:00:00",
          "2024-01-17T00:00:00",
          "2024-01-18T00:00:00",
          "2024-01-19T00:00:00",
          "2024-01-20T00:00:00",
          "2024-01-21T00:00:00",
          "2024-01-22T00:00:00",
          "2024-01-23T00:00:00",
          "2024-01-24T00:00:00",
          "2024-01-25T00:00:00",
          "2024-01-26T00:00:00",
          "2024-01-27T00:00:00",
          "2024-01-28T00:00:00",
          "2024-01-29T00:00:00",
          "2024-01-30T00:00:00",
          "2024-01-31T00:00:00",
          "2024-02-01T00:00:00",
          "2024-02-02T00:00:00",
          "2024-02-03T00:00:00",
          "2024-02-04T00:00:00",
          "2024-02-05T00:00:00",
          "2024-02-06T00:00:00",
          "2024-02-07T00:00:00",
          "2024-02-08T00:00:00",
          "2024-02-09T00:00:00",
          "2024-02-10T00:00:00",
          "2024-02-11T00:00:00",
          "2024-02-12T00:00:00",
          "2024-02-13T00:00:00",
          "2024-02-14T00:00:00",
          "2024-02-15T00:00:00",
          "2024-02-16T00:00:00",
          "2024-02-17T00:00:00",
          "2024-02-18T00:00:00",
          "2024-02-19T00:00:00",
          "2024-02-20T00:00:00",
          "2024-02-21T00:00:00",
          "2024-02-22T00:00:00",
          "2024-02-23T00:00:00",
          "2024-02-24T00:00:00",
          "2024-02-25T00:00:00",
          "2024-02-26T00:00:00",
          "2024-02-27T00:00:00",
          "2024-02-28T00:00:00",
          "2024-02-29T00:00:00"
         ],
         "y": [
          -0.283338,
          -0.20286518,
          -0.60651416,
          -0.28410858,
          -0.41458434,
          -0.26542062,
          -0.141015,
          -0.3047667,
          -0.31303853,
          -0.24925154,
          -0.42491132,
          -0.4499877,
          -0.2842974,
          -0.2670259,
          -0.41244096,
          -0.34859127,
          -0.44552785,
          -0.50988644,
          -0.34067625,
          -0.17354494,
          -0.21683484,
          -0.40972763,
          -0.30441505,
          -0.40885323,
          -0.36436707,
          -0.29623574,
          -0.24656194,
          -0.42775804,
          -0.2412948,
          -0.57384735,
          -0.38837582,
          -0.38714856,
          -0.1545332,
          -0.47968894,
          -0.28006953,
          -0.17885011,
          -0.43436462,
          -0.43220407,
          -0.2640187,
          -0.21470457,
          -0.17777997,
          -0.44953042,
          -0.13108045,
          -0.19519967,
          -0.2487517,
          -0.18572837,
          -0.13526171,
          -0.11063796,
          -0.32278997,
          -0.33473355,
          -0.07978898,
          -0.17142755,
          -0.39453524,
          -0.2533049,
          -0.3085044,
          -0.29353863,
          -0.22594124,
          -0.1238541,
          -0.18542773,
          -0.12675375,
          -0.4198566,
          -0.08393234,
          -0.19868225,
          -0.3662166,
          -0.2004779,
          -0.24772793,
          -0.11876243,
          -0.28577715,
          -0.2809456,
          -0.36375898,
          -0.23132902,
          -0.2893929,
          -0.033114612,
          -0.15148991,
          -0.15469462,
          -0.57502633,
          -0.17985147,
          -0.40301996,
          -0.19438964,
          -0.28455454,
          -0.34834403,
          -0.20945936,
          -0.17893142,
          -0.42230004,
          -0.042319715,
          -0.35676914,
          -0.2807681,
          -0.43778068,
          -0.24542195,
          -0.32771736,
          -0.46655923,
          -0.23498434,
          -0.3303631,
          -0.44582206,
          -0.33642834,
          -0.36478,
          -0.2969249,
          -0.35637766,
          -0.17232054,
          -0.30250913,
          -0.29893917,
          -0.41154307,
          -0.40811783,
          -0.3352545,
          -0.05369681,
          -0.19993716,
          -0.20835513,
          -0.446258,
          -0.5143046,
          -0.04426974,
          -0.4146852,
          -0.396334,
          -0.38250524,
          -0.23219317,
          -0.29890436,
          -0.2892583,
          -0.2639163,
          -0.40183765,
          -0.5706318,
          -0.27746564,
          -0.33730453,
          -0.3113994,
          -0.20764607,
          -0.4418046,
          -0.026360452,
          -0.50395304,
          -0.3609181,
          -0.3855967,
          -0.2649538,
          -0.23380572,
          -0.11846942,
          -0.19242805,
          -0.31912333,
          -0.058526933,
          -0.26773864,
          -0.42489463,
          -0.35039288,
          -0.1561498,
          -0.33022934,
          -0.5639207,
          -0.17202896,
          -0.46462148,
          -0.5655865,
          -0.22095007,
          -0.36287993,
          -0.12528378,
          -0.27273768,
          -0.22899991,
          -0.3791731,
          -0.26359683,
          -0.19426852,
          -0.27932888,
          -0.41862088,
          -0.19847387,
          0.04363203,
          -0.31195813,
          -0.20117122,
          -0.41844255,
          -0.27923352,
          -0.5377318,
          -0.30234748,
          -0.27805752,
          -0.20743042,
          -0.37821525,
          -0.46562117,
          -0.359963,
          -0.3116123,
          -0.3556338,
          -0.16963202,
          -0.37099737,
          -0.30089384,
          -0.29079777,
          -0.28207988,
          -0.29893988,
          -0.18327254,
          -0.30911165,
          -0.3359328,
          -0.39238352,
          -0.02625519,
          -0.07559842,
          -0.13044006,
          -0.26951963,
          -0.07637447,
          0.05615604,
          -0.29454046,
          -0.33192092,
          -0.21734959,
          -0.20980817,
          -0.6608868,
          -0.057351887,
          -0.23229188,
          -0.49055415,
          -0.48365778,
          -0.19122797,
          -0.4586317,
          -0.35154945,
          -0.16902763,
          -0.2807774,
          -0.21151298,
          -0.32444793,
          -0.31686062,
          0.010513246,
          -0.14848703,
          -0.34787863,
          -0.25017542,
          -0.22709185,
          -0.23564988,
          -0.112989604,
          -0.1305793,
          -0.32872182,
          -0.28293556,
          -0.17478198,
          -0.09389609,
          -0.1122579,
          -0.3866126,
          -0.052736342,
          -0.38079625,
          -0.06667584,
          -0.14029366,
          -0.32750326,
          -0.38013738,
          -0.254937,
          -0.41690046,
          -0.25437993,
          -0.11021477,
          -0.18755728,
          -0.6106679,
          -0.3694908,
          -0.31268162,
          -0.07333332,
          -0.08869356,
          -0.14641994,
          -0.32947415,
          -0.24470598,
          -0.28671855,
          -0.4669487,
          -0.109018624,
          -0.14204258,
          -0.11811346,
          -0.23953146,
          -0.06668478,
          -0.37675375,
          -0.1800006,
          -0.5885851,
          -0.31095153,
          -0.45139235,
          -0.13769811,
          -0.49328405,
          -0.3547681,
          -0.25192112,
          -0.5002169,
          -0.40303224,
          -0.13549083,
          -0.18680304,
          -0.6610666,
          -0.41620725,
          0.10170162,
          -0.18991596,
          -0.48199087,
          -0.3480113,
          -0.3441314,
          -0.39285964,
          -0.30798727,
          -0.2666704,
          -0.31211716,
          -0.4493863,
          -0.38280648,
          -0.4988771,
          -0.4852739,
          -0.3359595,
          -0.34893936,
          -0.2844115,
          -0.17712778,
          -0.2246893,
          -0.042142212,
          -0.26862437,
          -0.17158753,
          -0.3392579,
          -0.28052133,
          0.052939534,
          0.017282486,
          -0.49237102,
          -0.2866928,
          -0.21978623,
          -0.49821883,
          -0.15493137,
          -0.24207026,
          -0.043773353,
          -0.27050108,
          -0.49469906,
          -0.556912,
          -0.0018860698,
          -0.30433995,
          -0.21725959,
          -0.539494,
          -0.17140454,
          -0.033751547,
          -0.25403553,
          -0.46825904,
          -0.07795066,
          -0.5404933,
          -0.29115707,
          -0.2983759,
          -0.16670078,
          -0.17013735,
          -0.4164495,
          -0.19616586,
          -0.31648153,
          -0.43403763,
          -0.19123131,
          -0.59928924,
          -0.28938133,
          -0.39747018,
          -0.37617892,
          -0.3305655,
          -0.30810708,
          -0.3103376,
          -0.45938605,
          -0.34953493,
          -0.20669526,
          -0.30753678,
          -0.33813435,
          -0.15200049,
          -0.2704311,
          -0.5572372,
          -0.23785692,
          -0.32975453,
          -0.45057207,
          -0.39316052,
          -0.6206494,
          -0.20398408,
          -0.23843187,
          -0.094913065,
          -0.6655932,
          -0.33435673,
          -0.43492228,
          -0.47385317,
          -0.76085013,
          -0.5853177,
          -0.54289454,
          -0.5231313,
          -0.34689635,
          -0.3219474,
          -0.4450807,
          -0.47030503,
          -0.37492114,
          -0.72315127,
          -0.44755894,
          -0.46880645,
          -0.34584588,
          -0.5058947,
          -0.3771829,
          -0.57558197,
          -0.67576784,
          -0.424061,
          -0.33508414,
          -0.5092128,
          -0.32748514,
          -0.41278917,
          -0.62437946,
          -0.30593592,
          -0.36029643,
          -0.5856294,
          -0.30927593,
          -0.7040847,
          -0.46386737,
          -0.43872005,
          -0.6263204,
          -0.52958554,
          -0.34492666,
          -0.19242448,
          -0.17682046,
          -0.23378009,
          -0.27088338,
          -0.5932278,
          -0.18410152,
          -0.1537624,
          -0.5435348,
          -0.4424289,
          -0.51538557,
          -0.28620523,
          -0.49245793,
          -0.6177067,
          -0.42725533,
          -0.17289299,
          -0.36159307,
          -0.4038257,
          -0.6222556,
          -0.49599975,
          -0.83331627,
          -0.30507892,
          -0.7494772,
          -0.28404886,
          -0.58256906,
          -0.2274037,
          -0.54104835,
          -0.51805204,
          -0.3788026,
          -0.3760355,
          -0.5061709,
          -0.5252771,
          -0.6738189,
          -0.532394,
          -0.2579741,
          -0.4501366,
          -0.59348375,
          -0.37480456,
          -0.53275245,
          -0.3199044,
          -0.30660588,
          -0.79854697,
          -0.30624658,
          -0.34831744,
          -0.3721128,
          -0.79747945,
          -0.95423144,
          -0.5148633,
          -0.35396367,
          -0.63162893,
          -0.4712307,
          -0.26560074,
          -0.4566328,
          -0.47821432,
          -0.4718613,
          -0.55343074,
          -0.40919274,
          -0.47937816,
          -0.4673242,
          -0.3945709,
          -0.39906055,
          -0.3810771,
          -0.5098048,
          -0.54183,
          -0.71524626,
          -0.74787635,
          -0.54077893,
          -0.5516655,
          -0.6415425,
          -0.51955146,
          -0.7417639,
          -0.61050206,
          -0.4364727,
          -0.44638985,
          -0.4954428,
          -0.5883729,
          -0.451819,
          -0.4544924,
          -0.85225874,
          -0.5542703,
          -0.5999251,
          -0.7869186,
          -0.6254615,
          -0.565973,
          -0.46254796,
          -0.66338164,
          -0.37492377,
          -0.58439225,
          -0.5247337,
          -0.339382,
          -0.2319228,
          -0.5757956,
          -0.47575706,
          -0.46874577,
          -0.38834113,
          -0.4569524,
          -0.6446739,
          -0.3662204,
          -0.39200908,
          -0.42398447,
          -0.6155116,
          -0.4673031,
          -0.59420246,
          -0.6406948,
          -0.5735578,
          -0.6476622,
          -0.3944413,
          -0.6246399,
          -0.51064414,
          -0.34160823,
          -0.536179,
          -0.50513655,
          -0.34821433,
          -0.60163194,
          -0.38593382,
          -0.4301209,
          -0.4278658,
          -0.2263537,
          -0.26369482,
          -0.33514434,
          -0.35313302,
          -0.4827575,
          -0.2517193,
          -0.52591366,
          -0.33203405,
          -0.4767068,
          -0.30780667,
          -0.3741625,
          -0.6377726,
          -0.27076417,
          -0.536284,
          -0.33442777,
          -0.25253135,
          -0.49191254,
          -0.5195418,
          -0.44279307,
          -0.43081886,
          -0.3951704,
          -0.32472974,
          -0.5783071,
          -0.34583503,
          -0.540608,
          -0.59560007,
          -0.60662204,
          -0.36169273,
          -0.3362729,
          -0.4088444,
          -0.5567809,
          -0.5513888,
          -0.3101148,
          -0.5712791,
          -0.37023062,
          -0.38425404,
          -0.4581465,
          -0.64396065,
          -0.43514293,
          -0.31019682,
          -0.575332,
          -0.5828211,
          -0.5476431,
          -0.3842079,
          -0.36674827,
          -0.072411,
          -0.6504652,
          -0.5203337,
          -0.50962764,
          -0.5409073,
          -0.560991,
          -0.38921207,
          -0.27019256,
          -0.63024205,
          -0.3886394,
          -0.29371518,
          -0.58078736,
          -0.55674714,
          -0.43817264,
          -0.2984839,
          -0.56586224,
          -0.46233314,
          -0.38979262,
          -0.3665257,
          -0.55591816,
          -0.4441443,
          -0.34756607,
          -0.42182332,
          -0.22213703,
          -0.4245537,
          -0.22982222,
          -0.39125234,
          -0.47057444,
          -0.6190935,
          -0.61186975,
          -0.4775731,
          -0.26108104,
          -0.3922853,
          -0.44727594,
          -0.24959522,
          -0.47636932,
          -0.42951554,
          -0.39916414,
          -0.4502893,
          -0.35748893,
          -0.4260419,
          -0.48541397,
          -0.30942625,
          -0.55561477,
          -0.6319484,
          -0.37607723,
          -0.3868428,
          -0.37545556,
          -0.333934,
          -0.52266246,
          -0.45186776,
          -0.49275726,
          -0.54281217,
          -0.39161366,
          -0.26547116,
          -0.5645332,
          -0.32285815,
          -0.34575874,
          -0.5411697,
          -0.49835414,
          -0.3872922,
          -0.46204358,
          -0.45461446,
          -0.4338916,
          -0.34499222,
          -0.29166192,
          -0.299604,
          -0.21231812,
          -0.36448008,
          -0.31190282,
          -0.60254985,
          -0.37695748,
          -0.65454036,
          -0.49262565,
          -0.41645676,
          -0.77560836,
          -0.36271232,
          -0.5193085,
          -0.4486168,
          -0.276846,
          -0.51334184,
          -0.5144159,
          -0.5141198,
          -0.40601045,
          -0.45301515,
          -0.5229905,
          -0.53408307,
          -0.5956791,
          -0.34435505,
          -0.33031148,
          -0.19745702,
          -0.30677956,
          -0.34387916,
          -0.532685,
          -0.5010174,
          -0.27243465,
          -0.44970495,
          -0.50831026,
          -0.45832664,
          -0.66100436,
          -0.3827986,
          -0.36928135,
          -0.4965884,
          -0.39346236,
          -0.3641278,
          -0.35616857,
          -0.24968237,
          -0.39409953,
          -0.36597472,
          -0.751345,
          -0.52594453,
          -0.3906849,
          -0.55359083,
          -0.70649415,
          -0.4640525,
          -0.42572862,
          -0.2550307,
          -0.23924285,
          -0.4551261,
          -0.5619212,
          -0.5476478,
          -0.6920784,
          -0.48357123,
          -0.32840663,
          -0.48225015,
          -0.36576778,
          -0.33973795,
          -0.3243025,
          -0.5054341,
          -0.50177103,
          -0.29351813,
          -0.6230286,
          -0.25686616,
          -0.2094348,
          -0.6207101,
          -0.39989716,
          -0.6749739,
          -0.5132323,
          -0.762966,
          -0.34074908,
          -0.47610122,
          -0.4800505,
          -0.41515607,
          -0.4902689,
          -0.7801326,
          -0.48074156,
          -0.63587695,
          -0.7190377,
          -0.6298496,
          -0.81363624,
          -0.77271456,
          -0.5383808,
          -0.45726043,
          -0.4304723,
          -0.5435073,
          -0.5302343,
          -0.48480088,
          -0.47314686,
          -0.355967,
          -0.55277854,
          -0.23711401,
          -0.65609664,
          -0.5206111,
          -0.054534733,
          -0.36804408,
          -0.39004844,
          -0.48936385,
          -0.48694748,
          -0.4400888,
          -0.46304733,
          -0.54154426,
          -0.50869673,
          -0.5057177,
          -0.3322839,
          -0.4625638,
          -0.59420997,
          -0.56526333,
          -0.45579308,
          -0.9074212,
          -0.4335857,
          -0.53362864,
          -0.3862123,
          -0.5965648,
          -0.5768183,
          -0.43742758,
          -0.4508018,
          -0.16875821,
          -0.50541836,
          -0.50516087,
          -0.7226276,
          -0.36460322,
          -0.45456654,
          -0.5751317,
          -0.7189135,
          -0.48839158,
          -0.555124,
          -0.7831431,
          -0.6518176,
          -0.19104713,
          -0.6076856,
          -0.23331136,
          -0.41458708,
          -0.58724123,
          -0.47714418,
          -0.36347443,
          -0.54247063,
          -0.47736865,
          -0.49923462,
          -0.58471376,
          -0.46774584,
          -0.4118455,
          -0.36938936,
          -0.5345352,
          -0.5517064,
          -0.4061603,
          -0.6019438,
          -0.54100174,
          -0.70439273,
          -0.6444469,
          -0.38409203,
          -1.0495682,
          -0.6349545,
          -0.85132426,
          -0.5113571,
          -0.60947245,
          -0.4307167,
          -0.5476213,
          -0.42913586,
          -0.72345954,
          -0.3332699,
          -0.6008776,
          -0.60992616,
          -0.564936,
          -0.38685888,
          -0.2733119,
          -0.4123972,
          -0.6113214,
          -0.8210166,
          -0.67766637,
          -0.76855963,
          -0.6475976,
          -0.65990967,
          -0.4633674,
          -0.7990672,
          -0.7060427,
          -0.5434961,
          -0.5738582,
          -0.55107015,
          -0.6458593,
          -0.31817335,
          -0.3127194,
          -0.6740287,
          -0.48169774,
          -0.67900175,
          -0.49231845,
          -0.7896376,
          -0.6030149,
          -0.61823136,
          -0.5445823
         ]
        },
        {
         "fill": "tonexty",
         "fillcolor": "rgba(169, 169, 169, 0.2)",
         "line": {
          "color": "grey",
          "dash": "dot",
          "width": 1
         },
         "mode": "lines",
         "name": "Confidence Interval Upper",
         "showlegend": false,
         "type": "scatter",
         "x": [
          "2022-01-01T00:00:00",
          "2022-01-02T00:00:00",
          "2022-01-03T00:00:00",
          "2022-01-04T00:00:00",
          "2022-01-05T00:00:00",
          "2022-01-06T00:00:00",
          "2022-01-07T00:00:00",
          "2022-01-08T00:00:00",
          "2022-01-09T00:00:00",
          "2022-01-10T00:00:00",
          "2022-01-11T00:00:00",
          "2022-01-12T00:00:00",
          "2022-01-13T00:00:00",
          "2022-01-14T00:00:00",
          "2022-01-15T00:00:00",
          "2022-01-16T00:00:00",
          "2022-01-17T00:00:00",
          "2022-01-18T00:00:00",
          "2022-01-19T00:00:00",
          "2022-01-20T00:00:00",
          "2022-01-21T00:00:00",
          "2022-01-22T00:00:00",
          "2022-01-23T00:00:00",
          "2022-01-24T00:00:00",
          "2022-01-25T00:00:00",
          "2022-01-26T00:00:00",
          "2022-01-27T00:00:00",
          "2022-01-28T00:00:00",
          "2022-01-29T00:00:00",
          "2022-01-30T00:00:00",
          "2022-01-31T00:00:00",
          "2022-02-01T00:00:00",
          "2022-02-02T00:00:00",
          "2022-02-03T00:00:00",
          "2022-02-04T00:00:00",
          "2022-02-05T00:00:00",
          "2022-02-06T00:00:00",
          "2022-02-07T00:00:00",
          "2022-02-08T00:00:00",
          "2022-02-09T00:00:00",
          "2022-02-10T00:00:00",
          "2022-02-11T00:00:00",
          "2022-02-12T00:00:00",
          "2022-02-13T00:00:00",
          "2022-02-14T00:00:00",
          "2022-02-15T00:00:00",
          "2022-02-16T00:00:00",
          "2022-02-17T00:00:00",
          "2022-02-18T00:00:00",
          "2022-02-19T00:00:00",
          "2022-02-20T00:00:00",
          "2022-02-21T00:00:00",
          "2022-02-22T00:00:00",
          "2022-02-23T00:00:00",
          "2022-02-24T00:00:00",
          "2022-02-25T00:00:00",
          "2022-02-26T00:00:00",
          "2022-02-27T00:00:00",
          "2022-02-28T00:00:00",
          "2022-03-01T00:00:00",
          "2022-03-02T00:00:00",
          "2022-03-03T00:00:00",
          "2022-03-04T00:00:00",
          "2022-03-05T00:00:00",
          "2022-03-06T00:00:00",
          "2022-03-07T00:00:00",
          "2022-03-08T00:00:00",
          "2022-03-09T00:00:00",
          "2022-03-10T00:00:00",
          "2022-03-11T00:00:00",
          "2022-03-12T00:00:00",
          "2022-03-13T00:00:00",
          "2022-03-14T00:00:00",
          "2022-03-15T00:00:00",
          "2022-03-16T00:00:00",
          "2022-03-17T00:00:00",
          "2022-03-18T00:00:00",
          "2022-03-19T00:00:00",
          "2022-03-20T00:00:00",
          "2022-03-21T00:00:00",
          "2022-03-22T00:00:00",
          "2022-03-23T00:00:00",
          "2022-03-24T00:00:00",
          "2022-03-25T00:00:00",
          "2022-03-26T00:00:00",
          "2022-03-27T00:00:00",
          "2022-03-28T00:00:00",
          "2022-03-29T00:00:00",
          "2022-03-30T00:00:00",
          "2022-03-31T00:00:00",
          "2022-04-01T00:00:00",
          "2022-04-02T00:00:00",
          "2022-04-03T00:00:00",
          "2022-04-04T00:00:00",
          "2022-04-05T00:00:00",
          "2022-04-06T00:00:00",
          "2022-04-07T00:00:00",
          "2022-04-08T00:00:00",
          "2022-04-09T00:00:00",
          "2022-04-10T00:00:00",
          "2022-04-11T00:00:00",
          "2022-04-12T00:00:00",
          "2022-04-13T00:00:00",
          "2022-04-14T00:00:00",
          "2022-04-15T00:00:00",
          "2022-04-16T00:00:00",
          "2022-04-17T00:00:00",
          "2022-04-18T00:00:00",
          "2022-04-19T00:00:00",
          "2022-04-20T00:00:00",
          "2022-04-21T00:00:00",
          "2022-04-22T00:00:00",
          "2022-04-23T00:00:00",
          "2022-04-24T00:00:00",
          "2022-04-25T00:00:00",
          "2022-04-26T00:00:00",
          "2022-04-27T00:00:00",
          "2022-04-28T00:00:00",
          "2022-04-29T00:00:00",
          "2022-04-30T00:00:00",
          "2022-05-01T00:00:00",
          "2022-05-02T00:00:00",
          "2022-05-03T00:00:00",
          "2022-05-04T00:00:00",
          "2022-05-05T00:00:00",
          "2022-05-06T00:00:00",
          "2022-05-07T00:00:00",
          "2022-05-08T00:00:00",
          "2022-05-09T00:00:00",
          "2022-05-10T00:00:00",
          "2022-05-11T00:00:00",
          "2022-05-12T00:00:00",
          "2022-05-13T00:00:00",
          "2022-05-14T00:00:00",
          "2022-05-15T00:00:00",
          "2022-05-16T00:00:00",
          "2022-05-17T00:00:00",
          "2022-05-18T00:00:00",
          "2022-05-19T00:00:00",
          "2022-05-20T00:00:00",
          "2022-05-21T00:00:00",
          "2022-05-22T00:00:00",
          "2022-05-23T00:00:00",
          "2022-05-24T00:00:00",
          "2022-05-25T00:00:00",
          "2022-05-26T00:00:00",
          "2022-05-27T00:00:00",
          "2022-05-28T00:00:00",
          "2022-05-29T00:00:00",
          "2022-05-30T00:00:00",
          "2022-05-31T00:00:00",
          "2022-06-01T00:00:00",
          "2022-06-02T00:00:00",
          "2022-06-03T00:00:00",
          "2022-06-04T00:00:00",
          "2022-06-05T00:00:00",
          "2022-06-06T00:00:00",
          "2022-06-07T00:00:00",
          "2022-06-08T00:00:00",
          "2022-06-09T00:00:00",
          "2022-06-10T00:00:00",
          "2022-06-11T00:00:00",
          "2022-06-12T00:00:00",
          "2022-06-13T00:00:00",
          "2022-06-14T00:00:00",
          "2022-06-15T00:00:00",
          "2022-06-16T00:00:00",
          "2022-06-17T00:00:00",
          "2022-06-18T00:00:00",
          "2022-06-19T00:00:00",
          "2022-06-20T00:00:00",
          "2022-06-21T00:00:00",
          "2022-06-22T00:00:00",
          "2022-06-23T00:00:00",
          "2022-06-24T00:00:00",
          "2022-06-25T00:00:00",
          "2022-06-26T00:00:00",
          "2022-06-27T00:00:00",
          "2022-06-28T00:00:00",
          "2022-06-29T00:00:00",
          "2022-06-30T00:00:00",
          "2022-07-01T00:00:00",
          "2022-07-02T00:00:00",
          "2022-07-03T00:00:00",
          "2022-07-04T00:00:00",
          "2022-07-05T00:00:00",
          "2022-07-06T00:00:00",
          "2022-07-07T00:00:00",
          "2022-07-08T00:00:00",
          "2022-07-09T00:00:00",
          "2022-07-10T00:00:00",
          "2022-07-11T00:00:00",
          "2022-07-12T00:00:00",
          "2022-07-13T00:00:00",
          "2022-07-14T00:00:00",
          "2022-07-15T00:00:00",
          "2022-07-16T00:00:00",
          "2022-07-17T00:00:00",
          "2022-07-18T00:00:00",
          "2022-07-19T00:00:00",
          "2022-07-20T00:00:00",
          "2022-07-21T00:00:00",
          "2022-07-22T00:00:00",
          "2022-07-23T00:00:00",
          "2022-07-24T00:00:00",
          "2022-07-25T00:00:00",
          "2022-07-26T00:00:00",
          "2022-07-27T00:00:00",
          "2022-07-28T00:00:00",
          "2022-07-29T00:00:00",
          "2022-07-30T00:00:00",
          "2022-07-31T00:00:00",
          "2022-08-01T00:00:00",
          "2022-08-02T00:00:00",
          "2022-08-03T00:00:00",
          "2022-08-04T00:00:00",
          "2022-08-05T00:00:00",
          "2022-08-06T00:00:00",
          "2022-08-07T00:00:00",
          "2022-08-08T00:00:00",
          "2022-08-09T00:00:00",
          "2022-08-10T00:00:00",
          "2022-08-11T00:00:00",
          "2022-08-12T00:00:00",
          "2022-08-13T00:00:00",
          "2022-08-14T00:00:00",
          "2022-08-15T00:00:00",
          "2022-08-16T00:00:00",
          "2022-08-17T00:00:00",
          "2022-08-18T00:00:00",
          "2022-08-19T00:00:00",
          "2022-08-20T00:00:00",
          "2022-08-21T00:00:00",
          "2022-08-22T00:00:00",
          "2022-08-23T00:00:00",
          "2022-08-24T00:00:00",
          "2022-08-25T00:00:00",
          "2022-08-26T00:00:00",
          "2022-08-27T00:00:00",
          "2022-08-28T00:00:00",
          "2022-08-29T00:00:00",
          "2022-08-30T00:00:00",
          "2022-08-31T00:00:00",
          "2022-09-01T00:00:00",
          "2022-09-02T00:00:00",
          "2022-09-03T00:00:00",
          "2022-09-04T00:00:00",
          "2022-09-05T00:00:00",
          "2022-09-06T00:00:00",
          "2022-09-07T00:00:00",
          "2022-09-08T00:00:00",
          "2022-09-09T00:00:00",
          "2022-09-10T00:00:00",
          "2022-09-11T00:00:00",
          "2022-09-12T00:00:00",
          "2022-09-13T00:00:00",
          "2022-09-14T00:00:00",
          "2022-09-15T00:00:00",
          "2022-09-16T00:00:00",
          "2022-09-17T00:00:00",
          "2022-09-18T00:00:00",
          "2022-09-19T00:00:00",
          "2022-09-20T00:00:00",
          "2022-09-21T00:00:00",
          "2022-09-22T00:00:00",
          "2022-09-23T00:00:00",
          "2022-09-24T00:00:00",
          "2022-09-25T00:00:00",
          "2022-09-26T00:00:00",
          "2022-09-27T00:00:00",
          "2022-09-28T00:00:00",
          "2022-09-29T00:00:00",
          "2022-09-30T00:00:00",
          "2022-10-01T00:00:00",
          "2022-10-02T00:00:00",
          "2022-10-03T00:00:00",
          "2022-10-04T00:00:00",
          "2022-10-05T00:00:00",
          "2022-10-06T00:00:00",
          "2022-10-07T00:00:00",
          "2022-10-08T00:00:00",
          "2022-10-09T00:00:00",
          "2022-10-10T00:00:00",
          "2022-10-11T00:00:00",
          "2022-10-12T00:00:00",
          "2022-10-13T00:00:00",
          "2022-10-14T00:00:00",
          "2022-10-15T00:00:00",
          "2022-10-16T00:00:00",
          "2022-10-17T00:00:00",
          "2022-10-18T00:00:00",
          "2022-10-19T00:00:00",
          "2022-10-20T00:00:00",
          "2022-10-21T00:00:00",
          "2022-10-22T00:00:00",
          "2022-10-23T00:00:00",
          "2022-10-24T00:00:00",
          "2022-10-25T00:00:00",
          "2022-10-26T00:00:00",
          "2022-10-27T00:00:00",
          "2022-10-28T00:00:00",
          "2022-10-29T00:00:00",
          "2022-10-30T00:00:00",
          "2022-10-31T00:00:00",
          "2022-11-01T00:00:00",
          "2022-11-02T00:00:00",
          "2022-11-03T00:00:00",
          "2022-11-04T00:00:00",
          "2022-11-05T00:00:00",
          "2022-11-06T00:00:00",
          "2022-11-07T00:00:00",
          "2022-11-08T00:00:00",
          "2022-11-09T00:00:00",
          "2022-11-10T00:00:00",
          "2022-11-11T00:00:00",
          "2022-11-12T00:00:00",
          "2022-11-13T00:00:00",
          "2022-11-14T00:00:00",
          "2022-11-15T00:00:00",
          "2022-11-16T00:00:00",
          "2022-11-17T00:00:00",
          "2022-11-18T00:00:00",
          "2022-11-19T00:00:00",
          "2022-11-20T00:00:00",
          "2022-11-21T00:00:00",
          "2022-11-22T00:00:00",
          "2022-11-23T00:00:00",
          "2022-11-24T00:00:00",
          "2022-11-25T00:00:00",
          "2022-11-26T00:00:00",
          "2022-11-27T00:00:00",
          "2022-11-28T00:00:00",
          "2022-11-29T00:00:00",
          "2022-11-30T00:00:00",
          "2022-12-01T00:00:00",
          "2022-12-02T00:00:00",
          "2022-12-03T00:00:00",
          "2022-12-04T00:00:00",
          "2022-12-05T00:00:00",
          "2022-12-06T00:00:00",
          "2022-12-07T00:00:00",
          "2022-12-08T00:00:00",
          "2022-12-09T00:00:00",
          "2022-12-10T00:00:00",
          "2022-12-11T00:00:00",
          "2022-12-12T00:00:00",
          "2022-12-13T00:00:00",
          "2022-12-14T00:00:00",
          "2022-12-15T00:00:00",
          "2022-12-16T00:00:00",
          "2022-12-17T00:00:00",
          "2022-12-18T00:00:00",
          "2022-12-19T00:00:00",
          "2022-12-20T00:00:00",
          "2022-12-21T00:00:00",
          "2022-12-22T00:00:00",
          "2022-12-23T00:00:00",
          "2022-12-24T00:00:00",
          "2022-12-25T00:00:00",
          "2022-12-26T00:00:00",
          "2022-12-27T00:00:00",
          "2022-12-28T00:00:00",
          "2022-12-29T00:00:00",
          "2022-12-30T00:00:00",
          "2022-12-31T00:00:00",
          "2023-01-01T00:00:00",
          "2023-01-02T00:00:00",
          "2023-01-03T00:00:00",
          "2023-01-04T00:00:00",
          "2023-01-05T00:00:00",
          "2023-01-06T00:00:00",
          "2023-01-07T00:00:00",
          "2023-01-08T00:00:00",
          "2023-01-09T00:00:00",
          "2023-01-10T00:00:00",
          "2023-01-11T00:00:00",
          "2023-01-12T00:00:00",
          "2023-01-13T00:00:00",
          "2023-01-14T00:00:00",
          "2023-01-15T00:00:00",
          "2023-01-16T00:00:00",
          "2023-01-17T00:00:00",
          "2023-01-18T00:00:00",
          "2023-01-19T00:00:00",
          "2023-01-20T00:00:00",
          "2023-01-21T00:00:00",
          "2023-01-22T00:00:00",
          "2023-01-23T00:00:00",
          "2023-01-24T00:00:00",
          "2023-01-25T00:00:00",
          "2023-01-26T00:00:00",
          "2023-01-27T00:00:00",
          "2023-01-28T00:00:00",
          "2023-01-29T00:00:00",
          "2023-01-30T00:00:00",
          "2023-01-31T00:00:00",
          "2023-02-01T00:00:00",
          "2023-02-02T00:00:00",
          "2023-02-03T00:00:00",
          "2023-02-04T00:00:00",
          "2023-02-05T00:00:00",
          "2023-02-06T00:00:00",
          "2023-02-07T00:00:00",
          "2023-02-08T00:00:00",
          "2023-02-09T00:00:00",
          "2023-02-10T00:00:00",
          "2023-02-11T00:00:00",
          "2023-02-12T00:00:00",
          "2023-02-13T00:00:00",
          "2023-02-14T00:00:00",
          "2023-02-15T00:00:00",
          "2023-02-16T00:00:00",
          "2023-02-17T00:00:00",
          "2023-02-18T00:00:00",
          "2023-02-19T00:00:00",
          "2023-02-20T00:00:00",
          "2023-02-21T00:00:00",
          "2023-02-22T00:00:00",
          "2023-02-23T00:00:00",
          "2023-02-24T00:00:00",
          "2023-02-25T00:00:00",
          "2023-02-26T00:00:00",
          "2023-02-27T00:00:00",
          "2023-02-28T00:00:00",
          "2023-03-01T00:00:00",
          "2023-03-02T00:00:00",
          "2023-03-03T00:00:00",
          "2023-03-04T00:00:00",
          "2023-03-05T00:00:00",
          "2023-03-06T00:00:00",
          "2023-03-07T00:00:00",
          "2023-03-08T00:00:00",
          "2023-03-09T00:00:00",
          "2023-03-10T00:00:00",
          "2023-03-11T00:00:00",
          "2023-03-12T00:00:00",
          "2023-03-13T00:00:00",
          "2023-03-14T00:00:00",
          "2023-03-15T00:00:00",
          "2023-03-16T00:00:00",
          "2023-03-17T00:00:00",
          "2023-03-18T00:00:00",
          "2023-03-19T00:00:00",
          "2023-03-20T00:00:00",
          "2023-03-21T00:00:00",
          "2023-03-22T00:00:00",
          "2023-03-23T00:00:00",
          "2023-03-24T00:00:00",
          "2023-03-25T00:00:00",
          "2023-03-26T00:00:00",
          "2023-03-27T00:00:00",
          "2023-03-28T00:00:00",
          "2023-03-29T00:00:00",
          "2023-03-30T00:00:00",
          "2023-03-31T00:00:00",
          "2023-04-01T00:00:00",
          "2023-04-02T00:00:00",
          "2023-04-03T00:00:00",
          "2023-04-04T00:00:00",
          "2023-04-05T00:00:00",
          "2023-04-06T00:00:00",
          "2023-04-07T00:00:00",
          "2023-04-08T00:00:00",
          "2023-04-09T00:00:00",
          "2023-04-10T00:00:00",
          "2023-04-11T00:00:00",
          "2023-04-12T00:00:00",
          "2023-04-13T00:00:00",
          "2023-04-14T00:00:00",
          "2023-04-15T00:00:00",
          "2023-04-16T00:00:00",
          "2023-04-17T00:00:00",
          "2023-04-18T00:00:00",
          "2023-04-19T00:00:00",
          "2023-04-20T00:00:00",
          "2023-04-21T00:00:00",
          "2023-04-22T00:00:00",
          "2023-04-23T00:00:00",
          "2023-04-24T00:00:00",
          "2023-04-25T00:00:00",
          "2023-04-26T00:00:00",
          "2023-04-27T00:00:00",
          "2023-04-28T00:00:00",
          "2023-04-29T00:00:00",
          "2023-04-30T00:00:00",
          "2023-05-01T00:00:00",
          "2023-05-02T00:00:00",
          "2023-05-03T00:00:00",
          "2023-05-04T00:00:00",
          "2023-05-05T00:00:00",
          "2023-05-06T00:00:00",
          "2023-05-07T00:00:00",
          "2023-05-08T00:00:00",
          "2023-05-09T00:00:00",
          "2023-05-10T00:00:00",
          "2023-05-11T00:00:00",
          "2023-05-12T00:00:00",
          "2023-05-13T00:00:00",
          "2023-05-14T00:00:00",
          "2023-05-15T00:00:00",
          "2023-05-16T00:00:00",
          "2023-05-17T00:00:00",
          "2023-05-18T00:00:00",
          "2023-05-19T00:00:00",
          "2023-05-20T00:00:00",
          "2023-05-21T00:00:00",
          "2023-05-22T00:00:00",
          "2023-05-23T00:00:00",
          "2023-05-24T00:00:00",
          "2023-05-25T00:00:00",
          "2023-05-26T00:00:00",
          "2023-05-27T00:00:00",
          "2023-05-28T00:00:00",
          "2023-05-29T00:00:00",
          "2023-05-30T00:00:00",
          "2023-05-31T00:00:00",
          "2023-06-01T00:00:00",
          "2023-06-02T00:00:00",
          "2023-06-03T00:00:00",
          "2023-06-04T00:00:00",
          "2023-06-05T00:00:00",
          "2023-06-06T00:00:00",
          "2023-06-07T00:00:00",
          "2023-06-08T00:00:00",
          "2023-06-09T00:00:00",
          "2023-06-10T00:00:00",
          "2023-06-11T00:00:00",
          "2023-06-12T00:00:00",
          "2023-06-13T00:00:00",
          "2023-06-14T00:00:00",
          "2023-06-15T00:00:00",
          "2023-06-16T00:00:00",
          "2023-06-17T00:00:00",
          "2023-06-18T00:00:00",
          "2023-06-19T00:00:00",
          "2023-06-20T00:00:00",
          "2023-06-21T00:00:00",
          "2023-06-22T00:00:00",
          "2023-06-23T00:00:00",
          "2023-06-24T00:00:00",
          "2023-06-25T00:00:00",
          "2023-06-26T00:00:00",
          "2023-06-27T00:00:00",
          "2023-06-28T00:00:00",
          "2023-06-29T00:00:00",
          "2023-06-30T00:00:00",
          "2023-07-01T00:00:00",
          "2023-07-02T00:00:00",
          "2023-07-03T00:00:00",
          "2023-07-04T00:00:00",
          "2023-07-05T00:00:00",
          "2023-07-06T00:00:00",
          "2023-07-07T00:00:00",
          "2023-07-08T00:00:00",
          "2023-07-09T00:00:00",
          "2023-07-10T00:00:00",
          "2023-07-11T00:00:00",
          "2023-07-12T00:00:00",
          "2023-07-13T00:00:00",
          "2023-07-14T00:00:00",
          "2023-07-15T00:00:00",
          "2023-07-16T00:00:00",
          "2023-07-17T00:00:00",
          "2023-07-18T00:00:00",
          "2023-07-19T00:00:00",
          "2023-07-20T00:00:00",
          "2023-07-21T00:00:00",
          "2023-07-22T00:00:00",
          "2023-07-23T00:00:00",
          "2023-07-24T00:00:00",
          "2023-07-25T00:00:00",
          "2023-07-26T00:00:00",
          "2023-07-27T00:00:00",
          "2023-07-28T00:00:00",
          "2023-07-29T00:00:00",
          "2023-07-30T00:00:00",
          "2023-07-31T00:00:00",
          "2023-08-01T00:00:00",
          "2023-08-02T00:00:00",
          "2023-08-03T00:00:00",
          "2023-08-04T00:00:00",
          "2023-08-05T00:00:00",
          "2023-08-06T00:00:00",
          "2023-08-07T00:00:00",
          "2023-08-08T00:00:00",
          "2023-08-09T00:00:00",
          "2023-08-10T00:00:00",
          "2023-08-11T00:00:00",
          "2023-08-12T00:00:00",
          "2023-08-13T00:00:00",
          "2023-08-14T00:00:00",
          "2023-08-15T00:00:00",
          "2023-08-16T00:00:00",
          "2023-08-17T00:00:00",
          "2023-08-18T00:00:00",
          "2023-08-19T00:00:00",
          "2023-08-20T00:00:00",
          "2023-08-21T00:00:00",
          "2023-08-22T00:00:00",
          "2023-08-23T00:00:00",
          "2023-08-24T00:00:00",
          "2023-08-25T00:00:00",
          "2023-08-26T00:00:00",
          "2023-08-27T00:00:00",
          "2023-08-28T00:00:00",
          "2023-08-29T00:00:00",
          "2023-08-30T00:00:00",
          "2023-08-31T00:00:00",
          "2023-09-01T00:00:00",
          "2023-09-02T00:00:00",
          "2023-09-03T00:00:00",
          "2023-09-04T00:00:00",
          "2023-09-05T00:00:00",
          "2023-09-06T00:00:00",
          "2023-09-07T00:00:00",
          "2023-09-08T00:00:00",
          "2023-09-09T00:00:00",
          "2023-09-10T00:00:00",
          "2023-09-11T00:00:00",
          "2023-09-12T00:00:00",
          "2023-09-13T00:00:00",
          "2023-09-14T00:00:00",
          "2023-09-15T00:00:00",
          "2023-09-16T00:00:00",
          "2023-09-17T00:00:00",
          "2023-09-18T00:00:00",
          "2023-09-19T00:00:00",
          "2023-09-20T00:00:00",
          "2023-09-21T00:00:00",
          "2023-09-22T00:00:00",
          "2023-09-23T00:00:00",
          "2023-09-24T00:00:00",
          "2023-09-25T00:00:00",
          "2023-09-26T00:00:00",
          "2023-09-27T00:00:00",
          "2023-09-28T00:00:00",
          "2023-09-29T00:00:00",
          "2023-09-30T00:00:00",
          "2023-10-01T00:00:00",
          "2023-10-02T00:00:00",
          "2023-10-03T00:00:00",
          "2023-10-04T00:00:00",
          "2023-10-05T00:00:00",
          "2023-10-06T00:00:00",
          "2023-10-07T00:00:00",
          "2023-10-08T00:00:00",
          "2023-10-09T00:00:00",
          "2023-10-10T00:00:00",
          "2023-10-11T00:00:00",
          "2023-10-12T00:00:00",
          "2023-10-13T00:00:00",
          "2023-10-14T00:00:00",
          "2023-10-15T00:00:00",
          "2023-10-16T00:00:00",
          "2023-10-17T00:00:00",
          "2023-10-18T00:00:00",
          "2023-10-19T00:00:00",
          "2023-10-20T00:00:00",
          "2023-10-21T00:00:00",
          "2023-10-22T00:00:00",
          "2023-10-23T00:00:00",
          "2023-10-24T00:00:00",
          "2023-10-25T00:00:00",
          "2023-10-26T00:00:00",
          "2023-10-27T00:00:00",
          "2023-10-28T00:00:00",
          "2023-10-29T00:00:00",
          "2023-10-30T00:00:00",
          "2023-10-31T00:00:00",
          "2023-11-01T00:00:00",
          "2023-11-02T00:00:00",
          "2023-11-03T00:00:00",
          "2023-11-04T00:00:00",
          "2023-11-05T00:00:00",
          "2023-11-06T00:00:00",
          "2023-11-07T00:00:00",
          "2023-11-08T00:00:00",
          "2023-11-09T00:00:00",
          "2023-11-10T00:00:00",
          "2023-11-11T00:00:00",
          "2023-11-12T00:00:00",
          "2023-11-13T00:00:00",
          "2023-11-14T00:00:00",
          "2023-11-15T00:00:00",
          "2023-11-16T00:00:00",
          "2023-11-17T00:00:00",
          "2023-11-18T00:00:00",
          "2023-11-19T00:00:00",
          "2023-11-20T00:00:00",
          "2023-11-21T00:00:00",
          "2023-11-22T00:00:00",
          "2023-11-23T00:00:00",
          "2023-11-24T00:00:00",
          "2023-11-25T00:00:00",
          "2023-11-26T00:00:00",
          "2023-11-27T00:00:00",
          "2023-11-28T00:00:00",
          "2023-11-29T00:00:00",
          "2023-11-30T00:00:00",
          "2023-12-01T00:00:00",
          "2023-12-02T00:00:00",
          "2023-12-03T00:00:00",
          "2023-12-04T00:00:00",
          "2023-12-05T00:00:00",
          "2023-12-06T00:00:00",
          "2023-12-07T00:00:00",
          "2023-12-08T00:00:00",
          "2023-12-09T00:00:00",
          "2023-12-10T00:00:00",
          "2023-12-11T00:00:00",
          "2023-12-12T00:00:00",
          "2023-12-13T00:00:00",
          "2023-12-14T00:00:00",
          "2023-12-15T00:00:00",
          "2023-12-16T00:00:00",
          "2023-12-17T00:00:00",
          "2023-12-18T00:00:00",
          "2023-12-19T00:00:00",
          "2023-12-20T00:00:00",
          "2023-12-21T00:00:00",
          "2023-12-22T00:00:00",
          "2023-12-23T00:00:00",
          "2023-12-24T00:00:00",
          "2023-12-25T00:00:00",
          "2023-12-26T00:00:00",
          "2023-12-27T00:00:00",
          "2023-12-28T00:00:00",
          "2023-12-29T00:00:00",
          "2023-12-30T00:00:00",
          "2023-12-31T00:00:00",
          "2024-01-01T00:00:00",
          "2024-01-02T00:00:00",
          "2024-01-03T00:00:00",
          "2024-01-04T00:00:00",
          "2024-01-05T00:00:00",
          "2024-01-06T00:00:00",
          "2024-01-07T00:00:00",
          "2024-01-08T00:00:00",
          "2024-01-09T00:00:00",
          "2024-01-10T00:00:00",
          "2024-01-11T00:00:00",
          "2024-01-12T00:00:00",
          "2024-01-13T00:00:00",
          "2024-01-14T00:00:00",
          "2024-01-15T00:00:00",
          "2024-01-16T00:00:00",
          "2024-01-17T00:00:00",
          "2024-01-18T00:00:00",
          "2024-01-19T00:00:00",
          "2024-01-20T00:00:00",
          "2024-01-21T00:00:00",
          "2024-01-22T00:00:00",
          "2024-01-23T00:00:00",
          "2024-01-24T00:00:00",
          "2024-01-25T00:00:00",
          "2024-01-26T00:00:00",
          "2024-01-27T00:00:00",
          "2024-01-28T00:00:00",
          "2024-01-29T00:00:00",
          "2024-01-30T00:00:00",
          "2024-01-31T00:00:00",
          "2024-02-01T00:00:00",
          "2024-02-02T00:00:00",
          "2024-02-03T00:00:00",
          "2024-02-04T00:00:00",
          "2024-02-05T00:00:00",
          "2024-02-06T00:00:00",
          "2024-02-07T00:00:00",
          "2024-02-08T00:00:00",
          "2024-02-09T00:00:00",
          "2024-02-10T00:00:00",
          "2024-02-11T00:00:00",
          "2024-02-12T00:00:00",
          "2024-02-13T00:00:00",
          "2024-02-14T00:00:00",
          "2024-02-15T00:00:00",
          "2024-02-16T00:00:00",
          "2024-02-17T00:00:00",
          "2024-02-18T00:00:00",
          "2024-02-19T00:00:00",
          "2024-02-20T00:00:00",
          "2024-02-21T00:00:00",
          "2024-02-22T00:00:00",
          "2024-02-23T00:00:00",
          "2024-02-24T00:00:00",
          "2024-02-25T00:00:00",
          "2024-02-26T00:00:00",
          "2024-02-27T00:00:00",
          "2024-02-28T00:00:00",
          "2024-02-29T00:00:00"
         ],
         "y": [
          1.2683697,
          1.6414857,
          2.2453015,
          2.295213,
          2.599633,
          2.36624,
          2.2119381,
          3.1734521,
          2.0847418,
          3.1976893,
          2.7855556,
          2.6452026,
          3.378374,
          3.0040886,
          2.8909106,
          2.2331624,
          3.221938,
          3.4833682,
          3.0087616,
          2.4042938,
          3.2790613,
          3.2083442,
          3.581669,
          2.8649006,
          2.6933682,
          2.639189,
          3.263537,
          2.7713025,
          3.512385,
          3.02749,
          3.555061,
          3.1694045,
          3.1572905,
          2.6855853,
          3.30535,
          2.8192968,
          2.8587964,
          2.968704,
          2.8521786,
          2.6325881,
          3.5178094,
          3.209592,
          2.5922675,
          3.8502765,
          4.0625014,
          2.7385027,
          2.6423957,
          3.7213683,
          2.6480172,
          3.2525942,
          3.9473832,
          3.2229996,
          2.9821105,
          3.5297575,
          3.0006456,
          2.5298104,
          2.3472803,
          2.8454833,
          3.3071032,
          4.170934,
          3.7600286,
          3.3557346,
          2.7745311,
          4.017412,
          3.224873,
          2.7843876,
          4.1955,
          2.5625584,
          2.5922394,
          2.5983422,
          3.3989522,
          3.5572696,
          3.0688484,
          2.1859782,
          2.8133988,
          2.914414,
          4.28752,
          3.0657485,
          2.8194587,
          2.9884768,
          2.8447845,
          2.8821745,
          3.083798,
          2.5942366,
          2.9117777,
          2.9634426,
          2.93309,
          2.6183856,
          3.182595,
          3.7869234,
          4.0302234,
          3.1107903,
          2.3426595,
          3.5522726,
          3.0081706,
          3.096011,
          3.8289614,
          2.460614,
          2.4923732,
          2.5964963,
          2.7249997,
          2.6057563,
          2.6923788,
          2.7801,
          2.677398,
          2.6985366,
          3.438896,
          2.5473526,
          3.2523506,
          3.0269158,
          2.7320452,
          2.8538237,
          2.7657533,
          2.714051,
          3.6315994,
          3.0059245,
          2.03686,
          3.043654,
          2.7801986,
          3.3478231,
          3.5244384,
          2.8270364,
          3.1338925,
          3.205744,
          3.5569296,
          2.7904625,
          2.6351845,
          2.8718503,
          2.1132014,
          2.8337674,
          2.9132092,
          2.1524098,
          2.2518752,
          2.1780214,
          2.2337494,
          2.7900383,
          3.0361142,
          2.4395814,
          2.0312023,
          2.0301707,
          2.4218905,
          2.4261723,
          2.6957178,
          1.8749077,
          2.4095576,
          1.9827287,
          2.6101213,
          3.1216455,
          4.637412,
          2.427607,
          2.3158221,
          2.0929477,
          2.8038015,
          2.5019479,
          2.7855854,
          3.294018,
          2.4664288,
          3.9388037,
          2.8782358,
          2.6454096,
          2.541594,
          3.623203,
          4.210554,
          2.4242003,
          2.3539233,
          2.115047,
          2.4759142,
          2.7748818,
          2.6239462,
          3.6789317,
          2.6871014,
          2.6639154,
          3.1770294,
          3.676884,
          2.3015862,
          2.7026436,
          3.661756,
          2.9016957,
          3.1869702,
          3.9733322,
          2.728828,
          3.1970654,
          3.327452,
          2.9341464,
          2.6973817,
          4.064042,
          4.1824026,
          3.3738122,
          3.0967026,
          4.267544,
          3.8932571,
          3.8368356,
          3.8383002,
          3.41588,
          3.543886,
          2.7601137,
          3.079771,
          3.7669888,
          3.2595491,
          3.0346162,
          3.1992693,
          4.0331187,
          3.9838064,
          3.4292421,
          2.8141422,
          3.6703858,
          3.2084212,
          3.5262036,
          2.6142573,
          3.3959181,
          3.4803228,
          3.5704513,
          2.8270864,
          4.85779,
          4.041356,
          5.224689,
          3.0729806,
          2.6280909,
          4.508733,
          3.0941272,
          4.358872,
          3.487063,
          4.3348346,
          3.677114,
          3.7520075,
          4.2618656,
          3.421198,
          3.5658162,
          3.2168324,
          2.792481,
          3.6537402,
          3.5998952,
          4.294339,
          3.177394,
          3.2670248,
          4.105331,
          3.5185668,
          3.2623456,
          4.100498,
          4.165984,
          3.1615648,
          3.5490255,
          3.630401,
          4.2781744,
          4.090813,
          4.5005116,
          3.598129,
          4.132401,
          3.4298623,
          4.047802,
          4.2071757,
          4.3052382,
          3.9009004,
          4.448217,
          4.1701193,
          3.6158743,
          4.4779673,
          5.4022083,
          3.4508386,
          5.281937,
          4.1679373,
          4.8357563,
          3.4907901,
          3.750651,
          3.332921,
          4.302758,
          4.602451,
          3.967018,
          4.545389,
          3.4542494,
          3.4206169,
          3.8656833,
          4.2440734,
          4.795688,
          4.249767,
          4.2912693,
          4.708102,
          4.701131,
          5.0046988,
          4.990433,
          4.8788996,
          3.5646207,
          4.904471,
          3.7914395,
          4.730699,
          4.103001,
          3.6917727,
          5.388321,
          3.45582,
          4.362034,
          4.204,
          4.394023,
          4.139667,
          4.1154056,
          4.1916647,
          3.7706091,
          3.7586172,
          3.3938956,
          5.0586815,
          4.6866846,
          4.102161,
          4.5498214,
          4.8592896,
          4.083845,
          3.4089873,
          3.5648823,
          4.230506,
          3.191807,
          3.6131873,
          3.5404155,
          3.349511,
          3.9033163,
          3.7278204,
          3.8274298,
          3.1849475,
          3.4163685,
          3.5104196,
          4.5046177,
          4.6181207,
          4.11724,
          3.7494366,
          4.8110704,
          4.6575313,
          3.651809,
          3.9679086,
          3.8921702,
          4.849201,
          3.7409503,
          3.5451028,
          3.4250493,
          3.6328437,
          3.3687124,
          3.9960802,
          3.055067,
          2.9788373,
          4.035645,
          3.0971847,
          3.5035584,
          4.429263,
          3.7137828,
          3.6182458,
          4.1865864,
          3.8763053,
          2.6478662,
          3.8405068,
          3.241424,
          4.18465,
          3.8548584,
          3.74937,
          3.7929146,
          3.8322854,
          4.095361,
          2.72542,
          3.7375922,
          2.8413107,
          3.0681007,
          3.596232,
          4.2894907,
          3.4022496,
          3.7617826,
          3.3928823,
          3.9239535,
          3.221714,
          4.161883,
          3.2273436,
          3.8673754,
          3.7124667,
          2.8546882,
          4.201172,
          2.735654,
          4.124677,
          3.2877119,
          3.002033,
          3.3390913,
          3.2302728,
          4.6710534,
          3.045399,
          4.0608587,
          3.6225603,
          4.030646,
          4.1608033,
          3.6979742,
          3.4604223,
          2.9601047,
          4.017705,
          2.9210396,
          2.8272572,
          3.254629,
          2.7846692,
          3.2513535,
          3.295142,
          2.6831048,
          3.09825,
          2.6358774,
          2.6290534,
          3.8370385,
          3.9414423,
          2.9427385,
          3.592861,
          3.8391128,
          3.6162422,
          3.4165041,
          2.5783224,
          3.9533985,
          3.9173949,
          2.886052,
          3.4569435,
          4.060567,
          3.2275765,
          4.4283605,
          3.183117,
          4.259304,
          2.570433,
          3.8113058,
          3.860438,
          3.9831638,
          2.7769248,
          5.018175,
          2.809412,
          3.9275062,
          4.259647,
          3.8198493,
          2.6305172,
          3.6645737,
          3.369769,
          3.2451823,
          2.0881493,
          3.47838,
          3.9904504,
          3.077752,
          3.2037077,
          3.2797487,
          2.7658415,
          3.9611979,
          4.067005,
          3.6203804,
          2.2306008,
          3.104411,
          3.4373217,
          3.570899,
          3.1716835,
          2.6484554,
          3.8019042,
          4.734339,
          4.494611,
          2.3246355,
          4.2670035,
          2.7135236,
          2.4769382,
          3.9715796,
          2.4863067,
          5.1447434,
          3.0041943,
          2.8716786,
          2.5561075,
          2.443767,
          5.245926,
          3.2022154,
          3.2814715,
          2.9133847,
          4.8237724,
          3.3808203,
          2.6748374,
          5.11164,
          3.3170993,
          3.647786,
          3.7712493,
          2.4651585,
          2.689159,
          3.381724,
          3.1436648,
          3.4121528,
          2.2303648,
          3.0600252,
          3.2010617,
          4.495721,
          3.2115893,
          3.6123211,
          3.4263153,
          3.267922,
          3.390066,
          3.785724,
          3.369993,
          3.4638557,
          3.6376154,
          3.2175624,
          3.5349777,
          2.801001,
          4.626828,
          3.8386035,
          3.086768,
          4.5171537,
          4.045693,
          3.5640974,
          3.2262084,
          3.7727642,
          4.965088,
          3.8708715,
          2.5277684,
          3.7256637,
          3.8524916,
          2.971873,
          2.4573348,
          3.4774706,
          4.8589463,
          2.8540342,
          3.9340725,
          3.4720066,
          3.4710145,
          3.0379837,
          5.0235047,
          3.314331,
          3.1459,
          5.0232816,
          3.6303093,
          3.9106696,
          3.6811192,
          4.783982,
          3.615599,
          4.2686777,
          4.1051707,
          3.5300124,
          2.801006,
          4.067782,
          3.2005644,
          3.9855165,
          3.7504451,
          3.118592,
          2.6696575,
          3.6824038,
          3.9343042,
          4.9595795,
          4.6009235,
          3.226208,
          2.741635,
          2.8536139,
          4.7774954,
          4.813426,
          3.348849,
          4.4408684,
          4.8289,
          3.0352364,
          3.2478821,
          3.6975255,
          3.1221926,
          3.2781575,
          3.5412073,
          3.3979669,
          3.2011583,
          3.329987,
          2.9733331,
          3.6876667,
          3.850242,
          3.501882,
          3.8261688,
          3.4607625,
          3.806468,
          4.1911325,
          3.415964,
          2.7265584,
          2.3815017,
          3.276494,
          3.315235,
          2.53743,
          4.085818,
          3.9857147,
          3.11324,
          3.9629498,
          3.975375,
          3.7380662,
          3.7912052,
          3.6599731,
          3.1361682,
          4.8220625,
          3.396561,
          5.8256297,
          2.6658406,
          3.6794286,
          2.8458502,
          4.120949,
          3.9833467,
          2.5530078,
          3.438186,
          2.6084414,
          3.4463606,
          4.6148577,
          3.5141249,
          2.5433233,
          3.1568303,
          3.1974978,
          3.4267783,
          3.716677,
          2.185749,
          3.6375258,
          3.6083806,
          4.2789793,
          3.7340949,
          3.8225133,
          3.8029056,
          5.30887,
          3.8071113,
          2.339236,
          4.803449,
          3.2779534,
          3.4364247,
          4.409721,
          3.478057,
          4.6454825,
          3.4362113,
          2.9638343,
          4.24356,
          3.0346558,
          3.2777386,
          3.6169279,
          4.19942,
          3.439338,
          2.8957124,
          3.4883254,
          3.9538803,
          2.8138006,
          3.431338,
          3.0603642,
          3.7084312,
          4.2892294,
          2.7267299,
          2.6420577,
          3.710691,
          3.115203,
          3.1519628,
          3.2807648,
          2.8152792,
          3.2336006,
          4.414055,
          3.076495,
          3.3858657,
          4.1032934,
          2.9673166,
          5.303494,
          6.4550457,
          2.8722908,
          3.7963562,
          2.8648047,
          2.5860555,
          3.7267365,
          3.9858203,
          2.9115384,
          2.500311,
          3.7239084,
          2.9742544,
          3.152243,
          2.4680684,
          3.249848,
          3.02436,
          3.7000217,
          2.6300945,
          3.1841497,
          3.9825246,
          3.4731138,
          2.9068303,
          3.6861427,
          2.4484127,
          2.6175315,
          2.420626,
          2.7492769,
          2.462976,
          2.582127,
          4.3596888,
          3.0704756,
          3.0319507,
          4.048901,
          3.4892929,
          3.9107518,
          2.8626332,
          2.8437307,
          2.4053984,
          3.59151,
          4.771457,
          3.1263344,
          3.7996683,
          4.184101,
          3.071541,
          2.818262,
          3.1762862,
          2.5903757,
          2.9466524,
          3.1696572,
          2.5539482,
          2.9268448,
          3.3496325,
          3.780856,
          3.7204618,
          3.6576118,
          2.9113226,
          3.2712293,
          4.13189,
          3.225466,
          3.3600855,
          3.3659825,
          5.2511244,
          3.0908651,
          4.875957,
          4.1563506,
          3.2697413,
          2.9859657,
          2.5574975,
          3.030629,
          3.3975897,
          4.2011247,
          3.2724383,
          2.3754323,
          3.427246,
          2.715148,
          3.958914,
          3.7226226,
          2.4459357,
          3.05826,
          2.3457537,
          4.078474,
          4.3048477,
          3.2170882,
          3.1802223,
          3.4407074,
          3.7359412,
          2.9775858,
          3.8423743,
          2.910384,
          2.8507707,
          3.3069375,
          3.99648,
          3.1081014,
          3.2547433,
          3.4614894,
          2.6845324,
          3.1433887,
          3.3556552,
          3.1784372,
          2.9218326,
          4.1054535,
          3.8726637,
          2.632484,
          2.44538,
          2.5616703,
          3.5122914,
          2.8533452,
          2.8100133,
          2.1666346,
          2.7062821,
          2.7754586,
          3.0782156,
          3.5325658,
          3.1220326,
          2.5804875,
          3.0772867,
          2.6019623,
          2.2270272,
          2.935397,
          3.1102865,
          2.583639,
          2.5675368,
          3.3030605,
          3.477465,
          3.0703878,
          2.6954372,
          2.982546,
          2.6092272,
          3.4037805,
          4.289823,
          2.2103162,
          2.3635757,
          3.6506479,
          3.2747169,
          2.769722,
          2.4739125,
          3.028703,
          2.7502413,
          2.7827415,
          3.7491748,
          2.7779038,
          3.0557392,
          2.930225,
          3.2991035,
          3.1183043,
          3.277671,
          2.9574413,
          3.1362007,
          3.4524093,
          3.1860147,
          3.057036,
          4.522279,
          3.50026
         ]
        },
        {
         "line": {
          "color": "darkred",
          "dash": "solid"
         },
         "mode": "lines",
         "name": "Forecasted Data",
         "type": "scatter",
         "x": [
          "2022-01-01T00:00:00",
          "2022-01-02T00:00:00",
          "2022-01-03T00:00:00",
          "2022-01-04T00:00:00",
          "2022-01-05T00:00:00",
          "2022-01-06T00:00:00",
          "2022-01-07T00:00:00",
          "2022-01-08T00:00:00",
          "2022-01-09T00:00:00",
          "2022-01-10T00:00:00",
          "2022-01-11T00:00:00",
          "2022-01-12T00:00:00",
          "2022-01-13T00:00:00",
          "2022-01-14T00:00:00",
          "2022-01-15T00:00:00",
          "2022-01-16T00:00:00",
          "2022-01-17T00:00:00",
          "2022-01-18T00:00:00",
          "2022-01-19T00:00:00",
          "2022-01-20T00:00:00",
          "2022-01-21T00:00:00",
          "2022-01-22T00:00:00",
          "2022-01-23T00:00:00",
          "2022-01-24T00:00:00",
          "2022-01-25T00:00:00",
          "2022-01-26T00:00:00",
          "2022-01-27T00:00:00",
          "2022-01-28T00:00:00",
          "2022-01-29T00:00:00",
          "2022-01-30T00:00:00",
          "2022-01-31T00:00:00",
          "2022-02-01T00:00:00",
          "2022-02-02T00:00:00",
          "2022-02-03T00:00:00",
          "2022-02-04T00:00:00",
          "2022-02-05T00:00:00",
          "2022-02-06T00:00:00",
          "2022-02-07T00:00:00",
          "2022-02-08T00:00:00",
          "2022-02-09T00:00:00",
          "2022-02-10T00:00:00",
          "2022-02-11T00:00:00",
          "2022-02-12T00:00:00",
          "2022-02-13T00:00:00",
          "2022-02-14T00:00:00",
          "2022-02-15T00:00:00",
          "2022-02-16T00:00:00",
          "2022-02-17T00:00:00",
          "2022-02-18T00:00:00",
          "2022-02-19T00:00:00",
          "2022-02-20T00:00:00",
          "2022-02-21T00:00:00",
          "2022-02-22T00:00:00",
          "2022-02-23T00:00:00",
          "2022-02-24T00:00:00",
          "2022-02-25T00:00:00",
          "2022-02-26T00:00:00",
          "2022-02-27T00:00:00",
          "2022-02-28T00:00:00",
          "2022-03-01T00:00:00",
          "2022-03-02T00:00:00",
          "2022-03-03T00:00:00",
          "2022-03-04T00:00:00",
          "2022-03-05T00:00:00",
          "2022-03-06T00:00:00",
          "2022-03-07T00:00:00",
          "2022-03-08T00:00:00",
          "2022-03-09T00:00:00",
          "2022-03-10T00:00:00",
          "2022-03-11T00:00:00",
          "2022-03-12T00:00:00",
          "2022-03-13T00:00:00",
          "2022-03-14T00:00:00",
          "2022-03-15T00:00:00",
          "2022-03-16T00:00:00",
          "2022-03-17T00:00:00",
          "2022-03-18T00:00:00",
          "2022-03-19T00:00:00",
          "2022-03-20T00:00:00",
          "2022-03-21T00:00:00",
          "2022-03-22T00:00:00",
          "2022-03-23T00:00:00",
          "2022-03-24T00:00:00",
          "2022-03-25T00:00:00",
          "2022-03-26T00:00:00",
          "2022-03-27T00:00:00",
          "2022-03-28T00:00:00",
          "2022-03-29T00:00:00",
          "2022-03-30T00:00:00",
          "2022-03-31T00:00:00",
          "2022-04-01T00:00:00",
          "2022-04-02T00:00:00",
          "2022-04-03T00:00:00",
          "2022-04-04T00:00:00",
          "2022-04-05T00:00:00",
          "2022-04-06T00:00:00",
          "2022-04-07T00:00:00",
          "2022-04-08T00:00:00",
          "2022-04-09T00:00:00",
          "2022-04-10T00:00:00",
          "2022-04-11T00:00:00",
          "2022-04-12T00:00:00",
          "2022-04-13T00:00:00",
          "2022-04-14T00:00:00",
          "2022-04-15T00:00:00",
          "2022-04-16T00:00:00",
          "2022-04-17T00:00:00",
          "2022-04-18T00:00:00",
          "2022-04-19T00:00:00",
          "2022-04-20T00:00:00",
          "2022-04-21T00:00:00",
          "2022-04-22T00:00:00",
          "2022-04-23T00:00:00",
          "2022-04-24T00:00:00",
          "2022-04-25T00:00:00",
          "2022-04-26T00:00:00",
          "2022-04-27T00:00:00",
          "2022-04-28T00:00:00",
          "2022-04-29T00:00:00",
          "2022-04-30T00:00:00",
          "2022-05-01T00:00:00",
          "2022-05-02T00:00:00",
          "2022-05-03T00:00:00",
          "2022-05-04T00:00:00",
          "2022-05-05T00:00:00",
          "2022-05-06T00:00:00",
          "2022-05-07T00:00:00",
          "2022-05-08T00:00:00",
          "2022-05-09T00:00:00",
          "2022-05-10T00:00:00",
          "2022-05-11T00:00:00",
          "2022-05-12T00:00:00",
          "2022-05-13T00:00:00",
          "2022-05-14T00:00:00",
          "2022-05-15T00:00:00",
          "2022-05-16T00:00:00",
          "2022-05-17T00:00:00",
          "2022-05-18T00:00:00",
          "2022-05-19T00:00:00",
          "2022-05-20T00:00:00",
          "2022-05-21T00:00:00",
          "2022-05-22T00:00:00",
          "2022-05-23T00:00:00",
          "2022-05-24T00:00:00",
          "2022-05-25T00:00:00",
          "2022-05-26T00:00:00",
          "2022-05-27T00:00:00",
          "2022-05-28T00:00:00",
          "2022-05-29T00:00:00",
          "2022-05-30T00:00:00",
          "2022-05-31T00:00:00",
          "2022-06-01T00:00:00",
          "2022-06-02T00:00:00",
          "2022-06-03T00:00:00",
          "2022-06-04T00:00:00",
          "2022-06-05T00:00:00",
          "2022-06-06T00:00:00",
          "2022-06-07T00:00:00",
          "2022-06-08T00:00:00",
          "2022-06-09T00:00:00",
          "2022-06-10T00:00:00",
          "2022-06-11T00:00:00",
          "2022-06-12T00:00:00",
          "2022-06-13T00:00:00",
          "2022-06-14T00:00:00",
          "2022-06-15T00:00:00",
          "2022-06-16T00:00:00",
          "2022-06-17T00:00:00",
          "2022-06-18T00:00:00",
          "2022-06-19T00:00:00",
          "2022-06-20T00:00:00",
          "2022-06-21T00:00:00",
          "2022-06-22T00:00:00",
          "2022-06-23T00:00:00",
          "2022-06-24T00:00:00",
          "2022-06-25T00:00:00",
          "2022-06-26T00:00:00",
          "2022-06-27T00:00:00",
          "2022-06-28T00:00:00",
          "2022-06-29T00:00:00",
          "2022-06-30T00:00:00",
          "2022-07-01T00:00:00",
          "2022-07-02T00:00:00",
          "2022-07-03T00:00:00",
          "2022-07-04T00:00:00",
          "2022-07-05T00:00:00",
          "2022-07-06T00:00:00",
          "2022-07-07T00:00:00",
          "2022-07-08T00:00:00",
          "2022-07-09T00:00:00",
          "2022-07-10T00:00:00",
          "2022-07-11T00:00:00",
          "2022-07-12T00:00:00",
          "2022-07-13T00:00:00",
          "2022-07-14T00:00:00",
          "2022-07-15T00:00:00",
          "2022-07-16T00:00:00",
          "2022-07-17T00:00:00",
          "2022-07-18T00:00:00",
          "2022-07-19T00:00:00",
          "2022-07-20T00:00:00",
          "2022-07-21T00:00:00",
          "2022-07-22T00:00:00",
          "2022-07-23T00:00:00",
          "2022-07-24T00:00:00",
          "2022-07-25T00:00:00",
          "2022-07-26T00:00:00",
          "2022-07-27T00:00:00",
          "2022-07-28T00:00:00",
          "2022-07-29T00:00:00",
          "2022-07-30T00:00:00",
          "2022-07-31T00:00:00",
          "2022-08-01T00:00:00",
          "2022-08-02T00:00:00",
          "2022-08-03T00:00:00",
          "2022-08-04T00:00:00",
          "2022-08-05T00:00:00",
          "2022-08-06T00:00:00",
          "2022-08-07T00:00:00",
          "2022-08-08T00:00:00",
          "2022-08-09T00:00:00",
          "2022-08-10T00:00:00",
          "2022-08-11T00:00:00",
          "2022-08-12T00:00:00",
          "2022-08-13T00:00:00",
          "2022-08-14T00:00:00",
          "2022-08-15T00:00:00",
          "2022-08-16T00:00:00",
          "2022-08-17T00:00:00",
          "2022-08-18T00:00:00",
          "2022-08-19T00:00:00",
          "2022-08-20T00:00:00",
          "2022-08-21T00:00:00",
          "2022-08-22T00:00:00",
          "2022-08-23T00:00:00",
          "2022-08-24T00:00:00",
          "2022-08-25T00:00:00",
          "2022-08-26T00:00:00",
          "2022-08-27T00:00:00",
          "2022-08-28T00:00:00",
          "2022-08-29T00:00:00",
          "2022-08-30T00:00:00",
          "2022-08-31T00:00:00",
          "2022-09-01T00:00:00",
          "2022-09-02T00:00:00",
          "2022-09-03T00:00:00",
          "2022-09-04T00:00:00",
          "2022-09-05T00:00:00",
          "2022-09-06T00:00:00",
          "2022-09-07T00:00:00",
          "2022-09-08T00:00:00",
          "2022-09-09T00:00:00",
          "2022-09-10T00:00:00",
          "2022-09-11T00:00:00",
          "2022-09-12T00:00:00",
          "2022-09-13T00:00:00",
          "2022-09-14T00:00:00",
          "2022-09-15T00:00:00",
          "2022-09-16T00:00:00",
          "2022-09-17T00:00:00",
          "2022-09-18T00:00:00",
          "2022-09-19T00:00:00",
          "2022-09-20T00:00:00",
          "2022-09-21T00:00:00",
          "2022-09-22T00:00:00",
          "2022-09-23T00:00:00",
          "2022-09-24T00:00:00",
          "2022-09-25T00:00:00",
          "2022-09-26T00:00:00",
          "2022-09-27T00:00:00",
          "2022-09-28T00:00:00",
          "2022-09-29T00:00:00",
          "2022-09-30T00:00:00",
          "2022-10-01T00:00:00",
          "2022-10-02T00:00:00",
          "2022-10-03T00:00:00",
          "2022-10-04T00:00:00",
          "2022-10-05T00:00:00",
          "2022-10-06T00:00:00",
          "2022-10-07T00:00:00",
          "2022-10-08T00:00:00",
          "2022-10-09T00:00:00",
          "2022-10-10T00:00:00",
          "2022-10-11T00:00:00",
          "2022-10-12T00:00:00",
          "2022-10-13T00:00:00",
          "2022-10-14T00:00:00",
          "2022-10-15T00:00:00",
          "2022-10-16T00:00:00",
          "2022-10-17T00:00:00",
          "2022-10-18T00:00:00",
          "2022-10-19T00:00:00",
          "2022-10-20T00:00:00",
          "2022-10-21T00:00:00",
          "2022-10-22T00:00:00",
          "2022-10-23T00:00:00",
          "2022-10-24T00:00:00",
          "2022-10-25T00:00:00",
          "2022-10-26T00:00:00",
          "2022-10-27T00:00:00",
          "2022-10-28T00:00:00",
          "2022-10-29T00:00:00",
          "2022-10-30T00:00:00",
          "2022-10-31T00:00:00",
          "2022-11-01T00:00:00",
          "2022-11-02T00:00:00",
          "2022-11-03T00:00:00",
          "2022-11-04T00:00:00",
          "2022-11-05T00:00:00",
          "2022-11-06T00:00:00",
          "2022-11-07T00:00:00",
          "2022-11-08T00:00:00",
          "2022-11-09T00:00:00",
          "2022-11-10T00:00:00",
          "2022-11-11T00:00:00",
          "2022-11-12T00:00:00",
          "2022-11-13T00:00:00",
          "2022-11-14T00:00:00",
          "2022-11-15T00:00:00",
          "2022-11-16T00:00:00",
          "2022-11-17T00:00:00",
          "2022-11-18T00:00:00",
          "2022-11-19T00:00:00",
          "2022-11-20T00:00:00",
          "2022-11-21T00:00:00",
          "2022-11-22T00:00:00",
          "2022-11-23T00:00:00",
          "2022-11-24T00:00:00",
          "2022-11-25T00:00:00",
          "2022-11-26T00:00:00",
          "2022-11-27T00:00:00",
          "2022-11-28T00:00:00",
          "2022-11-29T00:00:00",
          "2022-11-30T00:00:00",
          "2022-12-01T00:00:00",
          "2022-12-02T00:00:00",
          "2022-12-03T00:00:00",
          "2022-12-04T00:00:00",
          "2022-12-05T00:00:00",
          "2022-12-06T00:00:00",
          "2022-12-07T00:00:00",
          "2022-12-08T00:00:00",
          "2022-12-09T00:00:00",
          "2022-12-10T00:00:00",
          "2022-12-11T00:00:00",
          "2022-12-12T00:00:00",
          "2022-12-13T00:00:00",
          "2022-12-14T00:00:00",
          "2022-12-15T00:00:00",
          "2022-12-16T00:00:00",
          "2022-12-17T00:00:00",
          "2022-12-18T00:00:00",
          "2022-12-19T00:00:00",
          "2022-12-20T00:00:00",
          "2022-12-21T00:00:00",
          "2022-12-22T00:00:00",
          "2022-12-23T00:00:00",
          "2022-12-24T00:00:00",
          "2022-12-25T00:00:00",
          "2022-12-26T00:00:00",
          "2022-12-27T00:00:00",
          "2022-12-28T00:00:00",
          "2022-12-29T00:00:00",
          "2022-12-30T00:00:00",
          "2022-12-31T00:00:00",
          "2023-01-01T00:00:00",
          "2023-01-02T00:00:00",
          "2023-01-03T00:00:00",
          "2023-01-04T00:00:00",
          "2023-01-05T00:00:00",
          "2023-01-06T00:00:00",
          "2023-01-07T00:00:00",
          "2023-01-08T00:00:00",
          "2023-01-09T00:00:00",
          "2023-01-10T00:00:00",
          "2023-01-11T00:00:00",
          "2023-01-12T00:00:00",
          "2023-01-13T00:00:00",
          "2023-01-14T00:00:00",
          "2023-01-15T00:00:00",
          "2023-01-16T00:00:00",
          "2023-01-17T00:00:00",
          "2023-01-18T00:00:00",
          "2023-01-19T00:00:00",
          "2023-01-20T00:00:00",
          "2023-01-21T00:00:00",
          "2023-01-22T00:00:00",
          "2023-01-23T00:00:00",
          "2023-01-24T00:00:00",
          "2023-01-25T00:00:00",
          "2023-01-26T00:00:00",
          "2023-01-27T00:00:00",
          "2023-01-28T00:00:00",
          "2023-01-29T00:00:00",
          "2023-01-30T00:00:00",
          "2023-01-31T00:00:00",
          "2023-02-01T00:00:00",
          "2023-02-02T00:00:00",
          "2023-02-03T00:00:00",
          "2023-02-04T00:00:00",
          "2023-02-05T00:00:00",
          "2023-02-06T00:00:00",
          "2023-02-07T00:00:00",
          "2023-02-08T00:00:00",
          "2023-02-09T00:00:00",
          "2023-02-10T00:00:00",
          "2023-02-11T00:00:00",
          "2023-02-12T00:00:00",
          "2023-02-13T00:00:00",
          "2023-02-14T00:00:00",
          "2023-02-15T00:00:00",
          "2023-02-16T00:00:00",
          "2023-02-17T00:00:00",
          "2023-02-18T00:00:00",
          "2023-02-19T00:00:00",
          "2023-02-20T00:00:00",
          "2023-02-21T00:00:00",
          "2023-02-22T00:00:00",
          "2023-02-23T00:00:00",
          "2023-02-24T00:00:00",
          "2023-02-25T00:00:00",
          "2023-02-26T00:00:00",
          "2023-02-27T00:00:00",
          "2023-02-28T00:00:00",
          "2023-03-01T00:00:00",
          "2023-03-02T00:00:00",
          "2023-03-03T00:00:00",
          "2023-03-04T00:00:00",
          "2023-03-05T00:00:00",
          "2023-03-06T00:00:00",
          "2023-03-07T00:00:00",
          "2023-03-08T00:00:00",
          "2023-03-09T00:00:00",
          "2023-03-10T00:00:00",
          "2023-03-11T00:00:00",
          "2023-03-12T00:00:00",
          "2023-03-13T00:00:00",
          "2023-03-14T00:00:00",
          "2023-03-15T00:00:00",
          "2023-03-16T00:00:00",
          "2023-03-17T00:00:00",
          "2023-03-18T00:00:00",
          "2023-03-19T00:00:00",
          "2023-03-20T00:00:00",
          "2023-03-21T00:00:00",
          "2023-03-22T00:00:00",
          "2023-03-23T00:00:00",
          "2023-03-24T00:00:00",
          "2023-03-25T00:00:00",
          "2023-03-26T00:00:00",
          "2023-03-27T00:00:00",
          "2023-03-28T00:00:00",
          "2023-03-29T00:00:00",
          "2023-03-30T00:00:00",
          "2023-03-31T00:00:00",
          "2023-04-01T00:00:00",
          "2023-04-02T00:00:00",
          "2023-04-03T00:00:00",
          "2023-04-04T00:00:00",
          "2023-04-05T00:00:00",
          "2023-04-06T00:00:00",
          "2023-04-07T00:00:00",
          "2023-04-08T00:00:00",
          "2023-04-09T00:00:00",
          "2023-04-10T00:00:00",
          "2023-04-11T00:00:00",
          "2023-04-12T00:00:00",
          "2023-04-13T00:00:00",
          "2023-04-14T00:00:00",
          "2023-04-15T00:00:00",
          "2023-04-16T00:00:00",
          "2023-04-17T00:00:00",
          "2023-04-18T00:00:00",
          "2023-04-19T00:00:00",
          "2023-04-20T00:00:00",
          "2023-04-21T00:00:00",
          "2023-04-22T00:00:00",
          "2023-04-23T00:00:00",
          "2023-04-24T00:00:00",
          "2023-04-25T00:00:00",
          "2023-04-26T00:00:00",
          "2023-04-27T00:00:00",
          "2023-04-28T00:00:00",
          "2023-04-29T00:00:00",
          "2023-04-30T00:00:00",
          "2023-05-01T00:00:00",
          "2023-05-02T00:00:00",
          "2023-05-03T00:00:00",
          "2023-05-04T00:00:00",
          "2023-05-05T00:00:00",
          "2023-05-06T00:00:00",
          "2023-05-07T00:00:00",
          "2023-05-08T00:00:00",
          "2023-05-09T00:00:00",
          "2023-05-10T00:00:00",
          "2023-05-11T00:00:00",
          "2023-05-12T00:00:00",
          "2023-05-13T00:00:00",
          "2023-05-14T00:00:00",
          "2023-05-15T00:00:00",
          "2023-05-16T00:00:00",
          "2023-05-17T00:00:00",
          "2023-05-18T00:00:00",
          "2023-05-19T00:00:00",
          "2023-05-20T00:00:00",
          "2023-05-21T00:00:00",
          "2023-05-22T00:00:00",
          "2023-05-23T00:00:00",
          "2023-05-24T00:00:00",
          "2023-05-25T00:00:00",
          "2023-05-26T00:00:00",
          "2023-05-27T00:00:00",
          "2023-05-28T00:00:00",
          "2023-05-29T00:00:00",
          "2023-05-30T00:00:00",
          "2023-05-31T00:00:00",
          "2023-06-01T00:00:00",
          "2023-06-02T00:00:00",
          "2023-06-03T00:00:00",
          "2023-06-04T00:00:00",
          "2023-06-05T00:00:00",
          "2023-06-06T00:00:00",
          "2023-06-07T00:00:00",
          "2023-06-08T00:00:00",
          "2023-06-09T00:00:00",
          "2023-06-10T00:00:00",
          "2023-06-11T00:00:00",
          "2023-06-12T00:00:00",
          "2023-06-13T00:00:00",
          "2023-06-14T00:00:00",
          "2023-06-15T00:00:00",
          "2023-06-16T00:00:00",
          "2023-06-17T00:00:00",
          "2023-06-18T00:00:00",
          "2023-06-19T00:00:00",
          "2023-06-20T00:00:00",
          "2023-06-21T00:00:00",
          "2023-06-22T00:00:00",
          "2023-06-23T00:00:00",
          "2023-06-24T00:00:00",
          "2023-06-25T00:00:00",
          "2023-06-26T00:00:00",
          "2023-06-27T00:00:00",
          "2023-06-28T00:00:00",
          "2023-06-29T00:00:00",
          "2023-06-30T00:00:00",
          "2023-07-01T00:00:00",
          "2023-07-02T00:00:00",
          "2023-07-03T00:00:00",
          "2023-07-04T00:00:00",
          "2023-07-05T00:00:00",
          "2023-07-06T00:00:00",
          "2023-07-07T00:00:00",
          "2023-07-08T00:00:00",
          "2023-07-09T00:00:00",
          "2023-07-10T00:00:00",
          "2023-07-11T00:00:00",
          "2023-07-12T00:00:00",
          "2023-07-13T00:00:00",
          "2023-07-14T00:00:00",
          "2023-07-15T00:00:00",
          "2023-07-16T00:00:00",
          "2023-07-17T00:00:00",
          "2023-07-18T00:00:00",
          "2023-07-19T00:00:00",
          "2023-07-20T00:00:00",
          "2023-07-21T00:00:00",
          "2023-07-22T00:00:00",
          "2023-07-23T00:00:00",
          "2023-07-24T00:00:00",
          "2023-07-25T00:00:00",
          "2023-07-26T00:00:00",
          "2023-07-27T00:00:00",
          "2023-07-28T00:00:00",
          "2023-07-29T00:00:00",
          "2023-07-30T00:00:00",
          "2023-07-31T00:00:00",
          "2023-08-01T00:00:00",
          "2023-08-02T00:00:00",
          "2023-08-03T00:00:00",
          "2023-08-04T00:00:00",
          "2023-08-05T00:00:00",
          "2023-08-06T00:00:00",
          "2023-08-07T00:00:00",
          "2023-08-08T00:00:00",
          "2023-08-09T00:00:00",
          "2023-08-10T00:00:00",
          "2023-08-11T00:00:00",
          "2023-08-12T00:00:00",
          "2023-08-13T00:00:00",
          "2023-08-14T00:00:00",
          "2023-08-15T00:00:00",
          "2023-08-16T00:00:00",
          "2023-08-17T00:00:00",
          "2023-08-18T00:00:00",
          "2023-08-19T00:00:00",
          "2023-08-20T00:00:00",
          "2023-08-21T00:00:00",
          "2023-08-22T00:00:00",
          "2023-08-23T00:00:00",
          "2023-08-24T00:00:00",
          "2023-08-25T00:00:00",
          "2023-08-26T00:00:00",
          "2023-08-27T00:00:00",
          "2023-08-28T00:00:00",
          "2023-08-29T00:00:00",
          "2023-08-30T00:00:00",
          "2023-08-31T00:00:00",
          "2023-09-01T00:00:00",
          "2023-09-02T00:00:00",
          "2023-09-03T00:00:00",
          "2023-09-04T00:00:00",
          "2023-09-05T00:00:00",
          "2023-09-06T00:00:00",
          "2023-09-07T00:00:00",
          "2023-09-08T00:00:00",
          "2023-09-09T00:00:00",
          "2023-09-10T00:00:00",
          "2023-09-11T00:00:00",
          "2023-09-12T00:00:00",
          "2023-09-13T00:00:00",
          "2023-09-14T00:00:00",
          "2023-09-15T00:00:00",
          "2023-09-16T00:00:00",
          "2023-09-17T00:00:00",
          "2023-09-18T00:00:00",
          "2023-09-19T00:00:00",
          "2023-09-20T00:00:00",
          "2023-09-21T00:00:00",
          "2023-09-22T00:00:00",
          "2023-09-23T00:00:00",
          "2023-09-24T00:00:00",
          "2023-09-25T00:00:00",
          "2023-09-26T00:00:00",
          "2023-09-27T00:00:00",
          "2023-09-28T00:00:00",
          "2023-09-29T00:00:00",
          "2023-09-30T00:00:00",
          "2023-10-01T00:00:00",
          "2023-10-02T00:00:00",
          "2023-10-03T00:00:00",
          "2023-10-04T00:00:00",
          "2023-10-05T00:00:00",
          "2023-10-06T00:00:00",
          "2023-10-07T00:00:00",
          "2023-10-08T00:00:00",
          "2023-10-09T00:00:00",
          "2023-10-10T00:00:00",
          "2023-10-11T00:00:00",
          "2023-10-12T00:00:00",
          "2023-10-13T00:00:00",
          "2023-10-14T00:00:00",
          "2023-10-15T00:00:00",
          "2023-10-16T00:00:00",
          "2023-10-17T00:00:00",
          "2023-10-18T00:00:00",
          "2023-10-19T00:00:00",
          "2023-10-20T00:00:00",
          "2023-10-21T00:00:00",
          "2023-10-22T00:00:00",
          "2023-10-23T00:00:00",
          "2023-10-24T00:00:00",
          "2023-10-25T00:00:00",
          "2023-10-26T00:00:00",
          "2023-10-27T00:00:00",
          "2023-10-28T00:00:00",
          "2023-10-29T00:00:00",
          "2023-10-30T00:00:00",
          "2023-10-31T00:00:00",
          "2023-11-01T00:00:00",
          "2023-11-02T00:00:00",
          "2023-11-03T00:00:00",
          "2023-11-04T00:00:00",
          "2023-11-05T00:00:00",
          "2023-11-06T00:00:00",
          "2023-11-07T00:00:00",
          "2023-11-08T00:00:00",
          "2023-11-09T00:00:00",
          "2023-11-10T00:00:00",
          "2023-11-11T00:00:00",
          "2023-11-12T00:00:00",
          "2023-11-13T00:00:00",
          "2023-11-14T00:00:00",
          "2023-11-15T00:00:00",
          "2023-11-16T00:00:00",
          "2023-11-17T00:00:00",
          "2023-11-18T00:00:00",
          "2023-11-19T00:00:00",
          "2023-11-20T00:00:00",
          "2023-11-21T00:00:00",
          "2023-11-22T00:00:00",
          "2023-11-23T00:00:00",
          "2023-11-24T00:00:00",
          "2023-11-25T00:00:00",
          "2023-11-26T00:00:00",
          "2023-11-27T00:00:00",
          "2023-11-28T00:00:00",
          "2023-11-29T00:00:00",
          "2023-11-30T00:00:00",
          "2023-12-01T00:00:00",
          "2023-12-02T00:00:00",
          "2023-12-03T00:00:00",
          "2023-12-04T00:00:00",
          "2023-12-05T00:00:00",
          "2023-12-06T00:00:00",
          "2023-12-07T00:00:00",
          "2023-12-08T00:00:00",
          "2023-12-09T00:00:00",
          "2023-12-10T00:00:00",
          "2023-12-11T00:00:00",
          "2023-12-12T00:00:00",
          "2023-12-13T00:00:00",
          "2023-12-14T00:00:00",
          "2023-12-15T00:00:00",
          "2023-12-16T00:00:00",
          "2023-12-17T00:00:00",
          "2023-12-18T00:00:00",
          "2023-12-19T00:00:00",
          "2023-12-20T00:00:00",
          "2023-12-21T00:00:00",
          "2023-12-22T00:00:00",
          "2023-12-23T00:00:00",
          "2023-12-24T00:00:00",
          "2023-12-25T00:00:00",
          "2023-12-26T00:00:00",
          "2023-12-27T00:00:00",
          "2023-12-28T00:00:00",
          "2023-12-29T00:00:00",
          "2023-12-30T00:00:00",
          "2023-12-31T00:00:00",
          "2024-01-01T00:00:00",
          "2024-01-02T00:00:00",
          "2024-01-03T00:00:00",
          "2024-01-04T00:00:00",
          "2024-01-05T00:00:00",
          "2024-01-06T00:00:00",
          "2024-01-07T00:00:00",
          "2024-01-08T00:00:00",
          "2024-01-09T00:00:00",
          "2024-01-10T00:00:00",
          "2024-01-11T00:00:00",
          "2024-01-12T00:00:00",
          "2024-01-13T00:00:00",
          "2024-01-14T00:00:00",
          "2024-01-15T00:00:00",
          "2024-01-16T00:00:00",
          "2024-01-17T00:00:00",
          "2024-01-18T00:00:00",
          "2024-01-19T00:00:00",
          "2024-01-20T00:00:00",
          "2024-01-21T00:00:00",
          "2024-01-22T00:00:00",
          "2024-01-23T00:00:00",
          "2024-01-24T00:00:00",
          "2024-01-25T00:00:00",
          "2024-01-26T00:00:00",
          "2024-01-27T00:00:00",
          "2024-01-28T00:00:00",
          "2024-01-29T00:00:00",
          "2024-01-30T00:00:00",
          "2024-01-31T00:00:00",
          "2024-02-01T00:00:00",
          "2024-02-02T00:00:00",
          "2024-02-03T00:00:00",
          "2024-02-04T00:00:00",
          "2024-02-05T00:00:00",
          "2024-02-06T00:00:00",
          "2024-02-07T00:00:00",
          "2024-02-08T00:00:00",
          "2024-02-09T00:00:00",
          "2024-02-10T00:00:00",
          "2024-02-11T00:00:00",
          "2024-02-12T00:00:00",
          "2024-02-13T00:00:00",
          "2024-02-14T00:00:00",
          "2024-02-15T00:00:00",
          "2024-02-16T00:00:00",
          "2024-02-17T00:00:00",
          "2024-02-18T00:00:00",
          "2024-02-19T00:00:00",
          "2024-02-20T00:00:00",
          "2024-02-21T00:00:00",
          "2024-02-22T00:00:00",
          "2024-02-23T00:00:00",
          "2024-02-24T00:00:00",
          "2024-02-25T00:00:00",
          "2024-02-26T00:00:00",
          "2024-02-27T00:00:00",
          "2024-02-28T00:00:00",
          "2024-02-29T00:00:00"
         ],
         "y": [
          86.77269,
          105.57726,
          118.278656,
          126.82974,
          119.48228,
          115.41563,
          124.289055,
          143.65764,
          131.26791,
          145.60893,
          117.80488,
          123.04032,
          146.15915,
          134.95747,
          145.65181,
          133.38231,
          179.03479,
          155.7774,
          147.88695,
          131.0574,
          158.57185,
          173.82498,
          161.84625,
          140.91788,
          137.21634,
          136.07878,
          156.68205,
          128.58226,
          156.30191,
          140.28592,
          155.5458,
          140.99529,
          148.03307,
          131.44582,
          145.9725,
          155.33005,
          133.98167,
          148.19868,
          142.87102,
          142.86298,
          161.5366,
          146.36479,
          149.83693,
          175.78175,
          176.96552,
          145.2055,
          145.74808,
          166.24916,
          141.30537,
          146.93477,
          156.3208,
          160.75153,
          150.07523,
          148.12065,
          143.82736,
          161.00156,
          141.32391,
          169.77275,
          165.29962,
          169.95967,
          150.26633,
          166.64372,
          150.54558,
          162.16107,
          140.20807,
          159.36873,
          181.59793,
          133.97795,
          136.98695,
          131.08707,
          157.90414,
          162.97832,
          142.13397,
          138.92033,
          147.08847,
          149.24768,
          168.86887,
          154.07112,
          140.6528,
          147.37982,
          132.75764,
          135.41432,
          151.85724,
          137.77295,
          160.21439,
          135.2463,
          154.76038,
          136.65598,
          150.62724,
          152.17569,
          165.46118,
          150.24948,
          144.63293,
          144.04437,
          139.8876,
          133.22903,
          160.75089,
          126.84949,
          134.7925,
          140.3106,
          131.82831,
          126.033035,
          124.39755,
          133.41846,
          155.13849,
          139.74968,
          157.77914,
          128.88863,
          132.4043,
          161.32878,
          132.46828,
          137.96556,
          149.68259,
          138.45193,
          159.3295,
          143.76411,
          123.02863,
          150.29169,
          133.90442,
          160.54854,
          151.33963,
          144.15533,
          140.07155,
          145.45874,
          167.0824,
          129.10962,
          133.9471,
          138.4519,
          131.02065,
          133.93803,
          137.91837,
          133.71199,
          122.59205,
          140.5137,
          132.3524,
          142.49974,
          153.03482,
          133.4383,
          122.575745,
          120.017746,
          131.52925,
          134.82555,
          126.25799,
          117.60863,
          131.8153,
          130.60138,
          170.10014,
          150.7691,
          165.32742,
          132.88551,
          132.11348,
          121.42761,
          131.94055,
          163.98445,
          160.43721,
          159.76498,
          139.13074,
          153.90663,
          137.3658,
          128.18356,
          135.38185,
          160.28189,
          178.28775,
          129.41437,
          124.82762,
          119.81804,
          140.17607,
          132.38788,
          137.58958,
          156.15395,
          140.33179,
          145.17574,
          142.545,
          158.52956,
          125.262596,
          140.22025,
          166.8266,
          142.77664,
          158.441,
          160.48999,
          153.03105,
          147.21231,
          160.62839,
          157.06833,
          132.52016,
          173.77003,
          161.55939,
          175.8306,
          153.42815,
          209.25383,
          174.78102,
          176.12337,
          166.95358,
          171.07104,
          162.53735,
          154.96765,
          146.32944,
          160.78137,
          157.85364,
          150.14313,
          158.68901,
          174.17078,
          170.8928,
          154.45087,
          142.77626,
          170.62231,
          150.56744,
          167.6949,
          148.62228,
          176.25948,
          167.40234,
          158.98183,
          150.0219,
          179.13702,
          167.00963,
          201.1948,
          161.62222,
          158.2774,
          189.21706,
          165.14491,
          169.26367,
          168.83899,
          181.59825,
          161.76003,
          164.8538,
          180.61835,
          153.5626,
          165.97055,
          153.29585,
          159.66531,
          181.42188,
          168.05038,
          169.59216,
          167.81386,
          151.63986,
          204.28806,
          166.22842,
          156.5388,
          176.27403,
          178.31325,
          158.08273,
          169.73613,
          176.39099,
          171.56688,
          182.11307,
          160.13678,
          186.0527,
          161.93672,
          165.59384,
          169.70161,
          171.00548,
          171.36122,
          175.71722,
          206.75378,
          182.2973,
          192.98465,
          194.96669,
          193.82072,
          157.53415,
          191.82684,
          191.82935,
          193.55995,
          159.2703,
          172.13664,
          151.56776,
          200.05728,
          200.76062,
          176.87378,
          177.51456,
          161.45125,
          155.75372,
          175.9752,
          204.94183,
          225.9037,
          195.63846,
          191.10367,
          209.11372,
          191.48007,
          219.0543,
          225.62091,
          203.54852,
          157.99393,
          192.10501,
          178.48286,
          211.59604,
          173.4739,
          170.80429,
          215.35948,
          163.47774,
          187.13565,
          176.49284,
          207.46983,
          183.17345,
          192.29959,
          171.09218,
          192.75545,
          187.39847,
          168.71207,
          190.93137,
          197.95126,
          195.13617,
          229.93411,
          212.62498,
          189.43318,
          165.37088,
          163.54865,
          189.32227,
          152.24553,
          167.45638,
          180.2412,
          152.70465,
          171.90826,
          173.55087,
          184.35379,
          162.21454,
          180.9639,
          185.89146,
          195.06313,
          188.66447,
          177.73366,
          173.01443,
          191.783,
          202.32668,
          170.94835,
          159.94637,
          179.41455,
          207.08766,
          170.62901,
          159.17787,
          166.51013,
          163.03511,
          163.31729,
          180.472,
          154.51892,
          154.63072,
          165.3548,
          137.92111,
          146.35408,
          180.89136,
          143.67818,
          161.57596,
          174.59007,
          162.44815,
          139.8479,
          164.72992,
          161.75598,
          167.46468,
          164.607,
          160.675,
          161.2973,
          170.44543,
          173.04568,
          150.33063,
          160.2993,
          153.23161,
          154.9881,
          175.95413,
          182.96063,
          156.96518,
          159.58806,
          153.06816,
          171.19807,
          149.0918,
          162.52849,
          135.63513,
          214.03711,
          169.08833,
          136.0595,
          172.3669,
          136.62079,
          175.93488,
          155.88403,
          154.01523,
          160.85548,
          142.45946,
          194.05336,
          160.59515,
          169.04573,
          148.39938,
          159.51334,
          166.90968,
          155.70515,
          161.48048,
          150.67596,
          177.2238,
          146.41577,
          138.80618,
          134.38292,
          129.42055,
          119.494865,
          147.17583,
          118.04152,
          145.37029,
          134.95952,
          140.43954,
          147.88058,
          150.38167,
          146.90785,
          147.27704,
          150.86125,
          133.48108,
          136.06874,
          119.92279,
          181.65437,
          148.84398,
          121.04858,
          168.33974,
          186.10216,
          145.70462,
          185.17258,
          119.99492,
          179.56285,
          132.66736,
          143.48795,
          140.2768,
          118.488174,
          144.90817,
          179.12405,
          133.47581,
          175.05591,
          159.26279,
          152.18454,
          127.23527,
          153.37616,
          130.34177,
          125.57739,
          104.55937,
          131.33362,
          181.80693,
          143.45148,
          134.92775,
          127.4151,
          134.9694,
          145.10692,
          152.0335,
          142.27153,
          130.54909,
          131.82518,
          134.52618,
          136.69955,
          163.6958,
          125.82575,
          155.9844,
          149.1092,
          151.29448,
          124.28765,
          179.50996,
          135.09164,
          114.69132,
          140.47406,
          127.43361,
          173.18303,
          140.4558,
          140.72935,
          130.30199,
          125.402664,
          207.22433,
          147.2031,
          158.7957,
          129.36061,
          163.52933,
          152.68962,
          120.303116,
          186.97458,
          142.99397,
          146.2351,
          163.55463,
          125.32841,
          150.63062,
          137.7419,
          143.57613,
          168.25815,
          105.70338,
          146.99281,
          140.61122,
          181.52818,
          141.79477,
          190.28598,
          154.93922,
          134.19531,
          146.81943,
          156.57533,
          134.44424,
          170.1136,
          145.62611,
          147.493,
          171.72623,
          153.789,
          181.60425,
          211.18378,
          186.72421,
          182.38728,
          155.61371,
          170.48071,
          158.62592,
          154.5874,
          219.16896,
          138.24612,
          150.15854,
          136.88203,
          165.40402,
          155.98065,
          130.13278,
          140.65198,
          202.75829,
          178.36006,
          167.2811,
          176.3502,
          144.72638,
          166.06711,
          185.89622,
          145.21901,
          152.71214,
          166.0733,
          163.37953,
          159.54376,
          137.51048,
          178.36461,
          159.59515,
          155.19359,
          156.05716,
          181.05861,
          143.91261,
          150.13095,
          144.5169,
          195.21178,
          157.04904,
          150.09416,
          134.18825,
          180.72966,
          148.99661,
          201.24905,
          175.5209,
          139.1058,
          140.91257,
          120.80641,
          174.03131,
          164.69252,
          172.29832,
          171.78178,
          162.88266,
          144.40297,
          164.69153,
          184.15298,
          141.61351,
          157.57735,
          156.42339,
          139.69952,
          148.36821,
          141.04344,
          125.57454,
          161.23177,
          156.08168,
          155.05127,
          146.5127,
          147.6957,
          147.44438,
          186.28136,
          171.33228,
          142.31021,
          130.8756,
          156.44388,
          186.02313,
          157.21553,
          193.86919,
          165.68102,
          138.79686,
          151.04413,
          132.54779,
          141.618,
          165.76474,
          159.2028,
          137.68503,
          165.49051,
          156.13333,
          225.53314,
          134.28015,
          141.77664,
          138.35532,
          180.95265,
          145.61763,
          126.05489,
          175.17273,
          128.16678,
          179.06161,
          168.21216,
          148.06618,
          127.28599,
          155.19609,
          132.03264,
          141.78139,
          162.39528,
          150.9157,
          150.88487,
          138.71785,
          152.88507,
          159.58913,
          192.46434,
          185.19159,
          212.29909,
          154.49821,
          142.36415,
          165.5313,
          147.80852,
          147.13026,
          191.51485,
          199.27565,
          160.2359,
          183.41975,
          123.718216,
          165.77203,
          124.39706,
          141.46089,
          150.20734,
          150.30841,
          145.58748,
          128.98721,
          137.1099,
          145.84991,
          136.49065,
          169.68205,
          145.86996,
          125.7893,
          161.13722,
          128.5555,
          130.79527,
          164.07617,
          140.50563,
          137.92513,
          169.3788,
          133.3987,
          144.55783,
          220.40326,
          167.9831,
          168.29898,
          194.82059,
          164.01111,
          205.56387,
          202.32678,
          137.65475,
          154.4264,
          132.05354,
          131.58572,
          157.74048,
          159.70778,
          171.5761,
          136.80899,
          141.84128,
          146.81084,
          122.183044,
          127.60996,
          152.89188,
          121.23486,
          152.37053,
          128.89175,
          123.18897,
          146.55038,
          178.78334,
          151.40364,
          156.65707,
          125.7654,
          130.06711,
          121.21018,
          139.43689,
          147.01488,
          135.57373,
          178.24738,
          154.13747,
          139.7604,
          158.81274,
          154.54874,
          154.11215,
          131.88734,
          150.70547,
          140.6549,
          157.46329,
          160.74295,
          133.53448,
          174.28244,
          241.66895,
          115.81623,
          128.71815,
          148.73325,
          133.4798,
          140.94974,
          134.23656,
          125.1946,
          142.21594,
          160.37402,
          171.91089,
          152.72244,
          148.39323,
          133.04376,
          134.50784,
          185.30565,
          142.15887,
          159.54321,
          184.66335,
          167.48303,
          148.92119,
          183.59708,
          160.7853,
          150.5051,
          148.60774,
          146.55016,
          136.61966,
          144.23616,
          177.1284,
          142.75,
          127.016975,
          159.26001,
          125.260086,
          161.9734,
          148.2136,
          121.4091,
          138.8801,
          132.1564,
          175.2535,
          136.04803,
          139.19072,
          141.10258,
          161.91489,
          171.83102,
          153.96414,
          152.63097,
          139.16222,
          139.65907,
          139.14217,
          164.98015,
          143.31917,
          151.53537,
          150.18237,
          143.60814,
          124.7937,
          148.09349,
          141.68346,
          135.6567,
          169.4883,
          152.69272,
          124.932724,
          120.83454,
          139.28728,
          147.54611,
          143.18633,
          127.14848,
          123.232506,
          136.45035,
          131.40324,
          131.3751,
          150.90718,
          154.87698,
          117.37488,
          120.92978,
          134.59363,
          130.42476,
          156.94708,
          148.97101,
          125.07343,
          119.41825,
          149.63783,
          141.69376,
          140.97781,
          120.93709,
          137.9179,
          128.62285,
          150.28159,
          184.48492,
          125.15057,
          127.005806,
          149.51083,
          133.06114,
          136.20636,
          120.91793,
          147.73451,
          124.21162,
          136.10065,
          153.52907,
          139.82137,
          143.11908,
          120.836655,
          151.34396,
          144.66187,
          140.60693,
          129.7895,
          134.0594,
          156.94667,
          143.37529,
          151.42429,
          169.97954,
          146.9169
         ]
        },
        {
         "line": {
          "color": "darkgreen",
          "dash": "solid"
         },
         "mode": "lines",
         "name": "Actual Test Data",
         "type": "scatter",
         "x": [
          "2022-01-01T00:00:00",
          "2022-01-02T00:00:00",
          "2022-01-03T00:00:00",
          "2022-01-04T00:00:00",
          "2022-01-05T00:00:00",
          "2022-01-06T00:00:00",
          "2022-01-07T00:00:00",
          "2022-01-08T00:00:00",
          "2022-01-09T00:00:00",
          "2022-01-10T00:00:00",
          "2022-01-11T00:00:00",
          "2022-01-12T00:00:00",
          "2022-01-13T00:00:00",
          "2022-01-14T00:00:00",
          "2022-01-15T00:00:00",
          "2022-01-16T00:00:00",
          "2022-01-17T00:00:00",
          "2022-01-18T00:00:00",
          "2022-01-19T00:00:00",
          "2022-01-20T00:00:00",
          "2022-01-21T00:00:00",
          "2022-01-22T00:00:00",
          "2022-01-23T00:00:00",
          "2022-01-24T00:00:00",
          "2022-01-25T00:00:00",
          "2022-01-26T00:00:00",
          "2022-01-27T00:00:00",
          "2022-01-28T00:00:00",
          "2022-01-29T00:00:00",
          "2022-01-30T00:00:00",
          "2022-01-31T00:00:00",
          "2022-02-01T00:00:00",
          "2022-02-02T00:00:00",
          "2022-02-03T00:00:00",
          "2022-02-04T00:00:00",
          "2022-02-05T00:00:00",
          "2022-02-06T00:00:00",
          "2022-02-07T00:00:00",
          "2022-02-08T00:00:00",
          "2022-02-09T00:00:00",
          "2022-02-10T00:00:00",
          "2022-02-11T00:00:00",
          "2022-02-12T00:00:00",
          "2022-02-13T00:00:00",
          "2022-02-14T00:00:00",
          "2022-02-15T00:00:00",
          "2022-02-16T00:00:00",
          "2022-02-17T00:00:00",
          "2022-02-18T00:00:00",
          "2022-02-19T00:00:00",
          "2022-02-20T00:00:00",
          "2022-02-21T00:00:00",
          "2022-02-22T00:00:00",
          "2022-02-23T00:00:00",
          "2022-02-24T00:00:00",
          "2022-02-25T00:00:00",
          "2022-02-26T00:00:00",
          "2022-02-27T00:00:00",
          "2022-02-28T00:00:00",
          "2022-03-01T00:00:00",
          "2022-03-02T00:00:00",
          "2022-03-03T00:00:00",
          "2022-03-04T00:00:00",
          "2022-03-05T00:00:00",
          "2022-03-06T00:00:00",
          "2022-03-07T00:00:00",
          "2022-03-08T00:00:00",
          "2022-03-09T00:00:00",
          "2022-03-10T00:00:00",
          "2022-03-11T00:00:00",
          "2022-03-12T00:00:00",
          "2022-03-13T00:00:00",
          "2022-03-14T00:00:00",
          "2022-03-15T00:00:00",
          "2022-03-16T00:00:00",
          "2022-03-17T00:00:00",
          "2022-03-18T00:00:00",
          "2022-03-19T00:00:00",
          "2022-03-20T00:00:00",
          "2022-03-21T00:00:00",
          "2022-03-22T00:00:00",
          "2022-03-23T00:00:00",
          "2022-03-24T00:00:00",
          "2022-03-25T00:00:00",
          "2022-03-26T00:00:00",
          "2022-03-27T00:00:00",
          "2022-03-28T00:00:00",
          "2022-03-29T00:00:00",
          "2022-03-30T00:00:00",
          "2022-03-31T00:00:00",
          "2022-04-01T00:00:00",
          "2022-04-02T00:00:00",
          "2022-04-03T00:00:00",
          "2022-04-04T00:00:00",
          "2022-04-05T00:00:00",
          "2022-04-06T00:00:00",
          "2022-04-07T00:00:00",
          "2022-04-08T00:00:00",
          "2022-04-09T00:00:00",
          "2022-04-10T00:00:00",
          "2022-04-11T00:00:00",
          "2022-04-12T00:00:00",
          "2022-04-13T00:00:00",
          "2022-04-14T00:00:00",
          "2022-04-15T00:00:00",
          "2022-04-16T00:00:00",
          "2022-04-17T00:00:00",
          "2022-04-18T00:00:00",
          "2022-04-19T00:00:00",
          "2022-04-20T00:00:00",
          "2022-04-21T00:00:00",
          "2022-04-22T00:00:00",
          "2022-04-23T00:00:00",
          "2022-04-24T00:00:00",
          "2022-04-25T00:00:00",
          "2022-04-26T00:00:00",
          "2022-04-27T00:00:00",
          "2022-04-28T00:00:00",
          "2022-04-29T00:00:00",
          "2022-04-30T00:00:00",
          "2022-05-01T00:00:00",
          "2022-05-02T00:00:00",
          "2022-05-03T00:00:00",
          "2022-05-04T00:00:00",
          "2022-05-05T00:00:00",
          "2022-05-06T00:00:00",
          "2022-05-07T00:00:00",
          "2022-05-08T00:00:00",
          "2022-05-09T00:00:00",
          "2022-05-10T00:00:00",
          "2022-05-11T00:00:00",
          "2022-05-12T00:00:00",
          "2022-05-13T00:00:00",
          "2022-05-14T00:00:00",
          "2022-05-15T00:00:00",
          "2022-05-16T00:00:00",
          "2022-05-17T00:00:00",
          "2022-05-18T00:00:00",
          "2022-05-19T00:00:00",
          "2022-05-20T00:00:00",
          "2022-05-21T00:00:00",
          "2022-05-22T00:00:00",
          "2022-05-23T00:00:00",
          "2022-05-24T00:00:00",
          "2022-05-25T00:00:00",
          "2022-05-26T00:00:00",
          "2022-05-27T00:00:00",
          "2022-05-28T00:00:00",
          "2022-05-29T00:00:00",
          "2022-05-30T00:00:00",
          "2022-05-31T00:00:00",
          "2022-06-01T00:00:00",
          "2022-06-02T00:00:00",
          "2022-06-03T00:00:00",
          "2022-06-04T00:00:00",
          "2022-06-05T00:00:00",
          "2022-06-06T00:00:00",
          "2022-06-07T00:00:00",
          "2022-06-08T00:00:00",
          "2022-06-09T00:00:00",
          "2022-06-10T00:00:00",
          "2022-06-11T00:00:00",
          "2022-06-12T00:00:00",
          "2022-06-13T00:00:00",
          "2022-06-14T00:00:00",
          "2022-06-15T00:00:00",
          "2022-06-16T00:00:00",
          "2022-06-17T00:00:00",
          "2022-06-18T00:00:00",
          "2022-06-19T00:00:00",
          "2022-06-20T00:00:00",
          "2022-06-21T00:00:00",
          "2022-06-22T00:00:00",
          "2022-06-23T00:00:00",
          "2022-06-24T00:00:00",
          "2022-06-25T00:00:00",
          "2022-06-26T00:00:00",
          "2022-06-27T00:00:00",
          "2022-06-28T00:00:00",
          "2022-06-29T00:00:00",
          "2022-06-30T00:00:00",
          "2022-07-01T00:00:00",
          "2022-07-02T00:00:00",
          "2022-07-03T00:00:00",
          "2022-07-04T00:00:00",
          "2022-07-05T00:00:00",
          "2022-07-06T00:00:00",
          "2022-07-07T00:00:00",
          "2022-07-08T00:00:00",
          "2022-07-09T00:00:00",
          "2022-07-10T00:00:00",
          "2022-07-11T00:00:00",
          "2022-07-12T00:00:00",
          "2022-07-13T00:00:00",
          "2022-07-14T00:00:00",
          "2022-07-15T00:00:00",
          "2022-07-16T00:00:00",
          "2022-07-17T00:00:00",
          "2022-07-18T00:00:00",
          "2022-07-19T00:00:00",
          "2022-07-20T00:00:00",
          "2022-07-21T00:00:00",
          "2022-07-22T00:00:00",
          "2022-07-23T00:00:00",
          "2022-07-24T00:00:00",
          "2022-07-25T00:00:00",
          "2022-07-26T00:00:00",
          "2022-07-27T00:00:00",
          "2022-07-28T00:00:00",
          "2022-07-29T00:00:00",
          "2022-07-30T00:00:00",
          "2022-07-31T00:00:00",
          "2022-08-01T00:00:00",
          "2022-08-02T00:00:00",
          "2022-08-03T00:00:00",
          "2022-08-04T00:00:00",
          "2022-08-05T00:00:00",
          "2022-08-06T00:00:00",
          "2022-08-07T00:00:00",
          "2022-08-08T00:00:00",
          "2022-08-09T00:00:00",
          "2022-08-10T00:00:00",
          "2022-08-11T00:00:00",
          "2022-08-12T00:00:00",
          "2022-08-13T00:00:00",
          "2022-08-14T00:00:00",
          "2022-08-15T00:00:00",
          "2022-08-16T00:00:00",
          "2022-08-17T00:00:00",
          "2022-08-18T00:00:00",
          "2022-08-19T00:00:00",
          "2022-08-20T00:00:00",
          "2022-08-21T00:00:00",
          "2022-08-22T00:00:00",
          "2022-08-23T00:00:00",
          "2022-08-24T00:00:00",
          "2022-08-25T00:00:00",
          "2022-08-26T00:00:00",
          "2022-08-27T00:00:00",
          "2022-08-28T00:00:00",
          "2022-08-29T00:00:00",
          "2022-08-30T00:00:00",
          "2022-08-31T00:00:00",
          "2022-09-01T00:00:00",
          "2022-09-02T00:00:00",
          "2022-09-03T00:00:00",
          "2022-09-04T00:00:00",
          "2022-09-05T00:00:00",
          "2022-09-06T00:00:00",
          "2022-09-07T00:00:00",
          "2022-09-08T00:00:00",
          "2022-09-09T00:00:00",
          "2022-09-10T00:00:00",
          "2022-09-11T00:00:00",
          "2022-09-12T00:00:00",
          "2022-09-13T00:00:00",
          "2022-09-14T00:00:00",
          "2022-09-15T00:00:00",
          "2022-09-16T00:00:00",
          "2022-09-17T00:00:00",
          "2022-09-18T00:00:00",
          "2022-09-19T00:00:00",
          "2022-09-20T00:00:00",
          "2022-09-21T00:00:00",
          "2022-09-22T00:00:00",
          "2022-09-23T00:00:00",
          "2022-09-24T00:00:00",
          "2022-09-25T00:00:00",
          "2022-09-26T00:00:00",
          "2022-09-27T00:00:00",
          "2022-09-28T00:00:00",
          "2022-09-29T00:00:00",
          "2022-09-30T00:00:00",
          "2022-10-01T00:00:00",
          "2022-10-02T00:00:00",
          "2022-10-03T00:00:00",
          "2022-10-04T00:00:00",
          "2022-10-05T00:00:00",
          "2022-10-06T00:00:00",
          "2022-10-07T00:00:00",
          "2022-10-08T00:00:00",
          "2022-10-09T00:00:00",
          "2022-10-10T00:00:00",
          "2022-10-11T00:00:00",
          "2022-10-12T00:00:00",
          "2022-10-13T00:00:00",
          "2022-10-14T00:00:00",
          "2022-10-15T00:00:00",
          "2022-10-16T00:00:00",
          "2022-10-17T00:00:00",
          "2022-10-18T00:00:00",
          "2022-10-19T00:00:00",
          "2022-10-20T00:00:00",
          "2022-10-21T00:00:00",
          "2022-10-22T00:00:00",
          "2022-10-23T00:00:00",
          "2022-10-24T00:00:00",
          "2022-10-25T00:00:00",
          "2022-10-26T00:00:00",
          "2022-10-27T00:00:00",
          "2022-10-28T00:00:00",
          "2022-10-29T00:00:00",
          "2022-10-30T00:00:00",
          "2022-10-31T00:00:00",
          "2022-11-01T00:00:00",
          "2022-11-02T00:00:00",
          "2022-11-03T00:00:00",
          "2022-11-04T00:00:00",
          "2022-11-05T00:00:00",
          "2022-11-06T00:00:00",
          "2022-11-07T00:00:00",
          "2022-11-08T00:00:00",
          "2022-11-09T00:00:00",
          "2022-11-10T00:00:00",
          "2022-11-11T00:00:00",
          "2022-11-12T00:00:00",
          "2022-11-13T00:00:00",
          "2022-11-14T00:00:00",
          "2022-11-15T00:00:00",
          "2022-11-16T00:00:00",
          "2022-11-17T00:00:00",
          "2022-11-18T00:00:00",
          "2022-11-19T00:00:00",
          "2022-11-20T00:00:00",
          "2022-11-21T00:00:00",
          "2022-11-22T00:00:00",
          "2022-11-23T00:00:00",
          "2022-11-24T00:00:00",
          "2022-11-25T00:00:00",
          "2022-11-26T00:00:00",
          "2022-11-27T00:00:00",
          "2022-11-28T00:00:00",
          "2022-11-29T00:00:00",
          "2022-11-30T00:00:00",
          "2022-12-01T00:00:00",
          "2022-12-02T00:00:00",
          "2022-12-03T00:00:00",
          "2022-12-04T00:00:00",
          "2022-12-05T00:00:00",
          "2022-12-06T00:00:00",
          "2022-12-07T00:00:00",
          "2022-12-08T00:00:00",
          "2022-12-09T00:00:00",
          "2022-12-10T00:00:00",
          "2022-12-11T00:00:00",
          "2022-12-12T00:00:00",
          "2022-12-13T00:00:00",
          "2022-12-14T00:00:00",
          "2022-12-15T00:00:00",
          "2022-12-16T00:00:00",
          "2022-12-17T00:00:00",
          "2022-12-18T00:00:00",
          "2022-12-19T00:00:00",
          "2022-12-20T00:00:00",
          "2022-12-21T00:00:00",
          "2022-12-22T00:00:00",
          "2022-12-23T00:00:00",
          "2022-12-24T00:00:00",
          "2022-12-25T00:00:00",
          "2022-12-26T00:00:00",
          "2022-12-27T00:00:00",
          "2022-12-28T00:00:00",
          "2022-12-29T00:00:00",
          "2022-12-30T00:00:00",
          "2022-12-31T00:00:00",
          "2023-01-01T00:00:00",
          "2023-01-02T00:00:00",
          "2023-01-03T00:00:00",
          "2023-01-04T00:00:00",
          "2023-01-05T00:00:00",
          "2023-01-06T00:00:00",
          "2023-01-07T00:00:00",
          "2023-01-08T00:00:00",
          "2023-01-09T00:00:00",
          "2023-01-10T00:00:00",
          "2023-01-11T00:00:00",
          "2023-01-12T00:00:00",
          "2023-01-13T00:00:00",
          "2023-01-14T00:00:00",
          "2023-01-15T00:00:00",
          "2023-01-16T00:00:00",
          "2023-01-17T00:00:00",
          "2023-01-18T00:00:00",
          "2023-01-19T00:00:00",
          "2023-01-20T00:00:00",
          "2023-01-21T00:00:00",
          "2023-01-22T00:00:00",
          "2023-01-23T00:00:00",
          "2023-01-24T00:00:00",
          "2023-01-25T00:00:00",
          "2023-01-26T00:00:00",
          "2023-01-27T00:00:00",
          "2023-01-28T00:00:00",
          "2023-01-29T00:00:00",
          "2023-01-30T00:00:00",
          "2023-01-31T00:00:00",
          "2023-02-01T00:00:00",
          "2023-02-02T00:00:00",
          "2023-02-03T00:00:00",
          "2023-02-04T00:00:00",
          "2023-02-05T00:00:00",
          "2023-02-06T00:00:00",
          "2023-02-07T00:00:00",
          "2023-02-08T00:00:00",
          "2023-02-09T00:00:00",
          "2023-02-10T00:00:00",
          "2023-02-11T00:00:00",
          "2023-02-12T00:00:00",
          "2023-02-13T00:00:00",
          "2023-02-14T00:00:00",
          "2023-02-15T00:00:00",
          "2023-02-16T00:00:00",
          "2023-02-17T00:00:00",
          "2023-02-18T00:00:00",
          "2023-02-19T00:00:00",
          "2023-02-20T00:00:00",
          "2023-02-21T00:00:00",
          "2023-02-22T00:00:00",
          "2023-02-23T00:00:00",
          "2023-02-24T00:00:00",
          "2023-02-25T00:00:00",
          "2023-02-26T00:00:00",
          "2023-02-27T00:00:00",
          "2023-02-28T00:00:00",
          "2023-03-01T00:00:00",
          "2023-03-02T00:00:00",
          "2023-03-03T00:00:00",
          "2023-03-04T00:00:00",
          "2023-03-05T00:00:00",
          "2023-03-06T00:00:00",
          "2023-03-07T00:00:00",
          "2023-03-08T00:00:00",
          "2023-03-09T00:00:00",
          "2023-03-10T00:00:00",
          "2023-03-11T00:00:00",
          "2023-03-12T00:00:00",
          "2023-03-13T00:00:00",
          "2023-03-14T00:00:00",
          "2023-03-15T00:00:00",
          "2023-03-16T00:00:00",
          "2023-03-17T00:00:00",
          "2023-03-18T00:00:00",
          "2023-03-19T00:00:00",
          "2023-03-20T00:00:00",
          "2023-03-21T00:00:00",
          "2023-03-22T00:00:00",
          "2023-03-23T00:00:00",
          "2023-03-24T00:00:00",
          "2023-03-25T00:00:00",
          "2023-03-26T00:00:00",
          "2023-03-27T00:00:00",
          "2023-03-28T00:00:00",
          "2023-03-29T00:00:00",
          "2023-03-30T00:00:00",
          "2023-03-31T00:00:00",
          "2023-04-01T00:00:00",
          "2023-04-02T00:00:00",
          "2023-04-03T00:00:00",
          "2023-04-04T00:00:00",
          "2023-04-05T00:00:00",
          "2023-04-06T00:00:00",
          "2023-04-07T00:00:00",
          "2023-04-08T00:00:00",
          "2023-04-09T00:00:00",
          "2023-04-10T00:00:00",
          "2023-04-11T00:00:00",
          "2023-04-12T00:00:00",
          "2023-04-13T00:00:00",
          "2023-04-14T00:00:00",
          "2023-04-15T00:00:00",
          "2023-04-16T00:00:00",
          "2023-04-17T00:00:00",
          "2023-04-18T00:00:00",
          "2023-04-19T00:00:00",
          "2023-04-20T00:00:00",
          "2023-04-21T00:00:00",
          "2023-04-22T00:00:00",
          "2023-04-23T00:00:00",
          "2023-04-24T00:00:00",
          "2023-04-25T00:00:00",
          "2023-04-26T00:00:00",
          "2023-04-27T00:00:00",
          "2023-04-28T00:00:00",
          "2023-04-29T00:00:00",
          "2023-04-30T00:00:00",
          "2023-05-01T00:00:00",
          "2023-05-02T00:00:00",
          "2023-05-03T00:00:00",
          "2023-05-04T00:00:00",
          "2023-05-05T00:00:00",
          "2023-05-06T00:00:00",
          "2023-05-07T00:00:00",
          "2023-05-08T00:00:00",
          "2023-05-09T00:00:00",
          "2023-05-10T00:00:00",
          "2023-05-11T00:00:00",
          "2023-05-12T00:00:00",
          "2023-05-13T00:00:00",
          "2023-05-14T00:00:00",
          "2023-05-15T00:00:00",
          "2023-05-16T00:00:00",
          "2023-05-17T00:00:00",
          "2023-05-18T00:00:00",
          "2023-05-19T00:00:00",
          "2023-05-20T00:00:00",
          "2023-05-21T00:00:00",
          "2023-05-22T00:00:00",
          "2023-05-23T00:00:00",
          "2023-05-24T00:00:00",
          "2023-05-25T00:00:00",
          "2023-05-26T00:00:00",
          "2023-05-27T00:00:00",
          "2023-05-28T00:00:00",
          "2023-05-29T00:00:00",
          "2023-05-30T00:00:00",
          "2023-05-31T00:00:00",
          "2023-06-01T00:00:00",
          "2023-06-02T00:00:00",
          "2023-06-03T00:00:00",
          "2023-06-04T00:00:00",
          "2023-06-05T00:00:00",
          "2023-06-06T00:00:00",
          "2023-06-07T00:00:00",
          "2023-06-08T00:00:00",
          "2023-06-09T00:00:00",
          "2023-06-10T00:00:00",
          "2023-06-11T00:00:00",
          "2023-06-12T00:00:00",
          "2023-06-13T00:00:00",
          "2023-06-14T00:00:00",
          "2023-06-15T00:00:00",
          "2023-06-16T00:00:00",
          "2023-06-17T00:00:00",
          "2023-06-18T00:00:00",
          "2023-06-19T00:00:00",
          "2023-06-20T00:00:00",
          "2023-06-21T00:00:00",
          "2023-06-22T00:00:00",
          "2023-06-23T00:00:00",
          "2023-06-24T00:00:00",
          "2023-06-25T00:00:00",
          "2023-06-26T00:00:00",
          "2023-06-27T00:00:00",
          "2023-06-28T00:00:00",
          "2023-06-29T00:00:00",
          "2023-06-30T00:00:00",
          "2023-07-01T00:00:00",
          "2023-07-02T00:00:00",
          "2023-07-03T00:00:00",
          "2023-07-04T00:00:00",
          "2023-07-05T00:00:00",
          "2023-07-06T00:00:00",
          "2023-07-07T00:00:00",
          "2023-07-08T00:00:00",
          "2023-07-09T00:00:00",
          "2023-07-10T00:00:00",
          "2023-07-11T00:00:00",
          "2023-07-12T00:00:00",
          "2023-07-13T00:00:00",
          "2023-07-14T00:00:00",
          "2023-07-15T00:00:00",
          "2023-07-16T00:00:00",
          "2023-07-17T00:00:00",
          "2023-07-18T00:00:00",
          "2023-07-19T00:00:00",
          "2023-07-20T00:00:00",
          "2023-07-21T00:00:00",
          "2023-07-22T00:00:00",
          "2023-07-23T00:00:00",
          "2023-07-24T00:00:00",
          "2023-07-25T00:00:00",
          "2023-07-26T00:00:00",
          "2023-07-27T00:00:00",
          "2023-07-28T00:00:00",
          "2023-07-29T00:00:00",
          "2023-07-30T00:00:00",
          "2023-07-31T00:00:00",
          "2023-08-01T00:00:00",
          "2023-08-02T00:00:00",
          "2023-08-03T00:00:00",
          "2023-08-04T00:00:00",
          "2023-08-05T00:00:00",
          "2023-08-06T00:00:00",
          "2023-08-07T00:00:00",
          "2023-08-08T00:00:00",
          "2023-08-09T00:00:00",
          "2023-08-10T00:00:00",
          "2023-08-11T00:00:00",
          "2023-08-12T00:00:00",
          "2023-08-13T00:00:00",
          "2023-08-14T00:00:00",
          "2023-08-15T00:00:00",
          "2023-08-16T00:00:00",
          "2023-08-17T00:00:00",
          "2023-08-18T00:00:00",
          "2023-08-19T00:00:00",
          "2023-08-20T00:00:00",
          "2023-08-21T00:00:00",
          "2023-08-22T00:00:00",
          "2023-08-23T00:00:00",
          "2023-08-24T00:00:00",
          "2023-08-25T00:00:00",
          "2023-08-26T00:00:00",
          "2023-08-27T00:00:00",
          "2023-08-28T00:00:00",
          "2023-08-29T00:00:00",
          "2023-08-30T00:00:00",
          "2023-08-31T00:00:00",
          "2023-09-01T00:00:00",
          "2023-09-02T00:00:00",
          "2023-09-03T00:00:00",
          "2023-09-04T00:00:00",
          "2023-09-05T00:00:00",
          "2023-09-06T00:00:00",
          "2023-09-07T00:00:00",
          "2023-09-08T00:00:00",
          "2023-09-09T00:00:00",
          "2023-09-10T00:00:00",
          "2023-09-11T00:00:00",
          "2023-09-12T00:00:00",
          "2023-09-13T00:00:00",
          "2023-09-14T00:00:00",
          "2023-09-15T00:00:00",
          "2023-09-16T00:00:00",
          "2023-09-17T00:00:00",
          "2023-09-18T00:00:00",
          "2023-09-19T00:00:00",
          "2023-09-20T00:00:00",
          "2023-09-21T00:00:00",
          "2023-09-22T00:00:00",
          "2023-09-23T00:00:00",
          "2023-09-24T00:00:00",
          "2023-09-25T00:00:00",
          "2023-09-26T00:00:00",
          "2023-09-27T00:00:00",
          "2023-09-28T00:00:00",
          "2023-09-29T00:00:00",
          "2023-09-30T00:00:00",
          "2023-10-01T00:00:00",
          "2023-10-02T00:00:00",
          "2023-10-03T00:00:00",
          "2023-10-04T00:00:00",
          "2023-10-05T00:00:00",
          "2023-10-06T00:00:00",
          "2023-10-07T00:00:00",
          "2023-10-08T00:00:00",
          "2023-10-09T00:00:00",
          "2023-10-10T00:00:00",
          "2023-10-11T00:00:00",
          "2023-10-12T00:00:00",
          "2023-10-13T00:00:00",
          "2023-10-14T00:00:00",
          "2023-10-15T00:00:00",
          "2023-10-16T00:00:00",
          "2023-10-17T00:00:00",
          "2023-10-18T00:00:00",
          "2023-10-19T00:00:00",
          "2023-10-20T00:00:00",
          "2023-10-21T00:00:00",
          "2023-10-22T00:00:00",
          "2023-10-23T00:00:00",
          "2023-10-24T00:00:00",
          "2023-10-25T00:00:00",
          "2023-10-26T00:00:00",
          "2023-10-27T00:00:00",
          "2023-10-28T00:00:00",
          "2023-10-29T00:00:00",
          "2023-10-30T00:00:00",
          "2023-10-31T00:00:00",
          "2023-11-01T00:00:00",
          "2023-11-02T00:00:00",
          "2023-11-03T00:00:00",
          "2023-11-04T00:00:00",
          "2023-11-05T00:00:00",
          "2023-11-06T00:00:00",
          "2023-11-07T00:00:00",
          "2023-11-08T00:00:00",
          "2023-11-09T00:00:00",
          "2023-11-10T00:00:00",
          "2023-11-11T00:00:00",
          "2023-11-12T00:00:00",
          "2023-11-13T00:00:00",
          "2023-11-14T00:00:00",
          "2023-11-15T00:00:00",
          "2023-11-16T00:00:00",
          "2023-11-17T00:00:00",
          "2023-11-18T00:00:00",
          "2023-11-19T00:00:00",
          "2023-11-20T00:00:00",
          "2023-11-21T00:00:00",
          "2023-11-22T00:00:00",
          "2023-11-23T00:00:00",
          "2023-11-24T00:00:00",
          "2023-11-25T00:00:00",
          "2023-11-26T00:00:00",
          "2023-11-27T00:00:00",
          "2023-11-28T00:00:00",
          "2023-11-29T00:00:00",
          "2023-11-30T00:00:00",
          "2023-12-01T00:00:00",
          "2023-12-02T00:00:00",
          "2023-12-03T00:00:00",
          "2023-12-04T00:00:00",
          "2023-12-05T00:00:00",
          "2023-12-06T00:00:00",
          "2023-12-07T00:00:00",
          "2023-12-08T00:00:00",
          "2023-12-09T00:00:00",
          "2023-12-10T00:00:00",
          "2023-12-11T00:00:00",
          "2023-12-12T00:00:00",
          "2023-12-13T00:00:00",
          "2023-12-14T00:00:00",
          "2023-12-15T00:00:00",
          "2023-12-16T00:00:00",
          "2023-12-17T00:00:00",
          "2023-12-18T00:00:00",
          "2023-12-19T00:00:00",
          "2023-12-20T00:00:00",
          "2023-12-21T00:00:00",
          "2023-12-22T00:00:00",
          "2023-12-23T00:00:00",
          "2023-12-24T00:00:00",
          "2023-12-25T00:00:00",
          "2023-12-26T00:00:00",
          "2023-12-27T00:00:00",
          "2023-12-28T00:00:00",
          "2023-12-29T00:00:00",
          "2023-12-30T00:00:00",
          "2023-12-31T00:00:00",
          "2024-01-01T00:00:00",
          "2024-01-02T00:00:00",
          "2024-01-03T00:00:00",
          "2024-01-04T00:00:00",
          "2024-01-05T00:00:00",
          "2024-01-06T00:00:00",
          "2024-01-07T00:00:00",
          "2024-01-08T00:00:00",
          "2024-01-09T00:00:00",
          "2024-01-10T00:00:00",
          "2024-01-11T00:00:00",
          "2024-01-12T00:00:00",
          "2024-01-13T00:00:00",
          "2024-01-14T00:00:00",
          "2024-01-15T00:00:00",
          "2024-01-16T00:00:00",
          "2024-01-17T00:00:00",
          "2024-01-18T00:00:00",
          "2024-01-19T00:00:00",
          "2024-01-20T00:00:00",
          "2024-01-21T00:00:00",
          "2024-01-22T00:00:00",
          "2024-01-23T00:00:00",
          "2024-01-24T00:00:00",
          "2024-01-25T00:00:00",
          "2024-01-26T00:00:00",
          "2024-01-27T00:00:00",
          "2024-01-28T00:00:00",
          "2024-01-29T00:00:00",
          "2024-01-30T00:00:00",
          "2024-01-31T00:00:00",
          "2024-02-01T00:00:00",
          "2024-02-02T00:00:00",
          "2024-02-03T00:00:00",
          "2024-02-04T00:00:00",
          "2024-02-05T00:00:00",
          "2024-02-06T00:00:00",
          "2024-02-07T00:00:00",
          "2024-02-08T00:00:00",
          "2024-02-09T00:00:00",
          "2024-02-10T00:00:00",
          "2024-02-11T00:00:00",
          "2024-02-12T00:00:00",
          "2024-02-13T00:00:00",
          "2024-02-14T00:00:00",
          "2024-02-15T00:00:00",
          "2024-02-16T00:00:00",
          "2024-02-17T00:00:00",
          "2024-02-18T00:00:00",
          "2024-02-19T00:00:00",
          "2024-02-20T00:00:00",
          "2024-02-21T00:00:00",
          "2024-02-22T00:00:00",
          "2024-02-23T00:00:00",
          "2024-02-24T00:00:00",
          "2024-02-25T00:00:00",
          "2024-02-26T00:00:00",
          "2024-02-27T00:00:00",
          "2024-02-28T00:00:00",
          "2024-02-29T00:00:00"
         ],
         "y": [
          82.58,
          47.35,
          76.11,
          153.92,
          107.87,
          194.1,
          167.18,
          165.9,
          146.56,
          261.55,
          255.41,
          233.32,
          180.16000000000003,
          178.76,
          216,
          133.1,
          129.31,
          235.87,
          172.18,
          117.69999999999999,
          159.27,
          175.76,
          193.7,
          245.94,
          297.29,
          234.98,
          120.71,
          174.35,
          92.13,
          55.3,
          195.2,
          150.25,
          140.22,
          193.56,
          132.37,
          88.89,
          52.78,
          84.68,
          137.81,
          165.89,
          192.82,
          184.58,
          143.05,
          83.58,
          102.22,
          155,
          117.38,
          68.64,
          117.63,
          39.62,
          67.28,
          75.42,
          123.23999999999998,
          130.09,
          123.39,
          119.95999999999998,
          225.43,
          182.41,
          208.3,
          241.4,
          278.78,
          338.2,
          358.78,
          344.4,
          340.8,
          410.1000000000001,
          487.57,
          446.25,
          279.15,
          80.44,
          124.25,
          115.1,
          281.44,
          300.54,
          245.3,
          225.41,
          228.9,
          130.95,
          49.04,
          205.75,
          236.49,
          236.53,
          238,
          244.38,
          189.55,
          200.59,
          221.57,
          250.18,
          271.03,
          209.19,
          160.13,
          166.4,
          172.89,
          75.33,
          183.02,
          121.33,
          74.15,
          120.87,
          59.82,
          74.65,
          223.62,
          184.59,
          222.52,
          227.71,
          192.96,
          149.22,
          108.82,
          120.23000000000002,
          213,
          203.25,
          199.5,
          172.49,
          93.31,
          108.54000000000002,
          223.46,
          238.47,
          222.21,
          230.15,
          228.02,
          201.28,
          194.74,
          219.02,
          218.16,
          231.29,
          234.48,
          225.36,
          201.43,
          171.82,
          216.81,
          183.32,
          159.09,
          169.12,
          168.79,
          152.97,
          149.02,
          211.58,
          225.75,
          206.97,
          210.81,
          209.23,
          103.36,
          166.03,
          188.14,
          162.94,
          177.5,
          67.93,
          46.77,
          36.85,
          156.34,
          225.99,
          210.17,
          215.29,
          188.87,
          184.55,
          162.49,
          141.58,
          91.33,
          183.88,
          190.35,
          185.49,
          185.75,
          134.7,
          116.96,
          165.56,
          194.98,
          211.83,
          201.97,
          255.43,
          195.4,
          154.65,
          267.37,
          288.59,
          323.34,
          295.08,
          274.3,
          240.39,
          201.67,
          316.65,
          331.52,
          315.54,
          325.48,
          314.38,
          218.92,
          200.11,
          293.89,
          318.37000000000006,
          303.54,
          213.22,
          295.92,
          148.14,
          115.16,
          372.6,
          377.66,
          352.16,
          367.38,
          329.92,
          174.81,
          221.86,
          396.07,
          397.09,
          332.7,
          396.73,
          377.45,
          324.99,
          260.63,
          309.81,
          316.57,
          424.49,
          473.25,
          438.65000000000003,
          380.77000000000004,
          317.79,
          424.62,
          380.51,
          384.83,
          414.16,
          380.31,
          273.81,
          214.92,
          359.55,
          344.87,
          335.08,
          368.15,
          436.8,
          377.73999999999995,
          330.46,
          426.6,
          490.79,
          551.95,
          563.76,
          515.1,
          457.97,
          364.13,
          563.81,
          605.13,
          624.34,
          599.83,
          699.44,
          607.84,
          401.03,
          658.41,
          660.24,
          604.49,
          571.2,
          422.25,
          287.75000000000006,
          242.71,
          357.45,
          417.27,
          462.47,
          443.52,
          345.7,
          404.32,
          391.49,
          408.03,
          392.37,
          455.81,
          369.37000000000006,
          201.2,
          68.77,
          77.93,
          261.68,
          363.42,
          379.94,
          387.89,
          368.33,
          351.11,
          276.5,
          245.92,
          310.21,
          386.2,
          417.14,
          315.49,
          82.82,
          114.75,
          209.35000000000002,
          246.31,
          103.19,
          100.8,
          163.89,
          145.34,
          146.72,
          162.09,
          259.87,
          282.54,
          257.46,
          260.65,
          156.63,
          95.86,
          152.61,
          183.18,
          168.45,
          140.22,
          163.45,
          139.87,
          95.75,
          80.62,
          105.4,
          121.4,
          124.69,
          105.52,
          101.06,
          116.54,
          145.22,
          68.86,
          71.97,
          103.01,
          178.54,
          132.29,
          51.09,
          76.1,
          95.15,
          126.72,
          137.25,
          125.38,
          162.25,
          144.88,
          160.8,
          177.29,
          143.76,
          99.9,
          171.03,
          198.62,
          210.28,
          253.82,
          203.88,
          177.98,
          237.46,
          257.93,
          239.17,
          146.65,
          291.64,
          371.63999999999993,
          393.7,
          394.36,
          339.2,
          281.92,
          268.5,
          341.26,
          386.44,
          324.83,
          387.53,
          411.04,
          354.64,
          326.77,
          433.92999999999995,
          444.48,
          443.88,
          396.96,
          411.31,
          268.97,
          189.76,
          191.93,
          185.82,
          214.6,
          192.64,
          185.89,
          111.87,
          106.00999999999999,
          40.53,
          91.73,
          45.9,
          13.579999999999998,
          14.630000000000003,
          -0.7899999999999991,
          14.910000000000004,
          123.82,
          145.95,
          58.94,
          107.46,
          117.47,
          88.81,
          68.94,
          129.29,
          123.13,
          84.08,
          70.74,
          66.64,
          29.339999999999996,
          9.259999999999998,
          128.75,
          133.57,
          143.76,
          148.21000000000004,
          180.66,
          144.39,
          151.15,
          202.73,
          202.69,
          181.74,
          167.67,
          168.76,
          144.7,
          123.59,
          74.21,
          117.32,
          93.08,
          136.15,
          102.61,
          146.01000000000002,
          131.37,
          172.96,
          172.92000000000002,
          152.1,
          132.54,
          125.92,
          106.27,
          136.31,
          163.5,
          154.49,
          143.52,
          136.73,
          81.15,
          94.67,
          114.05,
          61.42,
          122.45,
          148.65,
          146.12,
          118.3,
          89.29,
          109.82,
          152.27,
          148.04,
          142.97,
          144.31,
          136.76,
          107.47,
          121.79,
          150.67,
          106.87,
          138.89,
          127.19999999999999,
          115.61,
          98.6,
          95.53,
          37.14,
          71.48,
          127.72,
          105.57,
          92.35,
          109.34,
          111.99,
          125.17,
          115.05,
          80.18,
          74.71,
          53.12,
          14.670000000000002,
          70.62,
          92.32,
          113.15,
          116.54,
          81.44,
          97.59,
          55.77,
          67.33,
          114.8,
          132.07,
          140.97000000000003,
          124.28,
          108.63,
          116.89,
          105.05,
          39.97,
          59.99,
          107.69,
          108.41,
          128.8,
          106.8,
          110.1,
          124.24,
          108.23,
          87.52,
          111.71,
          89.48,
          84.47,
          85.8,
          104.6,
          101,
          110.72,
          112.09,
          106,
          100.65,
          68.29,
          87.55,
          106.1,
          107.8,
          97.5,
          96.05,
          89.52,
          66.98,
          96.37,
          94.64,
          107.89,
          116.14,
          100.51,
          78.35,
          72,
          113.84,
          79.3,
          78.58,
          86.73,
          87.28,
          46.81,
          28.46,
          97.33,
          72.79,
          102.27,
          81.65,
          69.98,
          62.67,
          26.550000000000004,
          21.449999999999996,
          87.74,
          72.32,
          72.9,
          81.02,
          56.37,
          49.67,
          90.76,
          98.14,
          100.93,
          84.52,
          86.68,
          55.13,
          40.75,
          96.4,
          90.03,
          102.94,
          120.31,
          127.51999999999998,
          104.54,
          93.02,
          116.97,
          121.15,
          123.47,
          125.71,
          106.41,
          81.82,
          75.48,
          97.49,
          101.95,
          112.52,
          118.08,
          110.03,
          66.41,
          -53.87,
          53.22,
          85.12,
          69.8,
          107.2,
          102.97,
          82.19,
          89.33,
          113.98999999999998,
          105.96,
          87.51,
          97.71,
          96.97,
          33.32,
          14.530000000000001,
          81.92,
          106.46,
          97.32,
          96.51,
          104.4,
          76.73,
          30.92,
          90.53,
          104.15,
          95.24,
          93.91,
          95.92,
          76.68,
          31.75,
          70.97,
          79.43,
          68.29,
          45.41,
          98.59,
          90.31,
          57.91,
          19.440000000000005,
          12.060000000000002,
          88.35,
          102.17,
          100.44,
          80.14,
          65.21,
          103.37,
          93.56,
          110.81,
          111.36,
          108.99,
          84.79,
          90.12,
          121.11,
          123.15,
          146.55,
          146.95,
          116.26,
          96.52,
          101.9,
          118.67,
          122.9,
          114.93,
          104.3,
          108.57,
          95.13,
          82.65,
          108.44999999999999,
          103.54,
          105.62,
          100.99,
          108.23,
          91.51,
          85.3,
          152.86,
          131.45,
          109.94,
          120.47,
          108.19,
          95.2,
          87.62,
          95.3,
          37.519999999999996,
          49.46,
          103.06,
          103.98,
          99.52,
          68.82,
          105.8,
          128.76,
          124.48,
          112.52,
          105.27,
          91.5,
          74.04,
          118.15,
          22.96,
          69.49,
          101.61,
          71.6,
          44.95,
          90.64,
          116.01,
          112.39,
          59.8,
          122.71,
          68.41,
          26.53,
          39.62,
          133.7,
          130.12,
          98.44,
          93.41,
          87.24,
          54.32,
          63.95,
          125.02,
          117.99,
          124.31,
          121.35,
          118.35,
          83.37,
          23.03,
          92.89,
          104.95,
          62.89,
          59.77,
          56.57,
          24.82,
          29.910000000000004,
          72.04,
          99.75,
          89.72,
          97.22,
          94.05,
          96.79,
          97.99,
          94.89,
          65.51,
          102.41,
          117.63,
          121.34,
          91.4,
          38.2,
          106.08,
          123.3,
          109.69,
          61.64,
          63.87,
          94.6,
          116.35,
          114.51000000000002,
          121.94,
          140.02,
          168.76,
          156.4,
          116.4,
          104.72,
          111.76,
          114.39,
          129.54,
          116.6,
          103.68,
          78.41,
          55.87,
          79.05,
          106.06,
          93.04,
          107.12,
          93.24,
          70.69,
          50.72,
          77.97,
          76.29,
          62,
          25.28,
          22.660000000000004,
          30.74,
          -3.3699999999999974,
          0.4099999999999966,
          16.619999999999997,
          60.8,
          16.67,
          6.359999999999999,
          34.06,
          9.899999999999999,
          16.18,
          53.07,
          45.22,
          85.41,
          91.37,
          88.72,
          86.33,
          102.23000000000002,
          109.39,
          111.84,
          109.65,
          106.04,
          74.57,
          76.15,
          86.5,
          101.14,
          99.60999999999999,
          92.74,
          78.51,
          73.66,
          50.26,
          49.84,
          52.28,
          33.12,
          78.02,
          59.23,
          68.35,
          59.28,
          81.03,
          77.97,
          76,
          72.04,
          61.66,
          35.97,
          14.780000000000001,
          35.84,
          45.29,
          79.16,
          88.7,
          70.52,
          72.13,
          61.96,
          74.75,
          72.23,
          68.16,
          70.5,
          61.06,
          66.65,
          53.18,
          65.29,
          63.22,
          57.57,
          50.92,
          43.74,
          57.2,
          61.09,
          66.27,
          73.84,
          71.82,
          63.2
         ]
        }
       ],
       "layout": {
        "legend": {
         "x": 0.01,
         "y": 0.99
        },
        "template": {
         "data": {
          "bar": [
           {
            "error_x": {
             "color": "#2a3f5f"
            },
            "error_y": {
             "color": "#2a3f5f"
            },
            "marker": {
             "line": {
              "color": "white",
              "width": 0.5
             },
             "pattern": {
              "fillmode": "overlay",
              "size": 10,
              "solidity": 0.2
             }
            },
            "type": "bar"
           }
          ],
          "barpolar": [
           {
            "marker": {
             "line": {
              "color": "white",
              "width": 0.5
             },
             "pattern": {
              "fillmode": "overlay",
              "size": 10,
              "solidity": 0.2
             }
            },
            "type": "barpolar"
           }
          ],
          "carpet": [
           {
            "aaxis": {
             "endlinecolor": "#2a3f5f",
             "gridcolor": "#C8D4E3",
             "linecolor": "#C8D4E3",
             "minorgridcolor": "#C8D4E3",
             "startlinecolor": "#2a3f5f"
            },
            "baxis": {
             "endlinecolor": "#2a3f5f",
             "gridcolor": "#C8D4E3",
             "linecolor": "#C8D4E3",
             "minorgridcolor": "#C8D4E3",
             "startlinecolor": "#2a3f5f"
            },
            "type": "carpet"
           }
          ],
          "choropleth": [
           {
            "colorbar": {
             "outlinewidth": 0,
             "ticks": ""
            },
            "type": "choropleth"
           }
          ],
          "contour": [
           {
            "colorbar": {
             "outlinewidth": 0,
             "ticks": ""
            },
            "colorscale": [
             [
              0,
              "#0d0887"
             ],
             [
              0.1111111111111111,
              "#46039f"
             ],
             [
              0.2222222222222222,
              "#7201a8"
             ],
             [
              0.3333333333333333,
              "#9c179e"
             ],
             [
              0.4444444444444444,
              "#bd3786"
             ],
             [
              0.5555555555555556,
              "#d8576b"
             ],
             [
              0.6666666666666666,
              "#ed7953"
             ],
             [
              0.7777777777777778,
              "#fb9f3a"
             ],
             [
              0.8888888888888888,
              "#fdca26"
             ],
             [
              1,
              "#f0f921"
             ]
            ],
            "type": "contour"
           }
          ],
          "contourcarpet": [
           {
            "colorbar": {
             "outlinewidth": 0,
             "ticks": ""
            },
            "type": "contourcarpet"
           }
          ],
          "heatmap": [
           {
            "colorbar": {
             "outlinewidth": 0,
             "ticks": ""
            },
            "colorscale": [
             [
              0,
              "#0d0887"
             ],
             [
              0.1111111111111111,
              "#46039f"
             ],
             [
              0.2222222222222222,
              "#7201a8"
             ],
             [
              0.3333333333333333,
              "#9c179e"
             ],
             [
              0.4444444444444444,
              "#bd3786"
             ],
             [
              0.5555555555555556,
              "#d8576b"
             ],
             [
              0.6666666666666666,
              "#ed7953"
             ],
             [
              0.7777777777777778,
              "#fb9f3a"
             ],
             [
              0.8888888888888888,
              "#fdca26"
             ],
             [
              1,
              "#f0f921"
             ]
            ],
            "type": "heatmap"
           }
          ],
          "heatmapgl": [
           {
            "colorbar": {
             "outlinewidth": 0,
             "ticks": ""
            },
            "colorscale": [
             [
              0,
              "#0d0887"
             ],
             [
              0.1111111111111111,
              "#46039f"
             ],
             [
              0.2222222222222222,
              "#7201a8"
             ],
             [
              0.3333333333333333,
              "#9c179e"
             ],
             [
              0.4444444444444444,
              "#bd3786"
             ],
             [
              0.5555555555555556,
              "#d8576b"
             ],
             [
              0.6666666666666666,
              "#ed7953"
             ],
             [
              0.7777777777777778,
              "#fb9f3a"
             ],
             [
              0.8888888888888888,
              "#fdca26"
             ],
             [
              1,
              "#f0f921"
             ]
            ],
            "type": "heatmapgl"
           }
          ],
          "histogram": [
           {
            "marker": {
             "pattern": {
              "fillmode": "overlay",
              "size": 10,
              "solidity": 0.2
             }
            },
            "type": "histogram"
           }
          ],
          "histogram2d": [
           {
            "colorbar": {
             "outlinewidth": 0,
             "ticks": ""
            },
            "colorscale": [
             [
              0,
              "#0d0887"
             ],
             [
              0.1111111111111111,
              "#46039f"
             ],
             [
              0.2222222222222222,
              "#7201a8"
             ],
             [
              0.3333333333333333,
              "#9c179e"
             ],
             [
              0.4444444444444444,
              "#bd3786"
             ],
             [
              0.5555555555555556,
              "#d8576b"
             ],
             [
              0.6666666666666666,
              "#ed7953"
             ],
             [
              0.7777777777777778,
              "#fb9f3a"
             ],
             [
              0.8888888888888888,
              "#fdca26"
             ],
             [
              1,
              "#f0f921"
             ]
            ],
            "type": "histogram2d"
           }
          ],
          "histogram2dcontour": [
           {
            "colorbar": {
             "outlinewidth": 0,
             "ticks": ""
            },
            "colorscale": [
             [
              0,
              "#0d0887"
             ],
             [
              0.1111111111111111,
              "#46039f"
             ],
             [
              0.2222222222222222,
              "#7201a8"
             ],
             [
              0.3333333333333333,
              "#9c179e"
             ],
             [
              0.4444444444444444,
              "#bd3786"
             ],
             [
              0.5555555555555556,
              "#d8576b"
             ],
             [
              0.6666666666666666,
              "#ed7953"
             ],
             [
              0.7777777777777778,
              "#fb9f3a"
             ],
             [
              0.8888888888888888,
              "#fdca26"
             ],
             [
              1,
              "#f0f921"
             ]
            ],
            "type": "histogram2dcontour"
           }
          ],
          "mesh3d": [
           {
            "colorbar": {
             "outlinewidth": 0,
             "ticks": ""
            },
            "type": "mesh3d"
           }
          ],
          "parcoords": [
           {
            "line": {
             "colorbar": {
              "outlinewidth": 0,
              "ticks": ""
             }
            },
            "type": "parcoords"
           }
          ],
          "pie": [
           {
            "automargin": true,
            "type": "pie"
           }
          ],
          "scatter": [
           {
            "fillpattern": {
             "fillmode": "overlay",
             "size": 10,
             "solidity": 0.2
            },
            "type": "scatter"
           }
          ],
          "scatter3d": [
           {
            "line": {
             "colorbar": {
              "outlinewidth": 0,
              "ticks": ""
             }
            },
            "marker": {
             "colorbar": {
              "outlinewidth": 0,
              "ticks": ""
             }
            },
            "type": "scatter3d"
           }
          ],
          "scattercarpet": [
           {
            "marker": {
             "colorbar": {
              "outlinewidth": 0,
              "ticks": ""
             }
            },
            "type": "scattercarpet"
           }
          ],
          "scattergeo": [
           {
            "marker": {
             "colorbar": {
              "outlinewidth": 0,
              "ticks": ""
             }
            },
            "type": "scattergeo"
           }
          ],
          "scattergl": [
           {
            "marker": {
             "colorbar": {
              "outlinewidth": 0,
              "ticks": ""
             }
            },
            "type": "scattergl"
           }
          ],
          "scattermapbox": [
           {
            "marker": {
             "colorbar": {
              "outlinewidth": 0,
              "ticks": ""
             }
            },
            "type": "scattermapbox"
           }
          ],
          "scatterpolar": [
           {
            "marker": {
             "colorbar": {
              "outlinewidth": 0,
              "ticks": ""
             }
            },
            "type": "scatterpolar"
           }
          ],
          "scatterpolargl": [
           {
            "marker": {
             "colorbar": {
              "outlinewidth": 0,
              "ticks": ""
             }
            },
            "type": "scatterpolargl"
           }
          ],
          "scatterternary": [
           {
            "marker": {
             "colorbar": {
              "outlinewidth": 0,
              "ticks": ""
             }
            },
            "type": "scatterternary"
           }
          ],
          "surface": [
           {
            "colorbar": {
             "outlinewidth": 0,
             "ticks": ""
            },
            "colorscale": [
             [
              0,
              "#0d0887"
             ],
             [
              0.1111111111111111,
              "#46039f"
             ],
             [
              0.2222222222222222,
              "#7201a8"
             ],
             [
              0.3333333333333333,
              "#9c179e"
             ],
             [
              0.4444444444444444,
              "#bd3786"
             ],
             [
              0.5555555555555556,
              "#d8576b"
             ],
             [
              0.6666666666666666,
              "#ed7953"
             ],
             [
              0.7777777777777778,
              "#fb9f3a"
             ],
             [
              0.8888888888888888,
              "#fdca26"
             ],
             [
              1,
              "#f0f921"
             ]
            ],
            "type": "surface"
           }
          ],
          "table": [
           {
            "cells": {
             "fill": {
              "color": "#EBF0F8"
             },
             "line": {
              "color": "white"
             }
            },
            "header": {
             "fill": {
              "color": "#C8D4E3"
             },
             "line": {
              "color": "white"
             }
            },
            "type": "table"
           }
          ]
         },
         "layout": {
          "annotationdefaults": {
           "arrowcolor": "#2a3f5f",
           "arrowhead": 0,
           "arrowwidth": 1
          },
          "autotypenumbers": "strict",
          "coloraxis": {
           "colorbar": {
            "outlinewidth": 0,
            "ticks": ""
           }
          },
          "colorscale": {
           "diverging": [
            [
             0,
             "#8e0152"
            ],
            [
             0.1,
             "#c51b7d"
            ],
            [
             0.2,
             "#de77ae"
            ],
            [
             0.3,
             "#f1b6da"
            ],
            [
             0.4,
             "#fde0ef"
            ],
            [
             0.5,
             "#f7f7f7"
            ],
            [
             0.6,
             "#e6f5d0"
            ],
            [
             0.7,
             "#b8e186"
            ],
            [
             0.8,
             "#7fbc41"
            ],
            [
             0.9,
             "#4d9221"
            ],
            [
             1,
             "#276419"
            ]
           ],
           "sequential": [
            [
             0,
             "#0d0887"
            ],
            [
             0.1111111111111111,
             "#46039f"
            ],
            [
             0.2222222222222222,
             "#7201a8"
            ],
            [
             0.3333333333333333,
             "#9c179e"
            ],
            [
             0.4444444444444444,
             "#bd3786"
            ],
            [
             0.5555555555555556,
             "#d8576b"
            ],
            [
             0.6666666666666666,
             "#ed7953"
            ],
            [
             0.7777777777777778,
             "#fb9f3a"
            ],
            [
             0.8888888888888888,
             "#fdca26"
            ],
            [
             1,
             "#f0f921"
            ]
           ],
           "sequentialminus": [
            [
             0,
             "#0d0887"
            ],
            [
             0.1111111111111111,
             "#46039f"
            ],
            [
             0.2222222222222222,
             "#7201a8"
            ],
            [
             0.3333333333333333,
             "#9c179e"
            ],
            [
             0.4444444444444444,
             "#bd3786"
            ],
            [
             0.5555555555555556,
             "#d8576b"
            ],
            [
             0.6666666666666666,
             "#ed7953"
            ],
            [
             0.7777777777777778,
             "#fb9f3a"
            ],
            [
             0.8888888888888888,
             "#fdca26"
            ],
            [
             1,
             "#f0f921"
            ]
           ]
          },
          "colorway": [
           "#636efa",
           "#EF553B",
           "#00cc96",
           "#ab63fa",
           "#FFA15A",
           "#19d3f3",
           "#FF6692",
           "#B6E880",
           "#FF97FF",
           "#FECB52"
          ],
          "font": {
           "color": "#2a3f5f"
          },
          "geo": {
           "bgcolor": "white",
           "lakecolor": "white",
           "landcolor": "white",
           "showlakes": true,
           "showland": true,
           "subunitcolor": "#C8D4E3"
          },
          "hoverlabel": {
           "align": "left"
          },
          "hovermode": "closest",
          "mapbox": {
           "style": "light"
          },
          "paper_bgcolor": "white",
          "plot_bgcolor": "white",
          "polar": {
           "angularaxis": {
            "gridcolor": "#EBF0F8",
            "linecolor": "#EBF0F8",
            "ticks": ""
           },
           "bgcolor": "white",
           "radialaxis": {
            "gridcolor": "#EBF0F8",
            "linecolor": "#EBF0F8",
            "ticks": ""
           }
          },
          "scene": {
           "xaxis": {
            "backgroundcolor": "white",
            "gridcolor": "#DFE8F3",
            "gridwidth": 2,
            "linecolor": "#EBF0F8",
            "showbackground": true,
            "ticks": "",
            "zerolinecolor": "#EBF0F8"
           },
           "yaxis": {
            "backgroundcolor": "white",
            "gridcolor": "#DFE8F3",
            "gridwidth": 2,
            "linecolor": "#EBF0F8",
            "showbackground": true,
            "ticks": "",
            "zerolinecolor": "#EBF0F8"
           },
           "zaxis": {
            "backgroundcolor": "white",
            "gridcolor": "#DFE8F3",
            "gridwidth": 2,
            "linecolor": "#EBF0F8",
            "showbackground": true,
            "ticks": "",
            "zerolinecolor": "#EBF0F8"
           }
          },
          "shapedefaults": {
           "line": {
            "color": "#2a3f5f"
           }
          },
          "ternary": {
           "aaxis": {
            "gridcolor": "#DFE8F3",
            "linecolor": "#A2B1C6",
            "ticks": ""
           },
           "baxis": {
            "gridcolor": "#DFE8F3",
            "linecolor": "#A2B1C6",
            "ticks": ""
           },
           "bgcolor": "white",
           "caxis": {
            "gridcolor": "#DFE8F3",
            "linecolor": "#A2B1C6",
            "ticks": ""
           }
          },
          "title": {
           "x": 0.05
          },
          "xaxis": {
           "automargin": true,
           "gridcolor": "#EBF0F8",
           "linecolor": "#EBF0F8",
           "ticks": "",
           "title": {
            "standoff": 15
           },
           "zerolinecolor": "#EBF0F8",
           "zerolinewidth": 2
          },
          "yaxis": {
           "automargin": true,
           "gridcolor": "#EBF0F8",
           "linecolor": "#EBF0F8",
           "ticks": "",
           "title": {
            "standoff": 15
           },
           "zerolinecolor": "#EBF0F8",
           "zerolinewidth": 2
          }
         }
        },
        "title": {
         "text": "Test Period Data: Forecast vs Actual (Prediction Length: 790, Context Length: 200)"
        },
        "xaxis": {
         "range": [
          "2022-01-01T00:00:00",
          "2024-02-29T00:00:00"
         ],
         "title": {
          "text": "Date"
         }
        },
        "yaxis": {
         "title": {
          "text": "Value"
         }
        }
       }
      }
     },
     "metadata": {},
     "output_type": "display_data"
    },
    {
     "name": "stdout",
     "output_type": "stream",
     "text": [
      "Mean Squared Error (MSE): 12965.866011270344\n",
      "Root Mean Squared Error (RMSE): 113.86775667971308\n",
      "Mean Absolute Error (MAE): 85.10710744428032\n"
     ]
    }
   ],
   "source": [
    "# Convert 'start' to a timestamp if necessary\n",
    "start_date = inp['start'].to_timestamp() if hasattr(inp['start'], 'to_timestamp') else pd.Timestamp(inp['start'])\n",
    "\n",
    "# Generate test period dates\n",
    "test_start_date = pd.Timestamp(start_date) + pd.Timedelta(days=len(inp_values))\n",
    "test_dates = pd.date_range(start=test_start_date, periods=PDT, freq='D')\n",
    "\n",
    "\n",
    "# Update plot traces with the original scale values\n",
    "forecast_trace = go.Scatter(\n",
    "    x=test_dates,\n",
    "    y=forecast_values_original_scale,\n",
    "    mode='lines',\n",
    "    name='Forecasted Data',\n",
    "    line=dict(color='darkred', dash='solid')\n",
    ")\n",
    "\n",
    "label_trace = go.Scatter(\n",
    "    x=test_dates,\n",
    "    y=label_values_original_scale,\n",
    "    mode='lines',\n",
    "    name='Actual Test Data',\n",
    "    line=dict(color='darkgreen', dash='solid')\n",
    ")\n",
    "\n",
    "fig = go.Figure(data=[confidence_trace_lower, confidence_trace_upper, forecast_trace, label_trace], layout=layout)\n",
    "fig.show()\n",
    "\n",
    "# Calculate metrics using original scale values\n",
    "from sklearn.metrics import mean_squared_error, mean_absolute_error\n",
    "mse = mean_squared_error(label_values_original_scale, forecast_values_original_scale)\n",
    "rmse = np.sqrt(mse)\n",
    "mae = mean_absolute_error(label_values_original_scale, forecast_values_original_scale)\n",
    "\n",
    "print(f\"Mean Squared Error (MSE): {mse}\")\n",
    "print(f\"Root Mean Squared Error (RMSE): {rmse}\")\n",
    "print(f\"Mean Absolute Error (MAE): {mae}\")\n"
   ]
  },
  {
   "cell_type": "markdown",
   "metadata": {},
   "source": [
    "## Approach with PandasDataset"
   ]
  },
  {
   "cell_type": "markdown",
   "metadata": {},
   "source": [
    "### Creating a GluonTs data frame"
   ]
  },
  {
   "cell_type": "code",
   "execution_count": 114,
   "metadata": {},
   "outputs": [
    {
     "data": {
      "text/plain": [
       "Index(['Day_ahead_price (€/MWh)', 'Solar_radiation (W/m2)', 'Wind_speed (m/s)',\n",
       "       'Temperature (°C)', 'Biomass (GWh)', 'Hard_coal (GWh)', 'Hydro (GWh)',\n",
       "       'Lignite (GWh)', 'Natural_gas (GWh)', 'Other (GWh)',\n",
       "       'Pumped_storage_generation (GWh)', 'Solar_energy (GWh)',\n",
       "       'Wind_offshore (GWh)', 'Wind_onshore (GWh)',\n",
       "       'Net_total_export_import (GWh)', 'BEV_vehicles', 'Oil_price (EUR)',\n",
       "       'TTF_gas_price (€/MWh)', 'Nuclear_energy (GWh)', 'item_id'],\n",
       "      dtype='object')"
      ]
     },
     "execution_count": 114,
     "metadata": {},
     "output_type": "execute_result"
    }
   ],
   "source": [
    "# Load the data\n",
    "df = load_and_prepare_data('../../data/Final_data/final_data.csv')\n",
    "\n",
    "# Reset the index\n",
    "df = df.reset_index()\n",
    "\n",
    "# Convert 'Date' column to datetime\n",
    "df['Date'] = pd.to_datetime(df['Date'])\n",
    "\n",
    "# Set the 'Date' column as the index\n",
    "df.set_index('Date', inplace=True)\n",
    "\n",
    "# Ensure the DataFrame is sorted by the index\n",
    "df.sort_index(inplace=True)\n",
    "\n",
    "# Setting daily frequency\n",
    "df = df.asfreq('D')\n",
    "\n",
    "# Create column called item_id with only 0\n",
    "df['item_id'] = 0\n",
    "\n",
    "df.columns"
   ]
  },
  {
   "cell_type": "code",
   "execution_count": 115,
   "metadata": {},
   "outputs": [],
   "source": [
    "ds = PandasDataset.from_long_dataframe(df, \n",
    "    freq='D', \n",
    "    target = 'Day_ahead_price (€/MWh)',\n",
    "    item_id='item_id',\n",
    "    feat_dynamic_real=['Solar_radiation (W/m2)', 'Wind_speed (m/s)',\n",
    "       'Temperature (°C)', 'Biomass (GWh)', 'Hard_coal (GWh)', 'Hydro (GWh)',\n",
    "       'Lignite (GWh)', 'Natural_gas (GWh)', 'Other (GWh)',\n",
    "       'Pumped_storage_generation (GWh)', 'Solar_energy (GWh)',\n",
    "       'Wind_offshore (GWh)', 'Wind_onshore (GWh)',\n",
    "       'Net_total_export_import (GWh)', 'BEV_vehicles', 'Oil_price (EUR)',\n",
    "       'TTF_gas_price (€/MWh)', 'Nuclear_energy (GWh)'])"
   ]
  },
  {
   "cell_type": "code",
   "execution_count": 116,
   "metadata": {},
   "outputs": [
    {
     "data": {
      "text/plain": [
       "PandasDataset<size=1, freq=D, num_feat_dynamic_real=18, num_past_feat_dynamic_real=0, num_feat_static_real=0, num_feat_static_cat=0, static_cardinalities=[]>"
      ]
     },
     "execution_count": 116,
     "metadata": {},
     "output_type": "execute_result"
    }
   ],
   "source": [
    "ds"
   ]
  },
  {
   "cell_type": "code",
   "execution_count": 127,
   "metadata": {},
   "outputs": [],
   "source": [
    "import torch\n",
    "import pandas as pd\n",
    "from gluonts.dataset.pandas import PandasDataset\n",
    "from gluonts.dataset.split import split\n",
    "from uni2ts.model.moirai import MoiraiForecast, MoiraiModule\n",
    "import plotly.graph_objs as go\n",
    "\n",
    "# Constants\n",
    "SIZE = \"base\"  # model size: choose from {'small', 'base', 'large'}\n",
    "PDT = 790  # prediction length: any positive integer\n",
    "CTX = 400  # context length: any positive integer\n",
    "PSZ =  \"auto\"  # patch size: choose from {\"auto\", 8, 16, 32, 64, 128}\n",
    "BSZ = 32  # batch size: any positive integer\n",
    "TEST = 790  # test set length: any positive integer\n",
    "\n",
    "# Split into train/test set\n",
    "train, test_template = split(\n",
    "    ds, offset=-TEST\n",
    ")  # assign last TEST time steps as test set\n",
    "\n",
    "# Construct rolling window evaluation\n",
    "test_data = test_template.generate_instances(\n",
    "    prediction_length=PDT,  # number of time steps for each prediction\n",
    "    windows=TEST // PDT,  # number of windows in rolling window evaluation\n",
    "    distance=PDT,  # number of time steps between each window - distance=PDT for non-overlapping windows\n",
    ")\n",
    "\n",
    "# Prepare pre-trained model by downloading model weights from huggingface hub\n",
    "model = MoiraiForecast(\n",
    "    module=MoiraiModule.from_pretrained(f\"Salesforce/moirai-1.0-R-{SIZE}\"),\n",
    "    prediction_length=PDT,\n",
    "    context_length=CTX,\n",
    "    patch_size=PSZ,\n",
    "    num_samples=100,\n",
    "    target_dim=1,\n",
    "    feat_dynamic_real_dim=ds.num_feat_dynamic_real,\n",
    "    past_feat_dynamic_real_dim=ds.num_past_feat_dynamic_real,\n",
    ")\n",
    "\n",
    "predictor = model.create_predictor(batch_size=BSZ)\n",
    "forecasts = predictor.predict(test_data.input)\n",
    "\n",
    "# Prepare data for Plotly plotting\n",
    "input_it = iter(test_data.input)\n",
    "label_it = iter(test_data.label)\n",
    "forecast_it = iter(forecasts)\n",
    "\n",
    "inp = next(input_it)\n",
    "label = next(label_it)\n",
    "forecast = next(forecast_it)\n",
    "\n",
    "# Convert tensors to NumPy arrays if needed\n",
    "inp_values = inp['target'].numpy() if torch.is_tensor(inp['target']) else inp['target']\n",
    "label_values = label['target'].numpy() if torch.is_tensor(label['target']) else label['target']\n",
    "forecast_values = forecast.mean.numpy() if torch.is_tensor(forecast.mean) else forecast.mean\n"
   ]
  },
  {
   "cell_type": "code",
   "execution_count": 25,
   "metadata": {},
   "outputs": [
    {
     "data": {
      "application/vnd.plotly.v1+json": {
       "config": {
        "plotlyServerURL": "https://plot.ly"
       },
       "data": [
        {
         "fill": "tonexty",
         "fillcolor": "rgba(169, 169, 169, 0.2)",
         "line": {
          "color": "grey",
          "dash": "dot",
          "width": 1
         },
         "mode": "lines",
         "name": "Confidence Interval Lower",
         "showlegend": false,
         "type": "scatter",
         "x": [
          "2022-01-01T00:00:00",
          "2022-01-02T00:00:00",
          "2022-01-03T00:00:00",
          "2022-01-04T00:00:00",
          "2022-01-05T00:00:00",
          "2022-01-06T00:00:00",
          "2022-01-07T00:00:00",
          "2022-01-08T00:00:00",
          "2022-01-09T00:00:00",
          "2022-01-10T00:00:00",
          "2022-01-11T00:00:00",
          "2022-01-12T00:00:00",
          "2022-01-13T00:00:00",
          "2022-01-14T00:00:00",
          "2022-01-15T00:00:00",
          "2022-01-16T00:00:00",
          "2022-01-17T00:00:00",
          "2022-01-18T00:00:00",
          "2022-01-19T00:00:00",
          "2022-01-20T00:00:00",
          "2022-01-21T00:00:00",
          "2022-01-22T00:00:00",
          "2022-01-23T00:00:00",
          "2022-01-24T00:00:00",
          "2022-01-25T00:00:00",
          "2022-01-26T00:00:00",
          "2022-01-27T00:00:00",
          "2022-01-28T00:00:00",
          "2022-01-29T00:00:00",
          "2022-01-30T00:00:00",
          "2022-01-31T00:00:00",
          "2022-02-01T00:00:00",
          "2022-02-02T00:00:00",
          "2022-02-03T00:00:00",
          "2022-02-04T00:00:00",
          "2022-02-05T00:00:00",
          "2022-02-06T00:00:00",
          "2022-02-07T00:00:00",
          "2022-02-08T00:00:00",
          "2022-02-09T00:00:00",
          "2022-02-10T00:00:00",
          "2022-02-11T00:00:00",
          "2022-02-12T00:00:00",
          "2022-02-13T00:00:00",
          "2022-02-14T00:00:00",
          "2022-02-15T00:00:00",
          "2022-02-16T00:00:00",
          "2022-02-17T00:00:00",
          "2022-02-18T00:00:00",
          "2022-02-19T00:00:00",
          "2022-02-20T00:00:00",
          "2022-02-21T00:00:00",
          "2022-02-22T00:00:00",
          "2022-02-23T00:00:00",
          "2022-02-24T00:00:00",
          "2022-02-25T00:00:00",
          "2022-02-26T00:00:00",
          "2022-02-27T00:00:00",
          "2022-02-28T00:00:00",
          "2022-03-01T00:00:00",
          "2022-03-02T00:00:00",
          "2022-03-03T00:00:00",
          "2022-03-04T00:00:00",
          "2022-03-05T00:00:00",
          "2022-03-06T00:00:00",
          "2022-03-07T00:00:00",
          "2022-03-08T00:00:00",
          "2022-03-09T00:00:00",
          "2022-03-10T00:00:00",
          "2022-03-11T00:00:00",
          "2022-03-12T00:00:00",
          "2022-03-13T00:00:00",
          "2022-03-14T00:00:00",
          "2022-03-15T00:00:00",
          "2022-03-16T00:00:00",
          "2022-03-17T00:00:00",
          "2022-03-18T00:00:00",
          "2022-03-19T00:00:00",
          "2022-03-20T00:00:00",
          "2022-03-21T00:00:00",
          "2022-03-22T00:00:00",
          "2022-03-23T00:00:00",
          "2022-03-24T00:00:00",
          "2022-03-25T00:00:00",
          "2022-03-26T00:00:00",
          "2022-03-27T00:00:00",
          "2022-03-28T00:00:00",
          "2022-03-29T00:00:00",
          "2022-03-30T00:00:00",
          "2022-03-31T00:00:00",
          "2022-04-01T00:00:00",
          "2022-04-02T00:00:00",
          "2022-04-03T00:00:00",
          "2022-04-04T00:00:00",
          "2022-04-05T00:00:00",
          "2022-04-06T00:00:00",
          "2022-04-07T00:00:00",
          "2022-04-08T00:00:00",
          "2022-04-09T00:00:00",
          "2022-04-10T00:00:00",
          "2022-04-11T00:00:00",
          "2022-04-12T00:00:00",
          "2022-04-13T00:00:00",
          "2022-04-14T00:00:00",
          "2022-04-15T00:00:00",
          "2022-04-16T00:00:00",
          "2022-04-17T00:00:00",
          "2022-04-18T00:00:00",
          "2022-04-19T00:00:00",
          "2022-04-20T00:00:00",
          "2022-04-21T00:00:00",
          "2022-04-22T00:00:00",
          "2022-04-23T00:00:00",
          "2022-04-24T00:00:00",
          "2022-04-25T00:00:00",
          "2022-04-26T00:00:00",
          "2022-04-27T00:00:00",
          "2022-04-28T00:00:00",
          "2022-04-29T00:00:00",
          "2022-04-30T00:00:00",
          "2022-05-01T00:00:00",
          "2022-05-02T00:00:00",
          "2022-05-03T00:00:00",
          "2022-05-04T00:00:00",
          "2022-05-05T00:00:00",
          "2022-05-06T00:00:00",
          "2022-05-07T00:00:00",
          "2022-05-08T00:00:00",
          "2022-05-09T00:00:00",
          "2022-05-10T00:00:00",
          "2022-05-11T00:00:00",
          "2022-05-12T00:00:00",
          "2022-05-13T00:00:00",
          "2022-05-14T00:00:00",
          "2022-05-15T00:00:00",
          "2022-05-16T00:00:00",
          "2022-05-17T00:00:00",
          "2022-05-18T00:00:00",
          "2022-05-19T00:00:00",
          "2022-05-20T00:00:00",
          "2022-05-21T00:00:00",
          "2022-05-22T00:00:00",
          "2022-05-23T00:00:00",
          "2022-05-24T00:00:00",
          "2022-05-25T00:00:00",
          "2022-05-26T00:00:00",
          "2022-05-27T00:00:00",
          "2022-05-28T00:00:00",
          "2022-05-29T00:00:00",
          "2022-05-30T00:00:00",
          "2022-05-31T00:00:00",
          "2022-06-01T00:00:00",
          "2022-06-02T00:00:00",
          "2022-06-03T00:00:00",
          "2022-06-04T00:00:00",
          "2022-06-05T00:00:00",
          "2022-06-06T00:00:00",
          "2022-06-07T00:00:00",
          "2022-06-08T00:00:00",
          "2022-06-09T00:00:00",
          "2022-06-10T00:00:00",
          "2022-06-11T00:00:00",
          "2022-06-12T00:00:00",
          "2022-06-13T00:00:00",
          "2022-06-14T00:00:00",
          "2022-06-15T00:00:00",
          "2022-06-16T00:00:00",
          "2022-06-17T00:00:00",
          "2022-06-18T00:00:00",
          "2022-06-19T00:00:00",
          "2022-06-20T00:00:00",
          "2022-06-21T00:00:00",
          "2022-06-22T00:00:00",
          "2022-06-23T00:00:00",
          "2022-06-24T00:00:00",
          "2022-06-25T00:00:00",
          "2022-06-26T00:00:00",
          "2022-06-27T00:00:00",
          "2022-06-28T00:00:00",
          "2022-06-29T00:00:00",
          "2022-06-30T00:00:00",
          "2022-07-01T00:00:00",
          "2022-07-02T00:00:00",
          "2022-07-03T00:00:00",
          "2022-07-04T00:00:00",
          "2022-07-05T00:00:00",
          "2022-07-06T00:00:00",
          "2022-07-07T00:00:00",
          "2022-07-08T00:00:00",
          "2022-07-09T00:00:00",
          "2022-07-10T00:00:00",
          "2022-07-11T00:00:00",
          "2022-07-12T00:00:00",
          "2022-07-13T00:00:00",
          "2022-07-14T00:00:00",
          "2022-07-15T00:00:00",
          "2022-07-16T00:00:00",
          "2022-07-17T00:00:00",
          "2022-07-18T00:00:00",
          "2022-07-19T00:00:00",
          "2022-07-20T00:00:00",
          "2022-07-21T00:00:00",
          "2022-07-22T00:00:00",
          "2022-07-23T00:00:00",
          "2022-07-24T00:00:00",
          "2022-07-25T00:00:00",
          "2022-07-26T00:00:00",
          "2022-07-27T00:00:00",
          "2022-07-28T00:00:00",
          "2022-07-29T00:00:00",
          "2022-07-30T00:00:00",
          "2022-07-31T00:00:00",
          "2022-08-01T00:00:00",
          "2022-08-02T00:00:00",
          "2022-08-03T00:00:00",
          "2022-08-04T00:00:00",
          "2022-08-05T00:00:00",
          "2022-08-06T00:00:00",
          "2022-08-07T00:00:00",
          "2022-08-08T00:00:00",
          "2022-08-09T00:00:00",
          "2022-08-10T00:00:00",
          "2022-08-11T00:00:00",
          "2022-08-12T00:00:00",
          "2022-08-13T00:00:00",
          "2022-08-14T00:00:00",
          "2022-08-15T00:00:00",
          "2022-08-16T00:00:00",
          "2022-08-17T00:00:00",
          "2022-08-18T00:00:00",
          "2022-08-19T00:00:00",
          "2022-08-20T00:00:00",
          "2022-08-21T00:00:00",
          "2022-08-22T00:00:00",
          "2022-08-23T00:00:00",
          "2022-08-24T00:00:00",
          "2022-08-25T00:00:00",
          "2022-08-26T00:00:00",
          "2022-08-27T00:00:00",
          "2022-08-28T00:00:00",
          "2022-08-29T00:00:00",
          "2022-08-30T00:00:00",
          "2022-08-31T00:00:00",
          "2022-09-01T00:00:00",
          "2022-09-02T00:00:00",
          "2022-09-03T00:00:00",
          "2022-09-04T00:00:00",
          "2022-09-05T00:00:00",
          "2022-09-06T00:00:00",
          "2022-09-07T00:00:00",
          "2022-09-08T00:00:00",
          "2022-09-09T00:00:00",
          "2022-09-10T00:00:00",
          "2022-09-11T00:00:00",
          "2022-09-12T00:00:00",
          "2022-09-13T00:00:00",
          "2022-09-14T00:00:00",
          "2022-09-15T00:00:00",
          "2022-09-16T00:00:00",
          "2022-09-17T00:00:00",
          "2022-09-18T00:00:00",
          "2022-09-19T00:00:00",
          "2022-09-20T00:00:00",
          "2022-09-21T00:00:00",
          "2022-09-22T00:00:00",
          "2022-09-23T00:00:00",
          "2022-09-24T00:00:00",
          "2022-09-25T00:00:00",
          "2022-09-26T00:00:00",
          "2022-09-27T00:00:00",
          "2022-09-28T00:00:00",
          "2022-09-29T00:00:00",
          "2022-09-30T00:00:00",
          "2022-10-01T00:00:00",
          "2022-10-02T00:00:00",
          "2022-10-03T00:00:00",
          "2022-10-04T00:00:00",
          "2022-10-05T00:00:00",
          "2022-10-06T00:00:00",
          "2022-10-07T00:00:00",
          "2022-10-08T00:00:00",
          "2022-10-09T00:00:00",
          "2022-10-10T00:00:00",
          "2022-10-11T00:00:00",
          "2022-10-12T00:00:00",
          "2022-10-13T00:00:00",
          "2022-10-14T00:00:00",
          "2022-10-15T00:00:00",
          "2022-10-16T00:00:00",
          "2022-10-17T00:00:00",
          "2022-10-18T00:00:00",
          "2022-10-19T00:00:00",
          "2022-10-20T00:00:00",
          "2022-10-21T00:00:00",
          "2022-10-22T00:00:00",
          "2022-10-23T00:00:00",
          "2022-10-24T00:00:00",
          "2022-10-25T00:00:00",
          "2022-10-26T00:00:00",
          "2022-10-27T00:00:00",
          "2022-10-28T00:00:00",
          "2022-10-29T00:00:00",
          "2022-10-30T00:00:00",
          "2022-10-31T00:00:00",
          "2022-11-01T00:00:00",
          "2022-11-02T00:00:00",
          "2022-11-03T00:00:00",
          "2022-11-04T00:00:00",
          "2022-11-05T00:00:00",
          "2022-11-06T00:00:00",
          "2022-11-07T00:00:00",
          "2022-11-08T00:00:00",
          "2022-11-09T00:00:00",
          "2022-11-10T00:00:00",
          "2022-11-11T00:00:00",
          "2022-11-12T00:00:00",
          "2022-11-13T00:00:00",
          "2022-11-14T00:00:00",
          "2022-11-15T00:00:00",
          "2022-11-16T00:00:00",
          "2022-11-17T00:00:00",
          "2022-11-18T00:00:00",
          "2022-11-19T00:00:00",
          "2022-11-20T00:00:00",
          "2022-11-21T00:00:00",
          "2022-11-22T00:00:00",
          "2022-11-23T00:00:00",
          "2022-11-24T00:00:00",
          "2022-11-25T00:00:00",
          "2022-11-26T00:00:00",
          "2022-11-27T00:00:00",
          "2022-11-28T00:00:00",
          "2022-11-29T00:00:00",
          "2022-11-30T00:00:00",
          "2022-12-01T00:00:00",
          "2022-12-02T00:00:00",
          "2022-12-03T00:00:00",
          "2022-12-04T00:00:00",
          "2022-12-05T00:00:00",
          "2022-12-06T00:00:00",
          "2022-12-07T00:00:00",
          "2022-12-08T00:00:00",
          "2022-12-09T00:00:00",
          "2022-12-10T00:00:00",
          "2022-12-11T00:00:00",
          "2022-12-12T00:00:00",
          "2022-12-13T00:00:00",
          "2022-12-14T00:00:00",
          "2022-12-15T00:00:00",
          "2022-12-16T00:00:00",
          "2022-12-17T00:00:00",
          "2022-12-18T00:00:00",
          "2022-12-19T00:00:00",
          "2022-12-20T00:00:00",
          "2022-12-21T00:00:00",
          "2022-12-22T00:00:00",
          "2022-12-23T00:00:00",
          "2022-12-24T00:00:00",
          "2022-12-25T00:00:00",
          "2022-12-26T00:00:00",
          "2022-12-27T00:00:00",
          "2022-12-28T00:00:00",
          "2022-12-29T00:00:00",
          "2022-12-30T00:00:00",
          "2022-12-31T00:00:00",
          "2023-01-01T00:00:00",
          "2023-01-02T00:00:00",
          "2023-01-03T00:00:00",
          "2023-01-04T00:00:00",
          "2023-01-05T00:00:00",
          "2023-01-06T00:00:00",
          "2023-01-07T00:00:00",
          "2023-01-08T00:00:00",
          "2023-01-09T00:00:00",
          "2023-01-10T00:00:00",
          "2023-01-11T00:00:00",
          "2023-01-12T00:00:00",
          "2023-01-13T00:00:00",
          "2023-01-14T00:00:00",
          "2023-01-15T00:00:00",
          "2023-01-16T00:00:00",
          "2023-01-17T00:00:00",
          "2023-01-18T00:00:00",
          "2023-01-19T00:00:00",
          "2023-01-20T00:00:00",
          "2023-01-21T00:00:00",
          "2023-01-22T00:00:00",
          "2023-01-23T00:00:00",
          "2023-01-24T00:00:00",
          "2023-01-25T00:00:00",
          "2023-01-26T00:00:00",
          "2023-01-27T00:00:00",
          "2023-01-28T00:00:00",
          "2023-01-29T00:00:00",
          "2023-01-30T00:00:00",
          "2023-01-31T00:00:00",
          "2023-02-01T00:00:00",
          "2023-02-02T00:00:00",
          "2023-02-03T00:00:00",
          "2023-02-04T00:00:00",
          "2023-02-05T00:00:00",
          "2023-02-06T00:00:00",
          "2023-02-07T00:00:00",
          "2023-02-08T00:00:00",
          "2023-02-09T00:00:00",
          "2023-02-10T00:00:00",
          "2023-02-11T00:00:00",
          "2023-02-12T00:00:00",
          "2023-02-13T00:00:00",
          "2023-02-14T00:00:00",
          "2023-02-15T00:00:00",
          "2023-02-16T00:00:00",
          "2023-02-17T00:00:00",
          "2023-02-18T00:00:00",
          "2023-02-19T00:00:00",
          "2023-02-20T00:00:00",
          "2023-02-21T00:00:00",
          "2023-02-22T00:00:00",
          "2023-02-23T00:00:00",
          "2023-02-24T00:00:00",
          "2023-02-25T00:00:00",
          "2023-02-26T00:00:00",
          "2023-02-27T00:00:00",
          "2023-02-28T00:00:00",
          "2023-03-01T00:00:00",
          "2023-03-02T00:00:00",
          "2023-03-03T00:00:00",
          "2023-03-04T00:00:00",
          "2023-03-05T00:00:00",
          "2023-03-06T00:00:00",
          "2023-03-07T00:00:00",
          "2023-03-08T00:00:00",
          "2023-03-09T00:00:00",
          "2023-03-10T00:00:00",
          "2023-03-11T00:00:00",
          "2023-03-12T00:00:00",
          "2023-03-13T00:00:00",
          "2023-03-14T00:00:00",
          "2023-03-15T00:00:00",
          "2023-03-16T00:00:00",
          "2023-03-17T00:00:00",
          "2023-03-18T00:00:00",
          "2023-03-19T00:00:00",
          "2023-03-20T00:00:00",
          "2023-03-21T00:00:00",
          "2023-03-22T00:00:00",
          "2023-03-23T00:00:00",
          "2023-03-24T00:00:00",
          "2023-03-25T00:00:00",
          "2023-03-26T00:00:00",
          "2023-03-27T00:00:00",
          "2023-03-28T00:00:00",
          "2023-03-29T00:00:00",
          "2023-03-30T00:00:00",
          "2023-03-31T00:00:00",
          "2023-04-01T00:00:00",
          "2023-04-02T00:00:00",
          "2023-04-03T00:00:00",
          "2023-04-04T00:00:00",
          "2023-04-05T00:00:00",
          "2023-04-06T00:00:00",
          "2023-04-07T00:00:00",
          "2023-04-08T00:00:00",
          "2023-04-09T00:00:00",
          "2023-04-10T00:00:00",
          "2023-04-11T00:00:00",
          "2023-04-12T00:00:00",
          "2023-04-13T00:00:00",
          "2023-04-14T00:00:00",
          "2023-04-15T00:00:00",
          "2023-04-16T00:00:00",
          "2023-04-17T00:00:00",
          "2023-04-18T00:00:00",
          "2023-04-19T00:00:00",
          "2023-04-20T00:00:00",
          "2023-04-21T00:00:00",
          "2023-04-22T00:00:00",
          "2023-04-23T00:00:00",
          "2023-04-24T00:00:00",
          "2023-04-25T00:00:00",
          "2023-04-26T00:00:00",
          "2023-04-27T00:00:00",
          "2023-04-28T00:00:00",
          "2023-04-29T00:00:00",
          "2023-04-30T00:00:00",
          "2023-05-01T00:00:00",
          "2023-05-02T00:00:00",
          "2023-05-03T00:00:00",
          "2023-05-04T00:00:00",
          "2023-05-05T00:00:00",
          "2023-05-06T00:00:00",
          "2023-05-07T00:00:00",
          "2023-05-08T00:00:00",
          "2023-05-09T00:00:00",
          "2023-05-10T00:00:00",
          "2023-05-11T00:00:00",
          "2023-05-12T00:00:00",
          "2023-05-13T00:00:00",
          "2023-05-14T00:00:00",
          "2023-05-15T00:00:00",
          "2023-05-16T00:00:00",
          "2023-05-17T00:00:00",
          "2023-05-18T00:00:00",
          "2023-05-19T00:00:00",
          "2023-05-20T00:00:00",
          "2023-05-21T00:00:00",
          "2023-05-22T00:00:00",
          "2023-05-23T00:00:00",
          "2023-05-24T00:00:00",
          "2023-05-25T00:00:00",
          "2023-05-26T00:00:00",
          "2023-05-27T00:00:00",
          "2023-05-28T00:00:00",
          "2023-05-29T00:00:00",
          "2023-05-30T00:00:00",
          "2023-05-31T00:00:00",
          "2023-06-01T00:00:00",
          "2023-06-02T00:00:00",
          "2023-06-03T00:00:00",
          "2023-06-04T00:00:00",
          "2023-06-05T00:00:00",
          "2023-06-06T00:00:00",
          "2023-06-07T00:00:00",
          "2023-06-08T00:00:00",
          "2023-06-09T00:00:00",
          "2023-06-10T00:00:00",
          "2023-06-11T00:00:00",
          "2023-06-12T00:00:00",
          "2023-06-13T00:00:00",
          "2023-06-14T00:00:00",
          "2023-06-15T00:00:00",
          "2023-06-16T00:00:00",
          "2023-06-17T00:00:00",
          "2023-06-18T00:00:00",
          "2023-06-19T00:00:00",
          "2023-06-20T00:00:00",
          "2023-06-21T00:00:00",
          "2023-06-22T00:00:00",
          "2023-06-23T00:00:00",
          "2023-06-24T00:00:00",
          "2023-06-25T00:00:00",
          "2023-06-26T00:00:00",
          "2023-06-27T00:00:00",
          "2023-06-28T00:00:00",
          "2023-06-29T00:00:00",
          "2023-06-30T00:00:00",
          "2023-07-01T00:00:00",
          "2023-07-02T00:00:00",
          "2023-07-03T00:00:00",
          "2023-07-04T00:00:00",
          "2023-07-05T00:00:00",
          "2023-07-06T00:00:00",
          "2023-07-07T00:00:00",
          "2023-07-08T00:00:00",
          "2023-07-09T00:00:00",
          "2023-07-10T00:00:00",
          "2023-07-11T00:00:00",
          "2023-07-12T00:00:00",
          "2023-07-13T00:00:00",
          "2023-07-14T00:00:00",
          "2023-07-15T00:00:00",
          "2023-07-16T00:00:00",
          "2023-07-17T00:00:00",
          "2023-07-18T00:00:00",
          "2023-07-19T00:00:00",
          "2023-07-20T00:00:00",
          "2023-07-21T00:00:00",
          "2023-07-22T00:00:00",
          "2023-07-23T00:00:00",
          "2023-07-24T00:00:00",
          "2023-07-25T00:00:00",
          "2023-07-26T00:00:00",
          "2023-07-27T00:00:00",
          "2023-07-28T00:00:00",
          "2023-07-29T00:00:00",
          "2023-07-30T00:00:00",
          "2023-07-31T00:00:00",
          "2023-08-01T00:00:00",
          "2023-08-02T00:00:00",
          "2023-08-03T00:00:00",
          "2023-08-04T00:00:00",
          "2023-08-05T00:00:00",
          "2023-08-06T00:00:00",
          "2023-08-07T00:00:00",
          "2023-08-08T00:00:00",
          "2023-08-09T00:00:00",
          "2023-08-10T00:00:00",
          "2023-08-11T00:00:00",
          "2023-08-12T00:00:00",
          "2023-08-13T00:00:00",
          "2023-08-14T00:00:00",
          "2023-08-15T00:00:00",
          "2023-08-16T00:00:00",
          "2023-08-17T00:00:00",
          "2023-08-18T00:00:00",
          "2023-08-19T00:00:00",
          "2023-08-20T00:00:00",
          "2023-08-21T00:00:00",
          "2023-08-22T00:00:00",
          "2023-08-23T00:00:00",
          "2023-08-24T00:00:00",
          "2023-08-25T00:00:00",
          "2023-08-26T00:00:00",
          "2023-08-27T00:00:00",
          "2023-08-28T00:00:00",
          "2023-08-29T00:00:00",
          "2023-08-30T00:00:00",
          "2023-08-31T00:00:00",
          "2023-09-01T00:00:00",
          "2023-09-02T00:00:00",
          "2023-09-03T00:00:00",
          "2023-09-04T00:00:00",
          "2023-09-05T00:00:00",
          "2023-09-06T00:00:00",
          "2023-09-07T00:00:00",
          "2023-09-08T00:00:00",
          "2023-09-09T00:00:00",
          "2023-09-10T00:00:00",
          "2023-09-11T00:00:00",
          "2023-09-12T00:00:00",
          "2023-09-13T00:00:00",
          "2023-09-14T00:00:00",
          "2023-09-15T00:00:00",
          "2023-09-16T00:00:00",
          "2023-09-17T00:00:00",
          "2023-09-18T00:00:00",
          "2023-09-19T00:00:00",
          "2023-09-20T00:00:00",
          "2023-09-21T00:00:00",
          "2023-09-22T00:00:00",
          "2023-09-23T00:00:00",
          "2023-09-24T00:00:00",
          "2023-09-25T00:00:00",
          "2023-09-26T00:00:00",
          "2023-09-27T00:00:00",
          "2023-09-28T00:00:00",
          "2023-09-29T00:00:00",
          "2023-09-30T00:00:00",
          "2023-10-01T00:00:00",
          "2023-10-02T00:00:00",
          "2023-10-03T00:00:00",
          "2023-10-04T00:00:00",
          "2023-10-05T00:00:00",
          "2023-10-06T00:00:00",
          "2023-10-07T00:00:00",
          "2023-10-08T00:00:00",
          "2023-10-09T00:00:00",
          "2023-10-10T00:00:00",
          "2023-10-11T00:00:00",
          "2023-10-12T00:00:00",
          "2023-10-13T00:00:00",
          "2023-10-14T00:00:00",
          "2023-10-15T00:00:00",
          "2023-10-16T00:00:00",
          "2023-10-17T00:00:00",
          "2023-10-18T00:00:00",
          "2023-10-19T00:00:00",
          "2023-10-20T00:00:00",
          "2023-10-21T00:00:00",
          "2023-10-22T00:00:00",
          "2023-10-23T00:00:00",
          "2023-10-24T00:00:00",
          "2023-10-25T00:00:00",
          "2023-10-26T00:00:00",
          "2023-10-27T00:00:00",
          "2023-10-28T00:00:00",
          "2023-10-29T00:00:00",
          "2023-10-30T00:00:00",
          "2023-10-31T00:00:00",
          "2023-11-01T00:00:00",
          "2023-11-02T00:00:00",
          "2023-11-03T00:00:00",
          "2023-11-04T00:00:00",
          "2023-11-05T00:00:00",
          "2023-11-06T00:00:00",
          "2023-11-07T00:00:00",
          "2023-11-08T00:00:00",
          "2023-11-09T00:00:00",
          "2023-11-10T00:00:00",
          "2023-11-11T00:00:00",
          "2023-11-12T00:00:00",
          "2023-11-13T00:00:00",
          "2023-11-14T00:00:00",
          "2023-11-15T00:00:00",
          "2023-11-16T00:00:00",
          "2023-11-17T00:00:00",
          "2023-11-18T00:00:00",
          "2023-11-19T00:00:00",
          "2023-11-20T00:00:00",
          "2023-11-21T00:00:00",
          "2023-11-22T00:00:00",
          "2023-11-23T00:00:00",
          "2023-11-24T00:00:00",
          "2023-11-25T00:00:00",
          "2023-11-26T00:00:00",
          "2023-11-27T00:00:00",
          "2023-11-28T00:00:00",
          "2023-11-29T00:00:00",
          "2023-11-30T00:00:00",
          "2023-12-01T00:00:00",
          "2023-12-02T00:00:00",
          "2023-12-03T00:00:00",
          "2023-12-04T00:00:00",
          "2023-12-05T00:00:00",
          "2023-12-06T00:00:00",
          "2023-12-07T00:00:00",
          "2023-12-08T00:00:00",
          "2023-12-09T00:00:00",
          "2023-12-10T00:00:00",
          "2023-12-11T00:00:00",
          "2023-12-12T00:00:00",
          "2023-12-13T00:00:00",
          "2023-12-14T00:00:00",
          "2023-12-15T00:00:00",
          "2023-12-16T00:00:00",
          "2023-12-17T00:00:00",
          "2023-12-18T00:00:00",
          "2023-12-19T00:00:00",
          "2023-12-20T00:00:00",
          "2023-12-21T00:00:00",
          "2023-12-22T00:00:00",
          "2023-12-23T00:00:00",
          "2023-12-24T00:00:00",
          "2023-12-25T00:00:00",
          "2023-12-26T00:00:00",
          "2023-12-27T00:00:00",
          "2023-12-28T00:00:00",
          "2023-12-29T00:00:00",
          "2023-12-30T00:00:00",
          "2023-12-31T00:00:00",
          "2024-01-01T00:00:00",
          "2024-01-02T00:00:00",
          "2024-01-03T00:00:00",
          "2024-01-04T00:00:00",
          "2024-01-05T00:00:00",
          "2024-01-06T00:00:00",
          "2024-01-07T00:00:00",
          "2024-01-08T00:00:00",
          "2024-01-09T00:00:00",
          "2024-01-10T00:00:00",
          "2024-01-11T00:00:00",
          "2024-01-12T00:00:00",
          "2024-01-13T00:00:00",
          "2024-01-14T00:00:00",
          "2024-01-15T00:00:00",
          "2024-01-16T00:00:00",
          "2024-01-17T00:00:00",
          "2024-01-18T00:00:00",
          "2024-01-19T00:00:00",
          "2024-01-20T00:00:00",
          "2024-01-21T00:00:00",
          "2024-01-22T00:00:00",
          "2024-01-23T00:00:00",
          "2024-01-24T00:00:00",
          "2024-01-25T00:00:00",
          "2024-01-26T00:00:00",
          "2024-01-27T00:00:00",
          "2024-01-28T00:00:00",
          "2024-01-29T00:00:00",
          "2024-01-30T00:00:00",
          "2024-01-31T00:00:00",
          "2024-02-01T00:00:00",
          "2024-02-02T00:00:00",
          "2024-02-03T00:00:00",
          "2024-02-04T00:00:00",
          "2024-02-05T00:00:00",
          "2024-02-06T00:00:00",
          "2024-02-07T00:00:00",
          "2024-02-08T00:00:00",
          "2024-02-09T00:00:00",
          "2024-02-10T00:00:00",
          "2024-02-11T00:00:00",
          "2024-02-12T00:00:00",
          "2024-02-13T00:00:00",
          "2024-02-14T00:00:00",
          "2024-02-15T00:00:00",
          "2024-02-16T00:00:00",
          "2024-02-17T00:00:00",
          "2024-02-18T00:00:00",
          "2024-02-19T00:00:00",
          "2024-02-20T00:00:00",
          "2024-02-21T00:00:00",
          "2024-02-22T00:00:00",
          "2024-02-23T00:00:00",
          "2024-02-24T00:00:00",
          "2024-02-25T00:00:00",
          "2024-02-26T00:00:00",
          "2024-02-27T00:00:00",
          "2024-02-28T00:00:00",
          "2024-02-29T00:00:00"
         ],
         "y": [
          -0.283338,
          -0.20286518,
          -0.60651416,
          -0.28410858,
          -0.41458434,
          -0.26542062,
          -0.141015,
          -0.3047667,
          -0.31303853,
          -0.24925154,
          -0.42491132,
          -0.4499877,
          -0.2842974,
          -0.2670259,
          -0.41244096,
          -0.34859127,
          -0.44552785,
          -0.50988644,
          -0.34067625,
          -0.17354494,
          -0.21683484,
          -0.40972763,
          -0.30441505,
          -0.40885323,
          -0.36436707,
          -0.29623574,
          -0.24656194,
          -0.42775804,
          -0.2412948,
          -0.57384735,
          -0.38837582,
          -0.38714856,
          -0.1545332,
          -0.47968894,
          -0.28006953,
          -0.17885011,
          -0.43436462,
          -0.43220407,
          -0.2640187,
          -0.21470457,
          -0.17777997,
          -0.44953042,
          -0.13108045,
          -0.19519967,
          -0.2487517,
          -0.18572837,
          -0.13526171,
          -0.11063796,
          -0.32278997,
          -0.33473355,
          -0.07978898,
          -0.17142755,
          -0.39453524,
          -0.2533049,
          -0.3085044,
          -0.29353863,
          -0.22594124,
          -0.1238541,
          -0.18542773,
          -0.12675375,
          -0.4198566,
          -0.08393234,
          -0.19868225,
          -0.3662166,
          -0.2004779,
          -0.24772793,
          -0.11876243,
          -0.28577715,
          -0.2809456,
          -0.36375898,
          -0.23132902,
          -0.2893929,
          -0.033114612,
          -0.15148991,
          -0.15469462,
          -0.57502633,
          -0.17985147,
          -0.40301996,
          -0.19438964,
          -0.28455454,
          -0.34834403,
          -0.20945936,
          -0.17893142,
          -0.42230004,
          -0.042319715,
          -0.35676914,
          -0.2807681,
          -0.43778068,
          -0.24542195,
          -0.32771736,
          -0.46655923,
          -0.23498434,
          -0.3303631,
          -0.44582206,
          -0.33642834,
          -0.36478,
          -0.2969249,
          -0.35637766,
          -0.17232054,
          -0.30250913,
          -0.29893917,
          -0.41154307,
          -0.40811783,
          -0.3352545,
          -0.05369681,
          -0.19993716,
          -0.20835513,
          -0.446258,
          -0.5143046,
          -0.04426974,
          -0.4146852,
          -0.396334,
          -0.38250524,
          -0.23219317,
          -0.29890436,
          -0.2892583,
          -0.2639163,
          -0.40183765,
          -0.5706318,
          -0.27746564,
          -0.33730453,
          -0.3113994,
          -0.20764607,
          -0.4418046,
          -0.026360452,
          -0.50395304,
          -0.3609181,
          -0.3855967,
          -0.2649538,
          -0.23380572,
          -0.11846942,
          -0.19242805,
          -0.31912333,
          -0.058526933,
          -0.26773864,
          -0.42489463,
          -0.35039288,
          -0.1561498,
          -0.33022934,
          -0.5639207,
          -0.17202896,
          -0.46462148,
          -0.5655865,
          -0.22095007,
          -0.36287993,
          -0.12528378,
          -0.27273768,
          -0.22899991,
          -0.3791731,
          -0.26359683,
          -0.19426852,
          -0.27932888,
          -0.41862088,
          -0.19847387,
          0.04363203,
          -0.31195813,
          -0.20117122,
          -0.41844255,
          -0.27923352,
          -0.5377318,
          -0.30234748,
          -0.27805752,
          -0.20743042,
          -0.37821525,
          -0.46562117,
          -0.359963,
          -0.3116123,
          -0.3556338,
          -0.16963202,
          -0.37099737,
          -0.30089384,
          -0.29079777,
          -0.28207988,
          -0.29893988,
          -0.18327254,
          -0.30911165,
          -0.3359328,
          -0.39238352,
          -0.02625519,
          -0.07559842,
          -0.13044006,
          -0.26951963,
          -0.07637447,
          0.05615604,
          -0.29454046,
          -0.33192092,
          -0.21734959,
          -0.20980817,
          -0.6608868,
          -0.057351887,
          -0.23229188,
          -0.49055415,
          -0.48365778,
          -0.19122797,
          -0.4586317,
          -0.35154945,
          -0.16902763,
          -0.2807774,
          -0.21151298,
          -0.32444793,
          -0.31686062,
          0.010513246,
          -0.14848703,
          -0.34787863,
          -0.25017542,
          -0.22709185,
          -0.23564988,
          -0.112989604,
          -0.1305793,
          -0.32872182,
          -0.28293556,
          -0.17478198,
          -0.09389609,
          -0.1122579,
          -0.3866126,
          -0.052736342,
          -0.38079625,
          -0.06667584,
          -0.14029366,
          -0.32750326,
          -0.38013738,
          -0.254937,
          -0.41690046,
          -0.25437993,
          -0.11021477,
          -0.18755728,
          -0.6106679,
          -0.3694908,
          -0.31268162,
          -0.07333332,
          -0.08869356,
          -0.14641994,
          -0.32947415,
          -0.24470598,
          -0.28671855,
          -0.4669487,
          -0.109018624,
          -0.14204258,
          -0.11811346,
          -0.23953146,
          -0.06668478,
          -0.37675375,
          -0.1800006,
          -0.5885851,
          -0.31095153,
          -0.45139235,
          -0.13769811,
          -0.49328405,
          -0.3547681,
          -0.25192112,
          -0.5002169,
          -0.40303224,
          -0.13549083,
          -0.18680304,
          -0.6610666,
          -0.41620725,
          0.10170162,
          -0.18991596,
          -0.48199087,
          -0.3480113,
          -0.3441314,
          -0.39285964,
          -0.30798727,
          -0.2666704,
          -0.31211716,
          -0.4493863,
          -0.38280648,
          -0.4988771,
          -0.4852739,
          -0.3359595,
          -0.34893936,
          -0.2844115,
          -0.17712778,
          -0.2246893,
          -0.042142212,
          -0.26862437,
          -0.17158753,
          -0.3392579,
          -0.28052133,
          0.052939534,
          0.017282486,
          -0.49237102,
          -0.2866928,
          -0.21978623,
          -0.49821883,
          -0.15493137,
          -0.24207026,
          -0.043773353,
          -0.27050108,
          -0.49469906,
          -0.556912,
          -0.0018860698,
          -0.30433995,
          -0.21725959,
          -0.539494,
          -0.17140454,
          -0.033751547,
          -0.25403553,
          -0.46825904,
          -0.07795066,
          -0.5404933,
          -0.29115707,
          -0.2983759,
          -0.16670078,
          -0.17013735,
          -0.4164495,
          -0.19616586,
          -0.31648153,
          -0.43403763,
          -0.19123131,
          -0.59928924,
          -0.28938133,
          -0.39747018,
          -0.37617892,
          -0.3305655,
          -0.30810708,
          -0.3103376,
          -0.45938605,
          -0.34953493,
          -0.20669526,
          -0.30753678,
          -0.33813435,
          -0.15200049,
          -0.2704311,
          -0.5572372,
          -0.23785692,
          -0.32975453,
          -0.45057207,
          -0.39316052,
          -0.6206494,
          -0.20398408,
          -0.23843187,
          -0.094913065,
          -0.6655932,
          -0.33435673,
          -0.43492228,
          -0.47385317,
          -0.76085013,
          -0.5853177,
          -0.54289454,
          -0.5231313,
          -0.34689635,
          -0.3219474,
          -0.4450807,
          -0.47030503,
          -0.37492114,
          -0.72315127,
          -0.44755894,
          -0.46880645,
          -0.34584588,
          -0.5058947,
          -0.3771829,
          -0.57558197,
          -0.67576784,
          -0.424061,
          -0.33508414,
          -0.5092128,
          -0.32748514,
          -0.41278917,
          -0.62437946,
          -0.30593592,
          -0.36029643,
          -0.5856294,
          -0.30927593,
          -0.7040847,
          -0.46386737,
          -0.43872005,
          -0.6263204,
          -0.52958554,
          -0.34492666,
          -0.19242448,
          -0.17682046,
          -0.23378009,
          -0.27088338,
          -0.5932278,
          -0.18410152,
          -0.1537624,
          -0.5435348,
          -0.4424289,
          -0.51538557,
          -0.28620523,
          -0.49245793,
          -0.6177067,
          -0.42725533,
          -0.17289299,
          -0.36159307,
          -0.4038257,
          -0.6222556,
          -0.49599975,
          -0.83331627,
          -0.30507892,
          -0.7494772,
          -0.28404886,
          -0.58256906,
          -0.2274037,
          -0.54104835,
          -0.51805204,
          -0.3788026,
          -0.3760355,
          -0.5061709,
          -0.5252771,
          -0.6738189,
          -0.532394,
          -0.2579741,
          -0.4501366,
          -0.59348375,
          -0.37480456,
          -0.53275245,
          -0.3199044,
          -0.30660588,
          -0.79854697,
          -0.30624658,
          -0.34831744,
          -0.3721128,
          -0.79747945,
          -0.95423144,
          -0.5148633,
          -0.35396367,
          -0.63162893,
          -0.4712307,
          -0.26560074,
          -0.4566328,
          -0.47821432,
          -0.4718613,
          -0.55343074,
          -0.40919274,
          -0.47937816,
          -0.4673242,
          -0.3945709,
          -0.39906055,
          -0.3810771,
          -0.5098048,
          -0.54183,
          -0.71524626,
          -0.74787635,
          -0.54077893,
          -0.5516655,
          -0.6415425,
          -0.51955146,
          -0.7417639,
          -0.61050206,
          -0.4364727,
          -0.44638985,
          -0.4954428,
          -0.5883729,
          -0.451819,
          -0.4544924,
          -0.85225874,
          -0.5542703,
          -0.5999251,
          -0.7869186,
          -0.6254615,
          -0.565973,
          -0.46254796,
          -0.66338164,
          -0.37492377,
          -0.58439225,
          -0.5247337,
          -0.339382,
          -0.2319228,
          -0.5757956,
          -0.47575706,
          -0.46874577,
          -0.38834113,
          -0.4569524,
          -0.6446739,
          -0.3662204,
          -0.39200908,
          -0.42398447,
          -0.6155116,
          -0.4673031,
          -0.59420246,
          -0.6406948,
          -0.5735578,
          -0.6476622,
          -0.3944413,
          -0.6246399,
          -0.51064414,
          -0.34160823,
          -0.536179,
          -0.50513655,
          -0.34821433,
          -0.60163194,
          -0.38593382,
          -0.4301209,
          -0.4278658,
          -0.2263537,
          -0.26369482,
          -0.33514434,
          -0.35313302,
          -0.4827575,
          -0.2517193,
          -0.52591366,
          -0.33203405,
          -0.4767068,
          -0.30780667,
          -0.3741625,
          -0.6377726,
          -0.27076417,
          -0.536284,
          -0.33442777,
          -0.25253135,
          -0.49191254,
          -0.5195418,
          -0.44279307,
          -0.43081886,
          -0.3951704,
          -0.32472974,
          -0.5783071,
          -0.34583503,
          -0.540608,
          -0.59560007,
          -0.60662204,
          -0.36169273,
          -0.3362729,
          -0.4088444,
          -0.5567809,
          -0.5513888,
          -0.3101148,
          -0.5712791,
          -0.37023062,
          -0.38425404,
          -0.4581465,
          -0.64396065,
          -0.43514293,
          -0.31019682,
          -0.575332,
          -0.5828211,
          -0.5476431,
          -0.3842079,
          -0.36674827,
          -0.072411,
          -0.6504652,
          -0.5203337,
          -0.50962764,
          -0.5409073,
          -0.560991,
          -0.38921207,
          -0.27019256,
          -0.63024205,
          -0.3886394,
          -0.29371518,
          -0.58078736,
          -0.55674714,
          -0.43817264,
          -0.2984839,
          -0.56586224,
          -0.46233314,
          -0.38979262,
          -0.3665257,
          -0.55591816,
          -0.4441443,
          -0.34756607,
          -0.42182332,
          -0.22213703,
          -0.4245537,
          -0.22982222,
          -0.39125234,
          -0.47057444,
          -0.6190935,
          -0.61186975,
          -0.4775731,
          -0.26108104,
          -0.3922853,
          -0.44727594,
          -0.24959522,
          -0.47636932,
          -0.42951554,
          -0.39916414,
          -0.4502893,
          -0.35748893,
          -0.4260419,
          -0.48541397,
          -0.30942625,
          -0.55561477,
          -0.6319484,
          -0.37607723,
          -0.3868428,
          -0.37545556,
          -0.333934,
          -0.52266246,
          -0.45186776,
          -0.49275726,
          -0.54281217,
          -0.39161366,
          -0.26547116,
          -0.5645332,
          -0.32285815,
          -0.34575874,
          -0.5411697,
          -0.49835414,
          -0.3872922,
          -0.46204358,
          -0.45461446,
          -0.4338916,
          -0.34499222,
          -0.29166192,
          -0.299604,
          -0.21231812,
          -0.36448008,
          -0.31190282,
          -0.60254985,
          -0.37695748,
          -0.65454036,
          -0.49262565,
          -0.41645676,
          -0.77560836,
          -0.36271232,
          -0.5193085,
          -0.4486168,
          -0.276846,
          -0.51334184,
          -0.5144159,
          -0.5141198,
          -0.40601045,
          -0.45301515,
          -0.5229905,
          -0.53408307,
          -0.5956791,
          -0.34435505,
          -0.33031148,
          -0.19745702,
          -0.30677956,
          -0.34387916,
          -0.532685,
          -0.5010174,
          -0.27243465,
          -0.44970495,
          -0.50831026,
          -0.45832664,
          -0.66100436,
          -0.3827986,
          -0.36928135,
          -0.4965884,
          -0.39346236,
          -0.3641278,
          -0.35616857,
          -0.24968237,
          -0.39409953,
          -0.36597472,
          -0.751345,
          -0.52594453,
          -0.3906849,
          -0.55359083,
          -0.70649415,
          -0.4640525,
          -0.42572862,
          -0.2550307,
          -0.23924285,
          -0.4551261,
          -0.5619212,
          -0.5476478,
          -0.6920784,
          -0.48357123,
          -0.32840663,
          -0.48225015,
          -0.36576778,
          -0.33973795,
          -0.3243025,
          -0.5054341,
          -0.50177103,
          -0.29351813,
          -0.6230286,
          -0.25686616,
          -0.2094348,
          -0.6207101,
          -0.39989716,
          -0.6749739,
          -0.5132323,
          -0.762966,
          -0.34074908,
          -0.47610122,
          -0.4800505,
          -0.41515607,
          -0.4902689,
          -0.7801326,
          -0.48074156,
          -0.63587695,
          -0.7190377,
          -0.6298496,
          -0.81363624,
          -0.77271456,
          -0.5383808,
          -0.45726043,
          -0.4304723,
          -0.5435073,
          -0.5302343,
          -0.48480088,
          -0.47314686,
          -0.355967,
          -0.55277854,
          -0.23711401,
          -0.65609664,
          -0.5206111,
          -0.054534733,
          -0.36804408,
          -0.39004844,
          -0.48936385,
          -0.48694748,
          -0.4400888,
          -0.46304733,
          -0.54154426,
          -0.50869673,
          -0.5057177,
          -0.3322839,
          -0.4625638,
          -0.59420997,
          -0.56526333,
          -0.45579308,
          -0.9074212,
          -0.4335857,
          -0.53362864,
          -0.3862123,
          -0.5965648,
          -0.5768183,
          -0.43742758,
          -0.4508018,
          -0.16875821,
          -0.50541836,
          -0.50516087,
          -0.7226276,
          -0.36460322,
          -0.45456654,
          -0.5751317,
          -0.7189135,
          -0.48839158,
          -0.555124,
          -0.7831431,
          -0.6518176,
          -0.19104713,
          -0.6076856,
          -0.23331136,
          -0.41458708,
          -0.58724123,
          -0.47714418,
          -0.36347443,
          -0.54247063,
          -0.47736865,
          -0.49923462,
          -0.58471376,
          -0.46774584,
          -0.4118455,
          -0.36938936,
          -0.5345352,
          -0.5517064,
          -0.4061603,
          -0.6019438,
          -0.54100174,
          -0.70439273,
          -0.6444469,
          -0.38409203,
          -1.0495682,
          -0.6349545,
          -0.85132426,
          -0.5113571,
          -0.60947245,
          -0.4307167,
          -0.5476213,
          -0.42913586,
          -0.72345954,
          -0.3332699,
          -0.6008776,
          -0.60992616,
          -0.564936,
          -0.38685888,
          -0.2733119,
          -0.4123972,
          -0.6113214,
          -0.8210166,
          -0.67766637,
          -0.76855963,
          -0.6475976,
          -0.65990967,
          -0.4633674,
          -0.7990672,
          -0.7060427,
          -0.5434961,
          -0.5738582,
          -0.55107015,
          -0.6458593,
          -0.31817335,
          -0.3127194,
          -0.6740287,
          -0.48169774,
          -0.67900175,
          -0.49231845,
          -0.7896376,
          -0.6030149,
          -0.61823136,
          -0.5445823
         ]
        },
        {
         "fill": "tonexty",
         "fillcolor": "rgba(169, 169, 169, 0.2)",
         "line": {
          "color": "grey",
          "dash": "dot",
          "width": 1
         },
         "mode": "lines",
         "name": "Confidence Interval Upper",
         "showlegend": false,
         "type": "scatter",
         "x": [
          "2022-01-01T00:00:00",
          "2022-01-02T00:00:00",
          "2022-01-03T00:00:00",
          "2022-01-04T00:00:00",
          "2022-01-05T00:00:00",
          "2022-01-06T00:00:00",
          "2022-01-07T00:00:00",
          "2022-01-08T00:00:00",
          "2022-01-09T00:00:00",
          "2022-01-10T00:00:00",
          "2022-01-11T00:00:00",
          "2022-01-12T00:00:00",
          "2022-01-13T00:00:00",
          "2022-01-14T00:00:00",
          "2022-01-15T00:00:00",
          "2022-01-16T00:00:00",
          "2022-01-17T00:00:00",
          "2022-01-18T00:00:00",
          "2022-01-19T00:00:00",
          "2022-01-20T00:00:00",
          "2022-01-21T00:00:00",
          "2022-01-22T00:00:00",
          "2022-01-23T00:00:00",
          "2022-01-24T00:00:00",
          "2022-01-25T00:00:00",
          "2022-01-26T00:00:00",
          "2022-01-27T00:00:00",
          "2022-01-28T00:00:00",
          "2022-01-29T00:00:00",
          "2022-01-30T00:00:00",
          "2022-01-31T00:00:00",
          "2022-02-01T00:00:00",
          "2022-02-02T00:00:00",
          "2022-02-03T00:00:00",
          "2022-02-04T00:00:00",
          "2022-02-05T00:00:00",
          "2022-02-06T00:00:00",
          "2022-02-07T00:00:00",
          "2022-02-08T00:00:00",
          "2022-02-09T00:00:00",
          "2022-02-10T00:00:00",
          "2022-02-11T00:00:00",
          "2022-02-12T00:00:00",
          "2022-02-13T00:00:00",
          "2022-02-14T00:00:00",
          "2022-02-15T00:00:00",
          "2022-02-16T00:00:00",
          "2022-02-17T00:00:00",
          "2022-02-18T00:00:00",
          "2022-02-19T00:00:00",
          "2022-02-20T00:00:00",
          "2022-02-21T00:00:00",
          "2022-02-22T00:00:00",
          "2022-02-23T00:00:00",
          "2022-02-24T00:00:00",
          "2022-02-25T00:00:00",
          "2022-02-26T00:00:00",
          "2022-02-27T00:00:00",
          "2022-02-28T00:00:00",
          "2022-03-01T00:00:00",
          "2022-03-02T00:00:00",
          "2022-03-03T00:00:00",
          "2022-03-04T00:00:00",
          "2022-03-05T00:00:00",
          "2022-03-06T00:00:00",
          "2022-03-07T00:00:00",
          "2022-03-08T00:00:00",
          "2022-03-09T00:00:00",
          "2022-03-10T00:00:00",
          "2022-03-11T00:00:00",
          "2022-03-12T00:00:00",
          "2022-03-13T00:00:00",
          "2022-03-14T00:00:00",
          "2022-03-15T00:00:00",
          "2022-03-16T00:00:00",
          "2022-03-17T00:00:00",
          "2022-03-18T00:00:00",
          "2022-03-19T00:00:00",
          "2022-03-20T00:00:00",
          "2022-03-21T00:00:00",
          "2022-03-22T00:00:00",
          "2022-03-23T00:00:00",
          "2022-03-24T00:00:00",
          "2022-03-25T00:00:00",
          "2022-03-26T00:00:00",
          "2022-03-27T00:00:00",
          "2022-03-28T00:00:00",
          "2022-03-29T00:00:00",
          "2022-03-30T00:00:00",
          "2022-03-31T00:00:00",
          "2022-04-01T00:00:00",
          "2022-04-02T00:00:00",
          "2022-04-03T00:00:00",
          "2022-04-04T00:00:00",
          "2022-04-05T00:00:00",
          "2022-04-06T00:00:00",
          "2022-04-07T00:00:00",
          "2022-04-08T00:00:00",
          "2022-04-09T00:00:00",
          "2022-04-10T00:00:00",
          "2022-04-11T00:00:00",
          "2022-04-12T00:00:00",
          "2022-04-13T00:00:00",
          "2022-04-14T00:00:00",
          "2022-04-15T00:00:00",
          "2022-04-16T00:00:00",
          "2022-04-17T00:00:00",
          "2022-04-18T00:00:00",
          "2022-04-19T00:00:00",
          "2022-04-20T00:00:00",
          "2022-04-21T00:00:00",
          "2022-04-22T00:00:00",
          "2022-04-23T00:00:00",
          "2022-04-24T00:00:00",
          "2022-04-25T00:00:00",
          "2022-04-26T00:00:00",
          "2022-04-27T00:00:00",
          "2022-04-28T00:00:00",
          "2022-04-29T00:00:00",
          "2022-04-30T00:00:00",
          "2022-05-01T00:00:00",
          "2022-05-02T00:00:00",
          "2022-05-03T00:00:00",
          "2022-05-04T00:00:00",
          "2022-05-05T00:00:00",
          "2022-05-06T00:00:00",
          "2022-05-07T00:00:00",
          "2022-05-08T00:00:00",
          "2022-05-09T00:00:00",
          "2022-05-10T00:00:00",
          "2022-05-11T00:00:00",
          "2022-05-12T00:00:00",
          "2022-05-13T00:00:00",
          "2022-05-14T00:00:00",
          "2022-05-15T00:00:00",
          "2022-05-16T00:00:00",
          "2022-05-17T00:00:00",
          "2022-05-18T00:00:00",
          "2022-05-19T00:00:00",
          "2022-05-20T00:00:00",
          "2022-05-21T00:00:00",
          "2022-05-22T00:00:00",
          "2022-05-23T00:00:00",
          "2022-05-24T00:00:00",
          "2022-05-25T00:00:00",
          "2022-05-26T00:00:00",
          "2022-05-27T00:00:00",
          "2022-05-28T00:00:00",
          "2022-05-29T00:00:00",
          "2022-05-30T00:00:00",
          "2022-05-31T00:00:00",
          "2022-06-01T00:00:00",
          "2022-06-02T00:00:00",
          "2022-06-03T00:00:00",
          "2022-06-04T00:00:00",
          "2022-06-05T00:00:00",
          "2022-06-06T00:00:00",
          "2022-06-07T00:00:00",
          "2022-06-08T00:00:00",
          "2022-06-09T00:00:00",
          "2022-06-10T00:00:00",
          "2022-06-11T00:00:00",
          "2022-06-12T00:00:00",
          "2022-06-13T00:00:00",
          "2022-06-14T00:00:00",
          "2022-06-15T00:00:00",
          "2022-06-16T00:00:00",
          "2022-06-17T00:00:00",
          "2022-06-18T00:00:00",
          "2022-06-19T00:00:00",
          "2022-06-20T00:00:00",
          "2022-06-21T00:00:00",
          "2022-06-22T00:00:00",
          "2022-06-23T00:00:00",
          "2022-06-24T00:00:00",
          "2022-06-25T00:00:00",
          "2022-06-26T00:00:00",
          "2022-06-27T00:00:00",
          "2022-06-28T00:00:00",
          "2022-06-29T00:00:00",
          "2022-06-30T00:00:00",
          "2022-07-01T00:00:00",
          "2022-07-02T00:00:00",
          "2022-07-03T00:00:00",
          "2022-07-04T00:00:00",
          "2022-07-05T00:00:00",
          "2022-07-06T00:00:00",
          "2022-07-07T00:00:00",
          "2022-07-08T00:00:00",
          "2022-07-09T00:00:00",
          "2022-07-10T00:00:00",
          "2022-07-11T00:00:00",
          "2022-07-12T00:00:00",
          "2022-07-13T00:00:00",
          "2022-07-14T00:00:00",
          "2022-07-15T00:00:00",
          "2022-07-16T00:00:00",
          "2022-07-17T00:00:00",
          "2022-07-18T00:00:00",
          "2022-07-19T00:00:00",
          "2022-07-20T00:00:00",
          "2022-07-21T00:00:00",
          "2022-07-22T00:00:00",
          "2022-07-23T00:00:00",
          "2022-07-24T00:00:00",
          "2022-07-25T00:00:00",
          "2022-07-26T00:00:00",
          "2022-07-27T00:00:00",
          "2022-07-28T00:00:00",
          "2022-07-29T00:00:00",
          "2022-07-30T00:00:00",
          "2022-07-31T00:00:00",
          "2022-08-01T00:00:00",
          "2022-08-02T00:00:00",
          "2022-08-03T00:00:00",
          "2022-08-04T00:00:00",
          "2022-08-05T00:00:00",
          "2022-08-06T00:00:00",
          "2022-08-07T00:00:00",
          "2022-08-08T00:00:00",
          "2022-08-09T00:00:00",
          "2022-08-10T00:00:00",
          "2022-08-11T00:00:00",
          "2022-08-12T00:00:00",
          "2022-08-13T00:00:00",
          "2022-08-14T00:00:00",
          "2022-08-15T00:00:00",
          "2022-08-16T00:00:00",
          "2022-08-17T00:00:00",
          "2022-08-18T00:00:00",
          "2022-08-19T00:00:00",
          "2022-08-20T00:00:00",
          "2022-08-21T00:00:00",
          "2022-08-22T00:00:00",
          "2022-08-23T00:00:00",
          "2022-08-24T00:00:00",
          "2022-08-25T00:00:00",
          "2022-08-26T00:00:00",
          "2022-08-27T00:00:00",
          "2022-08-28T00:00:00",
          "2022-08-29T00:00:00",
          "2022-08-30T00:00:00",
          "2022-08-31T00:00:00",
          "2022-09-01T00:00:00",
          "2022-09-02T00:00:00",
          "2022-09-03T00:00:00",
          "2022-09-04T00:00:00",
          "2022-09-05T00:00:00",
          "2022-09-06T00:00:00",
          "2022-09-07T00:00:00",
          "2022-09-08T00:00:00",
          "2022-09-09T00:00:00",
          "2022-09-10T00:00:00",
          "2022-09-11T00:00:00",
          "2022-09-12T00:00:00",
          "2022-09-13T00:00:00",
          "2022-09-14T00:00:00",
          "2022-09-15T00:00:00",
          "2022-09-16T00:00:00",
          "2022-09-17T00:00:00",
          "2022-09-18T00:00:00",
          "2022-09-19T00:00:00",
          "2022-09-20T00:00:00",
          "2022-09-21T00:00:00",
          "2022-09-22T00:00:00",
          "2022-09-23T00:00:00",
          "2022-09-24T00:00:00",
          "2022-09-25T00:00:00",
          "2022-09-26T00:00:00",
          "2022-09-27T00:00:00",
          "2022-09-28T00:00:00",
          "2022-09-29T00:00:00",
          "2022-09-30T00:00:00",
          "2022-10-01T00:00:00",
          "2022-10-02T00:00:00",
          "2022-10-03T00:00:00",
          "2022-10-04T00:00:00",
          "2022-10-05T00:00:00",
          "2022-10-06T00:00:00",
          "2022-10-07T00:00:00",
          "2022-10-08T00:00:00",
          "2022-10-09T00:00:00",
          "2022-10-10T00:00:00",
          "2022-10-11T00:00:00",
          "2022-10-12T00:00:00",
          "2022-10-13T00:00:00",
          "2022-10-14T00:00:00",
          "2022-10-15T00:00:00",
          "2022-10-16T00:00:00",
          "2022-10-17T00:00:00",
          "2022-10-18T00:00:00",
          "2022-10-19T00:00:00",
          "2022-10-20T00:00:00",
          "2022-10-21T00:00:00",
          "2022-10-22T00:00:00",
          "2022-10-23T00:00:00",
          "2022-10-24T00:00:00",
          "2022-10-25T00:00:00",
          "2022-10-26T00:00:00",
          "2022-10-27T00:00:00",
          "2022-10-28T00:00:00",
          "2022-10-29T00:00:00",
          "2022-10-30T00:00:00",
          "2022-10-31T00:00:00",
          "2022-11-01T00:00:00",
          "2022-11-02T00:00:00",
          "2022-11-03T00:00:00",
          "2022-11-04T00:00:00",
          "2022-11-05T00:00:00",
          "2022-11-06T00:00:00",
          "2022-11-07T00:00:00",
          "2022-11-08T00:00:00",
          "2022-11-09T00:00:00",
          "2022-11-10T00:00:00",
          "2022-11-11T00:00:00",
          "2022-11-12T00:00:00",
          "2022-11-13T00:00:00",
          "2022-11-14T00:00:00",
          "2022-11-15T00:00:00",
          "2022-11-16T00:00:00",
          "2022-11-17T00:00:00",
          "2022-11-18T00:00:00",
          "2022-11-19T00:00:00",
          "2022-11-20T00:00:00",
          "2022-11-21T00:00:00",
          "2022-11-22T00:00:00",
          "2022-11-23T00:00:00",
          "2022-11-24T00:00:00",
          "2022-11-25T00:00:00",
          "2022-11-26T00:00:00",
          "2022-11-27T00:00:00",
          "2022-11-28T00:00:00",
          "2022-11-29T00:00:00",
          "2022-11-30T00:00:00",
          "2022-12-01T00:00:00",
          "2022-12-02T00:00:00",
          "2022-12-03T00:00:00",
          "2022-12-04T00:00:00",
          "2022-12-05T00:00:00",
          "2022-12-06T00:00:00",
          "2022-12-07T00:00:00",
          "2022-12-08T00:00:00",
          "2022-12-09T00:00:00",
          "2022-12-10T00:00:00",
          "2022-12-11T00:00:00",
          "2022-12-12T00:00:00",
          "2022-12-13T00:00:00",
          "2022-12-14T00:00:00",
          "2022-12-15T00:00:00",
          "2022-12-16T00:00:00",
          "2022-12-17T00:00:00",
          "2022-12-18T00:00:00",
          "2022-12-19T00:00:00",
          "2022-12-20T00:00:00",
          "2022-12-21T00:00:00",
          "2022-12-22T00:00:00",
          "2022-12-23T00:00:00",
          "2022-12-24T00:00:00",
          "2022-12-25T00:00:00",
          "2022-12-26T00:00:00",
          "2022-12-27T00:00:00",
          "2022-12-28T00:00:00",
          "2022-12-29T00:00:00",
          "2022-12-30T00:00:00",
          "2022-12-31T00:00:00",
          "2023-01-01T00:00:00",
          "2023-01-02T00:00:00",
          "2023-01-03T00:00:00",
          "2023-01-04T00:00:00",
          "2023-01-05T00:00:00",
          "2023-01-06T00:00:00",
          "2023-01-07T00:00:00",
          "2023-01-08T00:00:00",
          "2023-01-09T00:00:00",
          "2023-01-10T00:00:00",
          "2023-01-11T00:00:00",
          "2023-01-12T00:00:00",
          "2023-01-13T00:00:00",
          "2023-01-14T00:00:00",
          "2023-01-15T00:00:00",
          "2023-01-16T00:00:00",
          "2023-01-17T00:00:00",
          "2023-01-18T00:00:00",
          "2023-01-19T00:00:00",
          "2023-01-20T00:00:00",
          "2023-01-21T00:00:00",
          "2023-01-22T00:00:00",
          "2023-01-23T00:00:00",
          "2023-01-24T00:00:00",
          "2023-01-25T00:00:00",
          "2023-01-26T00:00:00",
          "2023-01-27T00:00:00",
          "2023-01-28T00:00:00",
          "2023-01-29T00:00:00",
          "2023-01-30T00:00:00",
          "2023-01-31T00:00:00",
          "2023-02-01T00:00:00",
          "2023-02-02T00:00:00",
          "2023-02-03T00:00:00",
          "2023-02-04T00:00:00",
          "2023-02-05T00:00:00",
          "2023-02-06T00:00:00",
          "2023-02-07T00:00:00",
          "2023-02-08T00:00:00",
          "2023-02-09T00:00:00",
          "2023-02-10T00:00:00",
          "2023-02-11T00:00:00",
          "2023-02-12T00:00:00",
          "2023-02-13T00:00:00",
          "2023-02-14T00:00:00",
          "2023-02-15T00:00:00",
          "2023-02-16T00:00:00",
          "2023-02-17T00:00:00",
          "2023-02-18T00:00:00",
          "2023-02-19T00:00:00",
          "2023-02-20T00:00:00",
          "2023-02-21T00:00:00",
          "2023-02-22T00:00:00",
          "2023-02-23T00:00:00",
          "2023-02-24T00:00:00",
          "2023-02-25T00:00:00",
          "2023-02-26T00:00:00",
          "2023-02-27T00:00:00",
          "2023-02-28T00:00:00",
          "2023-03-01T00:00:00",
          "2023-03-02T00:00:00",
          "2023-03-03T00:00:00",
          "2023-03-04T00:00:00",
          "2023-03-05T00:00:00",
          "2023-03-06T00:00:00",
          "2023-03-07T00:00:00",
          "2023-03-08T00:00:00",
          "2023-03-09T00:00:00",
          "2023-03-10T00:00:00",
          "2023-03-11T00:00:00",
          "2023-03-12T00:00:00",
          "2023-03-13T00:00:00",
          "2023-03-14T00:00:00",
          "2023-03-15T00:00:00",
          "2023-03-16T00:00:00",
          "2023-03-17T00:00:00",
          "2023-03-18T00:00:00",
          "2023-03-19T00:00:00",
          "2023-03-20T00:00:00",
          "2023-03-21T00:00:00",
          "2023-03-22T00:00:00",
          "2023-03-23T00:00:00",
          "2023-03-24T00:00:00",
          "2023-03-25T00:00:00",
          "2023-03-26T00:00:00",
          "2023-03-27T00:00:00",
          "2023-03-28T00:00:00",
          "2023-03-29T00:00:00",
          "2023-03-30T00:00:00",
          "2023-03-31T00:00:00",
          "2023-04-01T00:00:00",
          "2023-04-02T00:00:00",
          "2023-04-03T00:00:00",
          "2023-04-04T00:00:00",
          "2023-04-05T00:00:00",
          "2023-04-06T00:00:00",
          "2023-04-07T00:00:00",
          "2023-04-08T00:00:00",
          "2023-04-09T00:00:00",
          "2023-04-10T00:00:00",
          "2023-04-11T00:00:00",
          "2023-04-12T00:00:00",
          "2023-04-13T00:00:00",
          "2023-04-14T00:00:00",
          "2023-04-15T00:00:00",
          "2023-04-16T00:00:00",
          "2023-04-17T00:00:00",
          "2023-04-18T00:00:00",
          "2023-04-19T00:00:00",
          "2023-04-20T00:00:00",
          "2023-04-21T00:00:00",
          "2023-04-22T00:00:00",
          "2023-04-23T00:00:00",
          "2023-04-24T00:00:00",
          "2023-04-25T00:00:00",
          "2023-04-26T00:00:00",
          "2023-04-27T00:00:00",
          "2023-04-28T00:00:00",
          "2023-04-29T00:00:00",
          "2023-04-30T00:00:00",
          "2023-05-01T00:00:00",
          "2023-05-02T00:00:00",
          "2023-05-03T00:00:00",
          "2023-05-04T00:00:00",
          "2023-05-05T00:00:00",
          "2023-05-06T00:00:00",
          "2023-05-07T00:00:00",
          "2023-05-08T00:00:00",
          "2023-05-09T00:00:00",
          "2023-05-10T00:00:00",
          "2023-05-11T00:00:00",
          "2023-05-12T00:00:00",
          "2023-05-13T00:00:00",
          "2023-05-14T00:00:00",
          "2023-05-15T00:00:00",
          "2023-05-16T00:00:00",
          "2023-05-17T00:00:00",
          "2023-05-18T00:00:00",
          "2023-05-19T00:00:00",
          "2023-05-20T00:00:00",
          "2023-05-21T00:00:00",
          "2023-05-22T00:00:00",
          "2023-05-23T00:00:00",
          "2023-05-24T00:00:00",
          "2023-05-25T00:00:00",
          "2023-05-26T00:00:00",
          "2023-05-27T00:00:00",
          "2023-05-28T00:00:00",
          "2023-05-29T00:00:00",
          "2023-05-30T00:00:00",
          "2023-05-31T00:00:00",
          "2023-06-01T00:00:00",
          "2023-06-02T00:00:00",
          "2023-06-03T00:00:00",
          "2023-06-04T00:00:00",
          "2023-06-05T00:00:00",
          "2023-06-06T00:00:00",
          "2023-06-07T00:00:00",
          "2023-06-08T00:00:00",
          "2023-06-09T00:00:00",
          "2023-06-10T00:00:00",
          "2023-06-11T00:00:00",
          "2023-06-12T00:00:00",
          "2023-06-13T00:00:00",
          "2023-06-14T00:00:00",
          "2023-06-15T00:00:00",
          "2023-06-16T00:00:00",
          "2023-06-17T00:00:00",
          "2023-06-18T00:00:00",
          "2023-06-19T00:00:00",
          "2023-06-20T00:00:00",
          "2023-06-21T00:00:00",
          "2023-06-22T00:00:00",
          "2023-06-23T00:00:00",
          "2023-06-24T00:00:00",
          "2023-06-25T00:00:00",
          "2023-06-26T00:00:00",
          "2023-06-27T00:00:00",
          "2023-06-28T00:00:00",
          "2023-06-29T00:00:00",
          "2023-06-30T00:00:00",
          "2023-07-01T00:00:00",
          "2023-07-02T00:00:00",
          "2023-07-03T00:00:00",
          "2023-07-04T00:00:00",
          "2023-07-05T00:00:00",
          "2023-07-06T00:00:00",
          "2023-07-07T00:00:00",
          "2023-07-08T00:00:00",
          "2023-07-09T00:00:00",
          "2023-07-10T00:00:00",
          "2023-07-11T00:00:00",
          "2023-07-12T00:00:00",
          "2023-07-13T00:00:00",
          "2023-07-14T00:00:00",
          "2023-07-15T00:00:00",
          "2023-07-16T00:00:00",
          "2023-07-17T00:00:00",
          "2023-07-18T00:00:00",
          "2023-07-19T00:00:00",
          "2023-07-20T00:00:00",
          "2023-07-21T00:00:00",
          "2023-07-22T00:00:00",
          "2023-07-23T00:00:00",
          "2023-07-24T00:00:00",
          "2023-07-25T00:00:00",
          "2023-07-26T00:00:00",
          "2023-07-27T00:00:00",
          "2023-07-28T00:00:00",
          "2023-07-29T00:00:00",
          "2023-07-30T00:00:00",
          "2023-07-31T00:00:00",
          "2023-08-01T00:00:00",
          "2023-08-02T00:00:00",
          "2023-08-03T00:00:00",
          "2023-08-04T00:00:00",
          "2023-08-05T00:00:00",
          "2023-08-06T00:00:00",
          "2023-08-07T00:00:00",
          "2023-08-08T00:00:00",
          "2023-08-09T00:00:00",
          "2023-08-10T00:00:00",
          "2023-08-11T00:00:00",
          "2023-08-12T00:00:00",
          "2023-08-13T00:00:00",
          "2023-08-14T00:00:00",
          "2023-08-15T00:00:00",
          "2023-08-16T00:00:00",
          "2023-08-17T00:00:00",
          "2023-08-18T00:00:00",
          "2023-08-19T00:00:00",
          "2023-08-20T00:00:00",
          "2023-08-21T00:00:00",
          "2023-08-22T00:00:00",
          "2023-08-23T00:00:00",
          "2023-08-24T00:00:00",
          "2023-08-25T00:00:00",
          "2023-08-26T00:00:00",
          "2023-08-27T00:00:00",
          "2023-08-28T00:00:00",
          "2023-08-29T00:00:00",
          "2023-08-30T00:00:00",
          "2023-08-31T00:00:00",
          "2023-09-01T00:00:00",
          "2023-09-02T00:00:00",
          "2023-09-03T00:00:00",
          "2023-09-04T00:00:00",
          "2023-09-05T00:00:00",
          "2023-09-06T00:00:00",
          "2023-09-07T00:00:00",
          "2023-09-08T00:00:00",
          "2023-09-09T00:00:00",
          "2023-09-10T00:00:00",
          "2023-09-11T00:00:00",
          "2023-09-12T00:00:00",
          "2023-09-13T00:00:00",
          "2023-09-14T00:00:00",
          "2023-09-15T00:00:00",
          "2023-09-16T00:00:00",
          "2023-09-17T00:00:00",
          "2023-09-18T00:00:00",
          "2023-09-19T00:00:00",
          "2023-09-20T00:00:00",
          "2023-09-21T00:00:00",
          "2023-09-22T00:00:00",
          "2023-09-23T00:00:00",
          "2023-09-24T00:00:00",
          "2023-09-25T00:00:00",
          "2023-09-26T00:00:00",
          "2023-09-27T00:00:00",
          "2023-09-28T00:00:00",
          "2023-09-29T00:00:00",
          "2023-09-30T00:00:00",
          "2023-10-01T00:00:00",
          "2023-10-02T00:00:00",
          "2023-10-03T00:00:00",
          "2023-10-04T00:00:00",
          "2023-10-05T00:00:00",
          "2023-10-06T00:00:00",
          "2023-10-07T00:00:00",
          "2023-10-08T00:00:00",
          "2023-10-09T00:00:00",
          "2023-10-10T00:00:00",
          "2023-10-11T00:00:00",
          "2023-10-12T00:00:00",
          "2023-10-13T00:00:00",
          "2023-10-14T00:00:00",
          "2023-10-15T00:00:00",
          "2023-10-16T00:00:00",
          "2023-10-17T00:00:00",
          "2023-10-18T00:00:00",
          "2023-10-19T00:00:00",
          "2023-10-20T00:00:00",
          "2023-10-21T00:00:00",
          "2023-10-22T00:00:00",
          "2023-10-23T00:00:00",
          "2023-10-24T00:00:00",
          "2023-10-25T00:00:00",
          "2023-10-26T00:00:00",
          "2023-10-27T00:00:00",
          "2023-10-28T00:00:00",
          "2023-10-29T00:00:00",
          "2023-10-30T00:00:00",
          "2023-10-31T00:00:00",
          "2023-11-01T00:00:00",
          "2023-11-02T00:00:00",
          "2023-11-03T00:00:00",
          "2023-11-04T00:00:00",
          "2023-11-05T00:00:00",
          "2023-11-06T00:00:00",
          "2023-11-07T00:00:00",
          "2023-11-08T00:00:00",
          "2023-11-09T00:00:00",
          "2023-11-10T00:00:00",
          "2023-11-11T00:00:00",
          "2023-11-12T00:00:00",
          "2023-11-13T00:00:00",
          "2023-11-14T00:00:00",
          "2023-11-15T00:00:00",
          "2023-11-16T00:00:00",
          "2023-11-17T00:00:00",
          "2023-11-18T00:00:00",
          "2023-11-19T00:00:00",
          "2023-11-20T00:00:00",
          "2023-11-21T00:00:00",
          "2023-11-22T00:00:00",
          "2023-11-23T00:00:00",
          "2023-11-24T00:00:00",
          "2023-11-25T00:00:00",
          "2023-11-26T00:00:00",
          "2023-11-27T00:00:00",
          "2023-11-28T00:00:00",
          "2023-11-29T00:00:00",
          "2023-11-30T00:00:00",
          "2023-12-01T00:00:00",
          "2023-12-02T00:00:00",
          "2023-12-03T00:00:00",
          "2023-12-04T00:00:00",
          "2023-12-05T00:00:00",
          "2023-12-06T00:00:00",
          "2023-12-07T00:00:00",
          "2023-12-08T00:00:00",
          "2023-12-09T00:00:00",
          "2023-12-10T00:00:00",
          "2023-12-11T00:00:00",
          "2023-12-12T00:00:00",
          "2023-12-13T00:00:00",
          "2023-12-14T00:00:00",
          "2023-12-15T00:00:00",
          "2023-12-16T00:00:00",
          "2023-12-17T00:00:00",
          "2023-12-18T00:00:00",
          "2023-12-19T00:00:00",
          "2023-12-20T00:00:00",
          "2023-12-21T00:00:00",
          "2023-12-22T00:00:00",
          "2023-12-23T00:00:00",
          "2023-12-24T00:00:00",
          "2023-12-25T00:00:00",
          "2023-12-26T00:00:00",
          "2023-12-27T00:00:00",
          "2023-12-28T00:00:00",
          "2023-12-29T00:00:00",
          "2023-12-30T00:00:00",
          "2023-12-31T00:00:00",
          "2024-01-01T00:00:00",
          "2024-01-02T00:00:00",
          "2024-01-03T00:00:00",
          "2024-01-04T00:00:00",
          "2024-01-05T00:00:00",
          "2024-01-06T00:00:00",
          "2024-01-07T00:00:00",
          "2024-01-08T00:00:00",
          "2024-01-09T00:00:00",
          "2024-01-10T00:00:00",
          "2024-01-11T00:00:00",
          "2024-01-12T00:00:00",
          "2024-01-13T00:00:00",
          "2024-01-14T00:00:00",
          "2024-01-15T00:00:00",
          "2024-01-16T00:00:00",
          "2024-01-17T00:00:00",
          "2024-01-18T00:00:00",
          "2024-01-19T00:00:00",
          "2024-01-20T00:00:00",
          "2024-01-21T00:00:00",
          "2024-01-22T00:00:00",
          "2024-01-23T00:00:00",
          "2024-01-24T00:00:00",
          "2024-01-25T00:00:00",
          "2024-01-26T00:00:00",
          "2024-01-27T00:00:00",
          "2024-01-28T00:00:00",
          "2024-01-29T00:00:00",
          "2024-01-30T00:00:00",
          "2024-01-31T00:00:00",
          "2024-02-01T00:00:00",
          "2024-02-02T00:00:00",
          "2024-02-03T00:00:00",
          "2024-02-04T00:00:00",
          "2024-02-05T00:00:00",
          "2024-02-06T00:00:00",
          "2024-02-07T00:00:00",
          "2024-02-08T00:00:00",
          "2024-02-09T00:00:00",
          "2024-02-10T00:00:00",
          "2024-02-11T00:00:00",
          "2024-02-12T00:00:00",
          "2024-02-13T00:00:00",
          "2024-02-14T00:00:00",
          "2024-02-15T00:00:00",
          "2024-02-16T00:00:00",
          "2024-02-17T00:00:00",
          "2024-02-18T00:00:00",
          "2024-02-19T00:00:00",
          "2024-02-20T00:00:00",
          "2024-02-21T00:00:00",
          "2024-02-22T00:00:00",
          "2024-02-23T00:00:00",
          "2024-02-24T00:00:00",
          "2024-02-25T00:00:00",
          "2024-02-26T00:00:00",
          "2024-02-27T00:00:00",
          "2024-02-28T00:00:00",
          "2024-02-29T00:00:00"
         ],
         "y": [
          1.2683697,
          1.6414857,
          2.2453015,
          2.295213,
          2.599633,
          2.36624,
          2.2119381,
          3.1734521,
          2.0847418,
          3.1976893,
          2.7855556,
          2.6452026,
          3.378374,
          3.0040886,
          2.8909106,
          2.2331624,
          3.221938,
          3.4833682,
          3.0087616,
          2.4042938,
          3.2790613,
          3.2083442,
          3.581669,
          2.8649006,
          2.6933682,
          2.639189,
          3.263537,
          2.7713025,
          3.512385,
          3.02749,
          3.555061,
          3.1694045,
          3.1572905,
          2.6855853,
          3.30535,
          2.8192968,
          2.8587964,
          2.968704,
          2.8521786,
          2.6325881,
          3.5178094,
          3.209592,
          2.5922675,
          3.8502765,
          4.0625014,
          2.7385027,
          2.6423957,
          3.7213683,
          2.6480172,
          3.2525942,
          3.9473832,
          3.2229996,
          2.9821105,
          3.5297575,
          3.0006456,
          2.5298104,
          2.3472803,
          2.8454833,
          3.3071032,
          4.170934,
          3.7600286,
          3.3557346,
          2.7745311,
          4.017412,
          3.224873,
          2.7843876,
          4.1955,
          2.5625584,
          2.5922394,
          2.5983422,
          3.3989522,
          3.5572696,
          3.0688484,
          2.1859782,
          2.8133988,
          2.914414,
          4.28752,
          3.0657485,
          2.8194587,
          2.9884768,
          2.8447845,
          2.8821745,
          3.083798,
          2.5942366,
          2.9117777,
          2.9634426,
          2.93309,
          2.6183856,
          3.182595,
          3.7869234,
          4.0302234,
          3.1107903,
          2.3426595,
          3.5522726,
          3.0081706,
          3.096011,
          3.8289614,
          2.460614,
          2.4923732,
          2.5964963,
          2.7249997,
          2.6057563,
          2.6923788,
          2.7801,
          2.677398,
          2.6985366,
          3.438896,
          2.5473526,
          3.2523506,
          3.0269158,
          2.7320452,
          2.8538237,
          2.7657533,
          2.714051,
          3.6315994,
          3.0059245,
          2.03686,
          3.043654,
          2.7801986,
          3.3478231,
          3.5244384,
          2.8270364,
          3.1338925,
          3.205744,
          3.5569296,
          2.7904625,
          2.6351845,
          2.8718503,
          2.1132014,
          2.8337674,
          2.9132092,
          2.1524098,
          2.2518752,
          2.1780214,
          2.2337494,
          2.7900383,
          3.0361142,
          2.4395814,
          2.0312023,
          2.0301707,
          2.4218905,
          2.4261723,
          2.6957178,
          1.8749077,
          2.4095576,
          1.9827287,
          2.6101213,
          3.1216455,
          4.637412,
          2.427607,
          2.3158221,
          2.0929477,
          2.8038015,
          2.5019479,
          2.7855854,
          3.294018,
          2.4664288,
          3.9388037,
          2.8782358,
          2.6454096,
          2.541594,
          3.623203,
          4.210554,
          2.4242003,
          2.3539233,
          2.115047,
          2.4759142,
          2.7748818,
          2.6239462,
          3.6789317,
          2.6871014,
          2.6639154,
          3.1770294,
          3.676884,
          2.3015862,
          2.7026436,
          3.661756,
          2.9016957,
          3.1869702,
          3.9733322,
          2.728828,
          3.1970654,
          3.327452,
          2.9341464,
          2.6973817,
          4.064042,
          4.1824026,
          3.3738122,
          3.0967026,
          4.267544,
          3.8932571,
          3.8368356,
          3.8383002,
          3.41588,
          3.543886,
          2.7601137,
          3.079771,
          3.7669888,
          3.2595491,
          3.0346162,
          3.1992693,
          4.0331187,
          3.9838064,
          3.4292421,
          2.8141422,
          3.6703858,
          3.2084212,
          3.5262036,
          2.6142573,
          3.3959181,
          3.4803228,
          3.5704513,
          2.8270864,
          4.85779,
          4.041356,
          5.224689,
          3.0729806,
          2.6280909,
          4.508733,
          3.0941272,
          4.358872,
          3.487063,
          4.3348346,
          3.677114,
          3.7520075,
          4.2618656,
          3.421198,
          3.5658162,
          3.2168324,
          2.792481,
          3.6537402,
          3.5998952,
          4.294339,
          3.177394,
          3.2670248,
          4.105331,
          3.5185668,
          3.2623456,
          4.100498,
          4.165984,
          3.1615648,
          3.5490255,
          3.630401,
          4.2781744,
          4.090813,
          4.5005116,
          3.598129,
          4.132401,
          3.4298623,
          4.047802,
          4.2071757,
          4.3052382,
          3.9009004,
          4.448217,
          4.1701193,
          3.6158743,
          4.4779673,
          5.4022083,
          3.4508386,
          5.281937,
          4.1679373,
          4.8357563,
          3.4907901,
          3.750651,
          3.332921,
          4.302758,
          4.602451,
          3.967018,
          4.545389,
          3.4542494,
          3.4206169,
          3.8656833,
          4.2440734,
          4.795688,
          4.249767,
          4.2912693,
          4.708102,
          4.701131,
          5.0046988,
          4.990433,
          4.8788996,
          3.5646207,
          4.904471,
          3.7914395,
          4.730699,
          4.103001,
          3.6917727,
          5.388321,
          3.45582,
          4.362034,
          4.204,
          4.394023,
          4.139667,
          4.1154056,
          4.1916647,
          3.7706091,
          3.7586172,
          3.3938956,
          5.0586815,
          4.6866846,
          4.102161,
          4.5498214,
          4.8592896,
          4.083845,
          3.4089873,
          3.5648823,
          4.230506,
          3.191807,
          3.6131873,
          3.5404155,
          3.349511,
          3.9033163,
          3.7278204,
          3.8274298,
          3.1849475,
          3.4163685,
          3.5104196,
          4.5046177,
          4.6181207,
          4.11724,
          3.7494366,
          4.8110704,
          4.6575313,
          3.651809,
          3.9679086,
          3.8921702,
          4.849201,
          3.7409503,
          3.5451028,
          3.4250493,
          3.6328437,
          3.3687124,
          3.9960802,
          3.055067,
          2.9788373,
          4.035645,
          3.0971847,
          3.5035584,
          4.429263,
          3.7137828,
          3.6182458,
          4.1865864,
          3.8763053,
          2.6478662,
          3.8405068,
          3.241424,
          4.18465,
          3.8548584,
          3.74937,
          3.7929146,
          3.8322854,
          4.095361,
          2.72542,
          3.7375922,
          2.8413107,
          3.0681007,
          3.596232,
          4.2894907,
          3.4022496,
          3.7617826,
          3.3928823,
          3.9239535,
          3.221714,
          4.161883,
          3.2273436,
          3.8673754,
          3.7124667,
          2.8546882,
          4.201172,
          2.735654,
          4.124677,
          3.2877119,
          3.002033,
          3.3390913,
          3.2302728,
          4.6710534,
          3.045399,
          4.0608587,
          3.6225603,
          4.030646,
          4.1608033,
          3.6979742,
          3.4604223,
          2.9601047,
          4.017705,
          2.9210396,
          2.8272572,
          3.254629,
          2.7846692,
          3.2513535,
          3.295142,
          2.6831048,
          3.09825,
          2.6358774,
          2.6290534,
          3.8370385,
          3.9414423,
          2.9427385,
          3.592861,
          3.8391128,
          3.6162422,
          3.4165041,
          2.5783224,
          3.9533985,
          3.9173949,
          2.886052,
          3.4569435,
          4.060567,
          3.2275765,
          4.4283605,
          3.183117,
          4.259304,
          2.570433,
          3.8113058,
          3.860438,
          3.9831638,
          2.7769248,
          5.018175,
          2.809412,
          3.9275062,
          4.259647,
          3.8198493,
          2.6305172,
          3.6645737,
          3.369769,
          3.2451823,
          2.0881493,
          3.47838,
          3.9904504,
          3.077752,
          3.2037077,
          3.2797487,
          2.7658415,
          3.9611979,
          4.067005,
          3.6203804,
          2.2306008,
          3.104411,
          3.4373217,
          3.570899,
          3.1716835,
          2.6484554,
          3.8019042,
          4.734339,
          4.494611,
          2.3246355,
          4.2670035,
          2.7135236,
          2.4769382,
          3.9715796,
          2.4863067,
          5.1447434,
          3.0041943,
          2.8716786,
          2.5561075,
          2.443767,
          5.245926,
          3.2022154,
          3.2814715,
          2.9133847,
          4.8237724,
          3.3808203,
          2.6748374,
          5.11164,
          3.3170993,
          3.647786,
          3.7712493,
          2.4651585,
          2.689159,
          3.381724,
          3.1436648,
          3.4121528,
          2.2303648,
          3.0600252,
          3.2010617,
          4.495721,
          3.2115893,
          3.6123211,
          3.4263153,
          3.267922,
          3.390066,
          3.785724,
          3.369993,
          3.4638557,
          3.6376154,
          3.2175624,
          3.5349777,
          2.801001,
          4.626828,
          3.8386035,
          3.086768,
          4.5171537,
          4.045693,
          3.5640974,
          3.2262084,
          3.7727642,
          4.965088,
          3.8708715,
          2.5277684,
          3.7256637,
          3.8524916,
          2.971873,
          2.4573348,
          3.4774706,
          4.8589463,
          2.8540342,
          3.9340725,
          3.4720066,
          3.4710145,
          3.0379837,
          5.0235047,
          3.314331,
          3.1459,
          5.0232816,
          3.6303093,
          3.9106696,
          3.6811192,
          4.783982,
          3.615599,
          4.2686777,
          4.1051707,
          3.5300124,
          2.801006,
          4.067782,
          3.2005644,
          3.9855165,
          3.7504451,
          3.118592,
          2.6696575,
          3.6824038,
          3.9343042,
          4.9595795,
          4.6009235,
          3.226208,
          2.741635,
          2.8536139,
          4.7774954,
          4.813426,
          3.348849,
          4.4408684,
          4.8289,
          3.0352364,
          3.2478821,
          3.6975255,
          3.1221926,
          3.2781575,
          3.5412073,
          3.3979669,
          3.2011583,
          3.329987,
          2.9733331,
          3.6876667,
          3.850242,
          3.501882,
          3.8261688,
          3.4607625,
          3.806468,
          4.1911325,
          3.415964,
          2.7265584,
          2.3815017,
          3.276494,
          3.315235,
          2.53743,
          4.085818,
          3.9857147,
          3.11324,
          3.9629498,
          3.975375,
          3.7380662,
          3.7912052,
          3.6599731,
          3.1361682,
          4.8220625,
          3.396561,
          5.8256297,
          2.6658406,
          3.6794286,
          2.8458502,
          4.120949,
          3.9833467,
          2.5530078,
          3.438186,
          2.6084414,
          3.4463606,
          4.6148577,
          3.5141249,
          2.5433233,
          3.1568303,
          3.1974978,
          3.4267783,
          3.716677,
          2.185749,
          3.6375258,
          3.6083806,
          4.2789793,
          3.7340949,
          3.8225133,
          3.8029056,
          5.30887,
          3.8071113,
          2.339236,
          4.803449,
          3.2779534,
          3.4364247,
          4.409721,
          3.478057,
          4.6454825,
          3.4362113,
          2.9638343,
          4.24356,
          3.0346558,
          3.2777386,
          3.6169279,
          4.19942,
          3.439338,
          2.8957124,
          3.4883254,
          3.9538803,
          2.8138006,
          3.431338,
          3.0603642,
          3.7084312,
          4.2892294,
          2.7267299,
          2.6420577,
          3.710691,
          3.115203,
          3.1519628,
          3.2807648,
          2.8152792,
          3.2336006,
          4.414055,
          3.076495,
          3.3858657,
          4.1032934,
          2.9673166,
          5.303494,
          6.4550457,
          2.8722908,
          3.7963562,
          2.8648047,
          2.5860555,
          3.7267365,
          3.9858203,
          2.9115384,
          2.500311,
          3.7239084,
          2.9742544,
          3.152243,
          2.4680684,
          3.249848,
          3.02436,
          3.7000217,
          2.6300945,
          3.1841497,
          3.9825246,
          3.4731138,
          2.9068303,
          3.6861427,
          2.4484127,
          2.6175315,
          2.420626,
          2.7492769,
          2.462976,
          2.582127,
          4.3596888,
          3.0704756,
          3.0319507,
          4.048901,
          3.4892929,
          3.9107518,
          2.8626332,
          2.8437307,
          2.4053984,
          3.59151,
          4.771457,
          3.1263344,
          3.7996683,
          4.184101,
          3.071541,
          2.818262,
          3.1762862,
          2.5903757,
          2.9466524,
          3.1696572,
          2.5539482,
          2.9268448,
          3.3496325,
          3.780856,
          3.7204618,
          3.6576118,
          2.9113226,
          3.2712293,
          4.13189,
          3.225466,
          3.3600855,
          3.3659825,
          5.2511244,
          3.0908651,
          4.875957,
          4.1563506,
          3.2697413,
          2.9859657,
          2.5574975,
          3.030629,
          3.3975897,
          4.2011247,
          3.2724383,
          2.3754323,
          3.427246,
          2.715148,
          3.958914,
          3.7226226,
          2.4459357,
          3.05826,
          2.3457537,
          4.078474,
          4.3048477,
          3.2170882,
          3.1802223,
          3.4407074,
          3.7359412,
          2.9775858,
          3.8423743,
          2.910384,
          2.8507707,
          3.3069375,
          3.99648,
          3.1081014,
          3.2547433,
          3.4614894,
          2.6845324,
          3.1433887,
          3.3556552,
          3.1784372,
          2.9218326,
          4.1054535,
          3.8726637,
          2.632484,
          2.44538,
          2.5616703,
          3.5122914,
          2.8533452,
          2.8100133,
          2.1666346,
          2.7062821,
          2.7754586,
          3.0782156,
          3.5325658,
          3.1220326,
          2.5804875,
          3.0772867,
          2.6019623,
          2.2270272,
          2.935397,
          3.1102865,
          2.583639,
          2.5675368,
          3.3030605,
          3.477465,
          3.0703878,
          2.6954372,
          2.982546,
          2.6092272,
          3.4037805,
          4.289823,
          2.2103162,
          2.3635757,
          3.6506479,
          3.2747169,
          2.769722,
          2.4739125,
          3.028703,
          2.7502413,
          2.7827415,
          3.7491748,
          2.7779038,
          3.0557392,
          2.930225,
          3.2991035,
          3.1183043,
          3.277671,
          2.9574413,
          3.1362007,
          3.4524093,
          3.1860147,
          3.057036,
          4.522279,
          3.50026
         ]
        },
        {
         "line": {
          "color": "darkred",
          "dash": "solid"
         },
         "mode": "lines",
         "name": "Forecasted Data",
         "type": "scatter",
         "x": [
          "2022-01-01T00:00:00",
          "2022-01-02T00:00:00",
          "2022-01-03T00:00:00",
          "2022-01-04T00:00:00",
          "2022-01-05T00:00:00",
          "2022-01-06T00:00:00",
          "2022-01-07T00:00:00",
          "2022-01-08T00:00:00",
          "2022-01-09T00:00:00",
          "2022-01-10T00:00:00",
          "2022-01-11T00:00:00",
          "2022-01-12T00:00:00",
          "2022-01-13T00:00:00",
          "2022-01-14T00:00:00",
          "2022-01-15T00:00:00",
          "2022-01-16T00:00:00",
          "2022-01-17T00:00:00",
          "2022-01-18T00:00:00",
          "2022-01-19T00:00:00",
          "2022-01-20T00:00:00",
          "2022-01-21T00:00:00",
          "2022-01-22T00:00:00",
          "2022-01-23T00:00:00",
          "2022-01-24T00:00:00",
          "2022-01-25T00:00:00",
          "2022-01-26T00:00:00",
          "2022-01-27T00:00:00",
          "2022-01-28T00:00:00",
          "2022-01-29T00:00:00",
          "2022-01-30T00:00:00",
          "2022-01-31T00:00:00",
          "2022-02-01T00:00:00",
          "2022-02-02T00:00:00",
          "2022-02-03T00:00:00",
          "2022-02-04T00:00:00",
          "2022-02-05T00:00:00",
          "2022-02-06T00:00:00",
          "2022-02-07T00:00:00",
          "2022-02-08T00:00:00",
          "2022-02-09T00:00:00",
          "2022-02-10T00:00:00",
          "2022-02-11T00:00:00",
          "2022-02-12T00:00:00",
          "2022-02-13T00:00:00",
          "2022-02-14T00:00:00",
          "2022-02-15T00:00:00",
          "2022-02-16T00:00:00",
          "2022-02-17T00:00:00",
          "2022-02-18T00:00:00",
          "2022-02-19T00:00:00",
          "2022-02-20T00:00:00",
          "2022-02-21T00:00:00",
          "2022-02-22T00:00:00",
          "2022-02-23T00:00:00",
          "2022-02-24T00:00:00",
          "2022-02-25T00:00:00",
          "2022-02-26T00:00:00",
          "2022-02-27T00:00:00",
          "2022-02-28T00:00:00",
          "2022-03-01T00:00:00",
          "2022-03-02T00:00:00",
          "2022-03-03T00:00:00",
          "2022-03-04T00:00:00",
          "2022-03-05T00:00:00",
          "2022-03-06T00:00:00",
          "2022-03-07T00:00:00",
          "2022-03-08T00:00:00",
          "2022-03-09T00:00:00",
          "2022-03-10T00:00:00",
          "2022-03-11T00:00:00",
          "2022-03-12T00:00:00",
          "2022-03-13T00:00:00",
          "2022-03-14T00:00:00",
          "2022-03-15T00:00:00",
          "2022-03-16T00:00:00",
          "2022-03-17T00:00:00",
          "2022-03-18T00:00:00",
          "2022-03-19T00:00:00",
          "2022-03-20T00:00:00",
          "2022-03-21T00:00:00",
          "2022-03-22T00:00:00",
          "2022-03-23T00:00:00",
          "2022-03-24T00:00:00",
          "2022-03-25T00:00:00",
          "2022-03-26T00:00:00",
          "2022-03-27T00:00:00",
          "2022-03-28T00:00:00",
          "2022-03-29T00:00:00",
          "2022-03-30T00:00:00",
          "2022-03-31T00:00:00",
          "2022-04-01T00:00:00",
          "2022-04-02T00:00:00",
          "2022-04-03T00:00:00",
          "2022-04-04T00:00:00",
          "2022-04-05T00:00:00",
          "2022-04-06T00:00:00",
          "2022-04-07T00:00:00",
          "2022-04-08T00:00:00",
          "2022-04-09T00:00:00",
          "2022-04-10T00:00:00",
          "2022-04-11T00:00:00",
          "2022-04-12T00:00:00",
          "2022-04-13T00:00:00",
          "2022-04-14T00:00:00",
          "2022-04-15T00:00:00",
          "2022-04-16T00:00:00",
          "2022-04-17T00:00:00",
          "2022-04-18T00:00:00",
          "2022-04-19T00:00:00",
          "2022-04-20T00:00:00",
          "2022-04-21T00:00:00",
          "2022-04-22T00:00:00",
          "2022-04-23T00:00:00",
          "2022-04-24T00:00:00",
          "2022-04-25T00:00:00",
          "2022-04-26T00:00:00",
          "2022-04-27T00:00:00",
          "2022-04-28T00:00:00",
          "2022-04-29T00:00:00",
          "2022-04-30T00:00:00",
          "2022-05-01T00:00:00",
          "2022-05-02T00:00:00",
          "2022-05-03T00:00:00",
          "2022-05-04T00:00:00",
          "2022-05-05T00:00:00",
          "2022-05-06T00:00:00",
          "2022-05-07T00:00:00",
          "2022-05-08T00:00:00",
          "2022-05-09T00:00:00",
          "2022-05-10T00:00:00",
          "2022-05-11T00:00:00",
          "2022-05-12T00:00:00",
          "2022-05-13T00:00:00",
          "2022-05-14T00:00:00",
          "2022-05-15T00:00:00",
          "2022-05-16T00:00:00",
          "2022-05-17T00:00:00",
          "2022-05-18T00:00:00",
          "2022-05-19T00:00:00",
          "2022-05-20T00:00:00",
          "2022-05-21T00:00:00",
          "2022-05-22T00:00:00",
          "2022-05-23T00:00:00",
          "2022-05-24T00:00:00",
          "2022-05-25T00:00:00",
          "2022-05-26T00:00:00",
          "2022-05-27T00:00:00",
          "2022-05-28T00:00:00",
          "2022-05-29T00:00:00",
          "2022-05-30T00:00:00",
          "2022-05-31T00:00:00",
          "2022-06-01T00:00:00",
          "2022-06-02T00:00:00",
          "2022-06-03T00:00:00",
          "2022-06-04T00:00:00",
          "2022-06-05T00:00:00",
          "2022-06-06T00:00:00",
          "2022-06-07T00:00:00",
          "2022-06-08T00:00:00",
          "2022-06-09T00:00:00",
          "2022-06-10T00:00:00",
          "2022-06-11T00:00:00",
          "2022-06-12T00:00:00",
          "2022-06-13T00:00:00",
          "2022-06-14T00:00:00",
          "2022-06-15T00:00:00",
          "2022-06-16T00:00:00",
          "2022-06-17T00:00:00",
          "2022-06-18T00:00:00",
          "2022-06-19T00:00:00",
          "2022-06-20T00:00:00",
          "2022-06-21T00:00:00",
          "2022-06-22T00:00:00",
          "2022-06-23T00:00:00",
          "2022-06-24T00:00:00",
          "2022-06-25T00:00:00",
          "2022-06-26T00:00:00",
          "2022-06-27T00:00:00",
          "2022-06-28T00:00:00",
          "2022-06-29T00:00:00",
          "2022-06-30T00:00:00",
          "2022-07-01T00:00:00",
          "2022-07-02T00:00:00",
          "2022-07-03T00:00:00",
          "2022-07-04T00:00:00",
          "2022-07-05T00:00:00",
          "2022-07-06T00:00:00",
          "2022-07-07T00:00:00",
          "2022-07-08T00:00:00",
          "2022-07-09T00:00:00",
          "2022-07-10T00:00:00",
          "2022-07-11T00:00:00",
          "2022-07-12T00:00:00",
          "2022-07-13T00:00:00",
          "2022-07-14T00:00:00",
          "2022-07-15T00:00:00",
          "2022-07-16T00:00:00",
          "2022-07-17T00:00:00",
          "2022-07-18T00:00:00",
          "2022-07-19T00:00:00",
          "2022-07-20T00:00:00",
          "2022-07-21T00:00:00",
          "2022-07-22T00:00:00",
          "2022-07-23T00:00:00",
          "2022-07-24T00:00:00",
          "2022-07-25T00:00:00",
          "2022-07-26T00:00:00",
          "2022-07-27T00:00:00",
          "2022-07-28T00:00:00",
          "2022-07-29T00:00:00",
          "2022-07-30T00:00:00",
          "2022-07-31T00:00:00",
          "2022-08-01T00:00:00",
          "2022-08-02T00:00:00",
          "2022-08-03T00:00:00",
          "2022-08-04T00:00:00",
          "2022-08-05T00:00:00",
          "2022-08-06T00:00:00",
          "2022-08-07T00:00:00",
          "2022-08-08T00:00:00",
          "2022-08-09T00:00:00",
          "2022-08-10T00:00:00",
          "2022-08-11T00:00:00",
          "2022-08-12T00:00:00",
          "2022-08-13T00:00:00",
          "2022-08-14T00:00:00",
          "2022-08-15T00:00:00",
          "2022-08-16T00:00:00",
          "2022-08-17T00:00:00",
          "2022-08-18T00:00:00",
          "2022-08-19T00:00:00",
          "2022-08-20T00:00:00",
          "2022-08-21T00:00:00",
          "2022-08-22T00:00:00",
          "2022-08-23T00:00:00",
          "2022-08-24T00:00:00",
          "2022-08-25T00:00:00",
          "2022-08-26T00:00:00",
          "2022-08-27T00:00:00",
          "2022-08-28T00:00:00",
          "2022-08-29T00:00:00",
          "2022-08-30T00:00:00",
          "2022-08-31T00:00:00",
          "2022-09-01T00:00:00",
          "2022-09-02T00:00:00",
          "2022-09-03T00:00:00",
          "2022-09-04T00:00:00",
          "2022-09-05T00:00:00",
          "2022-09-06T00:00:00",
          "2022-09-07T00:00:00",
          "2022-09-08T00:00:00",
          "2022-09-09T00:00:00",
          "2022-09-10T00:00:00",
          "2022-09-11T00:00:00",
          "2022-09-12T00:00:00",
          "2022-09-13T00:00:00",
          "2022-09-14T00:00:00",
          "2022-09-15T00:00:00",
          "2022-09-16T00:00:00",
          "2022-09-17T00:00:00",
          "2022-09-18T00:00:00",
          "2022-09-19T00:00:00",
          "2022-09-20T00:00:00",
          "2022-09-21T00:00:00",
          "2022-09-22T00:00:00",
          "2022-09-23T00:00:00",
          "2022-09-24T00:00:00",
          "2022-09-25T00:00:00",
          "2022-09-26T00:00:00",
          "2022-09-27T00:00:00",
          "2022-09-28T00:00:00",
          "2022-09-29T00:00:00",
          "2022-09-30T00:00:00",
          "2022-10-01T00:00:00",
          "2022-10-02T00:00:00",
          "2022-10-03T00:00:00",
          "2022-10-04T00:00:00",
          "2022-10-05T00:00:00",
          "2022-10-06T00:00:00",
          "2022-10-07T00:00:00",
          "2022-10-08T00:00:00",
          "2022-10-09T00:00:00",
          "2022-10-10T00:00:00",
          "2022-10-11T00:00:00",
          "2022-10-12T00:00:00",
          "2022-10-13T00:00:00",
          "2022-10-14T00:00:00",
          "2022-10-15T00:00:00",
          "2022-10-16T00:00:00",
          "2022-10-17T00:00:00",
          "2022-10-18T00:00:00",
          "2022-10-19T00:00:00",
          "2022-10-20T00:00:00",
          "2022-10-21T00:00:00",
          "2022-10-22T00:00:00",
          "2022-10-23T00:00:00",
          "2022-10-24T00:00:00",
          "2022-10-25T00:00:00",
          "2022-10-26T00:00:00",
          "2022-10-27T00:00:00",
          "2022-10-28T00:00:00",
          "2022-10-29T00:00:00",
          "2022-10-30T00:00:00",
          "2022-10-31T00:00:00",
          "2022-11-01T00:00:00",
          "2022-11-02T00:00:00",
          "2022-11-03T00:00:00",
          "2022-11-04T00:00:00",
          "2022-11-05T00:00:00",
          "2022-11-06T00:00:00",
          "2022-11-07T00:00:00",
          "2022-11-08T00:00:00",
          "2022-11-09T00:00:00",
          "2022-11-10T00:00:00",
          "2022-11-11T00:00:00",
          "2022-11-12T00:00:00",
          "2022-11-13T00:00:00",
          "2022-11-14T00:00:00",
          "2022-11-15T00:00:00",
          "2022-11-16T00:00:00",
          "2022-11-17T00:00:00",
          "2022-11-18T00:00:00",
          "2022-11-19T00:00:00",
          "2022-11-20T00:00:00",
          "2022-11-21T00:00:00",
          "2022-11-22T00:00:00",
          "2022-11-23T00:00:00",
          "2022-11-24T00:00:00",
          "2022-11-25T00:00:00",
          "2022-11-26T00:00:00",
          "2022-11-27T00:00:00",
          "2022-11-28T00:00:00",
          "2022-11-29T00:00:00",
          "2022-11-30T00:00:00",
          "2022-12-01T00:00:00",
          "2022-12-02T00:00:00",
          "2022-12-03T00:00:00",
          "2022-12-04T00:00:00",
          "2022-12-05T00:00:00",
          "2022-12-06T00:00:00",
          "2022-12-07T00:00:00",
          "2022-12-08T00:00:00",
          "2022-12-09T00:00:00",
          "2022-12-10T00:00:00",
          "2022-12-11T00:00:00",
          "2022-12-12T00:00:00",
          "2022-12-13T00:00:00",
          "2022-12-14T00:00:00",
          "2022-12-15T00:00:00",
          "2022-12-16T00:00:00",
          "2022-12-17T00:00:00",
          "2022-12-18T00:00:00",
          "2022-12-19T00:00:00",
          "2022-12-20T00:00:00",
          "2022-12-21T00:00:00",
          "2022-12-22T00:00:00",
          "2022-12-23T00:00:00",
          "2022-12-24T00:00:00",
          "2022-12-25T00:00:00",
          "2022-12-26T00:00:00",
          "2022-12-27T00:00:00",
          "2022-12-28T00:00:00",
          "2022-12-29T00:00:00",
          "2022-12-30T00:00:00",
          "2022-12-31T00:00:00",
          "2023-01-01T00:00:00",
          "2023-01-02T00:00:00",
          "2023-01-03T00:00:00",
          "2023-01-04T00:00:00",
          "2023-01-05T00:00:00",
          "2023-01-06T00:00:00",
          "2023-01-07T00:00:00",
          "2023-01-08T00:00:00",
          "2023-01-09T00:00:00",
          "2023-01-10T00:00:00",
          "2023-01-11T00:00:00",
          "2023-01-12T00:00:00",
          "2023-01-13T00:00:00",
          "2023-01-14T00:00:00",
          "2023-01-15T00:00:00",
          "2023-01-16T00:00:00",
          "2023-01-17T00:00:00",
          "2023-01-18T00:00:00",
          "2023-01-19T00:00:00",
          "2023-01-20T00:00:00",
          "2023-01-21T00:00:00",
          "2023-01-22T00:00:00",
          "2023-01-23T00:00:00",
          "2023-01-24T00:00:00",
          "2023-01-25T00:00:00",
          "2023-01-26T00:00:00",
          "2023-01-27T00:00:00",
          "2023-01-28T00:00:00",
          "2023-01-29T00:00:00",
          "2023-01-30T00:00:00",
          "2023-01-31T00:00:00",
          "2023-02-01T00:00:00",
          "2023-02-02T00:00:00",
          "2023-02-03T00:00:00",
          "2023-02-04T00:00:00",
          "2023-02-05T00:00:00",
          "2023-02-06T00:00:00",
          "2023-02-07T00:00:00",
          "2023-02-08T00:00:00",
          "2023-02-09T00:00:00",
          "2023-02-10T00:00:00",
          "2023-02-11T00:00:00",
          "2023-02-12T00:00:00",
          "2023-02-13T00:00:00",
          "2023-02-14T00:00:00",
          "2023-02-15T00:00:00",
          "2023-02-16T00:00:00",
          "2023-02-17T00:00:00",
          "2023-02-18T00:00:00",
          "2023-02-19T00:00:00",
          "2023-02-20T00:00:00",
          "2023-02-21T00:00:00",
          "2023-02-22T00:00:00",
          "2023-02-23T00:00:00",
          "2023-02-24T00:00:00",
          "2023-02-25T00:00:00",
          "2023-02-26T00:00:00",
          "2023-02-27T00:00:00",
          "2023-02-28T00:00:00",
          "2023-03-01T00:00:00",
          "2023-03-02T00:00:00",
          "2023-03-03T00:00:00",
          "2023-03-04T00:00:00",
          "2023-03-05T00:00:00",
          "2023-03-06T00:00:00",
          "2023-03-07T00:00:00",
          "2023-03-08T00:00:00",
          "2023-03-09T00:00:00",
          "2023-03-10T00:00:00",
          "2023-03-11T00:00:00",
          "2023-03-12T00:00:00",
          "2023-03-13T00:00:00",
          "2023-03-14T00:00:00",
          "2023-03-15T00:00:00",
          "2023-03-16T00:00:00",
          "2023-03-17T00:00:00",
          "2023-03-18T00:00:00",
          "2023-03-19T00:00:00",
          "2023-03-20T00:00:00",
          "2023-03-21T00:00:00",
          "2023-03-22T00:00:00",
          "2023-03-23T00:00:00",
          "2023-03-24T00:00:00",
          "2023-03-25T00:00:00",
          "2023-03-26T00:00:00",
          "2023-03-27T00:00:00",
          "2023-03-28T00:00:00",
          "2023-03-29T00:00:00",
          "2023-03-30T00:00:00",
          "2023-03-31T00:00:00",
          "2023-04-01T00:00:00",
          "2023-04-02T00:00:00",
          "2023-04-03T00:00:00",
          "2023-04-04T00:00:00",
          "2023-04-05T00:00:00",
          "2023-04-06T00:00:00",
          "2023-04-07T00:00:00",
          "2023-04-08T00:00:00",
          "2023-04-09T00:00:00",
          "2023-04-10T00:00:00",
          "2023-04-11T00:00:00",
          "2023-04-12T00:00:00",
          "2023-04-13T00:00:00",
          "2023-04-14T00:00:00",
          "2023-04-15T00:00:00",
          "2023-04-16T00:00:00",
          "2023-04-17T00:00:00",
          "2023-04-18T00:00:00",
          "2023-04-19T00:00:00",
          "2023-04-20T00:00:00",
          "2023-04-21T00:00:00",
          "2023-04-22T00:00:00",
          "2023-04-23T00:00:00",
          "2023-04-24T00:00:00",
          "2023-04-25T00:00:00",
          "2023-04-26T00:00:00",
          "2023-04-27T00:00:00",
          "2023-04-28T00:00:00",
          "2023-04-29T00:00:00",
          "2023-04-30T00:00:00",
          "2023-05-01T00:00:00",
          "2023-05-02T00:00:00",
          "2023-05-03T00:00:00",
          "2023-05-04T00:00:00",
          "2023-05-05T00:00:00",
          "2023-05-06T00:00:00",
          "2023-05-07T00:00:00",
          "2023-05-08T00:00:00",
          "2023-05-09T00:00:00",
          "2023-05-10T00:00:00",
          "2023-05-11T00:00:00",
          "2023-05-12T00:00:00",
          "2023-05-13T00:00:00",
          "2023-05-14T00:00:00",
          "2023-05-15T00:00:00",
          "2023-05-16T00:00:00",
          "2023-05-17T00:00:00",
          "2023-05-18T00:00:00",
          "2023-05-19T00:00:00",
          "2023-05-20T00:00:00",
          "2023-05-21T00:00:00",
          "2023-05-22T00:00:00",
          "2023-05-23T00:00:00",
          "2023-05-24T00:00:00",
          "2023-05-25T00:00:00",
          "2023-05-26T00:00:00",
          "2023-05-27T00:00:00",
          "2023-05-28T00:00:00",
          "2023-05-29T00:00:00",
          "2023-05-30T00:00:00",
          "2023-05-31T00:00:00",
          "2023-06-01T00:00:00",
          "2023-06-02T00:00:00",
          "2023-06-03T00:00:00",
          "2023-06-04T00:00:00",
          "2023-06-05T00:00:00",
          "2023-06-06T00:00:00",
          "2023-06-07T00:00:00",
          "2023-06-08T00:00:00",
          "2023-06-09T00:00:00",
          "2023-06-10T00:00:00",
          "2023-06-11T00:00:00",
          "2023-06-12T00:00:00",
          "2023-06-13T00:00:00",
          "2023-06-14T00:00:00",
          "2023-06-15T00:00:00",
          "2023-06-16T00:00:00",
          "2023-06-17T00:00:00",
          "2023-06-18T00:00:00",
          "2023-06-19T00:00:00",
          "2023-06-20T00:00:00",
          "2023-06-21T00:00:00",
          "2023-06-22T00:00:00",
          "2023-06-23T00:00:00",
          "2023-06-24T00:00:00",
          "2023-06-25T00:00:00",
          "2023-06-26T00:00:00",
          "2023-06-27T00:00:00",
          "2023-06-28T00:00:00",
          "2023-06-29T00:00:00",
          "2023-06-30T00:00:00",
          "2023-07-01T00:00:00",
          "2023-07-02T00:00:00",
          "2023-07-03T00:00:00",
          "2023-07-04T00:00:00",
          "2023-07-05T00:00:00",
          "2023-07-06T00:00:00",
          "2023-07-07T00:00:00",
          "2023-07-08T00:00:00",
          "2023-07-09T00:00:00",
          "2023-07-10T00:00:00",
          "2023-07-11T00:00:00",
          "2023-07-12T00:00:00",
          "2023-07-13T00:00:00",
          "2023-07-14T00:00:00",
          "2023-07-15T00:00:00",
          "2023-07-16T00:00:00",
          "2023-07-17T00:00:00",
          "2023-07-18T00:00:00",
          "2023-07-19T00:00:00",
          "2023-07-20T00:00:00",
          "2023-07-21T00:00:00",
          "2023-07-22T00:00:00",
          "2023-07-23T00:00:00",
          "2023-07-24T00:00:00",
          "2023-07-25T00:00:00",
          "2023-07-26T00:00:00",
          "2023-07-27T00:00:00",
          "2023-07-28T00:00:00",
          "2023-07-29T00:00:00",
          "2023-07-30T00:00:00",
          "2023-07-31T00:00:00",
          "2023-08-01T00:00:00",
          "2023-08-02T00:00:00",
          "2023-08-03T00:00:00",
          "2023-08-04T00:00:00",
          "2023-08-05T00:00:00",
          "2023-08-06T00:00:00",
          "2023-08-07T00:00:00",
          "2023-08-08T00:00:00",
          "2023-08-09T00:00:00",
          "2023-08-10T00:00:00",
          "2023-08-11T00:00:00",
          "2023-08-12T00:00:00",
          "2023-08-13T00:00:00",
          "2023-08-14T00:00:00",
          "2023-08-15T00:00:00",
          "2023-08-16T00:00:00",
          "2023-08-17T00:00:00",
          "2023-08-18T00:00:00",
          "2023-08-19T00:00:00",
          "2023-08-20T00:00:00",
          "2023-08-21T00:00:00",
          "2023-08-22T00:00:00",
          "2023-08-23T00:00:00",
          "2023-08-24T00:00:00",
          "2023-08-25T00:00:00",
          "2023-08-26T00:00:00",
          "2023-08-27T00:00:00",
          "2023-08-28T00:00:00",
          "2023-08-29T00:00:00",
          "2023-08-30T00:00:00",
          "2023-08-31T00:00:00",
          "2023-09-01T00:00:00",
          "2023-09-02T00:00:00",
          "2023-09-03T00:00:00",
          "2023-09-04T00:00:00",
          "2023-09-05T00:00:00",
          "2023-09-06T00:00:00",
          "2023-09-07T00:00:00",
          "2023-09-08T00:00:00",
          "2023-09-09T00:00:00",
          "2023-09-10T00:00:00",
          "2023-09-11T00:00:00",
          "2023-09-12T00:00:00",
          "2023-09-13T00:00:00",
          "2023-09-14T00:00:00",
          "2023-09-15T00:00:00",
          "2023-09-16T00:00:00",
          "2023-09-17T00:00:00",
          "2023-09-18T00:00:00",
          "2023-09-19T00:00:00",
          "2023-09-20T00:00:00",
          "2023-09-21T00:00:00",
          "2023-09-22T00:00:00",
          "2023-09-23T00:00:00",
          "2023-09-24T00:00:00",
          "2023-09-25T00:00:00",
          "2023-09-26T00:00:00",
          "2023-09-27T00:00:00",
          "2023-09-28T00:00:00",
          "2023-09-29T00:00:00",
          "2023-09-30T00:00:00",
          "2023-10-01T00:00:00",
          "2023-10-02T00:00:00",
          "2023-10-03T00:00:00",
          "2023-10-04T00:00:00",
          "2023-10-05T00:00:00",
          "2023-10-06T00:00:00",
          "2023-10-07T00:00:00",
          "2023-10-08T00:00:00",
          "2023-10-09T00:00:00",
          "2023-10-10T00:00:00",
          "2023-10-11T00:00:00",
          "2023-10-12T00:00:00",
          "2023-10-13T00:00:00",
          "2023-10-14T00:00:00",
          "2023-10-15T00:00:00",
          "2023-10-16T00:00:00",
          "2023-10-17T00:00:00",
          "2023-10-18T00:00:00",
          "2023-10-19T00:00:00",
          "2023-10-20T00:00:00",
          "2023-10-21T00:00:00",
          "2023-10-22T00:00:00",
          "2023-10-23T00:00:00",
          "2023-10-24T00:00:00",
          "2023-10-25T00:00:00",
          "2023-10-26T00:00:00",
          "2023-10-27T00:00:00",
          "2023-10-28T00:00:00",
          "2023-10-29T00:00:00",
          "2023-10-30T00:00:00",
          "2023-10-31T00:00:00",
          "2023-11-01T00:00:00",
          "2023-11-02T00:00:00",
          "2023-11-03T00:00:00",
          "2023-11-04T00:00:00",
          "2023-11-05T00:00:00",
          "2023-11-06T00:00:00",
          "2023-11-07T00:00:00",
          "2023-11-08T00:00:00",
          "2023-11-09T00:00:00",
          "2023-11-10T00:00:00",
          "2023-11-11T00:00:00",
          "2023-11-12T00:00:00",
          "2023-11-13T00:00:00",
          "2023-11-14T00:00:00",
          "2023-11-15T00:00:00",
          "2023-11-16T00:00:00",
          "2023-11-17T00:00:00",
          "2023-11-18T00:00:00",
          "2023-11-19T00:00:00",
          "2023-11-20T00:00:00",
          "2023-11-21T00:00:00",
          "2023-11-22T00:00:00",
          "2023-11-23T00:00:00",
          "2023-11-24T00:00:00",
          "2023-11-25T00:00:00",
          "2023-11-26T00:00:00",
          "2023-11-27T00:00:00",
          "2023-11-28T00:00:00",
          "2023-11-29T00:00:00",
          "2023-11-30T00:00:00",
          "2023-12-01T00:00:00",
          "2023-12-02T00:00:00",
          "2023-12-03T00:00:00",
          "2023-12-04T00:00:00",
          "2023-12-05T00:00:00",
          "2023-12-06T00:00:00",
          "2023-12-07T00:00:00",
          "2023-12-08T00:00:00",
          "2023-12-09T00:00:00",
          "2023-12-10T00:00:00",
          "2023-12-11T00:00:00",
          "2023-12-12T00:00:00",
          "2023-12-13T00:00:00",
          "2023-12-14T00:00:00",
          "2023-12-15T00:00:00",
          "2023-12-16T00:00:00",
          "2023-12-17T00:00:00",
          "2023-12-18T00:00:00",
          "2023-12-19T00:00:00",
          "2023-12-20T00:00:00",
          "2023-12-21T00:00:00",
          "2023-12-22T00:00:00",
          "2023-12-23T00:00:00",
          "2023-12-24T00:00:00",
          "2023-12-25T00:00:00",
          "2023-12-26T00:00:00",
          "2023-12-27T00:00:00",
          "2023-12-28T00:00:00",
          "2023-12-29T00:00:00",
          "2023-12-30T00:00:00",
          "2023-12-31T00:00:00",
          "2024-01-01T00:00:00",
          "2024-01-02T00:00:00",
          "2024-01-03T00:00:00",
          "2024-01-04T00:00:00",
          "2024-01-05T00:00:00",
          "2024-01-06T00:00:00",
          "2024-01-07T00:00:00",
          "2024-01-08T00:00:00",
          "2024-01-09T00:00:00",
          "2024-01-10T00:00:00",
          "2024-01-11T00:00:00",
          "2024-01-12T00:00:00",
          "2024-01-13T00:00:00",
          "2024-01-14T00:00:00",
          "2024-01-15T00:00:00",
          "2024-01-16T00:00:00",
          "2024-01-17T00:00:00",
          "2024-01-18T00:00:00",
          "2024-01-19T00:00:00",
          "2024-01-20T00:00:00",
          "2024-01-21T00:00:00",
          "2024-01-22T00:00:00",
          "2024-01-23T00:00:00",
          "2024-01-24T00:00:00",
          "2024-01-25T00:00:00",
          "2024-01-26T00:00:00",
          "2024-01-27T00:00:00",
          "2024-01-28T00:00:00",
          "2024-01-29T00:00:00",
          "2024-01-30T00:00:00",
          "2024-01-31T00:00:00",
          "2024-02-01T00:00:00",
          "2024-02-02T00:00:00",
          "2024-02-03T00:00:00",
          "2024-02-04T00:00:00",
          "2024-02-05T00:00:00",
          "2024-02-06T00:00:00",
          "2024-02-07T00:00:00",
          "2024-02-08T00:00:00",
          "2024-02-09T00:00:00",
          "2024-02-10T00:00:00",
          "2024-02-11T00:00:00",
          "2024-02-12T00:00:00",
          "2024-02-13T00:00:00",
          "2024-02-14T00:00:00",
          "2024-02-15T00:00:00",
          "2024-02-16T00:00:00",
          "2024-02-17T00:00:00",
          "2024-02-18T00:00:00",
          "2024-02-19T00:00:00",
          "2024-02-20T00:00:00",
          "2024-02-21T00:00:00",
          "2024-02-22T00:00:00",
          "2024-02-23T00:00:00",
          "2024-02-24T00:00:00",
          "2024-02-25T00:00:00",
          "2024-02-26T00:00:00",
          "2024-02-27T00:00:00",
          "2024-02-28T00:00:00",
          "2024-02-29T00:00:00"
         ],
         "y": [
          [
           0.34010005
          ],
          [
           0.6026033
          ],
          [
           0.7799091
          ],
          [
           0.89927834
          ],
          [
           0.796711
          ],
          [
           0.7399425
          ],
          [
           0.8638115
          ],
          [
           1.1341882
          ],
          [
           0.9612332
          ],
          [
           1.1614274
          ],
          [
           0.77329534
          ],
          [
           0.84637976
          ],
          [
           1.169108
          ],
          [
           1.0127379
          ],
          [
           1.1620258
          ],
          [
           0.9907493
          ],
          [
           1.6280372
          ],
          [
           1.3033745
          ],
          [
           1.1932273
          ],
          [
           0.95829463
          ],
          [
           1.3423837
          ],
          [
           1.5553105
          ],
          [
           1.388093
          ],
          [
           1.0959423
          ],
          [
           1.0442705
          ],
          [
           1.0283908
          ],
          [
           1.316003
          ],
          [
           0.92374265
          ],
          [
           1.3106964
          ],
          [
           1.0871205
          ],
          [
           1.3001416
          ],
          [
           1.0970229
          ],
          [
           1.1952672
          ],
          [
           0.9637167
          ],
          [
           1.1665027
          ],
          [
           1.2971296
          ],
          [
           0.9991162
          ],
          [
           1.1975791
          ],
          [
           1.1232072
          ],
          [
           1.1230949
          ],
          [
           1.3837703
          ],
          [
           1.1719788
          ],
          [
           1.2204483
          ],
          [
           1.5826262
          ],
          [
           1.5991509
          ],
          [
           1.1557957
          ],
          [
           1.1633697
          ],
          [
           1.4495555
          ],
          [
           1.1013515
          ],
          [
           1.1799353
          ],
          [
           1.31096
          ],
          [
           1.3728111
          ],
          [
           1.2237747
          ],
          [
           1.1964897
          ],
          [
           1.1365573
          ],
          [
           1.3763013
          ],
          [
           1.1016103
          ],
          [
           1.4987433
          ],
          [
           1.4363004
          ],
          [
           1.5013527
          ],
          [
           1.2264423
          ],
          [
           1.4550633
          ],
          [
           1.2303406
          ],
          [
           1.3924876
          ],
          [
           1.0860338
          ],
          [
           1.3535079
          ],
          [
           1.6638174
          ],
          [
           0.9990642
          ],
          [
           1.0410683
          ],
          [
           0.9587087
          ],
          [
           1.333063
          ],
          [
           1.403896
          ],
          [
           1.1129185
          ],
          [
           1.0680575
          ],
          [
           1.1820811
          ],
          [
           1.2122227
          ],
          [
           1.4861255
          ],
          [
           1.2795556
          ],
          [
           1.0922419
          ],
          [
           1.186148
          ],
          [
           0.98202914
          ],
          [
           1.0191151
          ],
          [
           1.2486508
          ],
          [
           1.0520406
          ],
          [
           1.3653129
          ],
          [
           1.0167698
          ],
          [
           1.2891774
          ],
          [
           1.036448
          ],
          [
           1.2314806
          ],
          [
           1.2530963
          ],
          [
           1.4385557
          ],
          [
           1.2262073
          ],
          [
           1.1478028
          ],
          [
           1.1395867
          ],
          [
           1.0815601
          ],
          [
           0.9886097
          ],
          [
           1.3728021
          ],
          [
           0.8995539
          ],
          [
           1.0104349
          ],
          [
           1.0874648
          ],
          [
           0.969056
          ],
          [
           0.8881567
          ],
          [
           0.8653261
          ],
          [
           0.99125373
          ],
          [
           1.2944555
          ],
          [
           1.0796349
          ],
          [
           1.331318
          ],
          [
           0.92801946
          ],
          [
           0.97709656
          ],
          [
           1.3808693
          ],
          [
           0.9779897
          ],
          [
           1.0547293
          ],
          [
           1.2182937
          ],
          [
           1.0615188
          ],
          [
           1.3529601
          ],
          [
           1.1356745
          ],
          [
           0.84621656
          ],
          [
           1.2267964
          ],
          [
           0.99803764
          ],
          [
           1.3699775
          ],
          [
           1.2414253
          ],
          [
           1.1411358
          ],
          [
           1.084128
          ],
          [
           1.1593306
          ],
          [
           1.4611872
          ],
          [
           0.9311043
          ],
          [
           0.9986333
          ],
          [
           1.0615184
          ],
          [
           0.95778155
          ],
          [
           0.99850684
          ],
          [
           1.0540705
          ],
          [
           0.9953513
          ],
          [
           0.84012204
          ],
          [
           1.0903003
          ],
          [
           0.97637224
          ],
          [
           1.1180243
          ],
          [
           1.2650894
          ],
          [
           0.99153084
          ],
          [
           0.8398945
          ],
          [
           0.8041859
          ],
          [
           0.96488136
          ],
          [
           1.0108961
          ],
          [
           0.8912969
          ],
          [
           0.7705558
          ],
          [
           0.9688746
          ],
          [
           0.9519288
          ],
          [
           1.5033134
          ],
          [
           1.233461
          ],
          [
           1.4366884
          ],
          [
           0.98381424
          ],
          [
           0.973037
          ],
          [
           0.8238671
          ],
          [
           0.970623
          ],
          [
           1.4179413
          ],
          [
           1.3684233
          ],
          [
           1.3590394
          ],
          [
           1.0709946
          ],
          [
           1.2772593
          ],
          [
           1.0463569
          ],
          [
           0.9181771
          ],
          [
           1.0186619
          ],
          [
           1.3662552
          ],
          [
           1.6176088
          ],
          [
           0.93535864
          ],
          [
           0.87132967
          ],
          [
           0.8013981
          ],
          [
           1.0855871
          ],
          [
           0.9768674
          ],
          [
           1.0494808
          ],
          [
           1.308631
          ],
          [
           1.0877608
          ],
          [
           1.15538
          ],
          [
           1.1186563
          ],
          [
           1.3417934
          ],
          [
           0.8774017
          ],
          [
           1.0862037
          ],
          [
           1.4576163
          ],
          [
           1.1218898
          ],
          [
           1.3405571
          ],
          [
           1.36916
          ],
          [
           1.2650368
          ],
          [
           1.1838098
          ],
          [
           1.3710921
          ],
          [
           1.3213954
          ],
          [
           0.9787139
          ],
          [
           1.5545436
          ],
          [
           1.3840884
          ],
          [
           1.583308
          ],
          [
           1.27058
          ],
          [
           2.0498812
          ],
          [
           1.5686564
          ],
          [
           1.5873951
          ],
          [
           1.4593889
          ],
          [
           1.5168669
          ],
          [
           1.3977405
          ],
          [
           1.2920707
          ],
          [
           1.1714852
          ],
          [
           1.3732277
          ],
          [
           1.3323578
          ],
          [
           1.2247226
          ],
          [
           1.3440192
          ],
          [
           1.5601377
          ],
          [
           1.5143787
          ],
          [
           1.2848567
          ],
          [
           1.1218845
          ],
          [
           1.5106027
          ],
          [
           1.2306459
          ],
          [
           1.4697374
          ],
          [
           1.2034923
          ],
          [
           1.5892949
          ],
          [
           1.4656534
          ],
          [
           1.3481069
          ],
          [
           1.2230302
          ],
          [
           1.6294643
          ],
          [
           1.4601713
          ],
          [
           1.9373808
          ],
          [
           1.3849655
          ],
          [
           1.3382735
          ],
          [
           1.770177
          ],
          [
           1.4341408
          ],
          [
           1.4916368
          ],
          [
           1.4857085
          ],
          [
           1.6638218
          ],
          [
           1.3868893
          ],
          [
           1.4300771
          ],
          [
           1.6501428
          ],
          [
           1.272457
          ],
          [
           1.4456662
          ],
          [
           1.2687333
          ],
          [
           1.3576481
          ],
          [
           1.6613597
          ],
          [
           1.4746997
          ],
          [
           1.4962224
          ],
          [
           1.471398
          ],
          [
           1.2456163
          ],
          [
           1.9805613
          ],
          [
           1.4492661
          ],
          [
           1.3140033
          ],
          [
           1.5894983
          ],
          [
           1.6179647
          ],
          [
           1.3355559
          ],
          [
           1.4982321
          ],
          [
           1.591131
          ],
          [
           1.5237885
          ],
          [
           1.6710086
          ],
          [
           1.3642296
          ],
          [
           1.7260041
          ],
          [
           1.3893558
          ],
          [
           1.4404075
          ],
          [
           1.4977503
          ],
          [
           1.5159515
          ],
          [
           1.5209177
          ],
          [
           1.5817254
          ],
          [
           2.0149817
          ],
          [
           1.6735803
          ],
          [
           1.8227708
          ],
          [
           1.8504393
          ],
          [
           1.834442
          ],
          [
           1.3278979
          ],
          [
           1.8066084
          ],
          [
           1.8066434
          ],
          [
           1.8308018
          ],
          [
           1.3521338
          ],
          [
           1.5317421
          ],
          [
           1.2446098
          ],
          [
           1.9215015
          ],
          [
           1.9313198
          ],
          [
           1.5978703
          ],
          [
           1.6068155
          ],
          [
           1.3825788
          ],
          [
           1.3030441
          ],
          [
           1.5853268
          ],
          [
           1.9896877
          ],
          [
           2.282306
          ],
          [
           1.8598168
          ],
          [
           1.7965133
          ],
          [
           2.0479255
          ],
          [
           1.8017677
          ],
          [
           2.1866915
          ],
          [
           2.2783582
          ],
          [
           1.9702379
          ],
          [
           1.3343161
          ],
          [
           1.8104914
          ],
          [
           1.6203325
          ],
          [
           2.0825775
          ],
          [
           1.5504097
          ],
          [
           1.5131431
          ],
          [
           2.1351135
          ],
          [
           1.4108678
          ],
          [
           1.7411215
          ],
          [
           1.5925527
          ],
          [
           2.0249774
          ],
          [
           1.6858108
          ],
          [
           1.8132077
          ],
          [
           1.5171618
          ],
          [
           1.8195714
          ],
          [
           1.7447902
          ],
          [
           1.4839367
          ],
          [
           1.7941079
          ],
          [
           1.8921025
          ],
          [
           1.8528051
          ],
          [
           2.3385687
          ],
          [
           2.096941
          ],
          [
           1.773194
          ],
          [
           1.4372951
          ],
          [
           1.4118576
          ],
          [
           1.7716457
          ],
          [
           1.2540711
          ],
          [
           1.4664077
          ],
          [
           1.6448779
          ],
          [
           1.2604804
          ],
          [
           1.5285541
          ],
          [
           1.5514842
          ],
          [
           1.7022879
          ],
          [
           1.3932341
          ],
          [
           1.6549666
          ],
          [
           1.7237532
          ],
          [
           1.8517855
          ],
          [
           1.7624632
          ],
          [
           1.609874
          ],
          [
           1.5439956
          ],
          [
           1.8059964
          ],
          [
           1.9531813
          ],
          [
           1.5151541
          ],
          [
           1.3615713
          ],
          [
           1.6333383
          ],
          [
           2.0196426
          ],
          [
           1.5106963
          ],
          [
           1.3508435
          ],
          [
           1.4531987
          ],
          [
           1.4046888
          ],
          [
           1.408628
          ],
          [
           1.6481
          ],
          [
           1.2858068
          ],
          [
           1.2873673
          ],
          [
           1.4370707
          ],
          [
           1.0541089
          ],
          [
           1.1718293
          ],
          [
           1.653954
          ],
          [
           1.1344749
          ],
          [
           1.3843198
          ],
          [
           1.5659908
          ],
          [
           1.3964951
          ],
          [
           1.0810059
          ],
          [
           1.4283476
          ],
          [
           1.3868328
          ],
          [
           1.4665236
          ],
          [
           1.4266316
          ],
          [
           1.3717428
          ],
          [
           1.3804297
          ],
          [
           1.5081336
          ],
          [
           1.5444319
          ],
          [
           1.22734
          ],
          [
           1.3664982
          ],
          [
           1.2678365
          ],
          [
           1.2923561
          ],
          [
           1.5850325
          ],
          [
           1.6828401
          ],
          [
           1.3199553
          ],
          [
           1.3565696
          ],
          [
           1.2655548
          ],
          [
           1.51864
          ],
          [
           1.2100465
          ],
          [
           1.3976167
          ],
          [
           1.0221976
          ],
          [
           2.1166537
          ],
          [
           1.4891891
          ],
          [
           1.0281216
          ],
          [
           1.5349565
          ],
          [
           1.0359569
          ],
          [
           1.5847638
          ],
          [
           1.3048631
          ],
          [
           1.2787755
          ],
          [
           1.3742623
          ],
          [
           1.117462
          ],
          [
           1.8376896
          ],
          [
           1.3706282
          ],
          [
           1.4885944
          ],
          [
           1.2003807
          ],
          [
           1.3555264
          ],
          [
           1.4587762
          ],
          [
           1.3023659
          ],
          [
           1.382987
          ],
          [
           1.2321607
          ],
          [
           1.6027565
          ],
          [
           1.1726904
          ],
          [
           1.066464
          ],
          [
           1.0047172
          ],
          [
           0.9354449
          ],
          [
           0.7968868
          ],
          [
           1.1833005
          ],
          [
           0.7765987
          ],
          [
           1.1580958
          ],
          [
           1.0127662
          ],
          [
           1.0892651
          ],
          [
           1.1931386
          ],
          [
           1.2280526
          ],
          [
           1.1795596
          ],
          [
           1.1847132
          ],
          [
           1.2347473
          ],
          [
           0.992128
          ],
          [
           1.0282506
          ],
          [
           0.80286044
          ],
          [
           1.6646054
          ],
          [
           1.2065872
          ],
          [
           0.8185759
          ],
          [
           1.478739
          ],
          [
           1.7266943
          ],
          [
           1.1627631
          ],
          [
           1.7137179
          ],
          [
           0.8038673
          ],
          [
           1.6354085
          ],
          [
           0.98076874
          ],
          [
           1.1318192
          ],
          [
           1.0869931
          ],
          [
           0.7828339
          ],
          [
           1.151645
          ],
          [
           1.6292832
          ],
          [
           0.99205446
          ],
          [
           1.5724938
          ],
          [
           1.352029
          ],
          [
           1.2532197
          ],
          [
           0.9049393
          ],
          [
           1.2698543
          ],
          [
           0.9483046
          ],
          [
           0.8817961
          ],
          [
           0.5883941
          ],
          [
           0.9621505
          ],
          [
           1.666735
          ],
          [
           1.1313102
          ],
          [
           1.0123229
          ],
          [
           0.90744966
          ],
          [
           1.0129043
          ],
          [
           1.1544194
          ],
          [
           1.2511113
          ],
          [
           1.1148386
          ],
          [
           0.9511988
          ],
          [
           0.9690123
          ],
          [
           1.0067172
          ],
          [
           1.0370564
          ],
          [
           1.4139117
          ],
          [
           0.8852631
          ],
          [
           1.3062642
          ],
          [
           1.2102896
          ],
          [
           1.2407949
          ],
          [
           0.8637919
          ],
          [
           1.6346703
          ],
          [
           1.0146108
          ],
          [
           0.7298315
          ],
          [
           1.0897468
          ],
          [
           0.90770805
          ],
          [
           1.5463493
          ],
          [
           1.0894918
          ],
          [
           1.0933107
          ],
          [
           0.94774926
          ],
          [
           0.879357
          ],
          [
           2.0215504
          ],
          [
           1.183681
          ],
          [
           1.3455087
          ],
          [
           0.9346081
          ],
          [
           1.411588
          ],
          [
           1.2602705
          ],
          [
           0.80816954
          ],
          [
           1.7388729
          ],
          [
           1.1249237
          ],
          [
           1.1701684
          ],
          [
           1.4119412
          ],
          [
           0.8783204
          ],
          [
           1.2315278
          ],
          [
           1.0516071
          ],
          [
           1.1330503
          ],
          [
           1.4776001
          ],
          [
           0.60436386
          ],
          [
           1.1807457
          ],
          [
           1.0916615
          ],
          [
           1.6628438
          ],
          [
           1.1081833
          ],
          [
           1.7850987
          ],
          [
           1.291674
          ],
          [
           1.0020984
          ],
          [
           1.1783253
          ],
          [
           1.3145132
          ],
          [
           1.0055734
          ],
          [
           1.5035014
          ],
          [
           1.1616672
          ],
          [
           1.187728
          ],
          [
           1.5260129
          ],
          [
           1.2756174
          ],
          [
           1.6639056
          ],
          [
           2.0768225
          ],
          [
           1.7353779
          ],
          [
           1.6748364
          ],
          [
           1.3010895
          ],
          [
           1.5086261
          ],
          [
           1.3431385
          ],
          [
           1.2867627
          ],
          [
           2.188292
          ],
          [
           1.058646
          ],
          [
           1.2249377
          ],
          [
           1.0396038
          ],
          [
           1.4377577
          ],
          [
           1.3062118
          ],
          [
           0.94538724
          ],
          [
           1.0922306
          ],
          [
           1.9592063
          ],
          [
           1.6186181
          ],
          [
           1.463961
          ],
          [
           1.5905615
          ],
          [
           1.1491073
          ],
          [
           1.4470142
          ],
          [
           1.7238196
          ],
          [
           1.1559843
          ],
          [
           1.260585
          ],
          [
           1.4471006
          ],
          [
           1.4094969
          ],
          [
           1.3559512
          ],
          [
           1.0483767
          ],
          [
           1.6186817
          ],
          [
           1.3566687
          ],
          [
           1.2952248
          ],
          [
           1.3072798
          ],
          [
           1.6562886
          ],
          [
           1.1377475
          ],
          [
           1.2245526
          ],
          [
           1.1461831
          ],
          [
           1.8538605
          ],
          [
           1.321126
          ],
          [
           1.2240392
          ],
          [
           1.0019997
          ],
          [
           1.6516967
          ],
          [
           1.2087178
          ],
          [
           1.9381381
          ],
          [
           1.5789849
          ],
          [
           1.0706466
          ],
          [
           1.0958681
          ],
          [
           0.8151953
          ],
          [
           1.5581908
          ],
          [
           1.4278256
          ],
          [
           1.5339992
          ],
          [
           1.5267885
          ],
          [
           1.4025607
          ],
          [
           1.1445926
          ],
          [
           1.4278116
          ],
          [
           1.6994847
          ],
          [
           1.105653
          ],
          [
           1.328501
          ],
          [
           1.3123922
          ],
          [
           1.0789347
          ],
          [
           1.1999456
          ],
          [
           1.0976951
          ],
          [
           0.8817563
          ],
          [
           1.3795149
          ],
          [
           1.3076222
          ],
          [
           1.293238
          ],
          [
           1.1740435
          ],
          [
           1.1905576
          ],
          [
           1.1870494
          ],
          [
           1.7291958
          ],
          [
           1.5205134
          ],
          [
           1.1153786
          ],
          [
           0.95575655
          ],
          [
           1.3126782
          ],
          [
           1.7255912
          ],
          [
           1.3234502
          ],
          [
           1.8351185
          ],
          [
           1.4416244
          ],
          [
           1.0663339
          ],
          [
           1.2373003
          ],
          [
           0.97909963
          ],
          [
           1.1057156
          ],
          [
           1.4427933
          ],
          [
           1.3511915
          ],
          [
           1.0508133
          ],
          [
           1.4389652
          ],
          [
           1.308343
          ],
          [
           2.277133
          ],
          [
           1.0032827
          ],
          [
           1.1079302
          ],
          [
           1.0601702
          ],
          [
           1.6548097
          ],
          [
           1.1615487
          ],
          [
           0.88846177
          ],
          [
           1.5741246
          ],
          [
           0.91794276
          ],
          [
           1.6284115
          ],
          [
           1.4769582
          ],
          [
           1.1957294
          ],
          [
           0.9056473
          ],
          [
           1.2952597
          ],
          [
           0.9719085
          ],
          [
           1.1079966
          ],
          [
           1.3957572
          ],
          [
           1.2355072
          ],
          [
           1.235077
          ],
          [
           1.065231
          ],
          [
           1.2629988
          ],
          [
           1.3565844
          ],
          [
           1.8155077
          ],
          [
           1.7139832
          ],
          [
           2.0923917
          ],
          [
           1.2855176
          ],
          [
           1.1161315
          ],
          [
           1.4395344
          ],
          [
           1.1921326
          ],
          [
           1.1826644
          ],
          [
           1.802253
          ],
          [
           1.9105904
          ],
          [
           1.3656131
          ],
          [
           1.6892492
          ],
          [
           0.8558428
          ],
          [
           1.442895
          ],
          [
           0.86531913
          ],
          [
           1.1035225
          ],
          [
           1.225619
          ],
          [
           1.2270299
          ],
          [
           1.1611279
          ],
          [
           0.92939574
          ],
          [
           1.0427847
          ],
          [
           1.1647913
          ],
          [
           1.0341401
          ],
          [
           1.497477
          ],
          [
           1.1650711
          ],
          [
           0.88475424
          ],
          [
           1.3781952
          ],
          [
           0.92336917
          ],
          [
           0.9546354
          ],
          [
           1.4192215
          ],
          [
           1.0901875
          ],
          [
           1.0541649
          ],
          [
           1.4932438
          ],
          [
           0.99097806
          ],
          [
           1.1467544
          ],
          [
           2.2055223
          ],
          [
           1.4737605
          ],
          [
           1.47817
          ],
          [
           1.8483998
          ],
          [
           1.4183133
          ],
          [
           1.9983712
          ],
          [
           1.9531828
          ],
          [
           1.0503906
          ],
          [
           1.2845153
          ],
          [
           0.97220033
          ],
          [
           0.9656697
          ],
          [
           1.3307782
          ],
          [
           1.3582408
          ],
          [
           1.5239172
          ],
          [
           1.0385842
          ],
          [
           1.1088326
          ],
          [
           1.1782054
          ],
          [
           0.8344125
          ],
          [
           0.91016984
          ],
          [
           1.2630938
          ],
          [
           0.82117635
          ],
          [
           1.2558162
          ],
          [
           0.92806315
          ],
          [
           0.84845483
          ],
          [
           1.1745695
          ],
          [
           1.6245271
          ],
          [
           1.2423189
          ],
          [
           1.3156543
          ],
          [
           0.88442063
          ],
          [
           0.9444706
          ],
          [
           0.82083184
          ],
          [
           1.0752684
          ],
          [
           1.1810536
          ],
          [
           1.0213405
          ],
          [
           1.6170453
          ],
          [
           1.2804818
          ],
          [
           1.0797846
          ],
          [
           1.3457465
          ],
          [
           1.2862229
          ],
          [
           1.2801285
          ],
          [
           0.9698803
          ],
          [
           1.2325727
          ],
          [
           1.0922714
          ],
          [
           1.3269087
          ],
          [
           1.3726914
          ],
          [
           0.9928736
          ],
          [
           1.5616965
          ],
          [
           2.5023816
          ],
          [
           0.7455347
          ],
          [
           0.9256398
          ],
          [
           1.2050413
          ],
          [
           0.99211013
          ],
          [
           1.0963871
          ],
          [
           1.0026742
          ],
          [
           0.87645257
          ],
          [
           1.1140627
          ],
          [
           1.3675412
          ],
          [
           1.5285907
          ],
          [
           1.2607287
          ],
          [
           1.2002949
          ],
          [
           0.98602325
          ],
          [
           1.0064611
          ],
          [
           1.7155756
          ],
          [
           1.113266
          ],
          [
           1.3559436
          ],
          [
           1.7066092
          ],
          [
           1.4667798
          ],
          [
           1.2076648
          ],
          [
           1.6917247
          ],
          [
           1.3732824
          ],
          [
           1.2297755
          ],
          [
           1.2032894
          ],
          [
           1.1745664
          ],
          [
           1.0359411
          ],
          [
           1.1422641
          ],
          [
           1.6014248
          ],
          [
           1.1215179
          ],
          [
           0.901892
          ],
          [
           1.3519901
          ],
          [
           0.87736666
          ],
          [
           1.3898679
          ],
          [
           1.1977873
          ],
          [
           0.82360864
          ],
          [
           1.0674958
          ],
          [
           0.97363615
          ],
          [
           1.5752519
          ],
          [
           1.0279616
          ],
          [
           1.0718321
          ],
          [
           1.0985208
          ],
          [
           1.389051
          ],
          [
           1.5274758
          ],
          [
           1.2780622
          ],
          [
           1.2594517
          ],
          [
           1.071434
          ],
          [
           1.07837
          ],
          [
           1.0711541
          ],
          [
           1.4318407
          ],
          [
           1.1294632
          ],
          [
           1.2441577
          ],
          [
           1.2252704
          ],
          [
           1.1334971
          ],
          [
           0.8708561
          ],
          [
           1.1961106
          ],
          [
           1.1066294
          ],
          [
           1.0224985
          ],
          [
           1.4947723
          ],
          [
           1.2603137
          ],
          [
           0.8727968
          ],
          [
           0.81558806
          ],
          [
           1.0731798
          ],
          [
           1.1884694
          ],
          [
           1.1276089
          ],
          [
           0.90372777
          ],
          [
           0.84906256
          ],
          [
           1.0335777
          ],
          [
           0.9631223
          ],
          [
           0.96272963
          ],
          [
           1.2353884
          ],
          [
           1.2908052
          ],
          [
           0.76729274
          ],
          [
           0.8169175
          ],
          [
           1.0076587
          ],
          [
           0.9494632
          ],
          [
           1.3197027
          ],
          [
           1.2083603
          ],
          [
           0.87476104
          ],
          [
           0.7958173
          ],
          [
           1.2176689
          ],
          [
           1.1067733
          ],
          [
           1.096779
          ],
          [
           0.8170195
          ],
          [
           1.0540639
          ],
          [
           0.9243094
          ],
          [
           1.2266555
          ],
          [
           1.7041185
          ],
          [
           0.8758379
          ],
          [
           0.9017361
          ],
          [
           1.215896
          ],
          [
           0.9862659
          ],
          [
           1.0301718
          ],
          [
           0.8167521
          ],
          [
           1.1910994
          ],
          [
           0.8627305
          ],
          [
           1.028696
          ],
          [
           1.2719889
          ],
          [
           1.0806354
          ],
          [
           1.1266701
          ],
          [
           0.8156175
          ],
          [
           1.2414858
          ],
          [
           1.1482066
          ],
          [
           1.0916016
          ],
          [
           0.9405954
          ],
          [
           1.0002012
          ],
          [
           1.3196969
          ],
          [
           1.1302466
          ],
          [
           1.242607
          ],
          [
           1.50163
          ],
          [
           1.179686
          ]
         ]
        },
        {
         "line": {
          "color": "darkgreen",
          "dash": "solid"
         },
         "mode": "lines",
         "name": "Actual Test Data",
         "type": "scatter",
         "x": [
          "2022-01-01T00:00:00",
          "2022-01-02T00:00:00",
          "2022-01-03T00:00:00",
          "2022-01-04T00:00:00",
          "2022-01-05T00:00:00",
          "2022-01-06T00:00:00",
          "2022-01-07T00:00:00",
          "2022-01-08T00:00:00",
          "2022-01-09T00:00:00",
          "2022-01-10T00:00:00",
          "2022-01-11T00:00:00",
          "2022-01-12T00:00:00",
          "2022-01-13T00:00:00",
          "2022-01-14T00:00:00",
          "2022-01-15T00:00:00",
          "2022-01-16T00:00:00",
          "2022-01-17T00:00:00",
          "2022-01-18T00:00:00",
          "2022-01-19T00:00:00",
          "2022-01-20T00:00:00",
          "2022-01-21T00:00:00",
          "2022-01-22T00:00:00",
          "2022-01-23T00:00:00",
          "2022-01-24T00:00:00",
          "2022-01-25T00:00:00",
          "2022-01-26T00:00:00",
          "2022-01-27T00:00:00",
          "2022-01-28T00:00:00",
          "2022-01-29T00:00:00",
          "2022-01-30T00:00:00",
          "2022-01-31T00:00:00",
          "2022-02-01T00:00:00",
          "2022-02-02T00:00:00",
          "2022-02-03T00:00:00",
          "2022-02-04T00:00:00",
          "2022-02-05T00:00:00",
          "2022-02-06T00:00:00",
          "2022-02-07T00:00:00",
          "2022-02-08T00:00:00",
          "2022-02-09T00:00:00",
          "2022-02-10T00:00:00",
          "2022-02-11T00:00:00",
          "2022-02-12T00:00:00",
          "2022-02-13T00:00:00",
          "2022-02-14T00:00:00",
          "2022-02-15T00:00:00",
          "2022-02-16T00:00:00",
          "2022-02-17T00:00:00",
          "2022-02-18T00:00:00",
          "2022-02-19T00:00:00",
          "2022-02-20T00:00:00",
          "2022-02-21T00:00:00",
          "2022-02-22T00:00:00",
          "2022-02-23T00:00:00",
          "2022-02-24T00:00:00",
          "2022-02-25T00:00:00",
          "2022-02-26T00:00:00",
          "2022-02-27T00:00:00",
          "2022-02-28T00:00:00",
          "2022-03-01T00:00:00",
          "2022-03-02T00:00:00",
          "2022-03-03T00:00:00",
          "2022-03-04T00:00:00",
          "2022-03-05T00:00:00",
          "2022-03-06T00:00:00",
          "2022-03-07T00:00:00",
          "2022-03-08T00:00:00",
          "2022-03-09T00:00:00",
          "2022-03-10T00:00:00",
          "2022-03-11T00:00:00",
          "2022-03-12T00:00:00",
          "2022-03-13T00:00:00",
          "2022-03-14T00:00:00",
          "2022-03-15T00:00:00",
          "2022-03-16T00:00:00",
          "2022-03-17T00:00:00",
          "2022-03-18T00:00:00",
          "2022-03-19T00:00:00",
          "2022-03-20T00:00:00",
          "2022-03-21T00:00:00",
          "2022-03-22T00:00:00",
          "2022-03-23T00:00:00",
          "2022-03-24T00:00:00",
          "2022-03-25T00:00:00",
          "2022-03-26T00:00:00",
          "2022-03-27T00:00:00",
          "2022-03-28T00:00:00",
          "2022-03-29T00:00:00",
          "2022-03-30T00:00:00",
          "2022-03-31T00:00:00",
          "2022-04-01T00:00:00",
          "2022-04-02T00:00:00",
          "2022-04-03T00:00:00",
          "2022-04-04T00:00:00",
          "2022-04-05T00:00:00",
          "2022-04-06T00:00:00",
          "2022-04-07T00:00:00",
          "2022-04-08T00:00:00",
          "2022-04-09T00:00:00",
          "2022-04-10T00:00:00",
          "2022-04-11T00:00:00",
          "2022-04-12T00:00:00",
          "2022-04-13T00:00:00",
          "2022-04-14T00:00:00",
          "2022-04-15T00:00:00",
          "2022-04-16T00:00:00",
          "2022-04-17T00:00:00",
          "2022-04-18T00:00:00",
          "2022-04-19T00:00:00",
          "2022-04-20T00:00:00",
          "2022-04-21T00:00:00",
          "2022-04-22T00:00:00",
          "2022-04-23T00:00:00",
          "2022-04-24T00:00:00",
          "2022-04-25T00:00:00",
          "2022-04-26T00:00:00",
          "2022-04-27T00:00:00",
          "2022-04-28T00:00:00",
          "2022-04-29T00:00:00",
          "2022-04-30T00:00:00",
          "2022-05-01T00:00:00",
          "2022-05-02T00:00:00",
          "2022-05-03T00:00:00",
          "2022-05-04T00:00:00",
          "2022-05-05T00:00:00",
          "2022-05-06T00:00:00",
          "2022-05-07T00:00:00",
          "2022-05-08T00:00:00",
          "2022-05-09T00:00:00",
          "2022-05-10T00:00:00",
          "2022-05-11T00:00:00",
          "2022-05-12T00:00:00",
          "2022-05-13T00:00:00",
          "2022-05-14T00:00:00",
          "2022-05-15T00:00:00",
          "2022-05-16T00:00:00",
          "2022-05-17T00:00:00",
          "2022-05-18T00:00:00",
          "2022-05-19T00:00:00",
          "2022-05-20T00:00:00",
          "2022-05-21T00:00:00",
          "2022-05-22T00:00:00",
          "2022-05-23T00:00:00",
          "2022-05-24T00:00:00",
          "2022-05-25T00:00:00",
          "2022-05-26T00:00:00",
          "2022-05-27T00:00:00",
          "2022-05-28T00:00:00",
          "2022-05-29T00:00:00",
          "2022-05-30T00:00:00",
          "2022-05-31T00:00:00",
          "2022-06-01T00:00:00",
          "2022-06-02T00:00:00",
          "2022-06-03T00:00:00",
          "2022-06-04T00:00:00",
          "2022-06-05T00:00:00",
          "2022-06-06T00:00:00",
          "2022-06-07T00:00:00",
          "2022-06-08T00:00:00",
          "2022-06-09T00:00:00",
          "2022-06-10T00:00:00",
          "2022-06-11T00:00:00",
          "2022-06-12T00:00:00",
          "2022-06-13T00:00:00",
          "2022-06-14T00:00:00",
          "2022-06-15T00:00:00",
          "2022-06-16T00:00:00",
          "2022-06-17T00:00:00",
          "2022-06-18T00:00:00",
          "2022-06-19T00:00:00",
          "2022-06-20T00:00:00",
          "2022-06-21T00:00:00",
          "2022-06-22T00:00:00",
          "2022-06-23T00:00:00",
          "2022-06-24T00:00:00",
          "2022-06-25T00:00:00",
          "2022-06-26T00:00:00",
          "2022-06-27T00:00:00",
          "2022-06-28T00:00:00",
          "2022-06-29T00:00:00",
          "2022-06-30T00:00:00",
          "2022-07-01T00:00:00",
          "2022-07-02T00:00:00",
          "2022-07-03T00:00:00",
          "2022-07-04T00:00:00",
          "2022-07-05T00:00:00",
          "2022-07-06T00:00:00",
          "2022-07-07T00:00:00",
          "2022-07-08T00:00:00",
          "2022-07-09T00:00:00",
          "2022-07-10T00:00:00",
          "2022-07-11T00:00:00",
          "2022-07-12T00:00:00",
          "2022-07-13T00:00:00",
          "2022-07-14T00:00:00",
          "2022-07-15T00:00:00",
          "2022-07-16T00:00:00",
          "2022-07-17T00:00:00",
          "2022-07-18T00:00:00",
          "2022-07-19T00:00:00",
          "2022-07-20T00:00:00",
          "2022-07-21T00:00:00",
          "2022-07-22T00:00:00",
          "2022-07-23T00:00:00",
          "2022-07-24T00:00:00",
          "2022-07-25T00:00:00",
          "2022-07-26T00:00:00",
          "2022-07-27T00:00:00",
          "2022-07-28T00:00:00",
          "2022-07-29T00:00:00",
          "2022-07-30T00:00:00",
          "2022-07-31T00:00:00",
          "2022-08-01T00:00:00",
          "2022-08-02T00:00:00",
          "2022-08-03T00:00:00",
          "2022-08-04T00:00:00",
          "2022-08-05T00:00:00",
          "2022-08-06T00:00:00",
          "2022-08-07T00:00:00",
          "2022-08-08T00:00:00",
          "2022-08-09T00:00:00",
          "2022-08-10T00:00:00",
          "2022-08-11T00:00:00",
          "2022-08-12T00:00:00",
          "2022-08-13T00:00:00",
          "2022-08-14T00:00:00",
          "2022-08-15T00:00:00",
          "2022-08-16T00:00:00",
          "2022-08-17T00:00:00",
          "2022-08-18T00:00:00",
          "2022-08-19T00:00:00",
          "2022-08-20T00:00:00",
          "2022-08-21T00:00:00",
          "2022-08-22T00:00:00",
          "2022-08-23T00:00:00",
          "2022-08-24T00:00:00",
          "2022-08-25T00:00:00",
          "2022-08-26T00:00:00",
          "2022-08-27T00:00:00",
          "2022-08-28T00:00:00",
          "2022-08-29T00:00:00",
          "2022-08-30T00:00:00",
          "2022-08-31T00:00:00",
          "2022-09-01T00:00:00",
          "2022-09-02T00:00:00",
          "2022-09-03T00:00:00",
          "2022-09-04T00:00:00",
          "2022-09-05T00:00:00",
          "2022-09-06T00:00:00",
          "2022-09-07T00:00:00",
          "2022-09-08T00:00:00",
          "2022-09-09T00:00:00",
          "2022-09-10T00:00:00",
          "2022-09-11T00:00:00",
          "2022-09-12T00:00:00",
          "2022-09-13T00:00:00",
          "2022-09-14T00:00:00",
          "2022-09-15T00:00:00",
          "2022-09-16T00:00:00",
          "2022-09-17T00:00:00",
          "2022-09-18T00:00:00",
          "2022-09-19T00:00:00",
          "2022-09-20T00:00:00",
          "2022-09-21T00:00:00",
          "2022-09-22T00:00:00",
          "2022-09-23T00:00:00",
          "2022-09-24T00:00:00",
          "2022-09-25T00:00:00",
          "2022-09-26T00:00:00",
          "2022-09-27T00:00:00",
          "2022-09-28T00:00:00",
          "2022-09-29T00:00:00",
          "2022-09-30T00:00:00",
          "2022-10-01T00:00:00",
          "2022-10-02T00:00:00",
          "2022-10-03T00:00:00",
          "2022-10-04T00:00:00",
          "2022-10-05T00:00:00",
          "2022-10-06T00:00:00",
          "2022-10-07T00:00:00",
          "2022-10-08T00:00:00",
          "2022-10-09T00:00:00",
          "2022-10-10T00:00:00",
          "2022-10-11T00:00:00",
          "2022-10-12T00:00:00",
          "2022-10-13T00:00:00",
          "2022-10-14T00:00:00",
          "2022-10-15T00:00:00",
          "2022-10-16T00:00:00",
          "2022-10-17T00:00:00",
          "2022-10-18T00:00:00",
          "2022-10-19T00:00:00",
          "2022-10-20T00:00:00",
          "2022-10-21T00:00:00",
          "2022-10-22T00:00:00",
          "2022-10-23T00:00:00",
          "2022-10-24T00:00:00",
          "2022-10-25T00:00:00",
          "2022-10-26T00:00:00",
          "2022-10-27T00:00:00",
          "2022-10-28T00:00:00",
          "2022-10-29T00:00:00",
          "2022-10-30T00:00:00",
          "2022-10-31T00:00:00",
          "2022-11-01T00:00:00",
          "2022-11-02T00:00:00",
          "2022-11-03T00:00:00",
          "2022-11-04T00:00:00",
          "2022-11-05T00:00:00",
          "2022-11-06T00:00:00",
          "2022-11-07T00:00:00",
          "2022-11-08T00:00:00",
          "2022-11-09T00:00:00",
          "2022-11-10T00:00:00",
          "2022-11-11T00:00:00",
          "2022-11-12T00:00:00",
          "2022-11-13T00:00:00",
          "2022-11-14T00:00:00",
          "2022-11-15T00:00:00",
          "2022-11-16T00:00:00",
          "2022-11-17T00:00:00",
          "2022-11-18T00:00:00",
          "2022-11-19T00:00:00",
          "2022-11-20T00:00:00",
          "2022-11-21T00:00:00",
          "2022-11-22T00:00:00",
          "2022-11-23T00:00:00",
          "2022-11-24T00:00:00",
          "2022-11-25T00:00:00",
          "2022-11-26T00:00:00",
          "2022-11-27T00:00:00",
          "2022-11-28T00:00:00",
          "2022-11-29T00:00:00",
          "2022-11-30T00:00:00",
          "2022-12-01T00:00:00",
          "2022-12-02T00:00:00",
          "2022-12-03T00:00:00",
          "2022-12-04T00:00:00",
          "2022-12-05T00:00:00",
          "2022-12-06T00:00:00",
          "2022-12-07T00:00:00",
          "2022-12-08T00:00:00",
          "2022-12-09T00:00:00",
          "2022-12-10T00:00:00",
          "2022-12-11T00:00:00",
          "2022-12-12T00:00:00",
          "2022-12-13T00:00:00",
          "2022-12-14T00:00:00",
          "2022-12-15T00:00:00",
          "2022-12-16T00:00:00",
          "2022-12-17T00:00:00",
          "2022-12-18T00:00:00",
          "2022-12-19T00:00:00",
          "2022-12-20T00:00:00",
          "2022-12-21T00:00:00",
          "2022-12-22T00:00:00",
          "2022-12-23T00:00:00",
          "2022-12-24T00:00:00",
          "2022-12-25T00:00:00",
          "2022-12-26T00:00:00",
          "2022-12-27T00:00:00",
          "2022-12-28T00:00:00",
          "2022-12-29T00:00:00",
          "2022-12-30T00:00:00",
          "2022-12-31T00:00:00",
          "2023-01-01T00:00:00",
          "2023-01-02T00:00:00",
          "2023-01-03T00:00:00",
          "2023-01-04T00:00:00",
          "2023-01-05T00:00:00",
          "2023-01-06T00:00:00",
          "2023-01-07T00:00:00",
          "2023-01-08T00:00:00",
          "2023-01-09T00:00:00",
          "2023-01-10T00:00:00",
          "2023-01-11T00:00:00",
          "2023-01-12T00:00:00",
          "2023-01-13T00:00:00",
          "2023-01-14T00:00:00",
          "2023-01-15T00:00:00",
          "2023-01-16T00:00:00",
          "2023-01-17T00:00:00",
          "2023-01-18T00:00:00",
          "2023-01-19T00:00:00",
          "2023-01-20T00:00:00",
          "2023-01-21T00:00:00",
          "2023-01-22T00:00:00",
          "2023-01-23T00:00:00",
          "2023-01-24T00:00:00",
          "2023-01-25T00:00:00",
          "2023-01-26T00:00:00",
          "2023-01-27T00:00:00",
          "2023-01-28T00:00:00",
          "2023-01-29T00:00:00",
          "2023-01-30T00:00:00",
          "2023-01-31T00:00:00",
          "2023-02-01T00:00:00",
          "2023-02-02T00:00:00",
          "2023-02-03T00:00:00",
          "2023-02-04T00:00:00",
          "2023-02-05T00:00:00",
          "2023-02-06T00:00:00",
          "2023-02-07T00:00:00",
          "2023-02-08T00:00:00",
          "2023-02-09T00:00:00",
          "2023-02-10T00:00:00",
          "2023-02-11T00:00:00",
          "2023-02-12T00:00:00",
          "2023-02-13T00:00:00",
          "2023-02-14T00:00:00",
          "2023-02-15T00:00:00",
          "2023-02-16T00:00:00",
          "2023-02-17T00:00:00",
          "2023-02-18T00:00:00",
          "2023-02-19T00:00:00",
          "2023-02-20T00:00:00",
          "2023-02-21T00:00:00",
          "2023-02-22T00:00:00",
          "2023-02-23T00:00:00",
          "2023-02-24T00:00:00",
          "2023-02-25T00:00:00",
          "2023-02-26T00:00:00",
          "2023-02-27T00:00:00",
          "2023-02-28T00:00:00",
          "2023-03-01T00:00:00",
          "2023-03-02T00:00:00",
          "2023-03-03T00:00:00",
          "2023-03-04T00:00:00",
          "2023-03-05T00:00:00",
          "2023-03-06T00:00:00",
          "2023-03-07T00:00:00",
          "2023-03-08T00:00:00",
          "2023-03-09T00:00:00",
          "2023-03-10T00:00:00",
          "2023-03-11T00:00:00",
          "2023-03-12T00:00:00",
          "2023-03-13T00:00:00",
          "2023-03-14T00:00:00",
          "2023-03-15T00:00:00",
          "2023-03-16T00:00:00",
          "2023-03-17T00:00:00",
          "2023-03-18T00:00:00",
          "2023-03-19T00:00:00",
          "2023-03-20T00:00:00",
          "2023-03-21T00:00:00",
          "2023-03-22T00:00:00",
          "2023-03-23T00:00:00",
          "2023-03-24T00:00:00",
          "2023-03-25T00:00:00",
          "2023-03-26T00:00:00",
          "2023-03-27T00:00:00",
          "2023-03-28T00:00:00",
          "2023-03-29T00:00:00",
          "2023-03-30T00:00:00",
          "2023-03-31T00:00:00",
          "2023-04-01T00:00:00",
          "2023-04-02T00:00:00",
          "2023-04-03T00:00:00",
          "2023-04-04T00:00:00",
          "2023-04-05T00:00:00",
          "2023-04-06T00:00:00",
          "2023-04-07T00:00:00",
          "2023-04-08T00:00:00",
          "2023-04-09T00:00:00",
          "2023-04-10T00:00:00",
          "2023-04-11T00:00:00",
          "2023-04-12T00:00:00",
          "2023-04-13T00:00:00",
          "2023-04-14T00:00:00",
          "2023-04-15T00:00:00",
          "2023-04-16T00:00:00",
          "2023-04-17T00:00:00",
          "2023-04-18T00:00:00",
          "2023-04-19T00:00:00",
          "2023-04-20T00:00:00",
          "2023-04-21T00:00:00",
          "2023-04-22T00:00:00",
          "2023-04-23T00:00:00",
          "2023-04-24T00:00:00",
          "2023-04-25T00:00:00",
          "2023-04-26T00:00:00",
          "2023-04-27T00:00:00",
          "2023-04-28T00:00:00",
          "2023-04-29T00:00:00",
          "2023-04-30T00:00:00",
          "2023-05-01T00:00:00",
          "2023-05-02T00:00:00",
          "2023-05-03T00:00:00",
          "2023-05-04T00:00:00",
          "2023-05-05T00:00:00",
          "2023-05-06T00:00:00",
          "2023-05-07T00:00:00",
          "2023-05-08T00:00:00",
          "2023-05-09T00:00:00",
          "2023-05-10T00:00:00",
          "2023-05-11T00:00:00",
          "2023-05-12T00:00:00",
          "2023-05-13T00:00:00",
          "2023-05-14T00:00:00",
          "2023-05-15T00:00:00",
          "2023-05-16T00:00:00",
          "2023-05-17T00:00:00",
          "2023-05-18T00:00:00",
          "2023-05-19T00:00:00",
          "2023-05-20T00:00:00",
          "2023-05-21T00:00:00",
          "2023-05-22T00:00:00",
          "2023-05-23T00:00:00",
          "2023-05-24T00:00:00",
          "2023-05-25T00:00:00",
          "2023-05-26T00:00:00",
          "2023-05-27T00:00:00",
          "2023-05-28T00:00:00",
          "2023-05-29T00:00:00",
          "2023-05-30T00:00:00",
          "2023-05-31T00:00:00",
          "2023-06-01T00:00:00",
          "2023-06-02T00:00:00",
          "2023-06-03T00:00:00",
          "2023-06-04T00:00:00",
          "2023-06-05T00:00:00",
          "2023-06-06T00:00:00",
          "2023-06-07T00:00:00",
          "2023-06-08T00:00:00",
          "2023-06-09T00:00:00",
          "2023-06-10T00:00:00",
          "2023-06-11T00:00:00",
          "2023-06-12T00:00:00",
          "2023-06-13T00:00:00",
          "2023-06-14T00:00:00",
          "2023-06-15T00:00:00",
          "2023-06-16T00:00:00",
          "2023-06-17T00:00:00",
          "2023-06-18T00:00:00",
          "2023-06-19T00:00:00",
          "2023-06-20T00:00:00",
          "2023-06-21T00:00:00",
          "2023-06-22T00:00:00",
          "2023-06-23T00:00:00",
          "2023-06-24T00:00:00",
          "2023-06-25T00:00:00",
          "2023-06-26T00:00:00",
          "2023-06-27T00:00:00",
          "2023-06-28T00:00:00",
          "2023-06-29T00:00:00",
          "2023-06-30T00:00:00",
          "2023-07-01T00:00:00",
          "2023-07-02T00:00:00",
          "2023-07-03T00:00:00",
          "2023-07-04T00:00:00",
          "2023-07-05T00:00:00",
          "2023-07-06T00:00:00",
          "2023-07-07T00:00:00",
          "2023-07-08T00:00:00",
          "2023-07-09T00:00:00",
          "2023-07-10T00:00:00",
          "2023-07-11T00:00:00",
          "2023-07-12T00:00:00",
          "2023-07-13T00:00:00",
          "2023-07-14T00:00:00",
          "2023-07-15T00:00:00",
          "2023-07-16T00:00:00",
          "2023-07-17T00:00:00",
          "2023-07-18T00:00:00",
          "2023-07-19T00:00:00",
          "2023-07-20T00:00:00",
          "2023-07-21T00:00:00",
          "2023-07-22T00:00:00",
          "2023-07-23T00:00:00",
          "2023-07-24T00:00:00",
          "2023-07-25T00:00:00",
          "2023-07-26T00:00:00",
          "2023-07-27T00:00:00",
          "2023-07-28T00:00:00",
          "2023-07-29T00:00:00",
          "2023-07-30T00:00:00",
          "2023-07-31T00:00:00",
          "2023-08-01T00:00:00",
          "2023-08-02T00:00:00",
          "2023-08-03T00:00:00",
          "2023-08-04T00:00:00",
          "2023-08-05T00:00:00",
          "2023-08-06T00:00:00",
          "2023-08-07T00:00:00",
          "2023-08-08T00:00:00",
          "2023-08-09T00:00:00",
          "2023-08-10T00:00:00",
          "2023-08-11T00:00:00",
          "2023-08-12T00:00:00",
          "2023-08-13T00:00:00",
          "2023-08-14T00:00:00",
          "2023-08-15T00:00:00",
          "2023-08-16T00:00:00",
          "2023-08-17T00:00:00",
          "2023-08-18T00:00:00",
          "2023-08-19T00:00:00",
          "2023-08-20T00:00:00",
          "2023-08-21T00:00:00",
          "2023-08-22T00:00:00",
          "2023-08-23T00:00:00",
          "2023-08-24T00:00:00",
          "2023-08-25T00:00:00",
          "2023-08-26T00:00:00",
          "2023-08-27T00:00:00",
          "2023-08-28T00:00:00",
          "2023-08-29T00:00:00",
          "2023-08-30T00:00:00",
          "2023-08-31T00:00:00",
          "2023-09-01T00:00:00",
          "2023-09-02T00:00:00",
          "2023-09-03T00:00:00",
          "2023-09-04T00:00:00",
          "2023-09-05T00:00:00",
          "2023-09-06T00:00:00",
          "2023-09-07T00:00:00",
          "2023-09-08T00:00:00",
          "2023-09-09T00:00:00",
          "2023-09-10T00:00:00",
          "2023-09-11T00:00:00",
          "2023-09-12T00:00:00",
          "2023-09-13T00:00:00",
          "2023-09-14T00:00:00",
          "2023-09-15T00:00:00",
          "2023-09-16T00:00:00",
          "2023-09-17T00:00:00",
          "2023-09-18T00:00:00",
          "2023-09-19T00:00:00",
          "2023-09-20T00:00:00",
          "2023-09-21T00:00:00",
          "2023-09-22T00:00:00",
          "2023-09-23T00:00:00",
          "2023-09-24T00:00:00",
          "2023-09-25T00:00:00",
          "2023-09-26T00:00:00",
          "2023-09-27T00:00:00",
          "2023-09-28T00:00:00",
          "2023-09-29T00:00:00",
          "2023-09-30T00:00:00",
          "2023-10-01T00:00:00",
          "2023-10-02T00:00:00",
          "2023-10-03T00:00:00",
          "2023-10-04T00:00:00",
          "2023-10-05T00:00:00",
          "2023-10-06T00:00:00",
          "2023-10-07T00:00:00",
          "2023-10-08T00:00:00",
          "2023-10-09T00:00:00",
          "2023-10-10T00:00:00",
          "2023-10-11T00:00:00",
          "2023-10-12T00:00:00",
          "2023-10-13T00:00:00",
          "2023-10-14T00:00:00",
          "2023-10-15T00:00:00",
          "2023-10-16T00:00:00",
          "2023-10-17T00:00:00",
          "2023-10-18T00:00:00",
          "2023-10-19T00:00:00",
          "2023-10-20T00:00:00",
          "2023-10-21T00:00:00",
          "2023-10-22T00:00:00",
          "2023-10-23T00:00:00",
          "2023-10-24T00:00:00",
          "2023-10-25T00:00:00",
          "2023-10-26T00:00:00",
          "2023-10-27T00:00:00",
          "2023-10-28T00:00:00",
          "2023-10-29T00:00:00",
          "2023-10-30T00:00:00",
          "2023-10-31T00:00:00",
          "2023-11-01T00:00:00",
          "2023-11-02T00:00:00",
          "2023-11-03T00:00:00",
          "2023-11-04T00:00:00",
          "2023-11-05T00:00:00",
          "2023-11-06T00:00:00",
          "2023-11-07T00:00:00",
          "2023-11-08T00:00:00",
          "2023-11-09T00:00:00",
          "2023-11-10T00:00:00",
          "2023-11-11T00:00:00",
          "2023-11-12T00:00:00",
          "2023-11-13T00:00:00",
          "2023-11-14T00:00:00",
          "2023-11-15T00:00:00",
          "2023-11-16T00:00:00",
          "2023-11-17T00:00:00",
          "2023-11-18T00:00:00",
          "2023-11-19T00:00:00",
          "2023-11-20T00:00:00",
          "2023-11-21T00:00:00",
          "2023-11-22T00:00:00",
          "2023-11-23T00:00:00",
          "2023-11-24T00:00:00",
          "2023-11-25T00:00:00",
          "2023-11-26T00:00:00",
          "2023-11-27T00:00:00",
          "2023-11-28T00:00:00",
          "2023-11-29T00:00:00",
          "2023-11-30T00:00:00",
          "2023-12-01T00:00:00",
          "2023-12-02T00:00:00",
          "2023-12-03T00:00:00",
          "2023-12-04T00:00:00",
          "2023-12-05T00:00:00",
          "2023-12-06T00:00:00",
          "2023-12-07T00:00:00",
          "2023-12-08T00:00:00",
          "2023-12-09T00:00:00",
          "2023-12-10T00:00:00",
          "2023-12-11T00:00:00",
          "2023-12-12T00:00:00",
          "2023-12-13T00:00:00",
          "2023-12-14T00:00:00",
          "2023-12-15T00:00:00",
          "2023-12-16T00:00:00",
          "2023-12-17T00:00:00",
          "2023-12-18T00:00:00",
          "2023-12-19T00:00:00",
          "2023-12-20T00:00:00",
          "2023-12-21T00:00:00",
          "2023-12-22T00:00:00",
          "2023-12-23T00:00:00",
          "2023-12-24T00:00:00",
          "2023-12-25T00:00:00",
          "2023-12-26T00:00:00",
          "2023-12-27T00:00:00",
          "2023-12-28T00:00:00",
          "2023-12-29T00:00:00",
          "2023-12-30T00:00:00",
          "2023-12-31T00:00:00",
          "2024-01-01T00:00:00",
          "2024-01-02T00:00:00",
          "2024-01-03T00:00:00",
          "2024-01-04T00:00:00",
          "2024-01-05T00:00:00",
          "2024-01-06T00:00:00",
          "2024-01-07T00:00:00",
          "2024-01-08T00:00:00",
          "2024-01-09T00:00:00",
          "2024-01-10T00:00:00",
          "2024-01-11T00:00:00",
          "2024-01-12T00:00:00",
          "2024-01-13T00:00:00",
          "2024-01-14T00:00:00",
          "2024-01-15T00:00:00",
          "2024-01-16T00:00:00",
          "2024-01-17T00:00:00",
          "2024-01-18T00:00:00",
          "2024-01-19T00:00:00",
          "2024-01-20T00:00:00",
          "2024-01-21T00:00:00",
          "2024-01-22T00:00:00",
          "2024-01-23T00:00:00",
          "2024-01-24T00:00:00",
          "2024-01-25T00:00:00",
          "2024-01-26T00:00:00",
          "2024-01-27T00:00:00",
          "2024-01-28T00:00:00",
          "2024-01-29T00:00:00",
          "2024-01-30T00:00:00",
          "2024-01-31T00:00:00",
          "2024-02-01T00:00:00",
          "2024-02-02T00:00:00",
          "2024-02-03T00:00:00",
          "2024-02-04T00:00:00",
          "2024-02-05T00:00:00",
          "2024-02-06T00:00:00",
          "2024-02-07T00:00:00",
          "2024-02-08T00:00:00",
          "2024-02-09T00:00:00",
          "2024-02-10T00:00:00",
          "2024-02-11T00:00:00",
          "2024-02-12T00:00:00",
          "2024-02-13T00:00:00",
          "2024-02-14T00:00:00",
          "2024-02-15T00:00:00",
          "2024-02-16T00:00:00",
          "2024-02-17T00:00:00",
          "2024-02-18T00:00:00",
          "2024-02-19T00:00:00",
          "2024-02-20T00:00:00",
          "2024-02-21T00:00:00",
          "2024-02-22T00:00:00",
          "2024-02-23T00:00:00",
          "2024-02-24T00:00:00",
          "2024-02-25T00:00:00",
          "2024-02-26T00:00:00",
          "2024-02-27T00:00:00",
          "2024-02-28T00:00:00",
          "2024-02-29T00:00:00"
         ],
         "y": [
          [
           0.28157202605673515
          ],
          [
           -0.21022278434833153
          ],
          [
           0.19125376255061022
          ],
          [
           1.2774460474673925
          ],
          [
           0.6346089478604292
          ],
          [
           1.8383406112504064
          ],
          [
           1.4625496292434694
          ],
          [
           1.444681410188162
          ],
          [
           1.1747037878993742
          ],
          [
           2.7799119981882936
          ],
          [
           2.6942003849073646
          ],
          [
           2.38583401074194
          ],
          [
           1.6437445381011977
          ],
          [
           1.6242011735094548
          ],
          [
           2.1440546716498092
          ],
          [
           0.9868082968959055
          ],
          [
           0.9339016170368308
          ],
          [
           2.4214308533911852
          ],
          [
           1.5323473599282647
          ],
          [
           0.7718312863867364
          ],
          [
           1.3521296193001235
          ],
          [
           1.5823225350985777
          ],
          [
           1.8327567927956228
          ],
          [
           2.5620034829903626
          ],
          [
           3.2788261771232095
          ],
          [
           2.4090068573292918
          ],
          [
           0.8138495202589829
          ],
          [
           1.5626395750454656
          ],
          [
           0.41488569166469386
          ],
          [
           -0.09924439255950726
          ],
          [
           1.8536961120010613
          ],
          [
           1.226214513144753
          ],
          [
           1.0862002653910539
          ],
          [
           1.8308024563364487
          ],
          [
           0.9766178282159256
          ],
          [
           0.3696567621809467
          ],
          [
           -0.13442244882464396
          ],
          [
           0.31088707294434925
          ],
          [
           1.0525577592009827
          ],
          [
           1.444541814726792
          ],
          [
           1.820472392195099
          ],
          [
           1.7054457320265568
          ],
          [
           1.1257057809586482
          ],
          [
           0.2955315721936942
          ],
          [
           0.5557375121866105
          ],
          [
           1.2925223572953084
          ],
          [
           0.7673642316229095
          ],
          [
           0.08697595290752627
          ],
          [
           0.7708541181571492
          ],
          [
           -0.31813007598702486
          ],
          [
           0.067990970161262
          ],
          [
           0.18162167571610852
          ],
          [
           0.8491671719854893
          ],
          [
           0.944790063023659
          ],
          [
           0.8512611039060333
          ],
          [
           0.8033798606562637
          ],
          [
           2.275693191721333
          ],
          [
           1.6751535169093554
          ],
          [
           2.036566166395225
          ],
          [
           2.498627143528569
          ],
          [
           3.020434978128097
          ],
          [
           3.849911209586203
          ],
          [
           4.137198669084819
          ],
          [
           3.9364603956353488
          ],
          [
           3.8862060295422967
          ],
          [
           4.853602576833558
          ],
          [
           5.935048616063773
          ],
          [
           5.358240169684627
          ],
          [
           3.025600010198772
          ],
          [
           0.2516985973236428
          ],
          [
           0.863266313583818
          ],
          [
           0.7355364664306429
          ],
          [
           3.0575673708524085
          ],
          [
           3.324194702068326
          ],
          [
           2.553069373462709
          ],
          [
           2.2754140007985937
          ],
          [
           2.324132816816581
          ],
          [
           0.9567952727014435
          ],
          [
           -0.18663115137687078
          ],
          [
           2.0009693237459794
          ],
          [
           2.4300857719961
          ],
          [
           2.430644153841578
          ],
          [
           2.451164686662908
          ],
          [
           2.540226591016707
          ],
          [
           1.774824676327243
          ],
          [
           1.9289380656792707
          ],
          [
           2.221809343632671
          ],
          [
           2.6211919586110692
          ],
          [
           2.9122484955666645
          ],
          [
           2.0489901624571183
          ],
          [
           1.364134828977908
          ],
          [
           1.4516611832566415
          ],
          [
           1.5422586376855052
          ],
          [
           0.18036531656378216
          ],
          [
           1.6836688400529005
          ],
          [
           0.8225044388638977
          ],
          [
           0.16389305212217062
          ],
          [
           0.8160830476408966
          ],
          [
           -0.0361472440204524
          ],
          [
           0.1708728251906501
          ],
          [
           2.2504264132134373
          ],
          [
           1.7055853274879262
          ],
          [
           2.2350709124627826
          ],
          [
           2.3075209569135997
          ],
          [
           1.8224267286542735
          ],
          [
           1.2118361806236853
          ],
          [
           0.6478705166905401
          ],
          [
           0.8071489381132428
          ],
          [
           2.102176033238932
          ],
          [
           1.9660704584035817
          ],
          [
           1.9137221603899852
          ],
          [
           1.536674819230722
          ],
          [
           0.4313579561063056
          ],
          [
           0.6439618437721918
          ],
          [
           2.2481928858315237
          ],
          [
           2.4577256733472788
          ],
          [
           2.230743453160325
          ],
          [
           2.3415822494877796
          ],
          [
           2.311848416216057
          ],
          [
           1.9385701525137724
          ],
          [
           1.8472747207780604
          ],
          [
           2.1862125009834257
          ],
          [
           2.174207291305641
          ],
          [
           2.357496132083913
          ],
          [
           2.402027084260812
          ],
          [
           2.274716023491746
          ],
          [
           1.9406640844343164
          ],
          [
           1.5273219233189592
          ],
          [
           2.1553619040207463
          ],
          [
           1.687856703893988
          ],
          [
           1.3496169009954708
          ],
          [
           1.48963114874917
          ],
          [
           1.4850244985239733
          ],
          [
           1.2641844786372816
          ],
          [
           1.2090442713962934
          ],
          [
           2.0823534777244506
          ],
          [
           2.28016024648516
          ],
          [
           2.017999970033069
          ],
          [
           2.071604627198992
          ],
          [
           2.0495485443025965
          ],
          [
           0.5716513947827438
          ],
          [
           1.4464961511859664
          ],
          [
           1.7551417162741305
          ],
          [
           1.403361153622763
          ],
          [
           1.6066121453768867
          ],
          [
           0.07706467515028545
          ],
          [
           -0.21831932110776772
          ],
          [
           -0.3567980187864013
          ],
          [
           1.3112281491188336
          ],
          [
           2.2835105375580302
          ],
          [
           2.062670517671338
          ],
          [
           2.1341433938925682
          ],
          [
           1.7653321849541108
          ],
          [
           1.7050269456424478
          ],
          [
           1.3970793578611316
          ],
          [
           1.1051852481373183
          ],
          [
           0.4037180547551267
          ],
          [
           1.6956740497306853
          ],
          [
           1.78599231323681
          ],
          [
           1.7181489190111894
          ],
          [
           1.7217784010067987
          ],
          [
           1.0091435707150398
          ],
          [
           0.7615012222453866
          ],
          [
           1.4399351645015959
          ],
          [
           1.8506250118509304
          ],
          [
           2.0858433642586904
          ],
          [
           1.948202239348274
          ],
          [
           2.694479575830104
          ],
          [
           1.8564880212284534
          ],
          [
           1.2876365161473728
          ],
          [
           2.861156556705395
          ],
          [
           3.157378125731665
          ],
          [
           3.6424723539909913
          ],
          [
           3.2479755801605292
          ],
          [
           2.957896211434521
          ],
          [
           2.48452800193024
          ],
          [
           1.9440143755071861
          ],
          [
           3.5490829903347354
          ],
          [
           3.7566614413913166
          ],
          [
           3.5335878941227117
          ],
          [
           3.6723457827240846
          ],
          [
           3.517394820603839
          ],
          [
           2.1848165463697296
          ],
          [
           1.9222374835335305
          ],
          [
           3.2313637202575483
          ],
          [
           3.5730934096903058
          ],
          [
           3.366073340479203
          ],
          [
           2.105247133389063
          ],
          [
           3.2597015989155755
          ],
          [
           1.1967598707957692
          ],
          [
           0.7363740391988604
          ],
          [
           4.330119596697594
          ],
          [
           4.4007549001506066
          ],
          [
           4.044786473658151
          ],
          [
           4.2572507658626675
          ],
          [
           3.7343261675721826
          ],
          [
           1.569060966268467
          ],
          [
           2.2258576120123896
          ],
          [
           4.657750144532022
          ],
          [
           4.67198888159172
          ],
          [
           3.773133705832928
          ],
          [
           4.666963444982415
          ],
          [
           4.397823395461845
          ],
          [
           3.6655056051169743
          ],
          [
           2.767069215742291
          ],
          [
           3.453599694757936
          ],
          [
           3.547966226643779
          ],
          [
           5.054480445744398
          ],
          [
           5.7351479153825204
          ],
          [
           5.252147619043738
          ],
          [
           4.444169088636549
          ],
          [
           3.5649968729308696
          ],
          [
           5.056295186742203
          ],
          [
           4.4405396066409395
          ],
          [
           4.500844845952603
          ],
          [
           4.910278334149612
          ],
          [
           4.437747697413548
          ],
          [
           2.951056033827411
          ],
          [
           2.1289783618218934
          ],
          [
           4.147947519610279
          ],
          [
           3.9430213823197198
          ],
          [
           3.8063574256388906
          ],
          [
           4.267999616388126
          ],
          [
           5.226322458690364
          ],
          [
           4.401871663841563
          ],
          [
           3.74186432248614
          ],
          [
           5.083935088093382
          ],
          [
           5.979998354624782
          ],
          [
           6.833764196361197
          ],
          [
           6.998626436238682
          ],
          [
           6.319354921214257
          ],
          [
           5.521846050409787
          ],
          [
           4.211882240917551
          ],
          [
           6.99932441354553
          ],
          [
           7.576132859924677
          ],
          [
           7.84429574121566
          ],
          [
           7.502147265398794
          ],
          [
           8.892657656101283
          ],
          [
           7.613963229955836
          ],
          [
           4.726989493371339
          ],
          [
           8.319897478101854
          ],
          [
           8.345443447532489
          ],
          [
           7.567198750397023
          ],
          [
           7.102485459497658
          ],
          [
           5.02321106239761
          ],
          [
           3.14565210697662
          ],
          [
           2.5169141489679854
          ],
          [
           4.118632472722664
          ],
          [
           4.953692522635554
          ],
          [
           5.5846640080261025
          ],
          [
           5.320130608730728
          ],
          [
           3.9546078056133958
          ],
          [
           4.772916400161934
          ],
          [
           4.59381542322475
          ],
          [
           4.824706316330052
          ],
          [
           4.606099823825274
          ],
          [
           5.491693430753955
          ],
          [
           4.285030262675217
          ],
          [
           1.9374533888228156
          ],
          [
           0.08879069390533088
          ],
          [
           0.21666013651987576
          ],
          [
           2.781726739186098
          ],
          [
           4.20197096316031
          ],
          [
           4.432582665342873
          ],
          [
           4.543561057131697
          ],
          [
           4.2705123346927785
          ],
          [
           4.030128950214344
          ],
          [
           2.9886072129358308
          ],
          [
           2.5617242920676233
          ],
          [
           3.4591835132127193
          ],
          [
           4.519969424160236
          ],
          [
           4.951877781637749
          ],
          [
           3.5328899168158636
          ],
          [
           0.28492231712960525
          ],
          [
           0.7306506252827072
          ],
          [
           2.051223689839032
          ],
          [
           2.5671685150610375
          ],
          [
           0.5692782719394608
          ],
          [
           0.5359149566721287
          ],
          [
           1.416622722452874
          ],
          [
           1.157673141612284
          ],
          [
           1.1769373152812876
          ],
          [
           1.391495539406348
          ],
          [
           2.7564599606782023
          ],
          [
           3.0729228716030637
          ],
          [
           2.7228174544881307
          ],
          [
           2.76734840666503
          ],
          [
           1.3152764174985516
          ],
          [
           0.4669547987555511
          ],
          [
           1.2591590420279766
          ],
          [
           1.685902367434814
          ],
          [
           1.4802782528374072
          ],
          [
           1.0862002653910539
          ],
          [
           1.410480522152612
          ],
          [
           1.0813144242431183
          ],
          [
           0.4654192486804856
          ],
          [
           0.2542113156282955
          ],
          [
           0.6001288689021403
          ],
          [
           0.8234816070934848
          ],
          [
           0.86940851388408
          ],
          [
           0.6018040144385753
          ],
          [
           0.5395444386677382
          ],
          [
           0.755638212867864
          ],
          [
           1.155997996075849
          ],
          [
           0.09004705305765724
          ],
          [
           0.1334612415435998
          ],
          [
           0.5667655536348083
          ],
          [
           1.621130073359324
          ],
          [
           0.9755010645249687
          ],
          [
           -0.1580140817961047
          ],
          [
           0.19111416708924056
          ],
          [
           0.4570435209983103
          ],
          [
           0.897746392542107
          ],
          [
           1.0447404133642855
          ],
          [
           0.8790406007185817
          ],
          [
           1.3937290667882614
          ],
          [
           1.151251750389283
          ],
          [
           1.3734877248896709
          ],
          [
           1.603680640688125
          ],
          [
           1.1356170587158887
          ],
          [
           0.5233513651488657
          ],
          [
           1.5162938818707616
          ],
          [
           1.9014377597894614
          ],
          [
           2.0642060677464036
          ],
          [
           2.6720047065496
          ],
          [
           1.974864972469866
          ],
          [
           1.6133127275226269
          ],
          [
           2.4436265317489503
          ],
          [
           2.7293784411725017
          ],
          [
           2.46749735564315
          ],
          [
           1.1759601470517005
          ],
          [
           3.1999547414493903
          ],
          [
           4.3167184324061125
          ],
          [
           4.624666020187429
          ],
          [
           4.633879320637822
          ],
          [
           3.8638707557231617
          ],
          [
           3.064267952998149
          ],
          [
           2.8769308438401584
          ],
          [
           3.8926274207652978
          ],
          [
           4.523319715233106
          ],
          [
           3.6632720777350607
          ],
          [
           4.538535620522392
          ],
          [
           4.866724550202299
          ],
          [
           4.079406148077809
          ],
          [
           3.6903535972407613
          ],
          [
           5.186258561277291
          ],
          [
           5.33353177302221
          ],
          [
           5.325156045340034
          ],
          [
           4.6701741405939154
          ],
          [
           4.870493627659278
          ],
          [
           2.88349183052453
          ],
          [
           1.7777561810160043
          ],
          [
           1.8080483961332054
          ],
          [
           1.7227555692363856
          ],
          [
           2.1245113070580666
          ],
          [
           1.8179596738904462
          ],
          [
           1.7237327374659728
          ],
          [
           0.6904471324082653
          ],
          [
           0.6086441920456853
          ],
          [
           -0.3054268890023921
          ],
          [
           0.40930187320991035
          ],
          [
           -0.23046412624692214
          ],
          [
           -0.681636657393438
          ],
          [
           -0.666979133949631
          ],
          [
           -0.8822353353815393
          ],
          [
           -0.6630704610312825
          ],
          [
           0.8572637087449255
          ],
          [
           1.166188464755829
          ],
          [
           -0.04843164462097638
          ],
          [
           0.6288855339442758
          ],
          [
           0.7686205907752358
          ],
          [
           0.36853999848999
          ],
          [
           0.09116381674861394
          ],
          [
           0.9336224261140915
          ],
          [
           0.8476316219104238
          ],
          [
           0.3025113452621737
          ],
          [
           0.11629099979514015
          ],
          [
           0.0590568606336082
          ],
          [
           -0.46163421027496376
          ],
          [
           -0.7419418967051011
          ],
          [
           0.9260842712001338
          ],
          [
           0.9933692835802762
          ],
          [
           1.1356170587158887
          ],
          [
           1.1977370390253568
          ],
          [
           1.650724311169677
          ],
          [
           1.1444115727821729
          ],
          [
           1.2387781046680162
          ],
          [
           1.958811494412363
          ],
          [
           1.9582531125668845
          ],
          [
           1.665800620997593
          ],
          [
           1.469389806850579
          ],
          [
           1.4846057121398646
          ],
          [
           1.1487390320846302
          ],
          [
           0.8540530131334251
          ],
          [
           0.16473062489038798
          ],
          [
           0.7665266588546918
          ],
          [
           0.428147260494805
          ],
          [
           1.0293849126136307
          ],
          [
           0.5611817351800246
          ],
          [
           1.1670260375240467
          ],
          [
           0.9626582820789665
          ],
          [
           1.5432358059150928
          ],
          [
           1.5426774240696142
          ],
          [
           1.2520396734981272
          ],
          [
           0.9789909510592084
          ],
          [
           0.8865787556325396
          ],
          [
           0.6122736740412946
          ],
          [
           1.0316184399955441
          ],
          [
           1.41117849945946
          ],
          [
           1.2854029887654594
          ],
          [
           1.132266767643019
          ],
          [
           1.0374814493730666
          ],
          [
           0.26160987508088385
          ],
          [
           0.4503429388525699
          ],
          [
           0.7208789429868359
          ],
          [
           -0.013811970201317926
          ],
          [
           0.8381391305372918
          ],
          [
           1.2038792393256186
          ],
          [
           1.1685615875991122
          ],
          [
           0.7802070140689118
          ],
          [
           0.37524058063573035
          ],
          [
           0.6618300628274991
          ],
          [
           1.2544127963414105
          ],
          [
           1.1953639161820735
          ],
          [
           1.1245890172676911
          ],
          [
           1.1432948090912163
          ],
          [
           1.0379002357571756
          ],
          [
           0.6290251294056455
          ],
          [
           0.8289258300868989
          ],
          [
           1.2320775225222755
          ],
          [
           0.6206494017234702
          ],
          [
           1.0676340690288981
          ],
          [
           0.9044469746878472
          ],
          [
           0.742655834960492
          ],
          [
           0.5052039551708188
          ],
          [
           0.46234814853035466
          ],
          [
           -0.3527497504066832
          ],
          [
           0.12662106393648997
          ],
          [
           0.911705938679066
          ],
          [
           0.6025019917454232
          ],
          [
           0.4179567918148248
          ],
          [
           0.6551294806817589
          ],
          [
           0.6921222779447003
          ],
          [
           0.8761090960298203
          ],
          [
           0.7348384891237949
          ],
          [
           0.24806911532803358
          ],
          [
           0.1717103979588675
          ],
          [
           -0.12967620313807796
          ],
          [
           -0.6664207521041526
          ],
          [
           0.11461585425870521
          ],
          [
           0.41753800543071606
          ],
          [
           0.7083153514635728
          ],
          [
           0.755638212867864
          ],
          [
           0.26565814346060185
          ],
          [
           0.4911048135724903
          ],
          [
           -0.09268340587513643
          ],
          [
           0.06868894746810991
          ],
          [
           0.7313486025895551
          ],
          [
           0.9724299643748376
          ],
          [
           1.0966699249937732
          ],
          [
           0.8636850999679269
          ],
          [
           0.6452182029245179
          ],
          [
           0.7605240540157996
          ],
          [
           0.5952430277542046
          ],
          [
           -0.3132442348390892
          ],
          [
           -0.03377412117716934
          ],
          [
           0.6320962295557765
          ],
          [
           0.6421471027743869
          ],
          [
           0.9267822485069819
          ],
          [
           0.6196722334938829
          ],
          [
           0.6657387357458476
          ],
          [
           0.8631267181224483
          ],
          [
           0.6396343844697344
          ],
          [
           0.35053218397331276
          ],
          [
           0.6882136050263516
          ],
          [
           0.37789289440175255
          ],
          [
           0.30795556825558773
          ],
          [
           0.32652176461774324
          ],
          [
           0.588961231992573
          ],
          [
           0.5387068658995205
          ],
          [
           0.6743936543507624
          ],
          [
           0.6935182325583963
          ],
          [
           0.6085045965843157
          ],
          [
           0.533821024751585
          ],
          [
           0.08209011175959069
          ],
          [
           0.3509509703574215
          ],
          [
           0.6099005511980116
          ],
          [
           0.6336317796308419
          ],
          [
           0.48984845442016395
          ],
          [
           0.4696071125215733
          ],
          [
           0.3784512762472308
          ],
          [
           0.06380310632017433
          ],
          [
           0.4740741672854003
          ],
          [
           0.4499241524684611
          ],
          [
           0.6348881387831683
          ],
          [
           0.7500543944130803
          ],
          [
           0.5318666882924107
          ],
          [
           0.22252314589739838
          ],
          [
           0.13388002792770862
          ],
          [
           0.7179474382980746
          ],
          [
           0.2357847147275095
          ],
          [
           0.22573384150889902
          ],
          [
           0.33950414252511524
          ],
          [
           0.34718189290044266
          ],
          [
           -0.21776093926228937
          ],
          [
           -0.47391861087548764
          ],
          [
           0.4874753315768809
          ],
          [
           0.14490806937590633
          ],
          [
           0.5564354894934584
          ],
          [
           0.26858964814936337
          ],
          [
           0.10568174473105142
          ],
          [
           0.003637462469880865
          ],
          [
           -0.5005813439970793
          ],
          [
           -0.5717750292955706
          ],
          [
           0.3536032841234437
          ],
          [
           0.1383470826915354
          ],
          [
           0.1464436194509718
          ],
          [
           0.259795134083079
          ],
          [
           -0.0843076781929611
          ],
          [
           -0.17783663731058655
          ],
          [
           0.3957611134570601
          ],
          [
           0.4987825639478177
          ],
          [
           0.5377296976699335
          ],
          [
           0.3086535455624356
          ],
          [
           0.3388061652182673
          ],
          [
           -0.10161751540279022
          ],
          [
           -0.30235578885226116
          ],
          [
           0.47449295366950905
          ],
          [
           0.38557064477708
          ],
          [
           0.565788385405221
          ],
          [
           0.8082657018041995
          ],
          [
           0.9089140294516739
          ],
          [
           0.5881236592243556
          ],
          [
           0.4273096877265874
          ],
          [
           0.7616408177067563
          ],
          [
           0.8199917205592451
          ],
          [
           0.85237786759699
          ],
          [
           0.8836472509437782
          ],
          [
           0.6142280105004688
          ],
          [
           0.2709627709926462
          ],
          [
           0.1824592484843261
          ],
          [
           0.4897088589587943
          ],
          [
           0.5519684347296316
          ],
          [
           0.6995208373972885
          ],
          [
           0.7771359139187808
          ],
          [
           0.6647615675162606
          ],
          [
           0.055846165022107576
          ],
          [
           -1.6232080443313248
          ],
          [
           -0.12828024852438202
          ],
          [
           0.31702927324461116
          ],
          [
           0.1031690264263987
          ],
          [
           0.6252560519486666
          ],
          [
           0.5662071717893298
          ],
          [
           0.27612780306332113
          ],
          [
           0.37579896248120864
          ],
          [
           0.7200413702186182
          ],
          [
           0.6079462147388373
          ],
          [
           0.35039258851194327
          ],
          [
           0.49277995910892525
          ],
          [
           0.4824498949675756
          ],
          [
           -0.40607521664986673
          ],
          [
           -0.668375088563327
          ],
          [
           0.2723587256063422
          ],
          [
           0.6149259878073168
          ],
          [
           0.48733573611551123
          ],
          [
           0.47602850374457456
          ],
          [
           0.5861693227651813
          ],
          [
           0.19990868115552488
          ],
          [
           -0.4395781273785684
          ],
          [
           0.3925504178455595
          ],
          [
           0.5826794362309415
          ],
          [
           0.45829988015063644
          ],
          [
           0.43973368378848093
          ],
          [
           0.4677923715237687
          ],
          [
           0.19921070384867698
          ],
          [
           -0.42799170408489245
          ],
          [
           0.1195016954066408
          ],
          [
           0.23759945572531432
          ],
          [
           0.08209011175959069
          ],
          [
           -0.2373043038540321
          ],
          [
           0.5050643597094493
          ],
          [
           0.38947931769542854
          ],
          [
           -0.0628099771420442
          ],
          [
           -0.5998337170308581
          ],
          [
           -0.7028551675216157
          ],
          [
           0.3621186072669887
          ],
          [
           0.5550395348797627
          ],
          [
           0.5308895200628234
          ],
          [
           0.24751073348255515
          ],
          [
           0.039094709657756695
          ],
          [
           0.5717909902441135
          ],
          [
           0.4348478426405454
          ],
          [
           0.6756500135030887
          ],
          [
           0.6833277638784161
          ],
          [
           0.6502436395338231
          ],
          [
           0.3124226230194147
          ],
          [
           0.38682700392940633
          ],
          [
           0.8194333387137667
          ],
          [
           0.8479108128331632
          ],
          [
           1.1745641924380048
          ],
          [
           1.180148010892788
          ],
          [
           0.7517295399495154
          ],
          [
           0.47616809920594405
          ],
          [
           0.5512704574227838
          ],
          [
           0.7853720461395867
          ],
          [
           0.8444209262989234
          ],
          [
           0.7331633435873599
          ],
          [
           0.5847733681514853
          ],
          [
           0.6443806301563003
          ],
          [
           0.456764330075571
          ],
          [
           0.28254919428632236
          ],
          [
           0.6427054846198653
          ],
          [
           0.5741641130873966
          ],
          [
           0.6031999690522714
          ],
          [
           0.5385672704381509
          ],
          [
           0.6396343844697344
          ],
          [
           0.4062307730597794
          ],
          [
           0.3195419915492637
          ],
          [
           1.2626489285622162
          ],
          [
           0.963775045769923
          ],
          [
           0.6635052083639342
          ],
          [
           0.8104992291861128
          ],
          [
           0.6390760026242559
          ],
          [
           0.4577414983051582
          ],
          [
           0.3519281385870088
          ],
          [
           0.459137452918854
          ],
          [
           -0.3474451228746388
          ],
          [
           -0.18076814199934796
          ],
          [
           0.5674635309416561
          ],
          [
           0.5803063133876585
          ],
          [
           0.5180467376168211
          ],
          [
           0.0894886712121788
          ],
          [
           0.6057126873569239
          ],
          [
           0.9262238666615032
          ],
          [
           0.8664770091953187
          ],
          [
           0.6995208373972885
          ],
          [
           0.5983141279043356
          ],
          [
           0.40609117759840974
          ],
          [
           0.1623575020471051
          ],
          [
           0.778113082148368
          ],
          [
           -0.5506961146287623
          ],
          [
           0.09884156712394136
          ],
          [
           0.5472221890430655
          ],
          [
           0.12829620947292492
          ],
          [
           -0.24372569507703318
          ],
          [
           0.394085967920625
          ],
          [
           0.7482396534152757
          ],
          [
           0.6977060963994839
          ],
          [
           -0.03642643494319162
          ],
          [
           0.841768612532901
          ],
          [
           0.08376525729602564
          ],
          [
           -0.5008605349198185
          ],
          [
           -0.31813007598702486
          ],
          [
           0.9951840245780809
          ],
          [
           0.9452088494077677
          ],
          [
           0.5029704277889054
          ],
          [
           0.43275391072000147
          ],
          [
           0.3466235110549642
          ],
          [
           -0.11292474777372707
          ],
          [
           0.021505681525188444
          ],
          [
           0.8740151641092765
          ],
          [
           0.7758795547664544
          ],
          [
           0.8641038863520356
          ],
          [
           0.8227836297866368
          ],
          [
           0.7809049913757596
          ],
          [
           0.2926000675049329
          ],
          [
           -0.5497189463991752
          ],
          [
           0.4254949467287828
          ],
          [
           0.5938470731405088
          ],
          [
           0.006708562620011836
          ],
          [
           -0.03684522132730031
          ],
          [
           -0.08151576896556925
          ],
          [
           -0.5247313588140186
          ],
          [
           -0.453677268976897
          ],
          [
           0.13443840977318705
          ],
          [
           0.5212574332283217
          ],
          [
           0.38124318547462266
          ],
          [
           0.4859397815018154
          ],
          [
           0.44168802024765524
          ],
          [
           0.4799371766629231
          ],
          [
           0.4966886320272738
          ],
          [
           0.4534140390027009
          ],
          [
           0.04328257349884456
          ],
          [
           0.5583898259526328
          ],
          [
           0.7708541181571492
          ],
          [
           0.8226440343252673
          ],
          [
           0.40469522298471394
          ],
          [
           -0.3379526315015066
          ],
          [
           0.6096213602752724
          ],
          [
           0.8500047447537069
          ],
          [
           0.6600153218296945
          ],
          [
           -0.010740870051186954
          ],
          [
           0.020388917834231645
          ],
          [
           0.44936577062298266
          ],
          [
           0.7529858991018417
          ],
          [
           0.7273003342098372
          ],
          [
           0.8310197620074427
          ],
          [
           1.0834083561636623
          ],
          [
           1.4846057121398646
          ],
          [
           1.312065721887051
          ],
          [
           0.7536838764086897
          ],
          [
           0.5906363775290081
          ],
          [
           0.6889115823331998
          ],
          [
           0.725625188673402
          ],
          [
           0.9371123126483313
          ],
          [
           0.7564757856360814
          ],
          [
           0.5761184495465709
          ],
          [
           0.22336071866561596
          ],
          [
           -0.09128745126144061
          ],
          [
           0.23229482819326974
          ],
          [
           0.6093421693525333
          ],
          [
           0.4275888786493267
          ],
          [
           0.6241392882577099
          ],
          [
           0.4303807878767184
          ],
          [
           0.11559302248829224
          ],
          [
           -0.1631791138667796
          ],
          [
           0.21721851836535402
          ],
          [
           0.19376648085526293
          ],
          [
           -0.005715433441881711
          ],
          [
           -0.5183099675910173
          ],
          [
           -0.5548839784698499
          ],
          [
           -0.4420908456832211
          ],
          [
           -0.9182509644148936
          ],
          [
           -0.8654838800171886
          ],
          [
           -0.6391996371370826
          ],
          [
           -0.02246688880623259
          ],
          [
           -0.6385016598302347
          ],
          [
           -0.7824245805022823
          ],
          [
           -0.39574515250851705
          ],
          [
           -0.7330077871774473
          ],
          [
           -0.6453418374373445
          ],
          [
           -0.13037418044492585
          ],
          [
           -0.2399566176200543
          ],
          [
           0.32107754162432917
          ],
          [
           0.40427643660060514
          ],
          [
           0.3672836393376636
          ],
          [
           0.3339203240703315
          ],
          [
           0.5558771076479803
          ],
          [
           0.6558274579886069
          ],
          [
           0.6900283460241565
          ],
          [
           0.6594569399842163
          ],
          [
           0.6090629784297942
          ],
          [
           0.16975606149969322
          ],
          [
           0.19181214439608868
          ],
          [
           0.33629344691361457
          ],
          [
           0.5406612023586949
          ],
          [
           0.5193030967691474
          ],
          [
           0.4234010148082389
          ],
          [
           0.22475667327931198
          ],
          [
           0.15705287451506056
          ],
          [
           -0.16960050508978078
          ],
          [
           -0.1754635144673035
          ],
          [
           -0.1414022218931235
          ],
          [
           -0.4088671258772586
          ],
          [
           0.21791649567220192
          ],
          [
           -0.04438337624125827
          ],
          [
           0.08292768452780806
          ],
          [
           -0.043685398934410265
          ],
          [
           0.2599347295444487
          ],
          [
           0.21721851836535402
          ],
          [
           0.18971821247554474
          ],
          [
           0.13443840977318705
          ],
          [
           -0.010461679128447829
          ],
          [
           -0.3690824193869253
          ],
          [
           -0.6648852020290872
          ],
          [
           -0.3708971603847299
          ],
          [
           -0.23897944939046714
          ],
          [
           0.23383037826833522
          ],
          [
           0.36700444841492447
          ],
          [
           0.11321989964500918
          ],
          [
           0.13569476892551322
          ],
          [
           -0.00627381528736006
          ],
          [
           0.17226877980434596
          ],
          [
           0.13709072353920923
          ],
          [
           0.08027537076178588
          ],
          [
           0.11294070872227006
          ],
          [
           -0.01883740681062317
          ],
          [
           0.05919645609497787
          ],
          [
           -0.12883863036986037
          ],
          [
           0.04021147334871359
          ],
          [
           0.011315212845208292
          ],
          [
           -0.06755622282861022
          ],
          [
           -0.16038720463938777
          ],
          [
           -0.26061674590275363
          ],
          [
           -0.07272125489928502
          ],
          [
           -0.018418620426514383
          ],
          [
           0.0538918285629333
          ],
          [
           0.15956559281971328
          ],
          [
           0.1313673096230559
          ],
          [
           0.011036021922469167
          ]
         ]
        }
       ],
       "layout": {
        "legend": {
         "x": 0.01,
         "y": 0.99
        },
        "template": {
         "data": {
          "bar": [
           {
            "error_x": {
             "color": "#2a3f5f"
            },
            "error_y": {
             "color": "#2a3f5f"
            },
            "marker": {
             "line": {
              "color": "white",
              "width": 0.5
             },
             "pattern": {
              "fillmode": "overlay",
              "size": 10,
              "solidity": 0.2
             }
            },
            "type": "bar"
           }
          ],
          "barpolar": [
           {
            "marker": {
             "line": {
              "color": "white",
              "width": 0.5
             },
             "pattern": {
              "fillmode": "overlay",
              "size": 10,
              "solidity": 0.2
             }
            },
            "type": "barpolar"
           }
          ],
          "carpet": [
           {
            "aaxis": {
             "endlinecolor": "#2a3f5f",
             "gridcolor": "#C8D4E3",
             "linecolor": "#C8D4E3",
             "minorgridcolor": "#C8D4E3",
             "startlinecolor": "#2a3f5f"
            },
            "baxis": {
             "endlinecolor": "#2a3f5f",
             "gridcolor": "#C8D4E3",
             "linecolor": "#C8D4E3",
             "minorgridcolor": "#C8D4E3",
             "startlinecolor": "#2a3f5f"
            },
            "type": "carpet"
           }
          ],
          "choropleth": [
           {
            "colorbar": {
             "outlinewidth": 0,
             "ticks": ""
            },
            "type": "choropleth"
           }
          ],
          "contour": [
           {
            "colorbar": {
             "outlinewidth": 0,
             "ticks": ""
            },
            "colorscale": [
             [
              0,
              "#0d0887"
             ],
             [
              0.1111111111111111,
              "#46039f"
             ],
             [
              0.2222222222222222,
              "#7201a8"
             ],
             [
              0.3333333333333333,
              "#9c179e"
             ],
             [
              0.4444444444444444,
              "#bd3786"
             ],
             [
              0.5555555555555556,
              "#d8576b"
             ],
             [
              0.6666666666666666,
              "#ed7953"
             ],
             [
              0.7777777777777778,
              "#fb9f3a"
             ],
             [
              0.8888888888888888,
              "#fdca26"
             ],
             [
              1,
              "#f0f921"
             ]
            ],
            "type": "contour"
           }
          ],
          "contourcarpet": [
           {
            "colorbar": {
             "outlinewidth": 0,
             "ticks": ""
            },
            "type": "contourcarpet"
           }
          ],
          "heatmap": [
           {
            "colorbar": {
             "outlinewidth": 0,
             "ticks": ""
            },
            "colorscale": [
             [
              0,
              "#0d0887"
             ],
             [
              0.1111111111111111,
              "#46039f"
             ],
             [
              0.2222222222222222,
              "#7201a8"
             ],
             [
              0.3333333333333333,
              "#9c179e"
             ],
             [
              0.4444444444444444,
              "#bd3786"
             ],
             [
              0.5555555555555556,
              "#d8576b"
             ],
             [
              0.6666666666666666,
              "#ed7953"
             ],
             [
              0.7777777777777778,
              "#fb9f3a"
             ],
             [
              0.8888888888888888,
              "#fdca26"
             ],
             [
              1,
              "#f0f921"
             ]
            ],
            "type": "heatmap"
           }
          ],
          "heatmapgl": [
           {
            "colorbar": {
             "outlinewidth": 0,
             "ticks": ""
            },
            "colorscale": [
             [
              0,
              "#0d0887"
             ],
             [
              0.1111111111111111,
              "#46039f"
             ],
             [
              0.2222222222222222,
              "#7201a8"
             ],
             [
              0.3333333333333333,
              "#9c179e"
             ],
             [
              0.4444444444444444,
              "#bd3786"
             ],
             [
              0.5555555555555556,
              "#d8576b"
             ],
             [
              0.6666666666666666,
              "#ed7953"
             ],
             [
              0.7777777777777778,
              "#fb9f3a"
             ],
             [
              0.8888888888888888,
              "#fdca26"
             ],
             [
              1,
              "#f0f921"
             ]
            ],
            "type": "heatmapgl"
           }
          ],
          "histogram": [
           {
            "marker": {
             "pattern": {
              "fillmode": "overlay",
              "size": 10,
              "solidity": 0.2
             }
            },
            "type": "histogram"
           }
          ],
          "histogram2d": [
           {
            "colorbar": {
             "outlinewidth": 0,
             "ticks": ""
            },
            "colorscale": [
             [
              0,
              "#0d0887"
             ],
             [
              0.1111111111111111,
              "#46039f"
             ],
             [
              0.2222222222222222,
              "#7201a8"
             ],
             [
              0.3333333333333333,
              "#9c179e"
             ],
             [
              0.4444444444444444,
              "#bd3786"
             ],
             [
              0.5555555555555556,
              "#d8576b"
             ],
             [
              0.6666666666666666,
              "#ed7953"
             ],
             [
              0.7777777777777778,
              "#fb9f3a"
             ],
             [
              0.8888888888888888,
              "#fdca26"
             ],
             [
              1,
              "#f0f921"
             ]
            ],
            "type": "histogram2d"
           }
          ],
          "histogram2dcontour": [
           {
            "colorbar": {
             "outlinewidth": 0,
             "ticks": ""
            },
            "colorscale": [
             [
              0,
              "#0d0887"
             ],
             [
              0.1111111111111111,
              "#46039f"
             ],
             [
              0.2222222222222222,
              "#7201a8"
             ],
             [
              0.3333333333333333,
              "#9c179e"
             ],
             [
              0.4444444444444444,
              "#bd3786"
             ],
             [
              0.5555555555555556,
              "#d8576b"
             ],
             [
              0.6666666666666666,
              "#ed7953"
             ],
             [
              0.7777777777777778,
              "#fb9f3a"
             ],
             [
              0.8888888888888888,
              "#fdca26"
             ],
             [
              1,
              "#f0f921"
             ]
            ],
            "type": "histogram2dcontour"
           }
          ],
          "mesh3d": [
           {
            "colorbar": {
             "outlinewidth": 0,
             "ticks": ""
            },
            "type": "mesh3d"
           }
          ],
          "parcoords": [
           {
            "line": {
             "colorbar": {
              "outlinewidth": 0,
              "ticks": ""
             }
            },
            "type": "parcoords"
           }
          ],
          "pie": [
           {
            "automargin": true,
            "type": "pie"
           }
          ],
          "scatter": [
           {
            "fillpattern": {
             "fillmode": "overlay",
             "size": 10,
             "solidity": 0.2
            },
            "type": "scatter"
           }
          ],
          "scatter3d": [
           {
            "line": {
             "colorbar": {
              "outlinewidth": 0,
              "ticks": ""
             }
            },
            "marker": {
             "colorbar": {
              "outlinewidth": 0,
              "ticks": ""
             }
            },
            "type": "scatter3d"
           }
          ],
          "scattercarpet": [
           {
            "marker": {
             "colorbar": {
              "outlinewidth": 0,
              "ticks": ""
             }
            },
            "type": "scattercarpet"
           }
          ],
          "scattergeo": [
           {
            "marker": {
             "colorbar": {
              "outlinewidth": 0,
              "ticks": ""
             }
            },
            "type": "scattergeo"
           }
          ],
          "scattergl": [
           {
            "marker": {
             "colorbar": {
              "outlinewidth": 0,
              "ticks": ""
             }
            },
            "type": "scattergl"
           }
          ],
          "scattermapbox": [
           {
            "marker": {
             "colorbar": {
              "outlinewidth": 0,
              "ticks": ""
             }
            },
            "type": "scattermapbox"
           }
          ],
          "scatterpolar": [
           {
            "marker": {
             "colorbar": {
              "outlinewidth": 0,
              "ticks": ""
             }
            },
            "type": "scatterpolar"
           }
          ],
          "scatterpolargl": [
           {
            "marker": {
             "colorbar": {
              "outlinewidth": 0,
              "ticks": ""
             }
            },
            "type": "scatterpolargl"
           }
          ],
          "scatterternary": [
           {
            "marker": {
             "colorbar": {
              "outlinewidth": 0,
              "ticks": ""
             }
            },
            "type": "scatterternary"
           }
          ],
          "surface": [
           {
            "colorbar": {
             "outlinewidth": 0,
             "ticks": ""
            },
            "colorscale": [
             [
              0,
              "#0d0887"
             ],
             [
              0.1111111111111111,
              "#46039f"
             ],
             [
              0.2222222222222222,
              "#7201a8"
             ],
             [
              0.3333333333333333,
              "#9c179e"
             ],
             [
              0.4444444444444444,
              "#bd3786"
             ],
             [
              0.5555555555555556,
              "#d8576b"
             ],
             [
              0.6666666666666666,
              "#ed7953"
             ],
             [
              0.7777777777777778,
              "#fb9f3a"
             ],
             [
              0.8888888888888888,
              "#fdca26"
             ],
             [
              1,
              "#f0f921"
             ]
            ],
            "type": "surface"
           }
          ],
          "table": [
           {
            "cells": {
             "fill": {
              "color": "#EBF0F8"
             },
             "line": {
              "color": "white"
             }
            },
            "header": {
             "fill": {
              "color": "#C8D4E3"
             },
             "line": {
              "color": "white"
             }
            },
            "type": "table"
           }
          ]
         },
         "layout": {
          "annotationdefaults": {
           "arrowcolor": "#2a3f5f",
           "arrowhead": 0,
           "arrowwidth": 1
          },
          "autotypenumbers": "strict",
          "coloraxis": {
           "colorbar": {
            "outlinewidth": 0,
            "ticks": ""
           }
          },
          "colorscale": {
           "diverging": [
            [
             0,
             "#8e0152"
            ],
            [
             0.1,
             "#c51b7d"
            ],
            [
             0.2,
             "#de77ae"
            ],
            [
             0.3,
             "#f1b6da"
            ],
            [
             0.4,
             "#fde0ef"
            ],
            [
             0.5,
             "#f7f7f7"
            ],
            [
             0.6,
             "#e6f5d0"
            ],
            [
             0.7,
             "#b8e186"
            ],
            [
             0.8,
             "#7fbc41"
            ],
            [
             0.9,
             "#4d9221"
            ],
            [
             1,
             "#276419"
            ]
           ],
           "sequential": [
            [
             0,
             "#0d0887"
            ],
            [
             0.1111111111111111,
             "#46039f"
            ],
            [
             0.2222222222222222,
             "#7201a8"
            ],
            [
             0.3333333333333333,
             "#9c179e"
            ],
            [
             0.4444444444444444,
             "#bd3786"
            ],
            [
             0.5555555555555556,
             "#d8576b"
            ],
            [
             0.6666666666666666,
             "#ed7953"
            ],
            [
             0.7777777777777778,
             "#fb9f3a"
            ],
            [
             0.8888888888888888,
             "#fdca26"
            ],
            [
             1,
             "#f0f921"
            ]
           ],
           "sequentialminus": [
            [
             0,
             "#0d0887"
            ],
            [
             0.1111111111111111,
             "#46039f"
            ],
            [
             0.2222222222222222,
             "#7201a8"
            ],
            [
             0.3333333333333333,
             "#9c179e"
            ],
            [
             0.4444444444444444,
             "#bd3786"
            ],
            [
             0.5555555555555556,
             "#d8576b"
            ],
            [
             0.6666666666666666,
             "#ed7953"
            ],
            [
             0.7777777777777778,
             "#fb9f3a"
            ],
            [
             0.8888888888888888,
             "#fdca26"
            ],
            [
             1,
             "#f0f921"
            ]
           ]
          },
          "colorway": [
           "#636efa",
           "#EF553B",
           "#00cc96",
           "#ab63fa",
           "#FFA15A",
           "#19d3f3",
           "#FF6692",
           "#B6E880",
           "#FF97FF",
           "#FECB52"
          ],
          "font": {
           "color": "#2a3f5f"
          },
          "geo": {
           "bgcolor": "white",
           "lakecolor": "white",
           "landcolor": "white",
           "showlakes": true,
           "showland": true,
           "subunitcolor": "#C8D4E3"
          },
          "hoverlabel": {
           "align": "left"
          },
          "hovermode": "closest",
          "mapbox": {
           "style": "light"
          },
          "paper_bgcolor": "white",
          "plot_bgcolor": "white",
          "polar": {
           "angularaxis": {
            "gridcolor": "#EBF0F8",
            "linecolor": "#EBF0F8",
            "ticks": ""
           },
           "bgcolor": "white",
           "radialaxis": {
            "gridcolor": "#EBF0F8",
            "linecolor": "#EBF0F8",
            "ticks": ""
           }
          },
          "scene": {
           "xaxis": {
            "backgroundcolor": "white",
            "gridcolor": "#DFE8F3",
            "gridwidth": 2,
            "linecolor": "#EBF0F8",
            "showbackground": true,
            "ticks": "",
            "zerolinecolor": "#EBF0F8"
           },
           "yaxis": {
            "backgroundcolor": "white",
            "gridcolor": "#DFE8F3",
            "gridwidth": 2,
            "linecolor": "#EBF0F8",
            "showbackground": true,
            "ticks": "",
            "zerolinecolor": "#EBF0F8"
           },
           "zaxis": {
            "backgroundcolor": "white",
            "gridcolor": "#DFE8F3",
            "gridwidth": 2,
            "linecolor": "#EBF0F8",
            "showbackground": true,
            "ticks": "",
            "zerolinecolor": "#EBF0F8"
           }
          },
          "shapedefaults": {
           "line": {
            "color": "#2a3f5f"
           }
          },
          "ternary": {
           "aaxis": {
            "gridcolor": "#DFE8F3",
            "linecolor": "#A2B1C6",
            "ticks": ""
           },
           "baxis": {
            "gridcolor": "#DFE8F3",
            "linecolor": "#A2B1C6",
            "ticks": ""
           },
           "bgcolor": "white",
           "caxis": {
            "gridcolor": "#DFE8F3",
            "linecolor": "#A2B1C6",
            "ticks": ""
           }
          },
          "title": {
           "x": 0.05
          },
          "xaxis": {
           "automargin": true,
           "gridcolor": "#EBF0F8",
           "linecolor": "#EBF0F8",
           "ticks": "",
           "title": {
            "standoff": 15
           },
           "zerolinecolor": "#EBF0F8",
           "zerolinewidth": 2
          },
          "yaxis": {
           "automargin": true,
           "gridcolor": "#EBF0F8",
           "linecolor": "#EBF0F8",
           "ticks": "",
           "title": {
            "standoff": 15
           },
           "zerolinecolor": "#EBF0F8",
           "zerolinewidth": 2
          }
         }
        },
        "title": {
         "text": "Test Period Data: Forecast vs Actual (Prediction Length: 790, Context Length: 200)"
        },
        "xaxis": {
         "range": [
          "2022-01-01T00:00:00",
          "2024-02-29T00:00:00"
         ],
         "title": {
          "text": "Date"
         }
        },
        "yaxis": {
         "title": {
          "text": "Value"
         }
        }
       }
      }
     },
     "metadata": {},
     "output_type": "display_data"
    }
   ],
   "source": [
    "# Convert 'start' to a timestamp if necessary\n",
    "start_date = inp['start'].to_timestamp() if hasattr(inp['start'], 'to_timestamp') else pd.Timestamp(inp['start'])\n",
    "\n",
    "# Generate test period dates\n",
    "test_start_date = pd.Timestamp(start_date) + pd.Timedelta(days=len(inp_values))\n",
    "test_dates = pd.date_range(start=test_start_date, periods=PDT, freq='D')\n",
    "\n",
    "# Confidence interval traces with reduced dominance\n",
    "confidence_trace_upper = go.Scatter(\n",
    "    x=test_dates,\n",
    "    y=forecast.quantile(0.9).numpy() if torch.is_tensor(forecast.quantile(0.9)) else forecast.quantile(0.9),\n",
    "    mode='lines',\n",
    "    name='Confidence Interval Upper',\n",
    "    line=dict(color='grey', width=1, dash='dot'),\n",
    "    fill='tonexty',\n",
    "    fillcolor='rgba(169, 169, 169, 0.2)',  # Light grey fill with reduced opacity\n",
    "    showlegend=False\n",
    ")\n",
    "\n",
    "confidence_trace_lower = go.Scatter(\n",
    "    x=test_dates,\n",
    "    y=forecast.quantile(0.1).numpy() if torch.is_tensor(forecast.quantile(0.1)) else forecast.quantile(0.1),\n",
    "    mode='lines',\n",
    "    name='Confidence Interval Lower',\n",
    "    line=dict(color='grey', width=1, dash='dot'),\n",
    "    fill='tonexty',\n",
    "    fillcolor='rgba(169, 169, 169, 0.2)',  # Light grey fill with reduced opacity\n",
    "    showlegend=False\n",
    ")\n",
    "\n",
    "# Plotting with Plotly (focusing on the test period)\n",
    "forecast_trace = go.Scatter(\n",
    "    x=test_dates,\n",
    "    y=forecast_values,\n",
    "    mode='lines',\n",
    "    name='Forecasted Data',\n",
    "    line=dict(color='darkred', dash='solid')\n",
    ")\n",
    "\n",
    "label_trace = go.Scatter(\n",
    "    x=test_dates,\n",
    "    y=label_values,\n",
    "    mode='lines',\n",
    "    name='Actual Test Data',\n",
    "    line=dict(color='darkgreen', dash='solid')\n",
    ")\n",
    "\n",
    "# Update layout for better visualization\n",
    "layout = go.Layout(\n",
    "    title=f\"Test Period Data: Forecast vs Actual (Prediction Length: {PDT}, Context Length: {CTX})\",\n",
    "    xaxis=dict(title='Date', range=[test_dates[0], test_dates[-1]]),  # Set x-axis range to focus on the test period\n",
    "    yaxis=dict(title='Value'),\n",
    "    legend=dict(x=0.01, y=0.99),\n",
    "    template='plotly_white',\n",
    ")\n",
    "\n",
    "# Ensure the actual and forecasted data are added last to bring them to the front\n",
    "fig = go.Figure(data=[confidence_trace_lower, confidence_trace_upper, forecast_trace, label_trace], layout=layout)\n",
    "fig.show()"
   ]
  },
  {
   "cell_type": "code",
   "execution_count": 129,
   "metadata": {},
   "outputs": [
    {
     "name": "stdout",
     "output_type": "stream",
     "text": [
      "Mean Squared Error (MSE): 11278.578131095632\n",
      "Root Mean Squared Error (RMSE): 106.20065033273399\n",
      "Mean Absolute Error (MAE): 81.28960204620363\n"
     ]
    }
   ],
   "source": [
    "mse = mean_squared_error(label_values, forecast_values)\n",
    "rmse = np.sqrt(mse)\n",
    "mae = mean_absolute_error(label_values, forecast_values)\n",
    "\n",
    "print(f\"Mean Squared Error (MSE): {mse}\")\n",
    "print(f\"Root Mean Squared Error (RMSE): {rmse}\")\n",
    "print(f\"Mean Absolute Error (MAE): {mae}\")\n"
   ]
  },
  {
   "cell_type": "markdown",
   "metadata": {},
   "source": [
    "## Approach for testing multiple parameter combinations"
   ]
  },
  {
   "cell_type": "code",
   "execution_count": 35,
   "metadata": {},
   "outputs": [],
   "source": [
    "# Define the length of the test set \n",
    "TEST = 790  # test set length: any positive integer\n",
    "PDT = 790\n",
    "\n",
    "# Re-run the model with the best parameters\n",
    "train, test_template = split(\n",
    "    ds, offset=-TEST\n",
    ")  # assign last TEST time steps as test set\n",
    "\n",
    "# Ensure windows is an integer\n",
    "windows = max(1, int(TEST // PDT))\n",
    "\n",
    "test_data = test_template.generate_instances(\n",
    "    prediction_length=PDT,\n",
    "    windows=windows,\n",
    "    distance=PDT,\n",
    ")\n"
   ]
  },
  {
   "cell_type": "code",
   "execution_count": 47,
   "metadata": {},
   "outputs": [
    {
     "name": "stdout",
     "output_type": "stream",
     "text": [
      "Training with CTX=200, BSZ=32, num_samples=100\n",
      "     CTX   BSZ  num_samples        RMSE           MSE        MAE\n",
      "0  200.0  32.0        100.0   38.134323   1454.226628  29.663998\n",
      "1  200.0  32.0        100.0  108.713772  11818.684216  85.419623\n",
      "Best combination with least RMSE and MSE: CTX=200, BSZ=32, num_samples=100\n"
     ]
    }
   ],
   "source": [
    "import torch\n",
    "import pandas as pd\n",
    "from gluonts.dataset.pandas import PandasDataset\n",
    "from gluonts.dataset.split import split\n",
    "from uni2ts.model.moirai import MoiraiForecast, MoiraiModule\n",
    "import plotly.graph_objs as go\n",
    "from sklearn.metrics import mean_squared_error, mean_absolute_error\n",
    "import numpy as np\n",
    "from concurrent.futures import ThreadPoolExecutor, as_completed  # Import for parallelization\n",
    "\n",
    "# Constants\n",
    "SIZE = \"base\"  # model size: choose from {'small', 'base', 'large'}\n",
    "PSZ = \"auto\"  # patch size: choose from {\"auto\", 8, 16, 32, 64, 128}\n",
    "\n",
    "# List of parameter combinations to try\n",
    "PDT = 79  # Use a smaller test data length for prediction length\n",
    "CTX_list = [200]  # Context lengths to try\n",
    "BSZ_list = [32]  # Batch sizes to try\n",
    "NUM_SAMPLES_list = [100]  # Different num_samples to try\n",
    "\n",
    "# Ensure ds is defined correctly\n",
    "# Assuming ds is the dataset loaded as PandasDataset\n",
    "TEST = 790  # Set TEST length to a known constant or compute dynamically based on the dataset\n",
    "\n",
    "# Function to run a single combination\n",
    "def run_model(CTX, BSZ, num_samples):\n",
    "    print(f\"Training with CTX={CTX}, BSZ={BSZ}, num_samples={num_samples}\")\n",
    "\n",
    "    # Split into train/test set\n",
    "    train, test_template = split(ds, offset=-TEST)  # Assign last TEST time steps as test set\n",
    "\n",
    "    # Ensure test length\n",
    "    TEST_LEN = len(test_template.data) if hasattr(test_template, 'data') else TEST  # Safe length calculation\n",
    "\n",
    "    # Compute the number of windows and ensure it's an integer\n",
    "    windows = max(1, TEST_LEN // PDT)  # Number of windows for the entire test set\n",
    "\n",
    "    # Construct rolling window evaluation\n",
    "    test_data = test_template.generate_instances(\n",
    "        prediction_length=PDT,  # Prediction length for the entire test data\n",
    "        windows=windows,  # Number of windows for the entire test set\n",
    "        distance=PDT,  # Full distance to avoid overlapping\n",
    "    )\n",
    "\n",
    "    # Prepare pre-trained model by downloading model weights from huggingface hub\n",
    "    model = MoiraiForecast(\n",
    "        module=MoiraiModule.from_pretrained(f\"Salesforce/moirai-1.0-R-{SIZE}\"),\n",
    "        prediction_length=PDT,\n",
    "        context_length=CTX,\n",
    "        patch_size=PSZ,\n",
    "        num_samples=num_samples,  # Use varying num_samples\n",
    "        target_dim=1,\n",
    "        feat_dynamic_real_dim=ds.num_feat_dynamic_real,\n",
    "        past_feat_dynamic_real_dim=ds.num_past_feat_dynamic_real,\n",
    "    )\n",
    "\n",
    "    predictor = model.create_predictor(batch_size=BSZ)\n",
    "    forecasts = predictor.predict(test_data.input)\n",
    "\n",
    "    # Prepare data for Plotly plotting\n",
    "    input_it = iter(test_data.input)\n",
    "    label_it = iter(test_data.label)\n",
    "    forecast_it = iter(forecasts)\n",
    "\n",
    "    inp = next(input_it)\n",
    "    label = next(label_it)\n",
    "    forecast = next(forecast_it)\n",
    "\n",
    "    # Convert tensors to NumPy arrays if needed\n",
    "    inp_values = inp['target'].numpy() if torch.is_tensor(inp['target']) else inp['target']\n",
    "    label_values = label['target'].numpy() if torch.is_tensor(label['target']) else label['target']\n",
    "    forecast_values = forecast.mean.numpy() if torch.is_tensor(forecast.mean) else forecast.mean\n",
    "\n",
    "    # Compute error metrics\n",
    "    mse = mean_squared_error(label_values, forecast_values)\n",
    "    rmse = np.sqrt(mse)\n",
    "    mae = mean_absolute_error(label_values, forecast_values)\n",
    "\n",
    "    return (CTX, BSZ, num_samples, rmse, mse, mae)\n",
    "\n",
    "# Parallel execution using ThreadPoolExecutor\n",
    "with ThreadPoolExecutor(max_workers=1) as executor:\n",
    "    futures = [\n",
    "        executor.submit(run_model, CTX, BSZ, num_samples)\n",
    "        for CTX in CTX_list\n",
    "        for BSZ in BSZ_list\n",
    "        for num_samples in NUM_SAMPLES_list\n",
    "    ]\n",
    "\n",
    "    # Collect results as they complete\n",
    "    for future in as_completed(futures):\n",
    "        CTX, BSZ, num_samples, rmse, mse, mae = future.result()\n",
    "        results_df.loc[len(results_df)] = [CTX, BSZ, num_samples, rmse, mse, mae]\n",
    "\n",
    "# Find the best combination with the lowest RMSE and MSE\n",
    "best_combination = results_df.sort_values(by=['RMSE', 'MSE']).iloc[0]\n",
    "best_CTX = int(best_combination['CTX'])\n",
    "best_BSZ = int(best_combination['BSZ'])\n",
    "best_num_samples = int(best_combination['num_samples'])\n",
    "\n",
    "print(results_df)\n",
    "print(f\"Best combination with least RMSE and MSE: CTX={best_CTX}, BSZ={best_BSZ}, num_samples={best_num_samples}\")\n",
    "\n"
   ]
  },
  {
   "cell_type": "code",
   "execution_count": 49,
   "metadata": {},
   "outputs": [
    {
     "data": {
      "application/vnd.plotly.v1+json": {
       "config": {
        "plotlyServerURL": "https://plot.ly"
       },
       "data": [
        {
         "fill": "tonexty",
         "fillcolor": "rgba(169, 169, 169, 0.2)",
         "line": {
          "color": "grey",
          "dash": "dot",
          "width": 1
         },
         "mode": "lines",
         "name": "Confidence Interval Lower",
         "showlegend": false,
         "type": "scatter",
         "x": [
          "2022-01-01T00:00:00",
          "2022-01-02T00:00:00",
          "2022-01-03T00:00:00",
          "2022-01-04T00:00:00",
          "2022-01-05T00:00:00",
          "2022-01-06T00:00:00",
          "2022-01-07T00:00:00",
          "2022-01-08T00:00:00",
          "2022-01-09T00:00:00",
          "2022-01-10T00:00:00",
          "2022-01-11T00:00:00",
          "2022-01-12T00:00:00",
          "2022-01-13T00:00:00",
          "2022-01-14T00:00:00",
          "2022-01-15T00:00:00",
          "2022-01-16T00:00:00",
          "2022-01-17T00:00:00",
          "2022-01-18T00:00:00",
          "2022-01-19T00:00:00",
          "2022-01-20T00:00:00",
          "2022-01-21T00:00:00",
          "2022-01-22T00:00:00",
          "2022-01-23T00:00:00",
          "2022-01-24T00:00:00",
          "2022-01-25T00:00:00",
          "2022-01-26T00:00:00",
          "2022-01-27T00:00:00",
          "2022-01-28T00:00:00",
          "2022-01-29T00:00:00",
          "2022-01-30T00:00:00",
          "2022-01-31T00:00:00",
          "2022-02-01T00:00:00",
          "2022-02-02T00:00:00",
          "2022-02-03T00:00:00",
          "2022-02-04T00:00:00",
          "2022-02-05T00:00:00",
          "2022-02-06T00:00:00",
          "2022-02-07T00:00:00",
          "2022-02-08T00:00:00",
          "2022-02-09T00:00:00",
          "2022-02-10T00:00:00",
          "2022-02-11T00:00:00",
          "2022-02-12T00:00:00",
          "2022-02-13T00:00:00",
          "2022-02-14T00:00:00",
          "2022-02-15T00:00:00",
          "2022-02-16T00:00:00",
          "2022-02-17T00:00:00",
          "2022-02-18T00:00:00",
          "2022-02-19T00:00:00",
          "2022-02-20T00:00:00",
          "2022-02-21T00:00:00",
          "2022-02-22T00:00:00",
          "2022-02-23T00:00:00",
          "2022-02-24T00:00:00",
          "2022-02-25T00:00:00",
          "2022-02-26T00:00:00",
          "2022-02-27T00:00:00",
          "2022-02-28T00:00:00",
          "2022-03-01T00:00:00",
          "2022-03-02T00:00:00",
          "2022-03-03T00:00:00",
          "2022-03-04T00:00:00",
          "2022-03-05T00:00:00",
          "2022-03-06T00:00:00",
          "2022-03-07T00:00:00",
          "2022-03-08T00:00:00",
          "2022-03-09T00:00:00",
          "2022-03-10T00:00:00",
          "2022-03-11T00:00:00",
          "2022-03-12T00:00:00",
          "2022-03-13T00:00:00",
          "2022-03-14T00:00:00",
          "2022-03-15T00:00:00",
          "2022-03-16T00:00:00",
          "2022-03-17T00:00:00",
          "2022-03-18T00:00:00",
          "2022-03-19T00:00:00",
          "2022-03-20T00:00:00"
         ],
         "y": [
          5.607132,
          8.674644,
          19.207321,
          6.265793,
          -7.919861,
          4.708252,
          24.575554,
          -6.4356995,
          5.4983215,
          15.538132,
          -11.900497,
          15.058357,
          14.8793335,
          5.7920837,
          15.985802,
          2.136917,
          15.393105,
          -9.400314,
          12.022202,
          27.344505,
          -1.1106567,
          12.842224,
          4.842621,
          -2.9797363,
          6.8373566,
          3.9084473,
          -1.5414276,
          8.433441,
          -1.9009857,
          -2.411972,
          3.9669495,
          -1.8390045,
          -19.317764,
          -11.918045,
          11.884483,
          18.143715,
          10.9038315,
          -14.223206,
          10.191734,
          22.549934,
          21.088112,
          18.924377,
          30.278534,
          27.473373,
          20.690224,
          11.116974,
          12.39695,
          24.050484,
          20.793175,
          31.25116,
          30.249863,
          37.630424,
          10.090462,
          28.986412,
          34.971985,
          8.28318,
          37.195244,
          22.720863,
          39.7585,
          42.31086,
          6.781952,
          22.74002,
          0.65434265,
          20.410446,
          12.816284,
          23.774109,
          28.92965,
          18.498459,
          17.060501,
          1.9915466,
          -4.512863,
          34.505814,
          25.834442,
          30.798584,
          37.842773,
          2.7088165,
          11.091789,
          28.685081,
          -15.087097
         ]
        },
        {
         "fill": "tonexty",
         "fillcolor": "rgba(169, 169, 169, 0.2)",
         "line": {
          "color": "grey",
          "dash": "dot",
          "width": 1
         },
         "mode": "lines",
         "name": "Confidence Interval Upper",
         "showlegend": false,
         "type": "scatter",
         "x": [
          "2022-01-01T00:00:00",
          "2022-01-02T00:00:00",
          "2022-01-03T00:00:00",
          "2022-01-04T00:00:00",
          "2022-01-05T00:00:00",
          "2022-01-06T00:00:00",
          "2022-01-07T00:00:00",
          "2022-01-08T00:00:00",
          "2022-01-09T00:00:00",
          "2022-01-10T00:00:00",
          "2022-01-11T00:00:00",
          "2022-01-12T00:00:00",
          "2022-01-13T00:00:00",
          "2022-01-14T00:00:00",
          "2022-01-15T00:00:00",
          "2022-01-16T00:00:00",
          "2022-01-17T00:00:00",
          "2022-01-18T00:00:00",
          "2022-01-19T00:00:00",
          "2022-01-20T00:00:00",
          "2022-01-21T00:00:00",
          "2022-01-22T00:00:00",
          "2022-01-23T00:00:00",
          "2022-01-24T00:00:00",
          "2022-01-25T00:00:00",
          "2022-01-26T00:00:00",
          "2022-01-27T00:00:00",
          "2022-01-28T00:00:00",
          "2022-01-29T00:00:00",
          "2022-01-30T00:00:00",
          "2022-01-31T00:00:00",
          "2022-02-01T00:00:00",
          "2022-02-02T00:00:00",
          "2022-02-03T00:00:00",
          "2022-02-04T00:00:00",
          "2022-02-05T00:00:00",
          "2022-02-06T00:00:00",
          "2022-02-07T00:00:00",
          "2022-02-08T00:00:00",
          "2022-02-09T00:00:00",
          "2022-02-10T00:00:00",
          "2022-02-11T00:00:00",
          "2022-02-12T00:00:00",
          "2022-02-13T00:00:00",
          "2022-02-14T00:00:00",
          "2022-02-15T00:00:00",
          "2022-02-16T00:00:00",
          "2022-02-17T00:00:00",
          "2022-02-18T00:00:00",
          "2022-02-19T00:00:00",
          "2022-02-20T00:00:00",
          "2022-02-21T00:00:00",
          "2022-02-22T00:00:00",
          "2022-02-23T00:00:00",
          "2022-02-24T00:00:00",
          "2022-02-25T00:00:00",
          "2022-02-26T00:00:00",
          "2022-02-27T00:00:00",
          "2022-02-28T00:00:00",
          "2022-03-01T00:00:00",
          "2022-03-02T00:00:00",
          "2022-03-03T00:00:00",
          "2022-03-04T00:00:00",
          "2022-03-05T00:00:00",
          "2022-03-06T00:00:00",
          "2022-03-07T00:00:00",
          "2022-03-08T00:00:00",
          "2022-03-09T00:00:00",
          "2022-03-10T00:00:00",
          "2022-03-11T00:00:00",
          "2022-03-12T00:00:00",
          "2022-03-13T00:00:00",
          "2022-03-14T00:00:00",
          "2022-03-15T00:00:00",
          "2022-03-16T00:00:00",
          "2022-03-17T00:00:00",
          "2022-03-18T00:00:00",
          "2022-03-19T00:00:00",
          "2022-03-20T00:00:00"
         ],
         "y": [
          103.77746,
          165.17776,
          147.83702,
          145.51904,
          185.76607,
          152.83092,
          122.4133,
          166.92648,
          208.77171,
          179.34341,
          187.5321,
          150.33237,
          214.60263,
          203.30338,
          220.88126,
          205.08208,
          191.38608,
          156.27922,
          214.9721,
          236.63232,
          219.95834,
          242.15271,
          219.32973,
          226.49251,
          227.25858,
          253.44785,
          224.92941,
          236.74747,
          278.59283,
          242.71771,
          227.81586,
          237.8324,
          216.1762,
          250.12184,
          210.9687,
          299.8805,
          255.685,
          261.41534,
          246.27542,
          242.0238,
          293.43063,
          237.85922,
          234.51831,
          190.57178,
          299.6515,
          273.08203,
          345.00092,
          339.52194,
          315.64502,
          324.34503,
          283.82556,
          263.10498,
          289.94327,
          328.79498,
          258.6719,
          298.21045,
          300.5558,
          301.21576,
          315.65424,
          256.00363,
          252.21863,
          342.336,
          294.02548,
          263.83524,
          239.42001,
          271.43213,
          250.57507,
          268.5362,
          247.54448,
          274.10486,
          252.70154,
          310.74982,
          319.0786,
          335.81403,
          286.7025,
          285.39227,
          303.8917,
          364.16296,
          258.68402
         ]
        },
        {
         "line": {
          "color": "darkred",
          "dash": "solid"
         },
         "mode": "lines",
         "name": "Forecasted Data",
         "type": "scatter",
         "x": [
          "2022-01-01T00:00:00",
          "2022-01-02T00:00:00",
          "2022-01-03T00:00:00",
          "2022-01-04T00:00:00",
          "2022-01-05T00:00:00",
          "2022-01-06T00:00:00",
          "2022-01-07T00:00:00",
          "2022-01-08T00:00:00",
          "2022-01-09T00:00:00",
          "2022-01-10T00:00:00",
          "2022-01-11T00:00:00",
          "2022-01-12T00:00:00",
          "2022-01-13T00:00:00",
          "2022-01-14T00:00:00",
          "2022-01-15T00:00:00",
          "2022-01-16T00:00:00",
          "2022-01-17T00:00:00",
          "2022-01-18T00:00:00",
          "2022-01-19T00:00:00",
          "2022-01-20T00:00:00",
          "2022-01-21T00:00:00",
          "2022-01-22T00:00:00",
          "2022-01-23T00:00:00",
          "2022-01-24T00:00:00",
          "2022-01-25T00:00:00",
          "2022-01-26T00:00:00",
          "2022-01-27T00:00:00",
          "2022-01-28T00:00:00",
          "2022-01-29T00:00:00",
          "2022-01-30T00:00:00",
          "2022-01-31T00:00:00",
          "2022-02-01T00:00:00",
          "2022-02-02T00:00:00",
          "2022-02-03T00:00:00",
          "2022-02-04T00:00:00",
          "2022-02-05T00:00:00",
          "2022-02-06T00:00:00",
          "2022-02-07T00:00:00",
          "2022-02-08T00:00:00",
          "2022-02-09T00:00:00",
          "2022-02-10T00:00:00",
          "2022-02-11T00:00:00",
          "2022-02-12T00:00:00",
          "2022-02-13T00:00:00",
          "2022-02-14T00:00:00",
          "2022-02-15T00:00:00",
          "2022-02-16T00:00:00",
          "2022-02-17T00:00:00",
          "2022-02-18T00:00:00",
          "2022-02-19T00:00:00",
          "2022-02-20T00:00:00",
          "2022-02-21T00:00:00",
          "2022-02-22T00:00:00",
          "2022-02-23T00:00:00",
          "2022-02-24T00:00:00",
          "2022-02-25T00:00:00",
          "2022-02-26T00:00:00",
          "2022-02-27T00:00:00",
          "2022-02-28T00:00:00",
          "2022-03-01T00:00:00",
          "2022-03-02T00:00:00",
          "2022-03-03T00:00:00",
          "2022-03-04T00:00:00",
          "2022-03-05T00:00:00",
          "2022-03-06T00:00:00",
          "2022-03-07T00:00:00",
          "2022-03-08T00:00:00",
          "2022-03-09T00:00:00",
          "2022-03-10T00:00:00",
          "2022-03-11T00:00:00",
          "2022-03-12T00:00:00",
          "2022-03-13T00:00:00",
          "2022-03-14T00:00:00",
          "2022-03-15T00:00:00",
          "2022-03-16T00:00:00",
          "2022-03-17T00:00:00",
          "2022-03-18T00:00:00",
          "2022-03-19T00:00:00",
          "2022-03-20T00:00:00"
         ],
         "y": [
          49.772415,
          78.426994,
          71.334236,
          73.21175,
          79.15962,
          70.91468,
          72.36444,
          77.171364,
          90.24458,
          85.57376,
          78.2585,
          79.41586,
          101.62372,
          104.30719,
          99.818695,
          100.84091,
          105.40992,
          72.10708,
          93.347275,
          118.55082,
          105.359764,
          108.252785,
          97.510124,
          98.34812,
          122.462296,
          113.47312,
          109.34142,
          121.846565,
          125.387215,
          118.27739,
          106.89331,
          111.90669,
          94.95344,
          112.60961,
          105.90082,
          132.21559,
          124.982666,
          127.41797,
          121.423676,
          124.840614,
          141.1417,
          112.17751,
          117.16205,
          97.177986,
          138.73837,
          131.9039,
          147.05928,
          156.32936,
          148.50204,
          152.66447,
          136.30862,
          141.21342,
          129.56152,
          138.61018,
          141.27109,
          146.85428,
          166.08504,
          140.98662,
          169.47585,
          143.6647,
          139.60716,
          162.68042,
          143.04137,
          150.24434,
          131.1909,
          141.15594,
          207.7948,
          141.87215,
          131.88536,
          137.45056,
          123.74537,
          199.69673,
          167.69978,
          164.39557,
          150.73926,
          161.58661,
          155.84392,
          173.65057,
          129.92612
         ]
        },
        {
         "line": {
          "color": "darkgreen",
          "dash": "solid"
         },
         "mode": "lines",
         "name": "Actual Test Data",
         "type": "scatter",
         "x": [
          "2022-01-01T00:00:00",
          "2022-01-02T00:00:00",
          "2022-01-03T00:00:00",
          "2022-01-04T00:00:00",
          "2022-01-05T00:00:00",
          "2022-01-06T00:00:00",
          "2022-01-07T00:00:00",
          "2022-01-08T00:00:00",
          "2022-01-09T00:00:00",
          "2022-01-10T00:00:00",
          "2022-01-11T00:00:00",
          "2022-01-12T00:00:00",
          "2022-01-13T00:00:00",
          "2022-01-14T00:00:00",
          "2022-01-15T00:00:00",
          "2022-01-16T00:00:00",
          "2022-01-17T00:00:00",
          "2022-01-18T00:00:00",
          "2022-01-19T00:00:00",
          "2022-01-20T00:00:00",
          "2022-01-21T00:00:00",
          "2022-01-22T00:00:00",
          "2022-01-23T00:00:00",
          "2022-01-24T00:00:00",
          "2022-01-25T00:00:00",
          "2022-01-26T00:00:00",
          "2022-01-27T00:00:00",
          "2022-01-28T00:00:00",
          "2022-01-29T00:00:00",
          "2022-01-30T00:00:00",
          "2022-01-31T00:00:00",
          "2022-02-01T00:00:00",
          "2022-02-02T00:00:00",
          "2022-02-03T00:00:00",
          "2022-02-04T00:00:00",
          "2022-02-05T00:00:00",
          "2022-02-06T00:00:00",
          "2022-02-07T00:00:00",
          "2022-02-08T00:00:00",
          "2022-02-09T00:00:00",
          "2022-02-10T00:00:00",
          "2022-02-11T00:00:00",
          "2022-02-12T00:00:00",
          "2022-02-13T00:00:00",
          "2022-02-14T00:00:00",
          "2022-02-15T00:00:00",
          "2022-02-16T00:00:00",
          "2022-02-17T00:00:00",
          "2022-02-18T00:00:00",
          "2022-02-19T00:00:00",
          "2022-02-20T00:00:00",
          "2022-02-21T00:00:00",
          "2022-02-22T00:00:00",
          "2022-02-23T00:00:00",
          "2022-02-24T00:00:00",
          "2022-02-25T00:00:00",
          "2022-02-26T00:00:00",
          "2022-02-27T00:00:00",
          "2022-02-28T00:00:00",
          "2022-03-01T00:00:00",
          "2022-03-02T00:00:00",
          "2022-03-03T00:00:00",
          "2022-03-04T00:00:00",
          "2022-03-05T00:00:00",
          "2022-03-06T00:00:00",
          "2022-03-07T00:00:00",
          "2022-03-08T00:00:00",
          "2022-03-09T00:00:00",
          "2022-03-10T00:00:00",
          "2022-03-11T00:00:00",
          "2022-03-12T00:00:00",
          "2022-03-13T00:00:00",
          "2022-03-14T00:00:00",
          "2022-03-15T00:00:00",
          "2022-03-16T00:00:00",
          "2022-03-17T00:00:00",
          "2022-03-18T00:00:00",
          "2022-03-19T00:00:00",
          "2022-03-20T00:00:00"
         ],
         "y": [
          82.58,
          47.35,
          76.11,
          153.92,
          107.87,
          194.1,
          167.18,
          165.9,
          146.56,
          261.55,
          255.41,
          233.32,
          180.16,
          178.76,
          216,
          133.1,
          129.31,
          235.87,
          172.18,
          117.7,
          159.27,
          175.76,
          193.7,
          245.94,
          297.29,
          234.98,
          120.71,
          174.35,
          92.13,
          55.3,
          195.2,
          150.25,
          140.22,
          193.56,
          132.37,
          88.89,
          52.78,
          84.68,
          137.81,
          165.89,
          192.82,
          184.58,
          143.05,
          83.58,
          102.22,
          155,
          117.38,
          68.64,
          117.63,
          39.62,
          67.28,
          75.42,
          123.24,
          130.09,
          123.39,
          119.96,
          225.43,
          182.41,
          208.3,
          241.4,
          278.78,
          338.2,
          358.78,
          344.4,
          340.8,
          410.1,
          487.57,
          446.25,
          279.15,
          80.44,
          124.25,
          115.1,
          281.44,
          300.54,
          245.3,
          225.41,
          228.9,
          130.95,
          49.04
         ]
        }
       ],
       "layout": {
        "legend": {
         "x": 0.01,
         "y": 0.99
        },
        "template": {
         "data": {
          "bar": [
           {
            "error_x": {
             "color": "#2a3f5f"
            },
            "error_y": {
             "color": "#2a3f5f"
            },
            "marker": {
             "line": {
              "color": "white",
              "width": 0.5
             },
             "pattern": {
              "fillmode": "overlay",
              "size": 10,
              "solidity": 0.2
             }
            },
            "type": "bar"
           }
          ],
          "barpolar": [
           {
            "marker": {
             "line": {
              "color": "white",
              "width": 0.5
             },
             "pattern": {
              "fillmode": "overlay",
              "size": 10,
              "solidity": 0.2
             }
            },
            "type": "barpolar"
           }
          ],
          "carpet": [
           {
            "aaxis": {
             "endlinecolor": "#2a3f5f",
             "gridcolor": "#C8D4E3",
             "linecolor": "#C8D4E3",
             "minorgridcolor": "#C8D4E3",
             "startlinecolor": "#2a3f5f"
            },
            "baxis": {
             "endlinecolor": "#2a3f5f",
             "gridcolor": "#C8D4E3",
             "linecolor": "#C8D4E3",
             "minorgridcolor": "#C8D4E3",
             "startlinecolor": "#2a3f5f"
            },
            "type": "carpet"
           }
          ],
          "choropleth": [
           {
            "colorbar": {
             "outlinewidth": 0,
             "ticks": ""
            },
            "type": "choropleth"
           }
          ],
          "contour": [
           {
            "colorbar": {
             "outlinewidth": 0,
             "ticks": ""
            },
            "colorscale": [
             [
              0,
              "#0d0887"
             ],
             [
              0.1111111111111111,
              "#46039f"
             ],
             [
              0.2222222222222222,
              "#7201a8"
             ],
             [
              0.3333333333333333,
              "#9c179e"
             ],
             [
              0.4444444444444444,
              "#bd3786"
             ],
             [
              0.5555555555555556,
              "#d8576b"
             ],
             [
              0.6666666666666666,
              "#ed7953"
             ],
             [
              0.7777777777777778,
              "#fb9f3a"
             ],
             [
              0.8888888888888888,
              "#fdca26"
             ],
             [
              1,
              "#f0f921"
             ]
            ],
            "type": "contour"
           }
          ],
          "contourcarpet": [
           {
            "colorbar": {
             "outlinewidth": 0,
             "ticks": ""
            },
            "type": "contourcarpet"
           }
          ],
          "heatmap": [
           {
            "colorbar": {
             "outlinewidth": 0,
             "ticks": ""
            },
            "colorscale": [
             [
              0,
              "#0d0887"
             ],
             [
              0.1111111111111111,
              "#46039f"
             ],
             [
              0.2222222222222222,
              "#7201a8"
             ],
             [
              0.3333333333333333,
              "#9c179e"
             ],
             [
              0.4444444444444444,
              "#bd3786"
             ],
             [
              0.5555555555555556,
              "#d8576b"
             ],
             [
              0.6666666666666666,
              "#ed7953"
             ],
             [
              0.7777777777777778,
              "#fb9f3a"
             ],
             [
              0.8888888888888888,
              "#fdca26"
             ],
             [
              1,
              "#f0f921"
             ]
            ],
            "type": "heatmap"
           }
          ],
          "heatmapgl": [
           {
            "colorbar": {
             "outlinewidth": 0,
             "ticks": ""
            },
            "colorscale": [
             [
              0,
              "#0d0887"
             ],
             [
              0.1111111111111111,
              "#46039f"
             ],
             [
              0.2222222222222222,
              "#7201a8"
             ],
             [
              0.3333333333333333,
              "#9c179e"
             ],
             [
              0.4444444444444444,
              "#bd3786"
             ],
             [
              0.5555555555555556,
              "#d8576b"
             ],
             [
              0.6666666666666666,
              "#ed7953"
             ],
             [
              0.7777777777777778,
              "#fb9f3a"
             ],
             [
              0.8888888888888888,
              "#fdca26"
             ],
             [
              1,
              "#f0f921"
             ]
            ],
            "type": "heatmapgl"
           }
          ],
          "histogram": [
           {
            "marker": {
             "pattern": {
              "fillmode": "overlay",
              "size": 10,
              "solidity": 0.2
             }
            },
            "type": "histogram"
           }
          ],
          "histogram2d": [
           {
            "colorbar": {
             "outlinewidth": 0,
             "ticks": ""
            },
            "colorscale": [
             [
              0,
              "#0d0887"
             ],
             [
              0.1111111111111111,
              "#46039f"
             ],
             [
              0.2222222222222222,
              "#7201a8"
             ],
             [
              0.3333333333333333,
              "#9c179e"
             ],
             [
              0.4444444444444444,
              "#bd3786"
             ],
             [
              0.5555555555555556,
              "#d8576b"
             ],
             [
              0.6666666666666666,
              "#ed7953"
             ],
             [
              0.7777777777777778,
              "#fb9f3a"
             ],
             [
              0.8888888888888888,
              "#fdca26"
             ],
             [
              1,
              "#f0f921"
             ]
            ],
            "type": "histogram2d"
           }
          ],
          "histogram2dcontour": [
           {
            "colorbar": {
             "outlinewidth": 0,
             "ticks": ""
            },
            "colorscale": [
             [
              0,
              "#0d0887"
             ],
             [
              0.1111111111111111,
              "#46039f"
             ],
             [
              0.2222222222222222,
              "#7201a8"
             ],
             [
              0.3333333333333333,
              "#9c179e"
             ],
             [
              0.4444444444444444,
              "#bd3786"
             ],
             [
              0.5555555555555556,
              "#d8576b"
             ],
             [
              0.6666666666666666,
              "#ed7953"
             ],
             [
              0.7777777777777778,
              "#fb9f3a"
             ],
             [
              0.8888888888888888,
              "#fdca26"
             ],
             [
              1,
              "#f0f921"
             ]
            ],
            "type": "histogram2dcontour"
           }
          ],
          "mesh3d": [
           {
            "colorbar": {
             "outlinewidth": 0,
             "ticks": ""
            },
            "type": "mesh3d"
           }
          ],
          "parcoords": [
           {
            "line": {
             "colorbar": {
              "outlinewidth": 0,
              "ticks": ""
             }
            },
            "type": "parcoords"
           }
          ],
          "pie": [
           {
            "automargin": true,
            "type": "pie"
           }
          ],
          "scatter": [
           {
            "fillpattern": {
             "fillmode": "overlay",
             "size": 10,
             "solidity": 0.2
            },
            "type": "scatter"
           }
          ],
          "scatter3d": [
           {
            "line": {
             "colorbar": {
              "outlinewidth": 0,
              "ticks": ""
             }
            },
            "marker": {
             "colorbar": {
              "outlinewidth": 0,
              "ticks": ""
             }
            },
            "type": "scatter3d"
           }
          ],
          "scattercarpet": [
           {
            "marker": {
             "colorbar": {
              "outlinewidth": 0,
              "ticks": ""
             }
            },
            "type": "scattercarpet"
           }
          ],
          "scattergeo": [
           {
            "marker": {
             "colorbar": {
              "outlinewidth": 0,
              "ticks": ""
             }
            },
            "type": "scattergeo"
           }
          ],
          "scattergl": [
           {
            "marker": {
             "colorbar": {
              "outlinewidth": 0,
              "ticks": ""
             }
            },
            "type": "scattergl"
           }
          ],
          "scattermapbox": [
           {
            "marker": {
             "colorbar": {
              "outlinewidth": 0,
              "ticks": ""
             }
            },
            "type": "scattermapbox"
           }
          ],
          "scatterpolar": [
           {
            "marker": {
             "colorbar": {
              "outlinewidth": 0,
              "ticks": ""
             }
            },
            "type": "scatterpolar"
           }
          ],
          "scatterpolargl": [
           {
            "marker": {
             "colorbar": {
              "outlinewidth": 0,
              "ticks": ""
             }
            },
            "type": "scatterpolargl"
           }
          ],
          "scatterternary": [
           {
            "marker": {
             "colorbar": {
              "outlinewidth": 0,
              "ticks": ""
             }
            },
            "type": "scatterternary"
           }
          ],
          "surface": [
           {
            "colorbar": {
             "outlinewidth": 0,
             "ticks": ""
            },
            "colorscale": [
             [
              0,
              "#0d0887"
             ],
             [
              0.1111111111111111,
              "#46039f"
             ],
             [
              0.2222222222222222,
              "#7201a8"
             ],
             [
              0.3333333333333333,
              "#9c179e"
             ],
             [
              0.4444444444444444,
              "#bd3786"
             ],
             [
              0.5555555555555556,
              "#d8576b"
             ],
             [
              0.6666666666666666,
              "#ed7953"
             ],
             [
              0.7777777777777778,
              "#fb9f3a"
             ],
             [
              0.8888888888888888,
              "#fdca26"
             ],
             [
              1,
              "#f0f921"
             ]
            ],
            "type": "surface"
           }
          ],
          "table": [
           {
            "cells": {
             "fill": {
              "color": "#EBF0F8"
             },
             "line": {
              "color": "white"
             }
            },
            "header": {
             "fill": {
              "color": "#C8D4E3"
             },
             "line": {
              "color": "white"
             }
            },
            "type": "table"
           }
          ]
         },
         "layout": {
          "annotationdefaults": {
           "arrowcolor": "#2a3f5f",
           "arrowhead": 0,
           "arrowwidth": 1
          },
          "autotypenumbers": "strict",
          "coloraxis": {
           "colorbar": {
            "outlinewidth": 0,
            "ticks": ""
           }
          },
          "colorscale": {
           "diverging": [
            [
             0,
             "#8e0152"
            ],
            [
             0.1,
             "#c51b7d"
            ],
            [
             0.2,
             "#de77ae"
            ],
            [
             0.3,
             "#f1b6da"
            ],
            [
             0.4,
             "#fde0ef"
            ],
            [
             0.5,
             "#f7f7f7"
            ],
            [
             0.6,
             "#e6f5d0"
            ],
            [
             0.7,
             "#b8e186"
            ],
            [
             0.8,
             "#7fbc41"
            ],
            [
             0.9,
             "#4d9221"
            ],
            [
             1,
             "#276419"
            ]
           ],
           "sequential": [
            [
             0,
             "#0d0887"
            ],
            [
             0.1111111111111111,
             "#46039f"
            ],
            [
             0.2222222222222222,
             "#7201a8"
            ],
            [
             0.3333333333333333,
             "#9c179e"
            ],
            [
             0.4444444444444444,
             "#bd3786"
            ],
            [
             0.5555555555555556,
             "#d8576b"
            ],
            [
             0.6666666666666666,
             "#ed7953"
            ],
            [
             0.7777777777777778,
             "#fb9f3a"
            ],
            [
             0.8888888888888888,
             "#fdca26"
            ],
            [
             1,
             "#f0f921"
            ]
           ],
           "sequentialminus": [
            [
             0,
             "#0d0887"
            ],
            [
             0.1111111111111111,
             "#46039f"
            ],
            [
             0.2222222222222222,
             "#7201a8"
            ],
            [
             0.3333333333333333,
             "#9c179e"
            ],
            [
             0.4444444444444444,
             "#bd3786"
            ],
            [
             0.5555555555555556,
             "#d8576b"
            ],
            [
             0.6666666666666666,
             "#ed7953"
            ],
            [
             0.7777777777777778,
             "#fb9f3a"
            ],
            [
             0.8888888888888888,
             "#fdca26"
            ],
            [
             1,
             "#f0f921"
            ]
           ]
          },
          "colorway": [
           "#636efa",
           "#EF553B",
           "#00cc96",
           "#ab63fa",
           "#FFA15A",
           "#19d3f3",
           "#FF6692",
           "#B6E880",
           "#FF97FF",
           "#FECB52"
          ],
          "font": {
           "color": "#2a3f5f"
          },
          "geo": {
           "bgcolor": "white",
           "lakecolor": "white",
           "landcolor": "white",
           "showlakes": true,
           "showland": true,
           "subunitcolor": "#C8D4E3"
          },
          "hoverlabel": {
           "align": "left"
          },
          "hovermode": "closest",
          "mapbox": {
           "style": "light"
          },
          "paper_bgcolor": "white",
          "plot_bgcolor": "white",
          "polar": {
           "angularaxis": {
            "gridcolor": "#EBF0F8",
            "linecolor": "#EBF0F8",
            "ticks": ""
           },
           "bgcolor": "white",
           "radialaxis": {
            "gridcolor": "#EBF0F8",
            "linecolor": "#EBF0F8",
            "ticks": ""
           }
          },
          "scene": {
           "xaxis": {
            "backgroundcolor": "white",
            "gridcolor": "#DFE8F3",
            "gridwidth": 2,
            "linecolor": "#EBF0F8",
            "showbackground": true,
            "ticks": "",
            "zerolinecolor": "#EBF0F8"
           },
           "yaxis": {
            "backgroundcolor": "white",
            "gridcolor": "#DFE8F3",
            "gridwidth": 2,
            "linecolor": "#EBF0F8",
            "showbackground": true,
            "ticks": "",
            "zerolinecolor": "#EBF0F8"
           },
           "zaxis": {
            "backgroundcolor": "white",
            "gridcolor": "#DFE8F3",
            "gridwidth": 2,
            "linecolor": "#EBF0F8",
            "showbackground": true,
            "ticks": "",
            "zerolinecolor": "#EBF0F8"
           }
          },
          "shapedefaults": {
           "line": {
            "color": "#2a3f5f"
           }
          },
          "ternary": {
           "aaxis": {
            "gridcolor": "#DFE8F3",
            "linecolor": "#A2B1C6",
            "ticks": ""
           },
           "baxis": {
            "gridcolor": "#DFE8F3",
            "linecolor": "#A2B1C6",
            "ticks": ""
           },
           "bgcolor": "white",
           "caxis": {
            "gridcolor": "#DFE8F3",
            "linecolor": "#A2B1C6",
            "ticks": ""
           }
          },
          "title": {
           "x": 0.05
          },
          "xaxis": {
           "automargin": true,
           "gridcolor": "#EBF0F8",
           "linecolor": "#EBF0F8",
           "ticks": "",
           "title": {
            "standoff": 15
           },
           "zerolinecolor": "#EBF0F8",
           "zerolinewidth": 2
          },
          "yaxis": {
           "automargin": true,
           "gridcolor": "#EBF0F8",
           "linecolor": "#EBF0F8",
           "ticks": "",
           "title": {
            "standoff": 15
           },
           "zerolinecolor": "#EBF0F8",
           "zerolinewidth": 2
          }
         }
        },
        "title": {
         "text": "Best Model: Forecast vs Actual (PDT: 79, CTX: 200, BSZ: 32)"
        },
        "xaxis": {
         "range": [
          "2022-01-01T00:00:00",
          "2022-03-20T00:00:00"
         ],
         "title": {
          "text": "Date"
         }
        },
        "yaxis": {
         "title": {
          "text": "Value"
         }
        }
       }
      }
     },
     "metadata": {},
     "output_type": "display_data"
    }
   ],
   "source": [
    "# Re-run the model with the best parameters\n",
    "train, test_template = split(\n",
    "    ds, offset=-TEST\n",
    ")  # assign last TEST time steps as test set\n",
    "\n",
    "# Ensure windows is an integer\n",
    "windows = max(1, int(TEST // PDT))\n",
    "\n",
    "test_data = test_template.generate_instances(\n",
    "    prediction_length=PDT,\n",
    "    windows=windows,\n",
    "    distance=PDT,\n",
    ")\n",
    "\n",
    "model = MoiraiForecast(\n",
    "    module=MoiraiModule.from_pretrained(f\"Salesforce/moirai-1.0-R-{SIZE}\"),\n",
    "    prediction_length=PDT,\n",
    "    context_length=best_CTX,\n",
    "    patch_size=PSZ,\n",
    "    num_samples=100,\n",
    "    target_dim=1,\n",
    "    feat_dynamic_real_dim=ds.num_feat_dynamic_real,\n",
    "    past_feat_dynamic_real_dim=ds.num_past_feat_dynamic_real,\n",
    ")\n",
    "\n",
    "predictor = model.create_predictor(batch_size=best_BSZ)\n",
    "forecasts = predictor.predict(test_data.input)\n",
    "\n",
    "input_it = iter(test_data.input)\n",
    "label_it = iter(test_data.label)\n",
    "forecast_it = iter(forecasts)\n",
    "\n",
    "inp = next(input_it)\n",
    "label = next(label_it)\n",
    "forecast = next(forecast_it)\n",
    "\n",
    "inp_values = inp['target'].numpy() if torch.is_tensor(inp['target']) else inp['target']\n",
    "label_values = label['target'].numpy() if torch.is_tensor(label['target']) else label['target']\n",
    "forecast_values = forecast.mean.numpy() if torch.is_tensor(forecast.mean) else forecast.mean\n",
    "\n",
    "start_date = inp['start'].to_timestamp() if hasattr(inp['start'], 'to_timestamp') else pd.Timestamp(inp['start'])\n",
    "\n",
    "test_start_date = pd.Timestamp(start_date) + pd.Timedelta(days=len(inp_values))\n",
    "test_dates = pd.date_range(start=test_start_date, periods=PDT, freq='D')\n",
    "\n",
    "confidence_trace_upper = go.Scatter(\n",
    "    x=test_dates,\n",
    "    y=forecast.quantile(0.9).numpy() if torch.is_tensor(forecast.quantile(0.9)) else forecast.quantile(0.9),\n",
    "    mode='lines',\n",
    "    name='Confidence Interval Upper',\n",
    "    line=dict(color='grey', width=1, dash='dot'),\n",
    "    fill='tonexty',\n",
    "    fillcolor='rgba(169, 169, 169, 0.2)',  # Light grey fill with reduced opacity\n",
    "    showlegend=False\n",
    ")\n",
    "\n",
    "confidence_trace_lower = go.Scatter(\n",
    "    x=test_dates,\n",
    "    y=forecast.quantile(0.1).numpy() if torch.is_tensor(forecast.quantile(0.1)) else forecast.quantile(0.1),\n",
    "    mode='lines',\n",
    "    name='Confidence Interval Lower',\n",
    "    line=dict(color='grey', width=1, dash='dot'),\n",
    "    fill='tonexty',\n",
    "    fillcolor='rgba(169, 169, 169, 0.2)',  # Light grey fill with reduced opacity\n",
    "    showlegend=False\n",
    ")\n",
    "\n",
    "forecast_trace = go.Scatter(\n",
    "    x=test_dates,\n",
    "    y=forecast_values,\n",
    "    mode='lines',\n",
    "    name='Forecasted Data',\n",
    "    line=dict(color='darkred', dash='solid')\n",
    ")\n",
    "\n",
    "label_trace = go.Scatter(\n",
    "    x=test_dates,\n",
    "    y=label_values,\n",
    "    mode='lines',\n",
    "    name='Actual Test Data',\n",
    "    line=dict(color='darkgreen', dash='solid')\n",
    ")\n",
    "\n",
    "layout = go.Layout(\n",
    "    title=f\"Best Model: Forecast vs Actual (PDT: {PDT}, CTX: {best_CTX}, BSZ: {best_BSZ})\",\n",
    "    xaxis=dict(title='Date', range=[test_dates[0], test_dates[-1]]),  # Set x-axis range to focus on the test period\n",
    "    yaxis=dict(title='Value'),\n",
    "    legend=dict(x=0.01, y=0.99),\n",
    "    template='plotly_white',\n",
    ")\n",
    "\n",
    "fig = go.Figure(data=[confidence_trace_lower, confidence_trace_upper, forecast_trace, label_trace], layout=layout)\n",
    "fig.show()\n"
   ]
  },
  {
   "cell_type": "code",
   "execution_count": null,
   "metadata": {},
   "outputs": [],
   "source": []
  },
  {
   "cell_type": "code",
   "execution_count": null,
   "metadata": {},
   "outputs": [],
   "source": []
  }
 ],
 "metadata": {
  "kernelspec": {
   "display_name": "Python 3",
   "language": "python",
   "name": "python3"
  },
  "language_info": {
   "codemirror_mode": {
    "name": "ipython",
    "version": 3
   },
   "file_extension": ".py",
   "mimetype": "text/x-python",
   "name": "python",
   "nbconvert_exporter": "python",
   "pygments_lexer": "ipython3",
   "version": "3.10.14"
  }
 },
 "nbformat": 4,
 "nbformat_minor": 2
}
